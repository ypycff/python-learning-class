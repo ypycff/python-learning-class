{
 "cells": [
  {
   "cell_type": "markdown",
   "metadata": {},
   "source": [
    "<img style=\"float: right;\" width=\"120\" src=\"../Images/supplier-logo.png\">\n",
    "<img style=\"float: left; margin-top: 0\" width=\"80\" src=\"../Images/client-logo.png\">\n",
    "<br><br><br>"
   ]
  },
  {
   "cell_type": "markdown",
   "metadata": {},
   "source": [
    "# Overview\n",
    "\n",
    "The objective of this notebook is to demonstrate to a relatively novice python data scientist how easy it is to perform complex data analysis on market data.\n",
    "\n",
    "The piece of analysis that will be performed is:\n",
    "\n",
    "1.\tCorrelate the daily returns of PXD stock against the daily returns of a small basket of securities (SPY, Gold, Natural Gas and Oil)\n",
    "2.\tPerform a regression analysis of PXD against the basket\n",
    "3.\tExtend this to perform a regression analysis of an arbitrary security against the same basket\n",
    "4.\tExport the data to an excel spreadsheet.\n",
    "\n",
    "This analysis will touch on the following data science topics:\n",
    "- The pandas, numpy and matplotlib python packages\n",
    "- Importing data from csv files into a pandas DataFrame\n",
    "- The rows, columns and index of a DataFrame\n",
    "- Accessing data from a DataFrame along its rows and columns\n",
    "- Slicing Data\n",
    "- Time Series\n",
    "- Merging multiple DataFames into a single larger DataFrame\n",
    "- Exporting DataFames into an Excel spreadsheet\n",
    "\n",
    "\n",
    "Users will see how to execute the following operations:\n",
    "1.\tCalculate the daily returns of a security\n",
    "2.\tCorrelate the daily returns of securities\n",
    "3.\tPerform a linear regression analysis of data securities\n"
   ]
  },
  {
   "cell_type": "markdown",
   "metadata": {},
   "source": [
    "## Import the libraries\n",
    "\n",
    "To perform almost anything useful in a python program, the user/programmer/data scientist will need to use a pre-written bundle of python code, known as a python package.\n",
    "\n",
    "Users must `import` these packages into their python program.\n",
    "\n",
    "Importing packages into a python program is analogous to extending any piece of software by adding addons/apps to it. \n",
    "\n",
    "e.g.\n",
    "- using an  Excel Add-in\n",
    "- adding extensions to a chrome browser\n",
    "\n",
    "\n",
    "The most commonly used python packages are `pandas`, `numpy` and `matplotlib`, although there are literally hundreds of other packages in everyday use.\n",
    "\n",
    "**Aliases**<br>\n",
    "It is often the case that users will give a package an alias when it is imported. Users can decide on the names of any aliases they use, but the conventional aliases for the packages we will use are given below.\n",
    "\n",
    "**Magics**<br>\n",
    "The line %matploblib inline is a `python magic`.\n",
    "This magic forces the notebook to embed any graphs produced by matplotlib into this current notebook, rather than in a separate window."
   ]
  },
  {
   "cell_type": "code",
   "execution_count": null,
   "metadata": {},
   "outputs": [],
   "source": [
    "# Load in libraries\n",
    "import pandas as pd\n",
    "import numpy as np\n",
    "import matplotlib.pyplot as plt\n",
    "%matplotlib inline\n"
   ]
  },
  {
   "cell_type": "markdown",
   "metadata": {},
   "source": [
    "## Load the data into a DataFrame\n",
    "\n",
    "Here I am using `pandas.read_excel(...)` to read in an excel spreadhseet into a pandas DataFrame called df_Basket\n",
    "\n",
    "`io`\n",
    "> the file being read in\n",
    "    \n",
    "`index_col`\n",
    "> the column of the csv file we want to use as the index of our DataFrame\n",
    "\n",
    "`parse_dates`\n",
    "> instruct the read_csv function to convert anything that looks like a date into a python date\n",
    "\n",
    "`sheet_name`\n",
    "> the name of the work sheet in the spreadsheet containing the data"
   ]
  },
  {
   "cell_type": "code",
   "execution_count": null,
   "metadata": {},
   "outputs": [],
   "source": [
    "# Load in df_Basket\n",
    "df_Basket = pd.read_excel(io ='../Data/regression.xlsx',\n",
    "                          parse_dates=True,\n",
    "                          index_col='Date',\n",
    "                          sheet_name='Basket')"
   ]
  },
  {
   "cell_type": "markdown",
   "metadata": {},
   "source": [
    "## Examine the Data\n",
    "\n",
    "Usually users will quickly inspect the data they have loaded in, to make sure they have imported it correctly. Inspecting the data is also extremely useful to get a mental image of the size and shape of the data that has been loaded in.\n",
    "\n",
    "Here are some of the most common operations "
   ]
  },
  {
   "cell_type": "code",
   "execution_count": null,
   "metadata": {},
   "outputs": [],
   "source": [
    "# Enter Some functions to get the size and shape if the data here\n",
    "\n",
    "df_Basket.size\n",
    "df_Basket.shape\n",
    "df_Basket.head()\n",
    "df_Basket.tail()\n",
    "df_Basket.describe()\n",
    "df_Basket.describe().transpose()\n",
    "df_Basket.hist()"
   ]
  },
  {
   "cell_type": "markdown",
   "metadata": {},
   "source": [
    "## Time Series\n",
    "\n",
    "Note that the index to the `df_Basket` DataFrame is a date time.\n",
    "This allows a user to retrieve rows of data using dates and ranges of dates.\n"
   ]
  },
  {
   "cell_type": "code",
   "execution_count": null,
   "metadata": {},
   "outputs": [],
   "source": [
    "# for 2017\n",
    "df_Basket['2017']\n",
    "\n",
    "\n",
    "# for Jan 2017\n",
    "df_Basket['2017-Jan']\n",
    "df_Basket['2017-01']\n"
   ]
  },
  {
   "cell_type": "markdown",
   "metadata": {},
   "source": [
    "## Slicing \n",
    "Slicing is a way to extract a subsection of a collection of data\n",
    "\n",
    "The same slicing notation is used in Python to get a subsection of many other types of data e.g. lists of data, tables of data, timeseries of data etc.\n",
    "\n",
    "Because of this, slicing is an important topic \n",
    "\n",
    "In Python, collections of data almost always call the first position 0 (ZERO) i.e. NOT 1\n",
    "\n",
    "The general syntax for slicing is:\n",
    "\n",
    "`string_to_slice [start : stop : step]`\n",
    "\n",
    "- `start` is the position to start the slice from\n",
    "- `stop` is the position AFTER the end of the slice\n",
    "- `step` is how many steps between each item (steps of 2, 3, 4, etc.)\n",
    "\n",
    "If step is left out then a value of 1 is assumed\n",
    "\n",
    "In some circles, `step` is referred to as `stride`."
   ]
  },
  {
   "cell_type": "code",
   "execution_count": null,
   "metadata": {},
   "outputs": [],
   "source": [
    "roman_numerals = ['I', 'II', 'III', 'IV', 'V', 'VI', 'VII', 'VIII', \"IX\", 'X']\n",
    "\n",
    "# Enter some slices here\n",
    "print (roman_numerals[3:8])\n",
    "\n",
    "print(roman_numerals[:8])\n",
    "\n",
    "print(roman_numerals[3:])\n",
    "\n",
    "print(roman_numerals[3:8:2])\n",
    "\n",
    "print(roman_numerals[:8:2])\n",
    "\n",
    "print(roman_numerals[3::2])\n",
    "\n",
    "print(roman_numerals[::])\n",
    "\n",
    "# All but the last one\n",
    "print(roman_numerals[:-1])\n",
    "\n",
    "# The last one\n",
    "print(roman_numerals[-1:])"
   ]
  },
  {
   "cell_type": "markdown",
   "metadata": {},
   "source": [
    "## Slicing Time Series\n",
    "\n",
    "Users can slice Dataframes into time series using the same syntax as used with strings, but there is one caveat. \n",
    "- When using the `numeric` positions of elements in a collection, slices are **UP TO, BUT NOT INCLUDING** the stop position\n",
    "- When using the `index` positions of elements,(e.g. a time series index) slices are **UP TO, AND INCLUDING** the stop position\n"
   ]
  },
  {
   "cell_type": "code",
   "execution_count": null,
   "metadata": {},
   "outputs": [],
   "source": [
    "# Enter some time slices here\n",
    "df_Basket['2017':'2018']\n",
    "df_Basket['2017-Jan':'2018']\n",
    "df_Basket['2017-Jan-31':'2018-Oct']\n",
    "\n",
    "df_Basket['2017-01-12':]\n",
    "df_Basket[:'2018-Feb']\n",
    "\n",
    "df_Basket['2017':'2018':30]\n",
    "df_Basket[::365]\n"
   ]
  },
  {
   "cell_type": "markdown",
   "metadata": {},
   "source": [
    "## Correlation\n",
    "\n",
    "A pandas DataFrame has a `corr()` function that will produce a new DataFrame containing the correlation matrix.\n",
    "\n",
    "The correlation of prices for the basket DataFrame is:"
   ]
  },
  {
   "cell_type": "code",
   "execution_count": null,
   "metadata": {},
   "outputs": [],
   "source": [
    "# Correlate the basket here\n",
    "df_Basket.corr()\n"
   ]
  },
  {
   "cell_type": "markdown",
   "metadata": {},
   "source": [
    "## Scatter Plots\n",
    "\n",
    "A scatter matrix of a correlation can give a user a better feel for a correlation.\n",
    "\n",
    "Note that a user can correlate an entire Dataframe or they can slice into it.\n",
    "\n",
    "The scatters along the diagonal are the distribution of values.\n"
   ]
  },
  {
   "cell_type": "code",
   "execution_count": null,
   "metadata": {},
   "outputs": [],
   "source": [
    "from pandas.plotting import scatter_matrix\n",
    "\n",
    "# the entire date range\n",
    "scatter_matrix(df_Basket, alpha=0.9, figsize=(18,6))\n",
    "\n",
    "# only for the year 2018\n",
    "scatter_matrix(df_Basket['2018'], alpha=0.9, figsize=(18,6))"
   ]
  },
  {
   "cell_type": "markdown",
   "metadata": {},
   "source": [
    "## Calculating a daily percentage change\n",
    "\n",
    "Correlating actual prices usually does not make any sense in this type of analysis. \n",
    "\n",
    "Correlating percentage changes in prices does make sense.\n",
    "\n",
    "A pandas DataFrame has a `pct_change()` function which calculates precisely this for a column or columns of data.\n",
    "\n",
    "Correlating the percentage change of the basket is extremely easy.\n",
    "\n",
    "Notice the percentage change gives a stronger correlation than the actual prices.\n"
   ]
  },
  {
   "cell_type": "code",
   "execution_count": null,
   "metadata": {},
   "outputs": [],
   "source": [
    "# Correlate the percentage change of the basket here\n",
    "df_Basket_Returns = df_Basket.pct_change()\n",
    "\n",
    "df_Basket_Returns.corr()\n",
    "\n",
    "scatter_matrix(df_Basket_Returns, alpha=0.9, figsize=(18,6))\n"
   ]
  },
  {
   "cell_type": "markdown",
   "metadata": {},
   "source": [
    "## Correlating PXD against the basket\n",
    "\n",
    "This is easy to achieve also\n",
    "\n",
    "- Read the PXD data into a DataFrame.\n",
    "- Calculate the percentage change for this data.\n",
    "- Concatenate this DataFrame to the basket and then produce a single correlation.\n",
    "\n",
    "As expected, the correlation between PXD performance and SPY is much stronger than with IBM and regular commodities"
   ]
  },
  {
   "cell_type": "code",
   "execution_count": null,
   "metadata": {
    "scrolled": true
   },
   "outputs": [],
   "source": [
    "# Load in the PXD data\n",
    "df_PXD = pd.read_excel(io ='../Data/regression.xlsx',\n",
    "                       index_col='Date',\n",
    "                       parse_dates=True,\n",
    "                       sheet_name = 'PXD')\n",
    "\n",
    "# Calculate its returns\n",
    "df_PXD_Returns = df_PXD.pct_change()\n",
    "\n",
    "# Concatenate the PXD returns to the Basket returns\n",
    "df_returns = pd.concat([df_PXD_Returns, df_Basket_Returns], axis=1)\n",
    "\n",
    "# Display the correlation between PXD and the Basket\n",
    "df_returns.corr()"
   ]
  },
  {
   "cell_type": "markdown",
   "metadata": {},
   "source": [
    "## Regression Analysis\n",
    "\n",
    "Regression is an econometric method that allows a user to attempt to see what variables drive another variable.  Regression analysis calculates a number of important values\n",
    "\n",
    "**Beta, Significance & P-Values**\n",
    "\n",
    "A **beta** is what a 1-unit increase in the specific variable does to the dependent variable.\n",
    "For example a .5 beta means that if a variable is increased by 1, the dependent variable would be expected to go up by 0.5. \n",
    "\n",
    "**Significance** measures the probability that a particular variable's value was a random occurrence.\n",
    "For example, a significance factor of 0.05 means there was a 5% chance that this was a random event, 0.01 means a 1% chance, and so on. \n",
    "\n",
    "A **p-value** is used to provide the smallest level of significance at which the null hypothesis would be rejected.\n",
    "\n",
    "Beta, Significance and p-values are important because they are indicators to users about what is significant.\n",
    "\n",
    "For example, we might expect that gold prices effect all stocks. However, when we control for the market (by using SPY) we notice that the reason gold is correlated with all these stocks is because it is also correlated with the market! This gives us better precision since we see which firms really get effected by gold versus which just get effected by the overall market environment.\n",
    "\n",
    "A very accurate regression analysis is performed using the statsmodels OLS function (ordinary least squares). The formula parameter sets the dependent variable and the matrix of factors. <br><br>\n",
    "> `PXD` **~** `SPY + Oil + Gold + NG`<br>\n",
    "\n",
    "In the above expression<br>\n",
    "> `PXD` is the dependent variable <br>\n",
    "> `SPY + Oil + Gold + NG` are the set of features in the model.\n"
   ]
  },
  {
   "cell_type": "code",
   "execution_count": null,
   "metadata": {},
   "outputs": [],
   "source": [
    "# Create a regression model\n",
    "import statsmodels.formula.api as sm\n",
    "model = sm.ols(formula=\"PXD ~ SPY + Oil + Gold + NG\", data=df_returns)\n",
    "\n",
    "# fit the model\n",
    "result = model.fit()\n",
    "\n",
    "# Prouduce the regression report\n",
    "result.summary()"
   ]
  },
  {
   "cell_type": "markdown",
   "metadata": {},
   "source": [
    "**Note the following**<br>\n",
    "1) 2 factors have a p-value  (**P>|t|**) < 0.05 : SPY and Oil<br>\n",
    "Given that PXD is an oil exploration company, it's daily returns follow very closely the returns of both the SP500 index and the price of Oil.\n",
    "\n",
    "2) The PXD beta for stock market returns is relatively high at 0.77, and Oil has a beta of 0.27. This means that for every 1% change in the price of oil, users can expect a 0.27% change in the price of the PXD stock. \n",
    "\n",
    "3) Another way of thinking of this is \n",
    "> PXD = `(0.772 X SPY) + (0.269 X Oil) + (0.046 X Gold) + (0.045 X NG)`\n",
    "\n",
    "We can turn then above statements into a function."
   ]
  },
  {
   "cell_type": "code",
   "execution_count": null,
   "metadata": {},
   "outputs": [],
   "source": [
    "# Create a regress function here\n",
    "def regress(stock, df):\n",
    "    formula = \" ~ SPY + Oil + Gold + NG\"\n",
    "    return sm.ols(formula=stock+formula, data=df).fit()\n",
    "\n"
   ]
  },
  {
   "cell_type": "markdown",
   "metadata": {},
   "source": [
    "## Extract Data from the report\n",
    "\n",
    "Use the `regress()` function to\n",
    "- display the report\n",
    "- display only the p-values\n",
    "- display only the p-values less than 0.05\n",
    "\n",
    "And most importantly, use the params attribute of the OLS report to display the `features` less than 0.05\n",
    "\n"
   ]
  },
  {
   "cell_type": "code",
   "execution_count": null,
   "metadata": {},
   "outputs": [],
   "source": [
    "# run the report\n",
    "report = regress(\"PXD\", df_returns)\n",
    "\n",
    "# product the summary\n",
    "report.summary()\n",
    "\n",
    "# display all p-values\n",
    "report.pvalues \n",
    "\n",
    "# display all p-values < 0.05\n",
    "report.pvalues < .05\n",
    "\n",
    "# display the `features` less than 0.05\n",
    "truthSeries = report.pvalues < .05\n",
    "report.params[truthSeries]\n"
   ]
  },
  {
   "cell_type": "markdown",
   "metadata": {},
   "source": [
    "## Re-write the function\n",
    "\n",
    "To display only those factors with a p-value less than some arbirtrary value"
   ]
  },
  {
   "cell_type": "code",
   "execution_count": null,
   "metadata": {},
   "outputs": [],
   "source": [
    "# Re-Factor the regress function\n",
    "def regress(stock, df, pval):\n",
    "    result = sm.ols(formula=stock+\" ~ SPY + Oil + Gold + NG\", data=df).fit()\n",
    "    return pd.DataFrame(result.params[result.pvalues < pval],\n",
    "                        columns=[stock])\n",
    " \n",
    "# Execute the function\n",
    "df_regress = regress(stock = \"PXD\", df = df_returns, pval = 0.05)\n",
    "\n",
    "\n",
    "# Display the report\n",
    "df_regress"
   ]
  },
  {
   "cell_type": "markdown",
   "metadata": {},
   "source": [
    "# Exercise"
   ]
  },
  {
   "cell_type": "markdown",
   "metadata": {},
   "source": [
    "## Perform this analysis for any abritrary stock\n",
    "\n",
    "Rather than importing a single stock data, we can easily import all stock data for all companies in the SP500 index. \n",
    "We will follow the same “pattern”:\n",
    "- Load a DataFrame that represents the basket.\n",
    "- Load a DataFrame of all SP500 stocks.\n",
    "- Calculate the daily returns and concatenate both DataFrames.\n",
    "- Calculate the Betas for ALL stocks when regressions are performed against the basket.\n",
    "- Save the results to a Spreadsheet.\n",
    "\n",
    "The first 3 steps are:"
   ]
  },
  {
   "cell_type": "code",
   "execution_count": null,
   "metadata": {},
   "outputs": [],
   "source": [
    "# Load in df_Basket\n",
    "df_Basket = pd.read_excel(io ='../Data/regression.xlsx',\n",
    "                          parse_dates=True,\n",
    "                          index_col='Date',\n",
    "                          sheet_name = 'Basket')\n",
    "\n",
    "# Load in the Stock Prices\n",
    "df_Stocks = pd.read_excel(io = '../Data/regression.xlsx',\n",
    "                          parse_dates=True,\n",
    "                          index_col='Date',\n",
    "                           sheet_name = 'StockPrices')\n",
    "\n",
    "# Caluclate the daily returns for the Basket and for the Stocks\n",
    "df_Basket_Returns = df_Basket.pct_change()\n",
    "df_Stock_Returns = df_Stocks.pct_change()\n",
    "\n",
    "# Concatenate both DataFrames\n",
    "df_returns = pd.concat([df_Stock_Returns,df_Basket_Returns],axis=1)"
   ]
  },
  {
   "cell_type": "markdown",
   "metadata": {},
   "source": [
    "## Calculate Betas for ALL stocks with p-value < 0.05\n",
    "\n",
    "\n",
    "A very simple loop achieves this.<br>\n",
    "\n",
    "**Note**<br>\n",
    "1) the slice `f_returns.columns[:-4]` returns all BUT the last 4 columns as the last 4 columns are our basket.\n",
    "\n",
    "2) We are progressively concatenating the results of the regression into a single DataFrame containing all of the results.\n"
   ]
  },
  {
   "cell_type": "code",
   "execution_count": null,
   "metadata": {},
   "outputs": [],
   "source": [
    "# Create an empy dataframe\n",
    "df_all_Betas = pd.DataFrame()\n",
    "\n",
    "# Loop over every returns and calcualte the betas from a regression \n",
    "for symbol in df_returns.columns[:-4]:\n",
    "    df_regress = regress(stock = symbol, df = df_returns, pval = 0.05)\n",
    "    df_all_Betas = pd.concat([df_all_Betas,df_regress], sort=False, axis=1)\n",
    "\n",
    "# Dislpay the shape\n",
    "df_all_Betas.shape"
   ]
  },
  {
   "cell_type": "markdown",
   "metadata": {},
   "source": [
    "## Export the DataFrame to a Spreadsheet\n"
   ]
  },
  {
   "cell_type": "code",
   "execution_count": null,
   "metadata": {},
   "outputs": [],
   "source": [
    "# Create a writer\n",
    "writer = pd.ExcelWriter('../Output/Sp500_Betas.xlsx')\n",
    "\n",
    "# Convert the DataFrame to an XlsxWriter Excel object.\n",
    "# In this case we'll put each of the FANG columns in a separate sheet.\n",
    "df_all_Betas.to_excel(writer, sheet_name='SP500')\n",
    "\n",
    "# Close the Pandas Excel writer and output the Excel file.\n",
    "writer.save()"
   ]
  },
  {
   "cell_type": "code",
   "execution_count": null,
   "metadata": {},
   "outputs": [],
   "source": []
  }
 ],
 "metadata": {
  "kernelspec": {
   "display_name": "Python 3",
   "language": "python",
   "name": "python3"
  },
  "language_info": {
   "codemirror_mode": {
    "name": "ipython",
    "version": 3
   },
   "file_extension": ".py",
   "mimetype": "text/x-python",
   "name": "python",
   "nbconvert_exporter": "python",
   "pygments_lexer": "ipython3",
   "version": "3.8.3"
  }
 },
 "nbformat": 4,
 "nbformat_minor": 4
}
