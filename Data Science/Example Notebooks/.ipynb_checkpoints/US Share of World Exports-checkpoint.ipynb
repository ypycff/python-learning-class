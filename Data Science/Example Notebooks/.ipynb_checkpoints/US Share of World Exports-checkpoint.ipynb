{
 "cells": [
  {
   "cell_type": "markdown",
   "metadata": {},
   "source": [
    "<img style=\"float: right;\" width=\"120\" src=\"../Images/supplier-logo.png\">\n",
    "<img style=\"float: left; margin-top: 0\" width=\"80\" src=\"../Images/client-logo.png\">\n",
    "<br><br><br>"
   ]
  },
  {
   "cell_type": "markdown",
   "metadata": {},
   "source": [
    "## Introduction ##\n",
    "\n",
    "The International Monetary Fund (IMF) Statistics Department (STA) allows API access to their economic time series. \n",
    "\n",
    "Well-known datasets such as International Financial Statistics (IFS) can be machine read through the API. \n",
    "\n",
    "This example will use \n",
    "- Python to retrieve Direction of Trade Statistics (DOTS) \n",
    "- data from STA’s JSON RESTful Web Service <br>\n",
    "\n",
    "so that we can determine the United States’ share of world exports over the past 50 years.\n",
    "\n",
    "\n",
    "\n"
   ]
  },
  {
   "cell_type": "markdown",
   "metadata": {},
   "source": [
    "## Load in the libraries ##"
   ]
  },
  {
   "cell_type": "code",
   "execution_count": null,
   "metadata": {},
   "outputs": [],
   "source": [
    "import requests\n",
    "import pandas as pd"
   ]
  },
  {
   "cell_type": "markdown",
   "metadata": {},
   "source": [
    "## Find the name of the series we are interested in ##\n",
    "\n",
    "In this example its DOT\n"
   ]
  },
  {
   "cell_type": "code",
   "execution_count": null,
   "metadata": {},
   "outputs": [],
   "source": [
    "# Find the series id and text name.\n",
    "url = 'http://dataservices.imf.org/REST/SDMX_JSON.svc/Dataflow'\n",
    "seriesids = requests.get(url)\n",
    "\n",
    "data = seriesids.json()['Structure']['Dataflows']['Dataflow']\n",
    "\n",
    "df = pd.DataFrame(data)"
   ]
  },
  {
   "cell_type": "code",
   "execution_count": null,
   "metadata": {},
   "outputs": [],
   "source": [
    "df.head()"
   ]
  },
  {
   "cell_type": "code",
   "execution_count": null,
   "metadata": {},
   "outputs": [],
   "source": [
    "for x in range(0, 20):\n",
    "    items = (str(df['@id'][x]), str(df['Name'][x]['#text']))\n",
    "    print(': '.join(items))"
   ]
  },
  {
   "cell_type": "markdown",
   "metadata": {},
   "source": [
    "## Retrieve the DOT data we are interested in "
   ]
  },
  {
   "cell_type": "code",
   "execution_count": null,
   "metadata": {},
   "outputs": [],
   "source": [
    "# Annotations for the series\n",
    "url = \"http://dataservices.imf.org/REST/SDMX_JSON.svc/DataStructure/DOT\"\n",
    "dotstruct = requests.get(url).json()\n",
    "df = pd.DataFrame(dotstruct['Structure']['KeyFamilies']\\\n",
    "     ['KeyFamily']['Annotations'])\n",
    "for x in range(0, 7): \n",
    "     items = (str(df['Annotation'][x]['AnnotationTitle']), \\\n",
    "     str(df['Annotation'][x]['AnnotationText']['#text']))\n",
    "     print(': '.join(items))"
   ]
  },
  {
   "cell_type": "markdown",
   "metadata": {},
   "source": [
    "## Find the series dimensions"
   ]
  },
  {
   "cell_type": "code",
   "execution_count": null,
   "metadata": {},
   "outputs": [],
   "source": [
    "# Look at structure of DOTS data to find the dimensions for our data request\n",
    "url = \"http://dataservices.imf.org/REST/SDMX_JSON.svc/DataStructure/DOT\"\n",
    "dotstruct = requests.get(url).json()\n",
    "df = pd.DataFrame(dotstruct['Structure']['KeyFamilies']['KeyFamily']\\\n",
    "          ['Components']['Dimension'])\n",
    "for x in range(0, 4): \n",
    "     items = (\"Dimension\", str(x+1), str(df['@codelist'][x]))\n",
    "     print(': '.join(items))"
   ]
  },
  {
   "cell_type": "markdown",
   "metadata": {},
   "source": [
    "## Find Country codes "
   ]
  },
  {
   "cell_type": "code",
   "execution_count": null,
   "metadata": {},
   "outputs": [],
   "source": [
    "# Obtain country codes\n",
    "url = \"http://dataservices.imf.org/REST/SDMX_JSON.svc/CodeList/CL_AREA_DOT\"\n",
    "country = requests.get(url).json()\n",
    "df = pd.DataFrame(country['Structure']['CodeLists']['CodeList']['Code'])\n",
    "for x in [214, 245]: \n",
    "     items = (str(df['@value'][x]), str(df['Description'][x]['#text']))\n",
    "     print(': '.join(items))"
   ]
  },
  {
   "cell_type": "markdown",
   "metadata": {},
   "source": [
    "The series ID is DOT and the country codes (we will use this with the exporting country, CL_AREA_DOT, and the counterpart, CL_COUNTERPART_AREA_DOT) of interest are W00 for world and US for the US. \n",
    "\n",
    "We see below that the indicator of interest is TXG_FOB_USD, Goods, Value of Exports, Free on board (FOB), US Dollars."
   ]
  },
  {
   "cell_type": "markdown",
   "metadata": {},
   "source": [
    "## Find column IDs"
   ]
  },
  {
   "cell_type": "code",
   "execution_count": null,
   "metadata": {},
   "outputs": [],
   "source": [
    "# Obtain series info and ids\n",
    "url = \"http://dataservices.imf.org/REST/SDMX_JSON.svc/CodeList/CL_INDICATOR_DOT\"\n",
    "series = requests.get(url).json()\n",
    "df = pd.DataFrame(series['Structure']['CodeLists']['CodeList']['Code'])\n",
    "for x in range(0, 4): \n",
    "     items = (str(df['@value'][x]), str(df['Description'][x]['#text']))\n",
    "     print(': '.join(items))"
   ]
  },
  {
   "cell_type": "markdown",
   "metadata": {},
   "source": [
    "## Retrieving Data \n",
    "\n",
    "The guide to STA’s API shows how we can combine information from the previous steps to call and retrieve data. For direction of trade statistics, we see that the dimensions are as follows:\n",
    "\n",
    "- Dimension 1: CL_FREQ (the frequency of the data–we want to use monthly data) – M\n",
    "\n",
    "- Dimension 2: CL_AREA_DOT (the primary country) – US\n",
    "\n",
    "- Dimension 3: CL_INDICATOR_DOT (the measure–we want to look at exports free of board) – TXG_FOB_USD\n",
    "\n",
    "- Dimension 4: CL_COUNTERPART_AREA_DOT (the counterpart country) – W00\n",
    "\n",
    "The JSON RESTful API method for requesting the data is the CompactData Method. \n",
    "\n",
    "The format for putting together dimension and time period information is shown on the Web Service knowledge base as:"
   ]
  },
  {
   "cell_type": "code",
   "execution_count": null,
   "metadata": {},
   "outputs": [],
   "source": [
    "url = 'http://dataservices.imf.org/REST/SDMX_JSON.svc/CompactData/DOT/M.US.TXG_FOB_USD.W00.?startPeriod=1981&endPeriod=2019'\n",
    "data = requests.get(url).json()\n",
    "usexp = pd.DataFrame(data['CompactData']['DataSet']['Series']['Obs'])\n",
    "usexp.columns = ['date','usexports'];\n",
    "usexp.tail()"
   ]
  },
  {
   "cell_type": "markdown",
   "metadata": {},
   "source": [
    "## Retrieve Data for US+JP+CN"
   ]
  },
  {
   "cell_type": "code",
   "execution_count": null,
   "metadata": {},
   "outputs": [],
   "source": [
    "ourl = 'http://dataservices.imf.org/REST/SDMX_JSON.svc/CompactData/DOT/M.US+CN+JP+W00.TXG_FOB_USD.W00.?startPeriod=1972&endPeriod=2019'\n",
    "odata = requests.get(ourl).json();\n",
    "\n",
    "wexp = pd.DataFrame(odata['CompactData']['DataSet']['Series'][0]['Obs'])\n",
    "wexp.columns = ['date','wexports']\n",
    "del wexp['date']\n",
    "\n",
    "chexp = pd.DataFrame(odata['CompactData']['DataSet']['Series'][1]['Obs'])\n",
    "chexp.columns = ['date','chexports']\n",
    "del chexp['date']\n",
    "\n",
    "jpexp = pd.DataFrame(odata['CompactData']['DataSet']['Series'][2]['Obs'])\n",
    "jpexp.columns = ['date','jpexports']\n",
    "del jpexp['date']\n",
    "\n",
    "usexp = pd.DataFrame(odata['CompactData']['DataSet']['Series'][3]['Obs'])\n",
    "usexp.columns = ['date','usexports']"
   ]
  },
  {
   "cell_type": "markdown",
   "metadata": {},
   "source": [
    "## Prepare a new dataframe \n",
    "\n",
    "- US Exports\n",
    "\n",
    "- World Exports\n",
    "\n",
    "- Japan Exports\n",
    "\n",
    "- China Exports\n",
    "\n",
    "and CALCULATE SHARE OF WORLD EXPORTS FOR EACH COUNTRY"
   ]
  },
  {
   "cell_type": "code",
   "execution_count": null,
   "metadata": {},
   "outputs": [],
   "source": [
    "combined = pd.concat([usexp, wexp, chexp, jpexp], axis=1)\n",
    "combined['date'] = pd.to_datetime(combined['date'])\n",
    "combined = combined.set_index(combined['date'])\n",
    "del combined['date'] \n",
    "\n",
    "usexports = pd.to_numeric(combined['usexports'])\n",
    "wexports = pd.to_numeric(combined.wexports)\n",
    "cexports = pd.to_numeric(combined.chexports)\n",
    "jexports = pd.to_numeric(combined.jpexports)\n",
    "\n",
    "# Convert to numeric\n",
    "combined['usshare'] = usexports / wexports * 100\n",
    "combined['chinashare'] = cexports / wexports * 100\n",
    "combined['japanshare'] = jexports / wexports * 100\n",
    "combined.tail()"
   ]
  },
  {
   "cell_type": "markdown",
   "metadata": {},
   "source": [
    "## Graphing the data\n",
    "\n",
    "\n",
    "### Graph of US share of workd exports"
   ]
  },
  {
   "cell_type": "code",
   "execution_count": null,
   "metadata": {},
   "outputs": [],
   "source": [
    "import matplotlib as mpl\n",
    "import matplotlib.pyplot as plt\n",
    "%matplotlib inline\n",
    "txt = '''Source: International Monetary Fund.'''\n",
    "\n",
    "# Plot US share of world exports\n",
    "combined.usshare.plot(grid=True, figsize=(9, 5), color=\"blue\", linewidth=2,)\n",
    "plt.ylabel('percentage of world exports')\n",
    "plt.xlabel('Year')\n",
    "plt.text(20,4.5,txt)\n",
    "plt.title('U.S. Share of World Exports');"
   ]
  },
  {
   "cell_type": "markdown",
   "metadata": {},
   "source": [
    "### Graph of moving average of US, China, AND Japan shares of workd exports"
   ]
  },
  {
   "cell_type": "code",
   "execution_count": null,
   "metadata": {},
   "outputs": [],
   "source": [
    "# Calculate moving average for each share, to reduce noise\n",
    "combined['ussharema'] = combined['usshare'].rolling(12,12).mean()\n",
    "combined['chsharema'] = combined['chinashare'].rolling(12,12).mean()\n",
    "combined['jpsharema'] = combined['japanshare'].rolling(12,12).mean()\n",
    "\n",
    "combshares = combined[['ussharema', 'chsharema', 'jpsharema']]\n",
    "shares = list(combshares);\n",
    "# Plot various shares of world exports\n",
    "combined[shares][120:].plot(grid=True, figsize=(9, 5), linewidth=2)\n",
    "plt.ylabel('percentage of world exports')\n",
    "plt.xlabel('Year')\n",
    "plt.text(150,-2,txt)\n",
    "plt.title('Share of World Exports', );"
   ]
  },
  {
   "cell_type": "markdown",
   "metadata": {},
   "source": [
    "### Save the data to a csv file"
   ]
  },
  {
   "cell_type": "code",
   "execution_count": null,
   "metadata": {},
   "outputs": [],
   "source": [
    "combined.to_csv('../Output/us_share_exports.csv')"
   ]
  },
  {
   "cell_type": "code",
   "execution_count": null,
   "metadata": {},
   "outputs": [],
   "source": []
  }
 ],
 "metadata": {
  "kernelspec": {
   "display_name": "Python 3",
   "language": "python",
   "name": "python3"
  },
  "language_info": {
   "codemirror_mode": {
    "name": "ipython",
    "version": 3
   },
   "file_extension": ".py",
   "mimetype": "text/x-python",
   "name": "python",
   "nbconvert_exporter": "python",
   "pygments_lexer": "ipython3",
   "version": "3.8.3"
  }
 },
 "nbformat": 4,
 "nbformat_minor": 4
}
