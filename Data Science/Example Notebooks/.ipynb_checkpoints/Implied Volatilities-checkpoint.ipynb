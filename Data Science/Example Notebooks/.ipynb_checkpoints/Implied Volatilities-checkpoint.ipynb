{
 "cells": [
  {
   "cell_type": "markdown",
   "metadata": {},
   "source": [
    "# Implied Volatilities #\n",
    "\n",
    "\n",
    "These are volatilities that, when put into a formula, yield observed market quotes.  \n",
    "In this situation, volatility is not an input to a formula but the result of an optimization procedure.\n"
   ]
  },
  {
   "cell_type": "markdown",
   "metadata": {},
   "source": [
    "## Volatility options on the VSTOXX volatility index ##\n",
    "\n"
   ]
  },
  {
   "cell_type": "markdown",
   "metadata": {},
   "source": [
    "\\begin{alignat}{2}\n",
    "C(S_t, K, t, T, r, \\sigma) & = S_t.N(d_1) -e^{-r(T-t)}.K.N(d_2)\\\\\n",
    "N(d) & = \\frac{1}{\\sqrt{2\\pi}}\\int_{-\\infty}^de^{-\\frac{1}{2}x^2}dx\\\\\n",
    "d1 & = \\frac{log{\\frac{S_t}{K}}+\\left(r+{\\frac{\\sigma^2}{2}}\\right)(T-t)}{\\sigma\\sqrt{T-t}}\\\\\n",
    "d2 & = \\frac{log{\\frac{S_t}{K}}+\\left(r-{\\frac{\\sigma^2}{2}}\\right)(T-t)}{\\sigma\\sqrt{T-t}}\n",
    "\\end{alignat}\n",
    "*Equation 1 -- Black Scholes Merton index level at maturity*<br><br>\n",
    "\n",
    "\n",
    "Assume a non-dividend paying stock is quoted as $C*$  \n",
    "$VOL_{implied}$ is the quantity that solves the implicit equation.  \n",
    "As there is no closed form solution for this equation, a numerical, iterative solution is needed\n",
    "\n",
    "E.g. Newton scheme  \n",
    "for some starting value $\\sigma_0^{imp}$ where $0 < n < \\infty$\n",
    "\n",
    "\\begin{align}\n",
    "\\sigma_{n+1}^{imp} = \\sigma_n^{imp} - {\\frac{C(\\sigma_n^{imp}) - C*}{\\frac{\\delta C(\\sigma_n^{imp})}{\\delta\\sigma_n^{imp}}}}\n",
    "\\end{align}\n",
    "*Equation 2 -- Newton scheme for numerically solving equations*\n",
    "  \n",
    "  \n",
    "  \n",
    "The partial derivative of option pricing formula w.r.t. volatility is called Vega\n",
    "\\begin{align}\n",
    "{\\frac{\\delta C}{\\delta \\sigma}} = S_tN(d_1)\\sqrt{T-t}\n",
    "\\end{align}\n",
    "*Equation 3 -- Vega of a European option is BSM model*"
   ]
  },
  {
   "cell_type": "code",
   "execution_count": 1,
   "metadata": {},
   "outputs": [],
   "source": [
    "def bsm_call_value(S0, K, T, r, sigma):\n",
    "\n",
    "    from math import log, sqrt, exp\n",
    "    from scipy import stats\n",
    "\n",
    "    S0 = float(S0)\n",
    "    d1 = (log(S0 / K) + (r + 0.5 * sigma ** 2) * T) / (sigma * sqrt(T))\n",
    "    d2 = (log(S0 / K) + (r - 0.5 * sigma ** 2) * T) / (sigma * sqrt(T))\n",
    "    value = (S0 * stats.norm.cdf(d1, 0.0, 1.0) - K * exp(-r * T) * stats.norm.cdf(d2, 0.0, 1.0))\n",
    "    # stats.norm.cdf —> cumulative distribution function for normal distribution\n",
    "\n",
    "    return value"
   ]
  },
  {
   "cell_type": "code",
   "execution_count": 2,
   "metadata": {},
   "outputs": [],
   "source": [
    "def bsm_vega(S0, K, T, r, sigma):\n",
    "    \n",
    "    from math import log, sqrt\n",
    "    from scipy import stats\n",
    "\n",
    "    S0 = float(S0)\n",
    "    d1 = (log(S0 / K) + (r + 0.5 * sigma ** 2) * T) / (sigma * sqrt(T))\n",
    "    vega = S0 * stats.norm.cdf(d1, 0.0, 1.0) * sqrt(T)\n",
    "      \n",
    "    return vega"
   ]
  },
  {
   "cell_type": "code",
   "execution_count": 3,
   "metadata": {},
   "outputs": [],
   "source": [
    "def bsm_call_imp_vol(S0, K, T, r, C0, sigma_est, it=100):\n",
    "\n",
    "    for i in range(it):\n",
    "        sigma_est -= ((bsm_call_value(S0, K, T, r, sigma_est) - C0) / bsm_vega(S0, K, T, r, sigma_est))\n",
    "\n",
    "    return sigma_est"
   ]
  },
  {
   "cell_type": "code",
   "execution_count": null,
   "metadata": {},
   "outputs": [],
   "source": []
  }
 ],
 "metadata": {
  "kernelspec": {
   "display_name": "Python 3",
   "language": "python",
   "name": "python3"
  },
  "language_info": {
   "codemirror_mode": {
    "name": "ipython",
    "version": 3
   },
   "file_extension": ".py",
   "mimetype": "text/x-python",
   "name": "python",
   "nbconvert_exporter": "python",
   "pygments_lexer": "ipython3",
   "version": "3.7.4"
  }
 },
 "nbformat": 4,
 "nbformat_minor": 4
}
