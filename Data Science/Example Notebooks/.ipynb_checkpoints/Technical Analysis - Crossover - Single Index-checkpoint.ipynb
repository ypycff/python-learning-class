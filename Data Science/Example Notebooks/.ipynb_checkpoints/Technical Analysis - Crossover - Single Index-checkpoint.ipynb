{
 "cells": [
  {
   "cell_type": "markdown",
   "metadata": {},
   "source": [
    "<img style=\"float: right;\" width=\"120\" src=\"../Images/supplier-logo.png\">\n",
    "<img style=\"float: left; margin-top: 0\" width=\"80\" src=\"../Images/client-logo.png\">\n",
    "<br><br><br>\n",
    "\n",
    "\n",
    "# Technical Analysis - Crossover - Single Index\n",
    "\n",
    "This analysis will include a backtest and suggest some refinements.\n",
    "\n",
    "The analysis is to use 2 rolling averages - 2 months and 1 year - and is based on the observation that the yearly rolling average reacts much slower to daily price changes than a 2 month rolling average.\n",
    "\n",
    "Using this knowledge, we will devise a simple trading rule/regime that will sign buy/sell/hold signals.\n",
    "\n",
    "We will then compare this trading regime against market performance"
   ]
  },
  {
   "cell_type": "markdown",
   "metadata": {},
   "source": [
    "## Load in the Libraries"
   ]
  },
  {
   "cell_type": "code",
   "execution_count": null,
   "metadata": {},
   "outputs": [],
   "source": [
    "import pandas as pd\n",
    "import numpy as np\n",
    "import matplotlib.pyplot as plt\n",
    "%matplotlib inline"
   ]
  },
  {
   "cell_type": "markdown",
   "metadata": {},
   "source": [
    "## Load in the data\n",
    "\n",
    "We will load the index information from a csv file, as we don't have access to live data.\n",
    "\n",
    "However, this type of information is easy to get from an online source - e.g. Bloomberg API.\n",
    "\n",
    "Also, notice here that we need to convert string types to numeric types - this is quite often the case when reading data direct from file."
   ]
  },
  {
   "cell_type": "code",
   "execution_count": null,
   "metadata": {
    "scrolled": true
   },
   "outputs": [],
   "source": [
    "df_SP500 = pd.read_excel(io = '../Data/index_data.xls', \n",
    "                         sheet_name='SP500',\n",
    "                         index_col='Date', \n",
    "                         parse_dates=True)\n"
   ]
  },
  {
   "cell_type": "markdown",
   "metadata": {},
   "source": [
    "## Calculate the rolling averages\n",
    "\n",
    "The 2 averages in this piece of analysis are:\n",
    "- a 42 day rolling average (approx 2 months) - follows the daily movements very closely.\n",
    "- a 252 day rolling average (approx 1 year) - much slower to react to daily movements."
   ]
  },
  {
   "cell_type": "code",
   "execution_count": null,
   "metadata": {},
   "outputs": [],
   "source": [
    "# Based on a 2 month (42 day) and a 1 year (252 trading day)\n",
    "x42 = df_SP500['Close'].rolling(42).mean()\n",
    "x252 = df_SP500['Close'].rolling(252).mean()\n",
    "\n",
    "df_SP500['42d'] = np.round(x42, 2)\n",
    "df_SP500['252d'] = np.round(x252, 2)"
   ]
  },
  {
   "cell_type": "markdown",
   "metadata": {},
   "source": [
    "## A simple plot to aid understanding of what's going on"
   ]
  },
  {
   "cell_type": "code",
   "execution_count": null,
   "metadata": {},
   "outputs": [],
   "source": [
    "df_SP500[['42d', '252d']].plot(figsize=(18, 9))\n"
   ]
  },
  {
   "cell_type": "markdown",
   "metadata": {},
   "source": [
    "## Create more data points\n",
    "\n",
    "Here we take the difference between the 2 month rolling average and the yearly rolling average.\n",
    "\n",
    "Add a new column to the DataFrame called 42d-252d and populate it with the difference between our 2 rolling averages"
   ]
  },
  {
   "cell_type": "code",
   "execution_count": null,
   "metadata": {},
   "outputs": [],
   "source": [
    "df_SP500['42d-252d'] = df_SP500['42d'] - df_SP500['252d']\n",
    "df_SP500.tail()"
   ]
  },
  {
   "cell_type": "markdown",
   "metadata": {},
   "source": [
    "## Plot the Regime\n",
    "\n",
    "Again, a quick eyeball of what we have done aids understanding.\n",
    "\n",
    "This plot is the beginning of how we will generate our buy/sell/hold signals\n"
   ]
  },
  {
   "cell_type": "code",
   "execution_count": null,
   "metadata": {},
   "outputs": [],
   "source": [
    "df_SP500[['42d-252d', '42d', '252d']].plot(grid=True)"
   ]
  },
  {
   "cell_type": "markdown",
   "metadata": {},
   "source": [
    "## Add the rules of a Trading Regime\n",
    "\n",
    "Add a new column called 'Regime'\n",
    "\n",
    "The trading regime here is based on the following rule.\n",
    "\n",
    "- Generate a LONG signal when the 42-252 day difference first passes the **3% threshold ** \n",
    "- Generate a SHORT signal when the 42-252 day difference first passes the **- 3% threshold ** \n",
    "- Generate a HOLD signal (convert to cash) when the 42-252 day difference first enters the ** +/- 3% band ** \n",
    "\n",
    "The encoding for the Regime is\n",
    "- 1 ==> Long\n",
    "- -1 ==> Short\n",
    "- 0 ===> Hold\n",
    "\n",
    "Note the use of **np.where** function here - there are many other ways to do this, but the vector arithmetic in numpy fits extremely well with the rows and columns of pandas DataFrames.\n"
   ]
  },
  {
   "cell_type": "code",
   "execution_count": null,
   "metadata": {},
   "outputs": [],
   "source": [
    "# 3 %\n",
    "threshold = 0.03\n",
    "    \n",
    "df_SP500['Regime'] = np.where(df_SP500['42d-252d'] / df_SP500['252d'] > threshold, 1, 0)\n",
    "df_SP500['Regime'] = np.where(df_SP500['42d-252d'] / df_SP500['252d'] < -threshold, -1, df_SP500['Regime'])"
   ]
  },
  {
   "cell_type": "markdown",
   "metadata": {},
   "source": [
    "## Plot the trading signals\n",
    "\n",
    "This plot basically tells us when to go Long, Short or Hold.\n",
    "\n",
    "e.g.<br>\n",
    "It says HOLD in cash from start of 2006.<br>\n",
    "Go LONG around early 2007 and stay there until near the end of 2007<br>\n",
    "Go to HOLD for a short period, then go LONG, then go to HOLD shortly after<br>\n",
    "etc. etc. etc.\n",
    "\n",
    "over the period 2006 to 2018 - this strategy has generated about 20 trading signals"
   ]
  },
  {
   "cell_type": "code",
   "execution_count": null,
   "metadata": {},
   "outputs": [],
   "source": [
    "df_SP500['Regime'].plot(figsize=(18, 6))"
   ]
  },
  {
   "cell_type": "markdown",
   "metadata": {},
   "source": [
    "## Plot the Regime and the difference on the same plot.\n",
    "\n",
    "Note the use of secondary_y\n",
    "\n",
    "Now you can better understand why the trading signals are the way they are"
   ]
  },
  {
   "cell_type": "code",
   "execution_count": null,
   "metadata": {},
   "outputs": [],
   "source": [
    "cols = ['Regime', '42d-252d']\n",
    "df_SP500[cols].plot(figsize=(18, 6), secondary_y='Regime')"
   ]
  },
  {
   "cell_type": "markdown",
   "metadata": {},
   "source": [
    "## Back test\n",
    "\n",
    "2 new columns \n",
    "- 'Market' : how the SP500 performed during this period\n",
    "- 'Strategy' : how our trading strategy performed during this period\n",
    "\n",
    "Use log of differences to calculate performance of the market<br>\n",
    "Our strategy's performance is the product of market performance and our regime."
   ]
  },
  {
   "cell_type": "code",
   "execution_count": null,
   "metadata": {},
   "outputs": [],
   "source": [
    "df_SP500['Market'] = np.log(df_SP500['Close'] / df_SP500['Close'].shift(1))\n",
    "df_SP500['Strategy'] = df_SP500['Regime'].shift(1) * df_SP500['Market']"
   ]
  },
  {
   "cell_type": "markdown",
   "metadata": {},
   "source": [
    "## Plot the results\n",
    "\n",
    "A simple plot of market Vs strategy shows how well the strategy performed against the market.\n",
    "\n",
    "Calculate a continuous accumulation of the returns (np.exp)\n",
    "\n",
    "The strategy -\n",
    "- slightly underperforms at the start of the analysis period\n",
    "- significantly outperforms the market between middle 2008 thru to start of 2013\n",
    "- slightly outperforms the market during the period from 2013 to 2016\n",
    "- slightly underperforms between 2016 and the present day\n"
   ]
  },
  {
   "cell_type": "code",
   "execution_count": null,
   "metadata": {},
   "outputs": [],
   "source": [
    "df_SP500[['Market','Strategy']].cumsum().apply(np.exp).plot(grid=True)"
   ]
  },
  {
   "cell_type": "markdown",
   "metadata": {},
   "source": [
    "## Try a different time range"
   ]
  },
  {
   "cell_type": "code",
   "execution_count": null,
   "metadata": {},
   "outputs": [],
   "source": [
    "df_SP500[['Market','Strategy']]['2006':].cumsum().apply(np.exp).plot(grid=True)"
   ]
  },
  {
   "cell_type": "markdown",
   "metadata": {},
   "source": [
    "## Refinements\n",
    "\n",
    "- The 3% threshold is arbitrary <br>\n",
    "This could change and make quite a difference. <br>\n",
    "e.g. Upper is 3%, lower is 2%<br>\n",
    "The values of upper and lower thresholds could also vary over time based on other factors\n",
    "\n",
    "\n",
    "- Add in costs e.g. txn costs<br>\n",
    "This strategy does not generate too many trading signals so txn cost is not that significant.\n",
    "\n",
    "\n",
    "- Operational issues - Trade Execution<br>\n",
    "This example only works with closing values - could expand it to further refine when to exit the market (same day, COB close, next day Open, etc.)\n",
    "\n",
    "\n"
   ]
  },
  {
   "cell_type": "code",
   "execution_count": null,
   "metadata": {},
   "outputs": [],
   "source": []
  }
 ],
 "metadata": {
  "kernelspec": {
   "display_name": "Python 3",
   "language": "python",
   "name": "python3"
  },
  "language_info": {
   "codemirror_mode": {
    "name": "ipython",
    "version": 3
   },
   "file_extension": ".py",
   "mimetype": "text/x-python",
   "name": "python",
   "nbconvert_exporter": "python",
   "pygments_lexer": "ipython3",
   "version": "3.8.3"
  }
 },
 "nbformat": 4,
 "nbformat_minor": 2
}
