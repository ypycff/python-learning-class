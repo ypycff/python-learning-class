{
 "cells": [
  {
   "cell_type": "markdown",
   "metadata": {},
   "source": [
    "<img style=\"float: right;\" width=\"120\" src=\"../Images/supplier-logo.jpeg\">\n",
    "<img style=\"float: left; margin-top: 0\" width=\"80\" src=\"../Images/client-logo.png\">\n",
    "<br><br><br>\n"
   ]
  },
  {
   "cell_type": "markdown",
   "metadata": {},
   "source": [
    "# Valuation of European Call Option Using a Monte Carlo Simulation\n",
    "\n",
    "Using the **Black-Scholes-Merton (BSM)** model for pricing non-dividend paying stock options, the index level at maturity is a random variable, given by the following equation.<br><br>\n",
    "\n",
    "\\begin{eqnarray*}\n",
    "S_T = S_0 exp \\left( (r - {1}/{2}\\sigma^2)T + \\sigma \\sqrt{T}z\\right)\n",
    "\\end{eqnarray*}\n",
    "*Equation 1 -- Black Scholes Merton index level at maturity*<br><br>\n",
    "\n",
    "\n",
    "A **Monte Carlo** valuation procedure to achieve the same is:\n",
    "\n",
    "1 Draw $I$ pusedo random numbers $z(i), i \\in \\{1,2,..., I\\}$ from a standard normal distribution\n",
    "\n",
    "2 Calculate all resulting index levels at maturity $S_T$ for given z(i) using EQ1 above\n",
    "\n",
    "3 Calculate all inner values of the option at maturity as $h_T(i) = max(S_T(i) - K,0)$\n",
    "\n",
    "4 Estimate the option present value using the Monte Carlo estimator *(in EQ 2)*<br><br>\n",
    "\n",
    "\\begin{eqnarray*}\n",
    "C_0 \\approx e^{-rT}\\frac{1}{I}\\Sigma h_T(i)\n",
    "\\end{eqnarray*}\n",
    "*Equation 2 -- Monte Carlo estimator for European Option*<br><br>\n",
    "\n",
    "Translating this problem into Python code is trivial\n",
    "\n",
    "For example, given the following parameters\n",
    "\n",
    "- Initial stock index level $S_0 = 100$\n",
    "\n",
    "- Strike Price K = 105\n",
    "\n",
    "- Time-to-maturity T = 1 year\n",
    "\n",
    "- Constant risk free rate = 5%\n",
    "\n",
    "- Constant volatility = 20%\n"
   ]
  },
  {
   "cell_type": "code",
   "execution_count": 1,
   "metadata": {},
   "outputs": [],
   "source": [
    "S0 = 100\n",
    "K = 105\n",
    "T = 1.0\n",
    "r = 0.05\n",
    "sigma = 0.2"
   ]
  },
  {
   "cell_type": "markdown",
   "metadata": {},
   "source": [
    "Using numpy\n"
   ]
  },
  {
   "cell_type": "code",
   "execution_count": 2,
   "metadata": {},
   "outputs": [],
   "source": [
    "from numpy import *\n",
    "\n",
    "I = 100000\n",
    "\n",
    "z = random.standard_normal(I)\n",
    "ST = S0 * exp((r - 0.5 * sigma ** 2) * T + sigma * sqrt(T) * z)\n",
    "hT = maximum(ST - K, 0)\n",
    "C0 = exp(-r * T) * sum(hT) / I"
   ]
  },
  {
   "cell_type": "markdown",
   "metadata": {},
   "source": [
    "Print the value"
   ]
  },
  {
   "cell_type": "code",
   "execution_count": 3,
   "metadata": {},
   "outputs": [
    {
     "name": "stdout",
     "output_type": "stream",
     "text": [
      "Value of European Call Option 7.985\n"
     ]
    }
   ],
   "source": [
    "print(\"Value of European Call Option %5.3f\" % C0)"
   ]
  },
  {
   "cell_type": "markdown",
   "metadata": {},
   "source": [
    "Note the following\n",
    "\n",
    "1 Syntax - closely resembles maths\n",
    "\n",
    "2 Translation - every mathematical and/or algorithmic statement can generally be translated in a single line of Python code\n",
    "\n",
    "3 Vectorization - numpy has compact vectorized sytax, allows 100,000 calculations in a single line of code"
   ]
  }
 ],
 "metadata": {
  "kernelspec": {
   "display_name": "Python 3",
   "language": "python",
   "name": "python3"
  },
  "language_info": {
   "codemirror_mode": {
    "name": "ipython",
    "version": 3
   },
   "file_extension": ".py",
   "mimetype": "text/x-python",
   "name": "python",
   "nbconvert_exporter": "python",
   "pygments_lexer": "ipython3",
   "version": "3.7.4"
  }
 },
 "nbformat": 4,
 "nbformat_minor": 4
}
