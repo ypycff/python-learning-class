{
 "cells": [
  {
   "cell_type": "markdown",
   "metadata": {},
   "source": [
    "<img style=\"float: right;\" width=\"120\" src=\"../Images/supplier-logo.png\">\n",
    "<img style=\"float: left; margin-top: 0\" width=\"80\" src=\"../Images/client-logo.png\">\n",
    "<br><br><br>\n"
   ]
  },
  {
   "cell_type": "markdown",
   "metadata": {},
   "source": [
    "# Calculate the Bollinger Band for\n",
    "\n",
    "> the month moving average of the Closing price for AAPL"
   ]
  },
  {
   "cell_type": "markdown",
   "metadata": {},
   "source": [
    "## Import the libraries "
   ]
  },
  {
   "cell_type": "code",
   "execution_count": null,
   "metadata": {},
   "outputs": [],
   "source": [
    "import pandas as pd\n",
    "import numpy as np\n",
    "import matplotlib.pyplot as plt\n",
    "%matplotlib inline"
   ]
  },
  {
   "cell_type": "markdown",
   "metadata": {},
   "source": [
    "## Load the data into a DataFrame\n"
   ]
  },
  {
   "cell_type": "code",
   "execution_count": null,
   "metadata": {},
   "outputs": [],
   "source": [
    "df = pd.read_excel(io='../Data/market_data.xls',\n",
    "                   sheet_name='AAPL',\n",
    "                   index_col='Date', \n",
    "                   parse_dates=True)"
   ]
  },
  {
   "cell_type": "markdown",
   "metadata": {},
   "source": [
    "## Check what has been imported into the DataFrame\n",
    "- Have a quick look at what we have read in\n",
    "- No right or wrong way to do this\n",
    "- Depends on your style, personal preferences, type of data being read in etc\n",
    "- A few examples\n",
    "> `df.tail()`\n",
    "`df.head()`\n",
    "`df.describe()`\n",
    "    \n",
    "**IMPORTANT**<br>\n",
    ">When working with DataFrames that have Dates as an index, make sure the date values are sorted in an ascending manner"
   ]
  },
  {
   "cell_type": "code",
   "execution_count": null,
   "metadata": {},
   "outputs": [],
   "source": [
    "df['Close'].pct_change().hist(bins=50)"
   ]
  },
  {
   "cell_type": "markdown",
   "metadata": {},
   "source": [
    "## Calculate the Bollinger Bands for the Adj. Close\n",
    "\n",
    "- **Middle Band** = Monthly moving average <br>\n",
    "- **Upper Band** = Monthly moving average + (Monthly standard deviation of price x 2) \n",
    "- **Lower Band** = Monthly moving average - (Monthly standard deviation of price x 2)"
   ]
  },
  {
   "cell_type": "code",
   "execution_count": null,
   "metadata": {},
   "outputs": [],
   "source": [
    "# 21 days is a good approximation of a single month\n",
    "df['30d mavg'] = df['Close'].rolling(window=21).mean()\n",
    "df['30d std'] = df['Close'].rolling(window=21).std()\n",
    "df['Upper Band'] = df['30d mavg'] + (df['30d std'] * 2)\n",
    "df['Lower Band'] = df['30d mavg'] - (df['30d std'] * 2)"
   ]
  },
  {
   "cell_type": "markdown",
   "metadata": {},
   "source": [
    "## Plot the results\n",
    "\n",
    "Use the matplot lib defaults\n",
    "\n",
    "A plot of the entire series of values"
   ]
  },
  {
   "cell_type": "code",
   "execution_count": null,
   "metadata": {},
   "outputs": [],
   "source": [
    "# create a list of the column names we are interested in plotting\n",
    "\n",
    "cols = ['30d mavg','Upper Band','Lower Band', 'Close']\n",
    "        \n",
    "df[cols]['2016'].plot()"
   ]
  },
  {
   "cell_type": "markdown",
   "metadata": {},
   "source": [
    "## Plot the results \n",
    "\n",
    "> of all data from the start of 2016 to the end of the series\n",
    "\n",
    "Here use Slice from '2016 to the end"
   ]
  },
  {
   "cell_type": "markdown",
   "metadata": {},
   "source": [
    "# Improve the presentation of the chart\n",
    "\n",
    "Here I am \n",
    "- 'shading' in the regions between the upper and lower bands\n",
    "- adding a title, a legend and some labels\n",
    "\n",
    "The important parts of the python code are\n",
    "\n",
    "> **style** - fivethirtyeight <br>\n",
    "**figsize** - dimensions of plot in inches. This is an approximation for computer screens but is more accurate for printing plots<br>\n",
    "**fill_between** - shades in areas betrween 2 lines"
   ]
  },
  {
   "cell_type": "code",
   "execution_count": null,
   "metadata": {},
   "outputs": [],
   "source": [
    "# create some variables\n",
    "col = 'Close'\n",
    "start = '2015'\n",
    "end = '2017'\n",
    "filename = \"../Data/market_data.xls\"\n",
    "secname = 'Apple'\n",
    "win = 21\n",
    "\n",
    "# read csv file into a dataframe\n",
    "df = pd.read_excel(io=filename,\n",
    "                   sheet_name='AAPL',\n",
    "                   index_col='Date',\n",
    "                   parse_dates=True)\n",
    "\n",
    "# create a new dataframe to store the data for the Bollinger Band\n",
    "df_Boll = pd.DataFrame()\n",
    "df_Boll[col] = df[col]\n",
    "df_Boll['M avg'] = df_Boll[col].rolling(window=win).mean()\n",
    "df_Boll['Upper'] = df_Boll['M avg'] + (2 * df[col].rolling(window=win).std())\n",
    "df_Boll['Lower'] = df_Boll['M avg'] - (2 * df[col].rolling(window=win).std())\n",
    "\n",
    "# set style, empty figure and axes\n",
    "plt.style.use('fivethirtyeight')\n",
    "fig = plt.figure(figsize=(12,6))\n",
    "ax = fig.add_subplot(111)\n",
    "\n",
    "# Get index values for the X axis for the DataFrame\n",
    "x_axis = df_Boll[start:end].index.get_level_values(0)\n",
    "\n",
    "# Plot shaded 'win' Day Bollinger Band for Facebook\n",
    "ax.fill_between(x_axis, \n",
    "                df_Boll[start:end]['Upper'], \n",
    "                df_Boll[start:end]['Lower'], \n",
    "                color='grey')\n",
    "\n",
    "ax.plot(x_axis, df_Boll[start:end][col], color='blue', lw=2)\n",
    "ax.plot(x_axis, df_Boll[start:end]['M avg'], color='black', lw=2)\n",
    "\n",
    "# Set Title & Show the Image\n",
    "ax.set_title(str(win) + ' Day Bollinger Band For ' + secname)\n",
    "ax.set_xlabel('Date (Year/Month)')\n",
    "ax.set_ylabel('Price(USD)')\n",
    "\n",
    "plt.show();\n"
   ]
  },
  {
   "cell_type": "markdown",
   "metadata": {},
   "source": [
    "# Make your code more resuable by converting it to a function\n",
    "\n",
    "Here I am \n",
    "- 'shading' in the regions between the upper and lower bands\n",
    "- adding a title, a legend and some labels\n",
    "\n",
    "The important parts of the python code are\n",
    "\n",
    "> **style** - fivethirtyeight <br>\n",
    "**figsize** - dimensions of plot in inches. This is an approximation for computer screens but is more accurate for printing plots<br>\n",
    "**fill_between** - shades in areas betrween 2 lines"
   ]
  },
  {
   "cell_type": "code",
   "execution_count": null,
   "metadata": {},
   "outputs": [],
   "source": [
    "def plotBollBand(filename, secname, col = 'Close', win = 21, start=None, end=None):\n",
    "    # read csv file into a dataframe\n",
    "    df = pd.read_excel(io=filename,\n",
    "                       sheet_name=secname,\n",
    "                       index_col='Date',\n",
    "                       parse_dates=True)\n",
    "\n",
    "    # create a new dataframe to store the data for the Bollinger Band\n",
    "    df_Boll = pd.DataFrame()\n",
    "    df_Boll[col] = df[col]\n",
    "    df_Boll['M avg'] = df_Boll[col].rolling(window=win).mean()\n",
    "    df_Boll['Upper'] = df_Boll['M avg'] + (2 * df[col].rolling(window=win).std())\n",
    "    df_Boll['Lower'] = df_Boll['M avg'] - (2 * df[col].rolling(window=win).std())\n",
    "\n",
    "    # set style, empty figure and axes\n",
    "    plt.style.use('fivethirtyeight')\n",
    "    fig = plt.figure(figsize=(12,6))\n",
    "    ax = fig.add_subplot(111)\n",
    "\n",
    "    # Get index values for the X axis for the DataFrame\n",
    "    x_axis = df_Boll[start:end].index.get_level_values(0)\n",
    "\n",
    "    # Plot shaded 'win' Day Bollinger Band for Facebook\n",
    "    ax.fill_between(x_axis, \n",
    "                    df_Boll[start:end]['Upper'], \n",
    "                    df_Boll[start:end]['Lower'], \n",
    "                    color='grey')\n",
    "\n",
    "    ax.plot(x_axis, df_Boll[start:end][col], color='blue', lw=2)\n",
    "    ax.plot(x_axis, df_Boll[start:end]['M avg'], color='black', lw=2)\n",
    "\n",
    "    # Set Title & Show the Image\n",
    "    ax.set_title(str(win) + ' Day Bollinger Band For ' + secname)\n",
    "    ax.set_xlabel('Date (Year/Month)')\n",
    "    ax.set_ylabel('Price(USD)')\n",
    "\n",
    "    plt.show();\n"
   ]
  },
  {
   "cell_type": "markdown",
   "metadata": {},
   "source": [
    "## Test with Google\n",
    "\n",
    "For example use the data for google but leave all other inputs as default"
   ]
  },
  {
   "cell_type": "code",
   "execution_count": null,
   "metadata": {},
   "outputs": [],
   "source": [
    "plotBollBand(filename='../Data/market_data.xls', secname='GOOGL')"
   ]
  },
  {
   "cell_type": "markdown",
   "metadata": {},
   "source": [
    "## Test with EURO Price of Silver\n",
    "\n",
    "For example use the data for SILVER but only for the period 2014 to 2016"
   ]
  },
  {
   "cell_type": "code",
   "execution_count": null,
   "metadata": {},
   "outputs": [],
   "source": [
    "plotBollBand(filename='../Data/commodities.xlsx', \n",
    "             secname='SILVER', \n",
    "             start='2014', \n",
    "             end = '2016',\n",
    "             col = 'EURO')"
   ]
  },
  {
   "cell_type": "markdown",
   "metadata": {},
   "source": [
    "## Test with JPM\n",
    "\n",
    "For example use the data for JPM but with the following parameters\n",
    "- start 2014\n",
    "- end - default\n",
    "- a 42 day rolling average\n",
    "- use the Volumne column"
   ]
  },
  {
   "cell_type": "code",
   "execution_count": null,
   "metadata": {},
   "outputs": [],
   "source": [
    "plotBollBand(filename='../Data/market_data.xls', \n",
    "             secname='JPM', \n",
    "             start='2014', \n",
    "             win=42,\n",
    "             col = 'Volume')"
   ]
  },
  {
   "cell_type": "markdown",
   "metadata": {},
   "source": [
    "# triple witching"
   ]
  },
  {
   "cell_type": "code",
   "execution_count": null,
   "metadata": {},
   "outputs": [],
   "source": []
  }
 ],
 "metadata": {
  "kernelspec": {
   "display_name": "Python 3",
   "language": "python",
   "name": "python3"
  },
  "language_info": {
   "codemirror_mode": {
    "name": "ipython",
    "version": 3
   },
   "file_extension": ".py",
   "mimetype": "text/x-python",
   "name": "python",
   "nbconvert_exporter": "python",
   "pygments_lexer": "ipython3",
   "version": "3.8.3"
  }
 },
 "nbformat": 4,
 "nbformat_minor": 4
}
