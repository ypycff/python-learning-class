{
 "cells": [
  {
   "cell_type": "markdown",
   "metadata": {},
   "source": [
    "<img style=\"float: right;\" width=\"120\" src=\"../Images/supplier-logo.png\">\n",
    "<img style=\"float: left; margin-top: 0\" width=\"80\" src=\"../Images/client-logo.png\">\n",
    "<br><br><br>\n"
   ]
  },
  {
   "cell_type": "markdown",
   "metadata": {},
   "source": [
    "# Quandl\n",
    "\n",
    "There is a plethora of web sites, web services that allow users to download all sorts of data in all manner of formats.\n",
    "\n",
    "e.g. Manual, Automated excel format, pdfs, word, json, csv and text and DataFrames!!!\n",
    "\n",
    "A very good website is https://www.quandl.com/\n",
    "\n",
    "This offers good quality data for free and for a fee.\n",
    "\n",
    "Log on, register and download data in a variety of formats.\n",
    "\n",
    "To use their APIs you need \n",
    "- the quandl package installed (either pip install or conda install)\n",
    "- an api_key"
   ]
  },
  {
   "cell_type": "markdown",
   "metadata": {},
   "source": [
    "# Import the packages\n",
    "\n",
    "For quandl and general purpose data analysis\n"
   ]
  },
  {
   "cell_type": "code",
   "execution_count": null,
   "metadata": {},
   "outputs": [],
   "source": [
    "# quandl\n",
    "import quandl\n",
    "\n",
    "# pandas\n",
    "import pandas as pd"
   ]
  },
  {
   "cell_type": "markdown",
   "metadata": {},
   "source": [
    "# Set your quandl API key\n",
    "\n",
    "For this you need an account registered with Quandl.\n",
    "\n",
    "Once registered, you will have an API key available fro your profile.\n",
    "\n",
    "This needs set once in each notebook or python program you execute"
   ]
  },
  {
   "cell_type": "code",
   "execution_count": null,
   "metadata": {},
   "outputs": [],
   "source": [
    "quandl.ApiConfig.api_key = \"YOUR API KEY HERE\" "
   ]
  },
  {
   "cell_type": "markdown",
   "metadata": {},
   "source": [
    "# Locating Datasets\n",
    "\n",
    "All data sets in quandl are grouped under different categories, \n",
    "for example\n",
    "- by asset class (Equities, FX, Fixed Income, Options ...)\n",
    "- by region ( NAM, Europe, China ...)\n",
    "- by data type (Price & Volume, National Statistics,  Corporate Actions, ...)\n",
    "- by publisher (Quandl, Barchart, Stevens, Zachs)\n",
    "\n",
    "Each individual dataset is given a 2 part identifier, a `KEY` and a `NAME`\n",
    "\n",
    "The `Key` is similar to a directory <br>\n",
    "The `Name` is best thoght of as a filename\n",
    "\n",
    "In order to locate a partifular dataset on quandl, you need its `Key` and its `Name`\n",
    "\n",
    "\n"
   ]
  },
  {
   "cell_type": "markdown",
   "metadata": {},
   "source": [
    "# Retrieving Data\n",
    "\n",
    "Very easy.<br>\n",
    "\n",
    "Use the `get()` method in quandl and pass in the full path of the dataset you are looking for <br>\n",
    "\n",
    "i.e. the `key` and the `name`"
   ]
  },
  {
   "cell_type": "markdown",
   "metadata": {},
   "source": [
    "## Retrieving Daily Stock prices\n",
    "\n",
    "Use the `WIKI` key\n",
    "This database offers stock prices, dividends and splits for 3000 US publicly-traded companies\n",
    "\n",
    "**NOTE**\n",
    "As of April 11, 2018 this data feed is no longer actively supported by the Quandl community.\n",
    "Continues to be hosted but is not kept up to date.\n"
   ]
  },
  {
   "cell_type": "code",
   "execution_count": null,
   "metadata": {},
   "outputs": [],
   "source": [
    "# Get Apple stocks\n",
    "df = quandl.get(\"WIKI/AAPL\")\n",
    "\n",
    "pd.concat( [df.head(), df.tail()] )\n"
   ]
  },
  {
   "cell_type": "markdown",
   "metadata": {},
   "source": [
    "Quandl can return data in 2 formats: \n",
    "\n",
    "- a pandas data series (\"pandas\") \n",
    "- a numpy array (\"numpy\"). \n",
    "\n",
    "`pandas DataFrame` is the default.\n",
    "\n",
    "Here's how you specify the format explicitly"
   ]
  },
  {
   "cell_type": "code",
   "execution_count": null,
   "metadata": {},
   "outputs": [],
   "source": [
    "nparr = quandl.get(\"WIKI/IBM\",returns=\"numpy\")\n",
    "\n",
    "nparr\n"
   ]
  },
  {
   "cell_type": "code",
   "execution_count": null,
   "metadata": {},
   "outputs": [],
   "source": [
    "df = quandl.get(\"WIKI/AMZN\",returns=\"pandas\")\n",
    "\n",
    "df.describe()\n"
   ]
  },
  {
   "cell_type": "markdown",
   "metadata": {},
   "source": [
    "You can specifiy a range of dates in the `get()` function\n"
   ]
  },
  {
   "cell_type": "code",
   "execution_count": null,
   "metadata": {},
   "outputs": [],
   "source": [
    "start = '2012'\n",
    "end = '2018'\n",
    "\n",
    "df = quandl.get(\"WIKI/C\",returns=\"pandas\")\n",
    "\n",
    "df.shape"
   ]
  },
  {
   "cell_type": "markdown",
   "metadata": {},
   "source": [
    "## Other Equites\n",
    "\n",
    "`EURONEXT` - Euronext <BR>\n",
    "`FSE` - Frankfurt Stock Exchange\n",
    "\n",
    "\n",
    "\n"
   ]
  },
  {
   "cell_type": "code",
   "execution_count": null,
   "metadata": {},
   "outputs": [],
   "source": [
    "df = quandl.get(\"EURONEXT/MLOCT\")\n",
    "df.tail()\n"
   ]
  },
  {
   "cell_type": "code",
   "execution_count": null,
   "metadata": {},
   "outputs": [],
   "source": [
    "# Tom Taylor Holding\n",
    "df = quandl.get(\"FSE/TTI_X\")\n",
    "df.tail()\n"
   ]
  },
  {
   "cell_type": "markdown",
   "metadata": {},
   "source": [
    "## Filtering Data\n",
    "\n",
    "- Specific Date Range:\n",
    "\n",
    "- Frequency Change:\n",
    "\n",
    "- Transformations:\n",
    "\n",
    "- Return last n rows:\n"
   ]
  },
  {
   "cell_type": "markdown",
   "metadata": {},
   "source": [
    "### Specific Date Range"
   ]
  },
  {
   "cell_type": "code",
   "execution_count": null,
   "metadata": {},
   "outputs": [],
   "source": [
    "df = quandl.get(\"NSE/OIL\", trim_start=\"2012-12-12\", trim_end=\"2013-03-17\")\n",
    "\n",
    "df.head()"
   ]
  },
  {
   "cell_type": "markdown",
   "metadata": {},
   "source": [
    "### Frequency Change"
   ]
  },
  {
   "cell_type": "code",
   "execution_count": null,
   "metadata": {},
   "outputs": [],
   "source": [
    "df = quandl.get(\"NSE/OIL\", collapse=\"daily\")\n",
    "print (\"Daily shape\", df.shape)\n",
    "\n",
    "df = quandl.get(\"NSE/OIL\", collapse=\"weekly\")\n",
    "print (\"Weekly shape\", df.shape)\n",
    "\n",
    "df = quandl.get(\"NSE/OIL\", collapse=\"monthly\")\n",
    "print (\"Monthyl shape\", df.shape)\n",
    "\n",
    "df = quandl.get(\"NSE/OIL\", collapse=\"quarterly\")\n",
    "print (\"Quarterly shape\", df.shape)\n",
    "\n",
    "df = quandl.get(\"NSE/OIL\", collapse=\"annual\")\n",
    "print (\"Annual shape\", df.shape)"
   ]
  },
  {
   "cell_type": "markdown",
   "metadata": {},
   "source": [
    "### Transformations"
   ]
  },
  {
   "cell_type": "code",
   "execution_count": null,
   "metadata": {},
   "outputs": [],
   "source": [
    "df_cumul.head()"
   ]
  },
  {
   "cell_type": "code",
   "execution_count": null,
   "metadata": {},
   "outputs": [],
   "source": [
    "df_orig = quandl.get(\"FMAC/30US\")\n",
    "df_diff = quandl.get(\"FMAC/30US\", transformation=\"diff\")\n",
    "df_rdiff = quandl.get(\"FMAC/30US\", transformation=\"rdiff\")\n",
    "df_normalize = quandl.get(\"FMAC/30US\", transformation=\"normalize\")\n",
    "df_cumul = quandl.get(\"FMAC/30US\", transformation=\"cumul\")\n",
    "\n",
    "df_Transformed = pd.DataFrame()\n",
    "df_Transformed['Orig'] = df_orig['Value']\n",
    "df_Transformed['Diff'] = df_diff['Value']\n",
    "df_Transformed['Rdiff'] = df_rdiff['Value']\n",
    "df_Transformed['Normalize'] = df_normalize['Value']\n",
    "df_Transformed['Cumul'] = df_cumul['Value']\n",
    "\n",
    "df_Transformed.tail(10)"
   ]
  },
  {
   "cell_type": "markdown",
   "metadata": {},
   "source": [
    "### Return last n rows\n",
    "e.g. Minneapolis HRWI Hard Red Wheat Futures, Continuous Contract (IH1) (Front Month)"
   ]
  },
  {
   "cell_type": "code",
   "execution_count": null,
   "metadata": {},
   "outputs": [],
   "source": [
    "mydata = quandl.get(\"CHRIS/MGEX_IH1\", rows=5)\n",
    "\n",
    "mydata"
   ]
  },
  {
   "cell_type": "markdown",
   "metadata": {},
   "source": [
    "## Specific Columns of Data"
   ]
  },
  {
   "cell_type": "code",
   "execution_count": null,
   "metadata": {},
   "outputs": [],
   "source": [
    "# the 4th columnfrom NSE/OIL\n",
    "df_oil = quandl.get(\"NSE/OIL.4\")\n",
    "\n",
    "\n",
    "# the 1st column from WIKI/APPL\n",
    "df_appl = quandl.get(\"WIKI/AAPL.1\")\n",
    "\n",
    "df_appl.head()"
   ]
  },
  {
   "cell_type": "markdown",
   "metadata": {},
   "source": [
    "## Multiple datasets in a single call "
   ]
  },
  {
   "cell_type": "code",
   "execution_count": null,
   "metadata": {},
   "outputs": [],
   "source": [
    "datasets = [\"NSE/OIL.4\",\"WIKI/AAPL.1\"]\n",
    "df = quandl.get(datasets)\n",
    "\n",
    "df.tail()"
   ]
  },
  {
   "cell_type": "markdown",
   "metadata": {},
   "source": [
    "# Retrieving Tables\n",
    "\n",
    "To request specific columns\n",
    "\n",
    "e.g from Zacks Fundamentals Collection B (ZFB) \n",
    "- over 200 fundamental indicators, including income statement, balance sheet, cash flow line items and precalculated ratios\n",
    "- for over 17,000 US and Canadian Equities, including 9,000+ delisted stocks.\n"
   ]
  },
  {
   "cell_type": "code",
   "execution_count": null,
   "metadata": {},
   "outputs": [],
   "source": [
    "df = quandl.get_table('ZACKS/FC')\n",
    "\n",
    "df.shape"
   ]
  },
  {
   "cell_type": "markdown",
   "metadata": {},
   "source": [
    "## Request Specific Columns\n",
    "\n",
    "use the `qopts` parameter and pass in a dictionary with the columns of interest"
   ]
  },
  {
   "cell_type": "code",
   "execution_count": null,
   "metadata": {},
   "outputs": [],
   "source": [
    "cols = {\n",
    "    'columns': ['ticker', 'per_end_date']\n",
    "}\n",
    "\n",
    "df = quandl.get_table('ZACKS/FC', ticker='AAPL', qopts=cols)\n",
    "\n",
    "df.head()"
   ]
  },
  {
   "cell_type": "markdown",
   "metadata": {},
   "source": [
    "## Filtering Based on a colum"
   ]
  },
  {
   "cell_type": "code",
   "execution_count": null,
   "metadata": {},
   "outputs": [],
   "source": [
    "tickers = ['AAPL', 'MSFT']\n",
    "\n",
    "fltr = {\n",
    "    'gte': '2015-01-01'\n",
    "}\n",
    "\n",
    "cols = {\n",
    "    'columns':['ticker', 'per_end_date']\n",
    "}\n",
    "\n",
    "df = quandl.get_table('ZACKS/FC', ticker=tickers, per_end_date=fltr, qopts=cols)\n",
    "\n",
    "df"
   ]
  },
  {
   "cell_type": "code",
   "execution_count": null,
   "metadata": {},
   "outputs": [],
   "source": []
  }
 ],
 "metadata": {
  "kernelspec": {
   "display_name": "Python 3",
   "language": "python",
   "name": "python3"
  },
  "language_info": {
   "codemirror_mode": {
    "name": "ipython",
    "version": 3
   },
   "file_extension": ".py",
   "mimetype": "text/x-python",
   "name": "python",
   "nbconvert_exporter": "python",
   "pygments_lexer": "ipython3",
   "version": "3.7.4"
  }
 },
 "nbformat": 4,
 "nbformat_minor": 4
}
