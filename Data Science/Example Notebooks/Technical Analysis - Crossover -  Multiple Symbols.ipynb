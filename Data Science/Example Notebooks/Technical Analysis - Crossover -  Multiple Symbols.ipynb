{
 "cells": [
  {
   "cell_type": "markdown",
   "metadata": {},
   "source": [
    "<img style=\"float: right;\" width=\"120\" src=\"../Images/supplier-logo.png\">\n",
    "<img style=\"float: left; margin-top: 0\" width=\"80\" src=\"../Images/client-logo.png\">\n",
    "<br><br><br>\n",
    "\n",
    "\n",
    "# Overview\n",
    "\n",
    "This is a set of python and pandas routines intended to demonstrate how quickly (and easy) it is to pull together some very simple, yet effective analytics to do reasonably complex tasks"
   ]
  },
  {
   "cell_type": "markdown",
   "metadata": {},
   "source": [
    "# Load in the libraries\n",
    "\n",
    "In addition to the standard libraries of pandas, numpy and matplotlib, we will need some other libraries."
   ]
  },
  {
   "cell_type": "code",
   "execution_count": null,
   "metadata": {},
   "outputs": [],
   "source": [
    "import matplotlib.pyplot as plt\n",
    "import pandas as pd\n",
    "import numpy as np\n"
   ]
  },
  {
   "cell_type": "code",
   "execution_count": null,
   "metadata": {},
   "outputs": [],
   "source": [
    "# the python package to follow a URL and return its results\n",
    "import requests\n",
    "\n",
    "# beautiful soup - for web scraping\n",
    "import bs4 as bs\n",
    "\n",
    "resp = requests.get('https://en.wikipedia.org/wiki/List_of_S%26P_500_companies')\n",
    "soup = bs.BeautifulSoup(resp.text, 'lxml')\n",
    "table = soup.find('table', {'class':'wikitable sortable'})\n",
    "\n",
    "tickers = []\n",
    "\n",
    "for row in table.findAll('tr')[1:]:\n",
    "    ticker = row.findAll('td')[0].text\n",
    "    tickers.append(ticker)\n",
    "\n",
    "tickers"
   ]
  },
  {
   "cell_type": "markdown",
   "metadata": {},
   "source": [
    "# Financial Data from the internet\n",
    "\n",
    "There is a plethora of web sites, web services that allow users to download all sorts of data in all manner of formats.\n",
    "\n",
    "e.g. Manual, Automated\n",
    "excel format, pdfs, word, json, csv and text and **DataFrames!!!**\n",
    "\n",
    "A very good website is https://www.quandl.com/\n",
    "\n",
    "This offers good quality data for free and for a fee.\n",
    "\n",
    "Log on, register and download data in a variety of formats.\n",
    "\n",
    "To use their APIs you need an api_key"
   ]
  },
  {
   "cell_type": "code",
   "execution_count": null,
   "metadata": {},
   "outputs": [],
   "source": [
    "import quandl\n",
    "\n",
    "quandl.ApiConfig.api_key = \"YOUR API KEY HERE\" "
   ]
  },
  {
   "cell_type": "code",
   "execution_count": null,
   "metadata": {},
   "outputs": [],
   "source": [
    "quandl.get('NSE/RELIANCE', start_date = '2017-JAN-01', end_date='2019-JAN-24')\n",
    "quandl.get('OPEC/ORB', start_date='2009-01-23', end_date='2019-01-24')\n",
    "quandl.get('LBMA/GOLD', start_date='2018-01-01', end_date='2019-01-23')\n",
    "quandl.get('WIKI/IBM', start_date='2018-01-01', end_date='2019-01-23')"
   ]
  },
  {
   "cell_type": "code",
   "execution_count": null,
   "metadata": {},
   "outputs": [],
   "source": [
    "def getData(start, end, symbol):\n",
    "    data = 'WIKI/'+ symbol\n",
    "\n",
    "    return quandl.get(dataset = data, start_date = start, end_date = end)"
   ]
  },
  {
   "cell_type": "code",
   "execution_count": null,
   "metadata": {},
   "outputs": [],
   "source": [
    "df = getData(\"2000-01-01\", \"2018-12-31\",\"C\")\n",
    "\n",
    "df.head()"
   ]
  },
  {
   "cell_type": "code",
   "execution_count": null,
   "metadata": {},
   "outputs": [],
   "source": [
    "df[['Adj. Close']].plot()"
   ]
  },
  {
   "cell_type": "markdown",
   "metadata": {},
   "source": [
    "# Technical Analysis\n",
    "\n",
    "A Very simple piece of technical analysis based on comparing 2 month and 1 year rolling averages for a single symbol"
   ]
  },
  {
   "cell_type": "code",
   "execution_count": null,
   "metadata": {},
   "outputs": [],
   "source": [
    "# Based on a 2 month (42 day) and a 1 year (252 trading day)\n",
    "df_SPX = pd.read_csv('../Data/Indices/SP500.csv', index_col='Date', parse_dates=True)\n",
    "df_SPX = df_SPX.sort_index(ascending=True)\n",
    "\n",
    "# Need to change strings to numerics - quite often needed to be done when loading data from files\n",
    "df_SPX['Price'] = pd.to_numeric(df_SPX['Price'].str.replace(',',''))\n",
    "\n",
    "# Calculate Rolling Averages\n",
    "# Based on a 2 month (42 day) and a 1 year (252 trading day)\n",
    "x42 = df_SPX['Price'].rolling(42).mean()\n",
    "x252 = df_SPX['Price'].rolling(252).mean()\n",
    "\n",
    "df_SPX['42d'] = np.round(x42,2)\n",
    "df_SPX['252d'] = np.round(x252,2)\n",
    "\n",
    "# Simple plot\n",
    "cols = ['Price','42d', '252d']\n",
    "df_SPX[cols].plot(figsize=(18,9))"
   ]
  },
  {
   "cell_type": "markdown",
   "metadata": {},
   "source": [
    "## Plot the Regime\n",
    "\n",
    "Again a quick eyeball of what we have done aids understanding.\n",
    "\n",
    "This plot is the beginning of how we generate our buy/sell/hold signals\n"
   ]
  },
  {
   "cell_type": "code",
   "execution_count": null,
   "metadata": {},
   "outputs": [],
   "source": [
    "# Take the difference between the long (252d) and short (42d) rolling averages\n",
    "df_SPX['Diff'] = df_SPX['42d'] - df_SPX['252d']\n",
    "\n",
    "# Plot this, this is the basis of our trading regime\n",
    "df_SPX['Diff'].plot(grid=True)"
   ]
  },
  {
   "cell_type": "markdown",
   "metadata": {},
   "source": [
    "## Add the rules of a Trading Regime\n",
    "\n",
    "Add a new column called 'Regime'\n",
    "\n",
    "The trading regime here is based on the following rule.\n",
    "\n",
    "- Generate a LONG signal when the 42-252 day difference first passes the **3% threshhold ** \n",
    "- Generate a SHORT signal when the 42-252 day difference first passes the ** - 3% threshhold ** \n",
    "- Generate a HOLD signal (convert to cash) when the 42-252 day difference first enters the ** +/- 3% band ** \n",
    "\n",
    "The encoding for the Regime is\n",
    "- 1 ==> Long\n",
    "- -1 ==> Short\n",
    "- 0 ===> Hold\n",
    "\n",
    "Note I am using the np.where function here - there are many other ways to do this but the vector arithmetic in numpy fits extremely well with the rows and columns of pandas DataFrames.\n"
   ]
  },
  {
   "cell_type": "code",
   "execution_count": null,
   "metadata": {},
   "outputs": [],
   "source": [
    "# 3 %\n",
    "threshold = 0.03\n",
    "    \n",
    "df_SPX['Regime'] = np.where(df_SPX['Diff'] / df_SPX['252d'] > threshold, 1, 0)\n",
    "df_SPX['Regime'] = np.where(df_SPX['Diff'] / df_SPX['252d'] < -threshold, -1, df_SPX['Regime'])"
   ]
  },
  {
   "cell_type": "markdown",
   "metadata": {},
   "source": [
    "## Plot the trading signals\n",
    "\n",
    "This plot basically tells us when to go Long, Short or Hold.\n",
    "\n",
    "e.g. It says hold in cash from start of 2006.<br>\n",
    "Go LONG around early 2007 and stay there im ner enf of 2007<br>\n",
    "Go to HOLD for a short period, then go LONG, then go to HOLD shorly after.<br>\n",
    "etc etc etc\n",
    "\n",
    "over the oeriod 2006 to 2018 - this strategy has generated about 20 trading signals"
   ]
  },
  {
   "cell_type": "code",
   "execution_count": null,
   "metadata": {},
   "outputs": [],
   "source": [
    "df_SPX['Regime'].plot(figsize=(18,6))"
   ]
  },
  {
   "cell_type": "markdown",
   "metadata": {},
   "source": [
    "## Back test\n",
    "\n",
    "2 new columns \n",
    "- 'Market' - how the SP500 performed during this period\n",
    "- 'Strategy' = how our trading strategy performed during this period\n",
    "\n",
    "Use log of differences to calculate performance of the market\n",
    "Our strategy's performance is the prodct of market performance and our regime."
   ]
  },
  {
   "cell_type": "code",
   "execution_count": null,
   "metadata": {},
   "outputs": [],
   "source": [
    "df_SPX['Market'] = np.log(df_SPX['Price'] / df_SPX['Price'].shift(1))\n",
    "df_SPX['Strategy'] = df_SPX['Regime'].shift(1) * df_SPX['Market']"
   ]
  },
  {
   "cell_type": "markdown",
   "metadata": {},
   "source": [
    "## Plot the results\n",
    "\n",
    "A simple plot of market vs strategy shows how well the strategy perfomred against the market.\n",
    "\n",
    "Calculate a continuous accumulation of the returns (np.exp)\n",
    "\n",
    "The strategy \n",
    "- slightly underperforms at the start of the analysis period\n",
    "- significantly out performs the market between middle 2008 thru to start of 2013\n",
    "- slightly outperforms the market significantly during form 2013 to 2016\n",
    "- slighly underperfoms between 2016 to present day\n"
   ]
  },
  {
   "cell_type": "code",
   "execution_count": null,
   "metadata": {},
   "outputs": [],
   "source": [
    "df_SPX[['Market', 'Strategy']].cumsum().apply(np.exp).plot(grid=True)"
   ]
  },
  {
   "cell_type": "markdown",
   "metadata": {},
   "source": [
    "## Refinements\n",
    "\n",
    "- The 3% threshhold is arbritary <br>\n",
    "This could change and make quite a difference. <br>\n",
    "e.g Upper is 3%, lower is 2% \n",
    "The values of Upper and lower threshholds could also vary over time based on other factors\n",
    "\n",
    "\n",
    "- Add in costs eg tnx costs<br>\n",
    "This strategy does not generate too many trading signals so txn cost not that significant.\n",
    "\n",
    "\n",
    "- Operational isses - Trade Execution<br>\n",
    "This example only works with closing values - could expand it to further refine when to exit the market (same day, COB close, next day Open etc et)\n",
    "\n",
    "\n"
   ]
  },
  {
   "cell_type": "markdown",
   "metadata": {},
   "source": [
    "# Pulling it all together\n",
    "\n",
    "Can we \n",
    "\n",
    "- Go to Wikipedia and get all the symbols for the SP500\n",
    "\n",
    "- Get closing day stock prices for these symbols (or a sub set of them)\n",
    "\n",
    "- Perform technical analysis and back test for each of these sysmbols\n",
    "\n",
    "- Compare symbols against each other.\n",
    "\n",
    "**Of Course**"
   ]
  },
  {
   "cell_type": "markdown",
   "metadata": {},
   "source": [
    "##  Write a function that scrapes symbols from Wikipedia"
   ]
  },
  {
   "cell_type": "code",
   "execution_count": null,
   "metadata": {},
   "outputs": [],
   "source": [
    "# the python package to follow a URL and return its results\n",
    "import requests\n",
    "\n",
    "# beautiful soup - for web scraping\n",
    "import bs4 as bs\n",
    "\n",
    "def getSP500Symbols():\n",
    "    resp = requests.get('https://en.wikipedia.org/wiki/List_of_S%26P_500_companies')\n",
    "    soup = bs.BeautifulSoup(resp.text, 'lxml')\n",
    "    table = soup.find('table', {'class':'wikitable sortable'})\n",
    "\n",
    "    tickers = []\n",
    "\n",
    "    for row in table.findAll('tr')[1:]:\n",
    "        ticker = row.findAll('td')[0].text\n",
    "        tickers.append(ticker)\n",
    "\n",
    "    return tickers"
   ]
  },
  {
   "cell_type": "markdown",
   "metadata": {},
   "source": [
    "##  Write a function that performs some technical analysis"
   ]
  },
  {
   "cell_type": "code",
   "execution_count": null,
   "metadata": {},
   "outputs": [],
   "source": [
    "def perform_TA(start, end, symbol, threshold):\n",
    "    \n",
    "    # Load in data from somewhere. e.g. quandle, bloomberg, etc etc\n",
    "    df = getData(start, end, symbol)\n",
    "    \n",
    "    # Based on a 2 month (42 day) and a 1 year (252) trading days (trend)\n",
    "    x42 = df['Adj. Close'].rolling(42).mean()\n",
    "    x252 = df['Adj. Close'].rolling(252).mean()\n",
    "    df['42d'] = np.round(x42,2)\n",
    "    df['252d'] = np.round(x252,2)\n",
    "    \n",
    "    # Store the difference between the short term and the long term\n",
    "    df['42d-252d'] = df['42d'] - df['252d']\n",
    "    \n",
    "    # set the regime\n",
    "    df['Regime'] = np.where(df['42d-252d'] / df['252d']> threshold, 1, 0)\n",
    "    df['Regime'] = np.where(df['42d-252d'] / df['252d'] < -threshold, -1, df['Regime'])\n",
    "    \n",
    "    df['Market'] = np.log(df['Adj. Close'] / df['Adj. Close'].shift(1))\n",
    "    df['Strategy'] = df['Regime'].shift(1) * df['Market']\n",
    "    \n",
    "    # Create a new DataFrame just to store the results and return this to the call site\n",
    "    df_Res = pd.DataFrame()\n",
    "    \n",
    "    df_Res['Market'] = np.log(df['Adj. Close'] / df['Adj. Close'].shift(1))\n",
    "    df_Res['Strategy'] = df['Regime'].shift(1) * df['Market']\n",
    "    \n",
    "    return df_Res"
   ]
  },
  {
   "cell_type": "markdown",
   "metadata": {},
   "source": [
    "## Pull it all together"
   ]
  },
  {
   "cell_type": "code",
   "execution_count": null,
   "metadata": {},
   "outputs": [],
   "source": [
    "ta_results = {}\n",
    "\n",
    "# Get some symbols / tickers that we want to use\n",
    "\n",
    "# This will perform a web scrape\n",
    "#tickers = getSP500Symbols()\n",
    "\n",
    "# For demonstration purposes, just use a small subset of symbols\n",
    "\n",
    "tickers = ['GM','AAPL', 'JPM', 'C', 'MMM', 'AMZN', 'GOOGL']\n",
    "\n",
    "start = \"2000-Jan-01\"\n",
    "end = \"2018-Feb-28\"\n",
    "\n",
    "for ticker in tickers:\n",
    "    df = perform_TA(start, end, ticker, 0.03)\n",
    "    ta_results[ticker] = df"
   ]
  },
  {
   "cell_type": "markdown",
   "metadata": {},
   "source": [
    "## Try it out"
   ]
  },
  {
   "cell_type": "code",
   "execution_count": null,
   "metadata": {},
   "outputs": [],
   "source": [
    "df = ta_results['C']\n",
    "\n",
    "df[['Market', 'Strategy']].cumsum().apply(np.exp).plot(grid=True)"
   ]
  },
  {
   "cell_type": "code",
   "execution_count": null,
   "metadata": {},
   "outputs": [],
   "source": [
    "df2 = pd.DataFrame()\n",
    "\n",
    "df2['GM'] = ta_results['GM']['Market']\n",
    "df2['AAPL'] = ta_results['AAPL']['Market']\n",
    "df2['C'] = ta_results['C']['Market']\n",
    "df2['JPM'] = ta_results['JPM']['Market']\n",
    "df2['AMZN'] = ta_results['AMZN']['Market']\n",
    "df2['MMM'] = ta_results['MMM']['Market']\n",
    "df2['GOOGL'] = ta_results['GOOGL']['Market']\n",
    "\n",
    "df2.cumsum().apply(np.exp).plot(grid=True, figsize=(18,9))"
   ]
  },
  {
   "cell_type": "code",
   "execution_count": null,
   "metadata": {},
   "outputs": [],
   "source": [
    "df2 = pd.DataFrame()\n",
    "\n",
    "df2['GM'] = ta_results['GM']['Strategy']\n",
    "df2['AAPL'] = ta_results['AAPL']['Strategy']\n",
    "df2['C'] = ta_results['C']['Strategy']\n",
    "df2['JPM'] = ta_results['JPM']['Strategy']\n",
    "df2['AMZN'] = ta_results['AMZN']['Strategy']\n",
    "df2['MMM'] = ta_results['MMM']['Strategy']\n",
    "df2['GOOGL'] = ta_results['GOOGL']['Strategy']\n",
    "\n",
    "df2.cumsum().apply(np.exp).plot(grid=True, figsize=(18,9))"
   ]
  },
  {
   "cell_type": "code",
   "execution_count": null,
   "metadata": {},
   "outputs": [],
   "source": [
    "ta_results['C']['Market'].cumsum().apply(np.exp).plot()"
   ]
  },
  {
   "cell_type": "code",
   "execution_count": null,
   "metadata": {},
   "outputs": [],
   "source": []
  }
 ],
 "metadata": {
  "kernelspec": {
   "display_name": "Python 3",
   "language": "python",
   "name": "python3"
  },
  "language_info": {
   "codemirror_mode": {
    "name": "ipython",
    "version": 3
   },
   "file_extension": ".py",
   "mimetype": "text/x-python",
   "name": "python",
   "nbconvert_exporter": "python",
   "pygments_lexer": "ipython3",
   "version": "3.8.3"
  }
 },
 "nbformat": 4,
 "nbformat_minor": 2
}
