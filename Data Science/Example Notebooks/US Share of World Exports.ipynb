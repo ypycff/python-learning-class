{
 "cells": [
  {
   "cell_type": "markdown",
   "metadata": {},
   "source": [
    "<img style=\"float: right;\" width=\"120\" src=\"../Images/supplier-logo.png\">\n",
    "<img style=\"float: left; margin-top: 0\" width=\"80\" src=\"../Images/client-logo.png\">\n",
    "<br><br><br>"
   ]
  },
  {
   "cell_type": "markdown",
   "metadata": {},
   "source": [
    "## Introduction ##\n",
    "\n",
    "The International Monetary Fund (IMF) Statistics Department (STA) allows API access to their economic time series. \n",
    "\n",
    "Well-known datasets such as International Financial Statistics (IFS) can be machine read through the API. \n",
    "\n",
    "This example will use \n",
    "- Python to retrieve Direction of Trade Statistics (DOTS) \n",
    "- data from STA’s JSON RESTful Web Service <br>\n",
    "\n",
    "so that we can determine the United States’ share of world exports over the past 50 years.\n",
    "\n",
    "\n",
    "\n"
   ]
  },
  {
   "cell_type": "markdown",
   "metadata": {},
   "source": [
    "## Load in the libraries ##"
   ]
  },
  {
   "cell_type": "code",
   "execution_count": 1,
   "metadata": {},
   "outputs": [],
   "source": [
    "import requests\n",
    "import pandas as pd"
   ]
  },
  {
   "cell_type": "markdown",
   "metadata": {},
   "source": [
    "## Find the name of the series we are interested in ##\n",
    "\n",
    "In this example its DOT\n"
   ]
  },
  {
   "cell_type": "code",
   "execution_count": 2,
   "metadata": {},
   "outputs": [],
   "source": [
    "# Find the series id and text name.\n",
    "url = 'http://dataservices.imf.org/REST/SDMX_JSON.svc/Dataflow'\n",
    "seriesids = requests.get(url)\n",
    "\n",
    "data = seriesids.json()['Structure']['Dataflows']['Dataflow']\n",
    "\n",
    "df = pd.DataFrame(data)"
   ]
  },
  {
   "cell_type": "code",
   "execution_count": 3,
   "metadata": {},
   "outputs": [
    {
     "data": {
      "text/html": [
       "<div>\n",
       "<style scoped>\n",
       "    .dataframe tbody tr th:only-of-type {\n",
       "        vertical-align: middle;\n",
       "    }\n",
       "\n",
       "    .dataframe tbody tr th {\n",
       "        vertical-align: top;\n",
       "    }\n",
       "\n",
       "    .dataframe thead th {\n",
       "        text-align: right;\n",
       "    }\n",
       "</style>\n",
       "<table border=\"1\" class=\"dataframe\">\n",
       "  <thead>\n",
       "    <tr style=\"text-align: right;\">\n",
       "      <th></th>\n",
       "      <th>@id</th>\n",
       "      <th>@version</th>\n",
       "      <th>@agencyID</th>\n",
       "      <th>@isFinal</th>\n",
       "      <th>@xmlns</th>\n",
       "      <th>Name</th>\n",
       "      <th>KeyFamilyRef</th>\n",
       "      <th>Description</th>\n",
       "    </tr>\n",
       "  </thead>\n",
       "  <tbody>\n",
       "    <tr>\n",
       "      <th>0</th>\n",
       "      <td>DS-BOP_2017M06</td>\n",
       "      <td>1.0</td>\n",
       "      <td>IMF</td>\n",
       "      <td>true</td>\n",
       "      <td>http://www.SDMX.org/resources/SDMXML/schemas/v...</td>\n",
       "      <td>{'@xml:lang': 'en', '#text': 'Balance of Payme...</td>\n",
       "      <td>{'KeyFamilyID': 'BOP_2017M06', 'KeyFamilyAgenc...</td>\n",
       "      <td>NaN</td>\n",
       "    </tr>\n",
       "    <tr>\n",
       "      <th>1</th>\n",
       "      <td>DS-BOP_2020M3</td>\n",
       "      <td>1.0</td>\n",
       "      <td>IMF</td>\n",
       "      <td>true</td>\n",
       "      <td>http://www.SDMX.org/resources/SDMXML/schemas/v...</td>\n",
       "      <td>{'@xml:lang': 'en', '#text': 'Balance of Payme...</td>\n",
       "      <td>{'KeyFamilyID': 'BOP_2020M3', 'KeyFamilyAgency...</td>\n",
       "      <td>NaN</td>\n",
       "    </tr>\n",
       "    <tr>\n",
       "      <th>2</th>\n",
       "      <td>DS-BOP_2017M11</td>\n",
       "      <td>1.0</td>\n",
       "      <td>IMF</td>\n",
       "      <td>true</td>\n",
       "      <td>http://www.SDMX.org/resources/SDMXML/schemas/v...</td>\n",
       "      <td>{'@xml:lang': 'en', '#text': 'Balance of Payme...</td>\n",
       "      <td>{'KeyFamilyID': 'BOP_2017M11', 'KeyFamilyAgenc...</td>\n",
       "      <td>NaN</td>\n",
       "    </tr>\n",
       "    <tr>\n",
       "      <th>3</th>\n",
       "      <td>DS-DOT_2020Q1</td>\n",
       "      <td>1.0</td>\n",
       "      <td>IMF</td>\n",
       "      <td>true</td>\n",
       "      <td>http://www.SDMX.org/resources/SDMXML/schemas/v...</td>\n",
       "      <td>{'@xml:lang': 'en', '#text': 'Direction of Tra...</td>\n",
       "      <td>{'KeyFamilyID': 'DOT_2020Q1', 'KeyFamilyAgency...</td>\n",
       "      <td>NaN</td>\n",
       "    </tr>\n",
       "    <tr>\n",
       "      <th>4</th>\n",
       "      <td>DS-GFSMAB2016</td>\n",
       "      <td>1.0</td>\n",
       "      <td>IMF</td>\n",
       "      <td>true</td>\n",
       "      <td>http://www.SDMX.org/resources/SDMXML/schemas/v...</td>\n",
       "      <td>{'@xml:lang': 'en', '#text': 'Government Finan...</td>\n",
       "      <td>{'KeyFamilyID': 'GFSMAB2016', 'KeyFamilyAgency...</td>\n",
       "      <td>NaN</td>\n",
       "    </tr>\n",
       "  </tbody>\n",
       "</table>\n",
       "</div>"
      ],
      "text/plain": [
       "              @id @version @agencyID @isFinal  \\\n",
       "0  DS-BOP_2017M06      1.0       IMF     true   \n",
       "1   DS-BOP_2020M3      1.0       IMF     true   \n",
       "2  DS-BOP_2017M11      1.0       IMF     true   \n",
       "3   DS-DOT_2020Q1      1.0       IMF     true   \n",
       "4   DS-GFSMAB2016      1.0       IMF     true   \n",
       "\n",
       "                                              @xmlns  \\\n",
       "0  http://www.SDMX.org/resources/SDMXML/schemas/v...   \n",
       "1  http://www.SDMX.org/resources/SDMXML/schemas/v...   \n",
       "2  http://www.SDMX.org/resources/SDMXML/schemas/v...   \n",
       "3  http://www.SDMX.org/resources/SDMXML/schemas/v...   \n",
       "4  http://www.SDMX.org/resources/SDMXML/schemas/v...   \n",
       "\n",
       "                                                Name  \\\n",
       "0  {'@xml:lang': 'en', '#text': 'Balance of Payme...   \n",
       "1  {'@xml:lang': 'en', '#text': 'Balance of Payme...   \n",
       "2  {'@xml:lang': 'en', '#text': 'Balance of Payme...   \n",
       "3  {'@xml:lang': 'en', '#text': 'Direction of Tra...   \n",
       "4  {'@xml:lang': 'en', '#text': 'Government Finan...   \n",
       "\n",
       "                                        KeyFamilyRef Description  \n",
       "0  {'KeyFamilyID': 'BOP_2017M06', 'KeyFamilyAgenc...         NaN  \n",
       "1  {'KeyFamilyID': 'BOP_2020M3', 'KeyFamilyAgency...         NaN  \n",
       "2  {'KeyFamilyID': 'BOP_2017M11', 'KeyFamilyAgenc...         NaN  \n",
       "3  {'KeyFamilyID': 'DOT_2020Q1', 'KeyFamilyAgency...         NaN  \n",
       "4  {'KeyFamilyID': 'GFSMAB2016', 'KeyFamilyAgency...         NaN  "
      ]
     },
     "execution_count": 3,
     "metadata": {},
     "output_type": "execute_result"
    }
   ],
   "source": [
    "df.head()"
   ]
  },
  {
   "cell_type": "code",
   "execution_count": 4,
   "metadata": {},
   "outputs": [
    {
     "name": "stdout",
     "output_type": "stream",
     "text": [
      "DS-BOP_2017M06: Balance of Payments (BOP), 2017 M06\n",
      "DS-BOP_2020M3: Balance of Payments (BOP), 2020 M03\n",
      "DS-BOP_2017M11: Balance of Payments (BOP), 2017 M11\n",
      "DS-DOT_2020Q1: Direction of Trade Statistics (DOTS), 2020 Q1\n",
      "DS-GFSMAB2016: Government Finance Statistics Yearbook (GFSY 2016), Main Aggregates and Balances\n",
      "DS-BOP_2019M12: Balance of Payments (BOP), 2019 M12\n",
      "DS-GFSYFALCS2014: Government Finance Statistics Yearbook (GFSY 2014), Financial Assets and Liabilities by Counterpart Sector\n",
      "DS-GFSE2016: Government Finance Statistics Yearbook (GFSY 2016), Expense\n",
      "DS-FM201510: Fiscal Monitor (FM) October 2015\n",
      "DS-GFSIBS2016: Government Finance Statistics Yearbook (GFSY 2016), Integrated Balance Sheet (Stock Positions and Flows in Assets and Liabilities)\n",
      "DS-IFS_2019M01: International Financial Statistics (IFS), 2019 M01\n",
      "DS-DOT_2018Q3: Direction of Trade Statistics (DOTS), 2018 Q3\n",
      "DS-FM201604: Fiscal Monitor (FM) April 2016\n",
      "DS-WHDREO201504: Western Hemisphere Regional Economic Outlook (WHDREO) April 2015\n",
      "DS-DOT_2018Q2: Direction of Trade Statistics (DOTS), 2018 Q2\n",
      "DS-DOT_2019Q1: Direction of Trade Statistics (DOTS), 2019 Q1\n",
      "DS-GFSYIBS2014: Government Finance Statistics Yearbook (GFSY 2014), Integrated Balance Sheet (Stock Positions and Flows in Assets and Liabilities)\n",
      "DS-FM201410: Fiscal Monitor (FM) October 2014\n",
      "DS-APDREO201910: Asia and Pacific Regional Economic Outlook (APDREO) October 2019\n",
      "DS-GFSSSUC2016: Government Finance Statistics Yearbook (GFSY 2016), Statement of Sources and Uses of Cash\n"
     ]
    }
   ],
   "source": [
    "for x in range(0, 20):\n",
    "    items = (str(df['@id'][x]), str(df['Name'][x]['#text']))\n",
    "    print(': '.join(items))"
   ]
  },
  {
   "cell_type": "markdown",
   "metadata": {},
   "source": [
    "## Retrieve the DOT data we are interested in "
   ]
  },
  {
   "cell_type": "code",
   "execution_count": 5,
   "metadata": {},
   "outputs": [
    {
     "name": "stdout",
     "output_type": "stream",
     "text": [
      "Latest Update Date: 07/24/2020\n",
      "Name: Direction of Trade Statistics (DOTS)\n",
      "Temporal Coverage: Monthly and quarterly data are available starting 1960. Annual data are available starting 1947.\n",
      "Geographic Coverage: DOTS covers all IMF member states, some non-member countries, the world, and major areas.\n",
      "Methodology: Guide to Direction of Trade Statistics, 1993. See Documents tab.\n",
      "Definition: The <B>Direction of Trade Statistics (DOTS)</B> presents the value of merchandise exports and imports disaggregated according to a country's primary trading partners. Area and world aggregates are included in the display of trade flows between major areas of the world. Reported data is supplemented by estimates whenever such data is not available or current. Imports are reported on a cost, insurance and freight (CIF) basis and exports are reported on a free on board (FOB) basis, with the exception of a few countries for which imports are also available FOB. Time series data includes estimates derived from reports of partner countries for non-reporting and slow-reporting countries.\n",
      "Code: DOT\n"
     ]
    }
   ],
   "source": [
    "# Annotations for the series\n",
    "url = \"http://dataservices.imf.org/REST/SDMX_JSON.svc/DataStructure/DOT\"\n",
    "dotstruct = requests.get(url).json()\n",
    "df = pd.DataFrame(dotstruct['Structure']['KeyFamilies']\\\n",
    "     ['KeyFamily']['Annotations'])\n",
    "for x in range(0, 7): \n",
    "     items = (str(df['Annotation'][x]['AnnotationTitle']), \\\n",
    "     str(df['Annotation'][x]['AnnotationText']['#text']))\n",
    "     print(': '.join(items))"
   ]
  },
  {
   "cell_type": "markdown",
   "metadata": {},
   "source": [
    "## Find the series dimensions"
   ]
  },
  {
   "cell_type": "code",
   "execution_count": 6,
   "metadata": {},
   "outputs": [
    {
     "name": "stdout",
     "output_type": "stream",
     "text": [
      "Dimension: 1: CL_FREQ\n",
      "Dimension: 2: CL_AREA_DOT\n",
      "Dimension: 3: CL_INDICATOR_DOT\n",
      "Dimension: 4: CL_COUNTERPART_AREA_DOT\n"
     ]
    }
   ],
   "source": [
    "# Look at structure of DOTS data to find the dimensions for our data request\n",
    "url = \"http://dataservices.imf.org/REST/SDMX_JSON.svc/DataStructure/DOT\"\n",
    "dotstruct = requests.get(url).json()\n",
    "df = pd.DataFrame(dotstruct['Structure']['KeyFamilies']['KeyFamily']\\\n",
    "          ['Components']['Dimension'])\n",
    "for x in range(0, 4): \n",
    "     items = (\"Dimension\", str(x+1), str(df['@codelist'][x]))\n",
    "     print(': '.join(items))"
   ]
  },
  {
   "cell_type": "markdown",
   "metadata": {},
   "source": [
    "## Find Country codes "
   ]
  },
  {
   "cell_type": "code",
   "execution_count": 7,
   "metadata": {},
   "outputs": [
    {
     "name": "stdout",
     "output_type": "stream",
     "text": [
      "US: United States\n",
      "A10: Western Hemisphere\n"
     ]
    }
   ],
   "source": [
    "# Obtain country codes\n",
    "url = \"http://dataservices.imf.org/REST/SDMX_JSON.svc/CodeList/CL_AREA_DOT\"\n",
    "country = requests.get(url).json()\n",
    "df = pd.DataFrame(country['Structure']['CodeLists']['CodeList']['Code'])\n",
    "for x in [214, 245]: \n",
    "     items = (str(df['@value'][x]), str(df['Description'][x]['#text']))\n",
    "     print(': '.join(items))"
   ]
  },
  {
   "cell_type": "markdown",
   "metadata": {},
   "source": [
    "The series ID is DOT and the country codes (we will use this with the exporting country, CL_AREA_DOT, and the counterpart, CL_COUNTERPART_AREA_DOT) of interest are W00 for world and US for the US. \n",
    "\n",
    "We see below that the indicator of interest is TXG_FOB_USD, Goods, Value of Exports, Free on board (FOB), US Dollars."
   ]
  },
  {
   "cell_type": "markdown",
   "metadata": {},
   "source": [
    "## Find column IDs"
   ]
  },
  {
   "cell_type": "code",
   "execution_count": 8,
   "metadata": {},
   "outputs": [
    {
     "name": "stdout",
     "output_type": "stream",
     "text": [
      "TXG_FOB_USD: Goods, Value of Exports, Free on board (FOB), US Dollars\n",
      "TMG_CIF_USD: Goods, Value of Imports, Cost, Insurance, Freight (CIF), US Dollars\n",
      "TMG_FOB_USD: Goods, Value of Imports, Free on board (FOB), US Dollars\n",
      "TBG_USD: Goods, Value of Trade Balance, US Dollars\n"
     ]
    }
   ],
   "source": [
    "# Obtain series info and ids\n",
    "url = \"http://dataservices.imf.org/REST/SDMX_JSON.svc/CodeList/CL_INDICATOR_DOT\"\n",
    "series = requests.get(url).json()\n",
    "df = pd.DataFrame(series['Structure']['CodeLists']['CodeList']['Code'])\n",
    "for x in range(0, 4): \n",
    "     items = (str(df['@value'][x]), str(df['Description'][x]['#text']))\n",
    "     print(': '.join(items))"
   ]
  },
  {
   "cell_type": "markdown",
   "metadata": {},
   "source": [
    "## Retrieving Data \n",
    "\n",
    "The guide to STA’s API shows how we can combine information from the previous steps to call and retrieve data. For direction of trade statistics, we see that the dimensions are as follows:\n",
    "\n",
    "- Dimension 1: CL_FREQ (the frequency of the data–we want to use monthly data) – M\n",
    "\n",
    "- Dimension 2: CL_AREA_DOT (the primary country) – US\n",
    "\n",
    "- Dimension 3: CL_INDICATOR_DOT (the measure–we want to look at exports free of board) – TXG_FOB_USD\n",
    "\n",
    "- Dimension 4: CL_COUNTERPART_AREA_DOT (the counterpart country) – W00\n",
    "\n",
    "The JSON RESTful API method for requesting the data is the CompactData Method. \n",
    "\n",
    "The format for putting together dimension and time period information is shown on the Web Service knowledge base as:"
   ]
  },
  {
   "cell_type": "code",
   "execution_count": 9,
   "metadata": {},
   "outputs": [
    {
     "data": {
      "text/html": [
       "<div>\n",
       "<style scoped>\n",
       "    .dataframe tbody tr th:only-of-type {\n",
       "        vertical-align: middle;\n",
       "    }\n",
       "\n",
       "    .dataframe tbody tr th {\n",
       "        vertical-align: top;\n",
       "    }\n",
       "\n",
       "    .dataframe thead th {\n",
       "        text-align: right;\n",
       "    }\n",
       "</style>\n",
       "<table border=\"1\" class=\"dataframe\">\n",
       "  <thead>\n",
       "    <tr style=\"text-align: right;\">\n",
       "      <th></th>\n",
       "      <th>date</th>\n",
       "      <th>usexports</th>\n",
       "    </tr>\n",
       "  </thead>\n",
       "  <tbody>\n",
       "    <tr>\n",
       "      <th>463</th>\n",
       "      <td>2019-08</td>\n",
       "      <td>138693.44359</td>\n",
       "    </tr>\n",
       "    <tr>\n",
       "      <th>464</th>\n",
       "      <td>2019-09</td>\n",
       "      <td>134622.152148</td>\n",
       "    </tr>\n",
       "    <tr>\n",
       "      <th>465</th>\n",
       "      <td>2019-10</td>\n",
       "      <td>142342.051491</td>\n",
       "    </tr>\n",
       "    <tr>\n",
       "      <th>466</th>\n",
       "      <td>2019-11</td>\n",
       "      <td>137312.453522</td>\n",
       "    </tr>\n",
       "    <tr>\n",
       "      <th>467</th>\n",
       "      <td>2019-12</td>\n",
       "      <td>135837.049194</td>\n",
       "    </tr>\n",
       "  </tbody>\n",
       "</table>\n",
       "</div>"
      ],
      "text/plain": [
       "        date      usexports\n",
       "463  2019-08   138693.44359\n",
       "464  2019-09  134622.152148\n",
       "465  2019-10  142342.051491\n",
       "466  2019-11  137312.453522\n",
       "467  2019-12  135837.049194"
      ]
     },
     "execution_count": 9,
     "metadata": {},
     "output_type": "execute_result"
    }
   ],
   "source": [
    "url = 'http://dataservices.imf.org/REST/SDMX_JSON.svc/CompactData/DOT/M.US.TXG_FOB_USD.W00.?startPeriod=1981&endPeriod=2019'\n",
    "data = requests.get(url).json()\n",
    "usexp = pd.DataFrame(data['CompactData']['DataSet']['Series']['Obs'])\n",
    "usexp.columns = ['date','usexports'];\n",
    "usexp.tail()"
   ]
  },
  {
   "cell_type": "markdown",
   "metadata": {},
   "source": [
    "## Retrieve Data for US+JP+CN"
   ]
  },
  {
   "cell_type": "code",
   "execution_count": 10,
   "metadata": {},
   "outputs": [],
   "source": [
    "ourl = 'http://dataservices.imf.org/REST/SDMX_JSON.svc/CompactData/DOT/M.US+CN+JP+W00.TXG_FOB_USD.W00.?startPeriod=1972&endPeriod=2019'\n",
    "odata = requests.get(ourl).json();\n",
    "\n",
    "wexp = pd.DataFrame(odata['CompactData']['DataSet']['Series'][0]['Obs'])\n",
    "wexp.columns = ['date','wexports']\n",
    "del wexp['date']\n",
    "\n",
    "chexp = pd.DataFrame(odata['CompactData']['DataSet']['Series'][1]['Obs'])\n",
    "chexp.columns = ['date','chexports']\n",
    "del chexp['date']\n",
    "\n",
    "jpexp = pd.DataFrame(odata['CompactData']['DataSet']['Series'][2]['Obs'])\n",
    "jpexp.columns = ['date','jpexports']\n",
    "del jpexp['date']\n",
    "\n",
    "usexp = pd.DataFrame(odata['CompactData']['DataSet']['Series'][3]['Obs'])\n",
    "usexp.columns = ['date','usexports']"
   ]
  },
  {
   "cell_type": "markdown",
   "metadata": {},
   "source": [
    "## Prepare a new dataframe \n",
    "\n",
    "- US Exports\n",
    "\n",
    "- World Exports\n",
    "\n",
    "- Japan Exports\n",
    "\n",
    "- China Exports\n",
    "\n",
    "and CALCULATE SHARE OF WORLD EXPORTS FOR EACH COUNTRY"
   ]
  },
  {
   "cell_type": "code",
   "execution_count": 11,
   "metadata": {},
   "outputs": [
    {
     "data": {
      "text/html": [
       "<div>\n",
       "<style scoped>\n",
       "    .dataframe tbody tr th:only-of-type {\n",
       "        vertical-align: middle;\n",
       "    }\n",
       "\n",
       "    .dataframe tbody tr th {\n",
       "        vertical-align: top;\n",
       "    }\n",
       "\n",
       "    .dataframe thead th {\n",
       "        text-align: right;\n",
       "    }\n",
       "</style>\n",
       "<table border=\"1\" class=\"dataframe\">\n",
       "  <thead>\n",
       "    <tr style=\"text-align: right;\">\n",
       "      <th></th>\n",
       "      <th>usexports</th>\n",
       "      <th>wexports</th>\n",
       "      <th>chexports</th>\n",
       "      <th>jpexports</th>\n",
       "      <th>usshare</th>\n",
       "      <th>chinashare</th>\n",
       "      <th>japanshare</th>\n",
       "    </tr>\n",
       "    <tr>\n",
       "      <th>date</th>\n",
       "      <th></th>\n",
       "      <th></th>\n",
       "      <th></th>\n",
       "      <th></th>\n",
       "      <th></th>\n",
       "      <th></th>\n",
       "      <th></th>\n",
       "    </tr>\n",
       "  </thead>\n",
       "  <tbody>\n",
       "    <tr>\n",
       "      <th>2019-08-01</th>\n",
       "      <td>138693.44359</td>\n",
       "      <td>1505162.322881</td>\n",
       "      <td>NaN</td>\n",
       "      <td>57787.496438</td>\n",
       "      <td>9.214517</td>\n",
       "      <td>NaN</td>\n",
       "      <td>3.839287</td>\n",
       "    </tr>\n",
       "    <tr>\n",
       "      <th>2019-09-01</th>\n",
       "      <td>134622.152148</td>\n",
       "      <td>1568903.860755</td>\n",
       "      <td>NaN</td>\n",
       "      <td>59249.937644</td>\n",
       "      <td>8.580650</td>\n",
       "      <td>NaN</td>\n",
       "      <td>3.776518</td>\n",
       "    </tr>\n",
       "    <tr>\n",
       "      <th>2019-10-01</th>\n",
       "      <td>142342.051491</td>\n",
       "      <td>1645014.09443</td>\n",
       "      <td>NaN</td>\n",
       "      <td>60829.223891</td>\n",
       "      <td>8.652938</td>\n",
       "      <td>NaN</td>\n",
       "      <td>3.697793</td>\n",
       "    </tr>\n",
       "    <tr>\n",
       "      <th>2019-11-01</th>\n",
       "      <td>137312.453522</td>\n",
       "      <td>1580655.888383</td>\n",
       "      <td>NaN</td>\n",
       "      <td>58634.166547</td>\n",
       "      <td>8.687055</td>\n",
       "      <td>NaN</td>\n",
       "      <td>3.709483</td>\n",
       "    </tr>\n",
       "    <tr>\n",
       "      <th>2019-12-01</th>\n",
       "      <td>135837.049194</td>\n",
       "      <td>1562793.005221</td>\n",
       "      <td>NaN</td>\n",
       "      <td>60252.163033</td>\n",
       "      <td>8.691941</td>\n",
       "      <td>NaN</td>\n",
       "      <td>3.855415</td>\n",
       "    </tr>\n",
       "  </tbody>\n",
       "</table>\n",
       "</div>"
      ],
      "text/plain": [
       "                usexports        wexports chexports     jpexports   usshare  \\\n",
       "date                                                                          \n",
       "2019-08-01   138693.44359  1505162.322881       NaN  57787.496438  9.214517   \n",
       "2019-09-01  134622.152148  1568903.860755       NaN  59249.937644  8.580650   \n",
       "2019-10-01  142342.051491   1645014.09443       NaN  60829.223891  8.652938   \n",
       "2019-11-01  137312.453522  1580655.888383       NaN  58634.166547  8.687055   \n",
       "2019-12-01  135837.049194  1562793.005221       NaN  60252.163033  8.691941   \n",
       "\n",
       "            chinashare  japanshare  \n",
       "date                                \n",
       "2019-08-01         NaN    3.839287  \n",
       "2019-09-01         NaN    3.776518  \n",
       "2019-10-01         NaN    3.697793  \n",
       "2019-11-01         NaN    3.709483  \n",
       "2019-12-01         NaN    3.855415  "
      ]
     },
     "execution_count": 11,
     "metadata": {},
     "output_type": "execute_result"
    }
   ],
   "source": [
    "combined = pd.concat([usexp, wexp, chexp, jpexp], axis=1)\n",
    "combined['date'] = pd.to_datetime(combined['date'])\n",
    "combined = combined.set_index(combined['date'])\n",
    "del combined['date'] \n",
    "\n",
    "usexports = pd.to_numeric(combined['usexports'])\n",
    "wexports = pd.to_numeric(combined.wexports)\n",
    "cexports = pd.to_numeric(combined.chexports)\n",
    "jexports = pd.to_numeric(combined.jpexports)\n",
    "\n",
    "# Convert to numeric\n",
    "combined['usshare'] = usexports / wexports * 100\n",
    "combined['chinashare'] = cexports / wexports * 100\n",
    "combined['japanshare'] = jexports / wexports * 100\n",
    "combined.tail()"
   ]
  },
  {
   "cell_type": "markdown",
   "metadata": {},
   "source": [
    "## Graphing the data\n",
    "\n",
    "\n",
    "### Graph of US share of workd exports"
   ]
  },
  {
   "cell_type": "code",
   "execution_count": 12,
   "metadata": {},
   "outputs": [
    {
     "data": {
      "image/png": "[encoded data removed]",
      "text/plain": [
       "<Figure size 648x360 with 1 Axes>"
      ]
     },
     "metadata": {
      "needs_background": "light"
     },
     "output_type": "display_data"
    }
   ],
   "source": [
    "import matplotlib as mpl\n",
    "import matplotlib.pyplot as plt\n",
    "%matplotlib inline\n",
    "txt = '''Source: International Monetary Fund.'''\n",
    "\n",
    "# Plot US share of world exports\n",
    "combined.usshare.plot(grid=True, figsize=(9, 5), color=\"blue\", linewidth=2,)\n",
    "plt.ylabel('percentage of world exports')\n",
    "plt.xlabel('Year')\n",
    "plt.text(20,4.5,txt)\n",
    "plt.title('U.S. Share of World Exports');"
   ]
  },
  {
   "cell_type": "markdown",
   "metadata": {},
   "source": [
    "### Graph of moving average of US, China, AND Japan shares of workd exports"
   ]
  },
  {
   "cell_type": "code",
   "execution_count": 13,
   "metadata": {},
   "outputs": [
    {
     "data": {
      "image/png": "[encoded data removed]",
      "text/plain": [
       "<Figure size 648x360 with 1 Axes>"
      ]
     },
     "metadata": {
      "needs_background": "light"
     },
     "output_type": "display_data"
    }
   ],
   "source": [
    "# Calculate moving average for each share, to reduce noise\n",
    "combined['ussharema'] = combined['usshare'].rolling(12,12).mean()\n",
    "combined['chsharema'] = combined['chinashare'].rolling(12,12).mean()\n",
    "combined['jpsharema'] = combined['japanshare'].rolling(12,12).mean()\n",
    "\n",
    "combshares = combined[['ussharema', 'chsharema', 'jpsharema']]\n",
    "shares = list(combshares);\n",
    "# Plot various shares of world exports\n",
    "combined[shares][120:].plot(grid=True, figsize=(9, 5), linewidth=2)\n",
    "plt.ylabel('percentage of world exports')\n",
    "plt.xlabel('Year')\n",
    "plt.text(150,-2,txt)\n",
    "plt.title('Share of World Exports', );"
   ]
  },
  {
   "cell_type": "markdown",
   "metadata": {},
   "source": [
    "### Save the data to a csv file"
   ]
  },
  {
   "cell_type": "code",
   "execution_count": null,
   "metadata": {},
   "outputs": [],
   "source": [
    "combined.to_csv('../Data/us_share_exports.csv')"
   ]
  },
  {
   "cell_type": "code",
   "execution_count": 18,
   "metadata": {},
   "outputs": [],
   "source": [
    "writer = pd.ExcelWriter(path='../Data/Exports.xlsx')\n",
    "\n",
    "combined.to_excel(excel_writer=writer, sheet_name='Exports')\n",
    "\n",
    "writer.save()"
   ]
  },
  {
   "cell_type": "code",
   "execution_count": null,
   "metadata": {},
   "outputs": [],
   "source": []
  }
 ],
 "metadata": {
  "kernelspec": {
   "display_name": "Python 3",
   "language": "python",
   "name": "python3"
  },
  "language_info": {
   "codemirror_mode": {
    "name": "ipython",
    "version": 3
   },
   "file_extension": ".py",
   "mimetype": "text/x-python",
   "name": "python",
   "nbconvert_exporter": "python",
   "pygments_lexer": "ipython3",
   "version": "3.8.3"
  }
 },
 "nbformat": 4,
 "nbformat_minor": 4
}
