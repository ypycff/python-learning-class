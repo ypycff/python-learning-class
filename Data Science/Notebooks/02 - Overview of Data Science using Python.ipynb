{
 "cells": [
  {
   "cell_type": "markdown",
   "metadata": {},
   "source": [
    "<img style=\"float: right;\" width=\"120\" src=\"../Images/supplier-logo.png\">\n",
    "<img style=\"float: left; margin-top: 0\" width=\"80\" src=\"../Images/client-logo.png\">\n",
    "<br><br><br>\n"
   ]
  },
  {
   "cell_type": "markdown",
   "metadata": {},
   "source": [
    "# Synopsis\n",
    "\n",
    "This notebook is a quick tour of some of the tools you will be using to perform data analysis on Financial Markets Data using the python suite of technologies.\n",
    "\n",
    "At the end of this notebook you will have a solid grounding in the following areas:\n",
    "\n",
    "- **Jupyter Notebook** - How to use the Jupyter notebook to perform Data Analysis using Python.\n",
    "<br><br>\n",
    "- **Data Analysis** - A sense of the type of analysis you can reasonably expect to be able to perform using this technology.\n",
    "<br><br>\n",
    "- **Python Packages** - pandas, numpy and matplotlib.pyplot and what they are used for.\n",
    "<br><br>\n",
    "**Note That:**\n",
    "- This is a quick tour of data analysis using python.\n",
    "\n",
    "- There will be a lot of commands and character sequences that you do not understand.\n",
    "\n",
    "- Do not **panic** or **worry** about this, we will be explaining all of these in due course.\n",
    "\n",
    "- The important part of this introductory session is for you to get a sense of what you can do with this technology.\n",
    "\n",
    "- We will cover the \"nitty gritty\" in later labs and notebooks"
   ]
  },
  {
   "cell_type": "markdown",
   "metadata": {},
   "source": [
    "# Packages\n",
    "\n",
    "- In order to perform any analysis on data, you must load the correct python package into your notebook.\n",
    "<br><br>\n",
    "- A package (sometimes called a library) is essentially a set of python commands, functions and methods that you can type into your notebook to perform some work and get some results.\n",
    "<br><br>\n",
    "- You will use different python packages to perform different types of work.\n",
    "<br><br>\n",
    "- For example, producing graphs and charts requires a different package (set of commands) than performing heavy duty mathematical computation.\n",
    "<br><br>\n",
    "- The main package we will use in this course is the package that allows us to work with tables of data, very similar to using a spreadsheet such as Microsoft Excel, Google Charts or Apple Numbers.\n",
    "<br><br>\n",
    "- This python library is called **pandas**.\n",
    "<br><br>\n",
    "- Use the **import** statement to load this package into your notebook"
   ]
  },
  {
   "cell_type": "code",
   "execution_count": null,
   "metadata": {},
   "outputs": [],
   "source": [
    "import pandas as pd"
   ]
  },
  {
   "cell_type": "markdown",
   "metadata": {},
   "source": [
    "# python\n",
    "\n",
    "** Congratulations!!!!! ** -- You have just executed your first line of python code. "
   ]
  },
  {
   "cell_type": "markdown",
   "metadata": {},
   "source": [
    "# DataFrames\n",
    "\n",
    "- A DataFrame is a rectangular table of data.\n",
    "- Contains rows and columns\n",
    "- Columns have headings\n",
    "- Rows have an index\n"
   ]
  },
  {
   "cell_type": "markdown",
   "metadata": {},
   "source": [
    "## DataFrames - Creating a DataFrame from a csv file\n",
    "\n",
    "There are quite a few ways to create a DataFrame.\n",
    "<br><br>\n",
    "Load in the data in the worksheet sp500 form the spreadsheet sample_data.xls"
   ]
  },
  {
   "cell_type": "code",
   "execution_count": null,
   "metadata": {},
   "outputs": [],
   "source": [
    "df = pd.read_excel(io='../Data/sample_data.xls', sheet_name='SP500', index_col='Symbol')\n",
    "\n",
    "df"
   ]
  },
  {
   "cell_type": "markdown",
   "metadata": {},
   "source": [
    "## DataFrames - Executing Functions / Methods\n",
    "\n",
    "- There are literally hundreds of methods you can execute on a DataFrame\n",
    "- Try the following\n",
    "<br><br>\n",
    "df.head - the first 5 rows\n",
    "<br>\n",
    "df.head(n) - the first n rows\n",
    "<br>\n",
    "df.tail - the last 5 rows\n",
    "<br>\n",
    "df.tail(n) the last n rows\n",
    "<br>"
   ]
  },
  {
   "cell_type": "code",
   "execution_count": null,
   "metadata": {
    "scrolled": true
   },
   "outputs": [],
   "source": [
    "df.head()\n",
    "df.head(8)\n",
    "df.tail()\n",
    "df.tail(8)\n"
   ]
  },
  {
   "cell_type": "markdown",
   "metadata": {},
   "source": [
    "## DataFrames - Rows and Columns \n",
    "\n",
    "Selecting data from a DataFrame for specific row(s) or columns(s)\n",
    "<br><br>\n",
    "- use df['ColA'] to select a single column \n",
    "- use df[['ColA', 'ColB']] to select multiple columns\n",
    "- use df.loc['RowA'] to select a row by the rows label\n",
    "- use df.loc[['RowA', ['RowB']] to select a row by the rows label"
   ]
  },
  {
   "cell_type": "code",
   "execution_count": null,
   "metadata": {},
   "outputs": [],
   "source": [
    "df['Name']\n",
    "df[['Name', 'Sector', 'Price']]\n",
    "\n",
    "df.loc['FB']\n",
    "#\n",
    "df.loc[['IBM', 'MMM', 'C']]"
   ]
  },
  {
   "cell_type": "markdown",
   "metadata": {},
   "source": [
    "## DataFrames - Tip\n",
    "\n",
    "The syntax for selecting multiple rows and multiple columns looks a bit awkward, especially if you are not familiar with computer programming.\n",
    "\n",
    "The confusion arises from the following:\n",
    "- Why use a single set of square brackets [ 'ColA' ] in some cases and a double set of square brackets in other cases [['ColA', 'ColB']]\n",
    "- This is to do with the python programming language and its choice of syntax for certain types of collections.\n",
    "<br><br>\n",
    "\n",
    "Quite often, analysts will simply create a list of the columns or rows they are interested in, give this list a name and use it instead."
   ]
  },
  {
   "cell_type": "code",
   "execution_count": null,
   "metadata": {},
   "outputs": [],
   "source": [
    "cols = ['Name', 'Sector', 'Price']\n",
    "df[cols]\n",
    "\n",
    "rows = ['IBM', 'MMM', 'C']\n",
    "df.loc[rows]"
   ]
  },
  {
   "cell_type": "markdown",
   "metadata": {},
   "source": [
    "## DataFrames - functions on columns of data\n",
    "\n",
    "It's easy to apply functions to specific columns of data.\n",
    "\n",
    "Select the column(s) of interest\n",
    "\n",
    "Use the .function() syntax\n",
    "\n",
    "- df['ColA'].mean() -- the mean \n",
    "- df['ColB].min() -- the minimum \n",
    "- df['COlA'].count() -- a count of how many values in ColA\n",
    "- df['ColB].max() -- the maximum price/earnings\n",
    "- df[mycols].median() -- median of all columns in the sequence mycols"
   ]
  },
  {
   "cell_type": "code",
   "execution_count": null,
   "metadata": {},
   "outputs": [],
   "source": [
    "cols = ['Price/Earnings', 'Earnings/Share']\n",
    "\n",
    "df['Earnings/Share'].mean()\n",
    "df['Price/Earnings'].min()\n",
    "df['Name'].count()\n",
    "df[cols].max()\n",
    "df[cols].median()\n",
    "\n",
    "# max and min also have a meaning when working with string values\n",
    "df['Name'].max()\n",
    "df['Name'].min()"
   ]
  },
  {
   "cell_type": "markdown",
   "metadata": {},
   "source": [
    "# numpy\n",
    "\n",
    "**numpy** (numerical python) is a python package used quite a lot for performing numerical calculations.\n",
    "\n",
    "numpy has been designed specifically to perform advanced computations on large sets of numbers.\n",
    "\n",
    "It is extremely fast, it is extremely memory efficient and it is very often used in conjunction with pandas when performing complex numerical calculations in conjunction with data analysis on large sets of data.\n",
    "\n",
    "numpy is an advanced library designed to meet the needs of advanced users, but a rudimentary understanding of numpy is important to become efficient with pandas and DataFrames"
   ]
  },
  {
   "cell_type": "code",
   "execution_count": null,
   "metadata": {},
   "outputs": [],
   "source": [
    "import numpy as np"
   ]
  },
  {
   "cell_type": "markdown",
   "metadata": {},
   "source": [
    "## numpy arrays\n",
    "\n",
    "A numpy array is a collection of values.\n",
    "\n",
    "Internally numpy stores the values in a numpy array in a highly efficient and optimized manner (details of this are way outside the remit of this course)\n",
    "\n",
    "More than likely, you will NEVER need to know the internal structure of a numpy array (or any numpy data structure)\n",
    "\n",
    "However, you should appreciate or simply accept that when performing calculations on sets of numbers, you will need to use the numpy package"
   ]
  },
  {
   "cell_type": "code",
   "execution_count": null,
   "metadata": {},
   "outputs": [],
   "source": [
    "arr1 = np.array ([1,2,3,4,5])\n",
    "arr2 = np.array([10,20,30,40,50])"
   ]
  },
  {
   "cell_type": "markdown",
   "metadata": {},
   "source": [
    "## numpy array  -- arithmetic\n",
    "\n",
    "Use standard mathematical notation for adding, subtracting and comparing entire arrays.\n",
    "\n",
    "For those who understand computer programming, note: ** NO NEED TO LOOP OVER EACH VALUE **"
   ]
  },
  {
   "cell_type": "code",
   "execution_count": null,
   "metadata": {},
   "outputs": [],
   "source": [
    "# E.g. Add all values in arr1 and arr2\n",
    "\n",
    "# Note there is no need for looping etc.\n",
    "arr1 + arr2\n",
    "\n",
    "# Same for other operations\n",
    "arr1 * arr2\n",
    "\n",
    "arr2 - arr1"
   ]
  },
  {
   "cell_type": "markdown",
   "metadata": {},
   "source": [
    "## numpy array -- comparisons"
   ]
  },
  {
   "cell_type": "code",
   "execution_count": null,
   "metadata": {},
   "outputs": [],
   "source": [
    "# same for comparisons\n",
    "arr1 > arr2\n",
    "arr1 < arr2\n",
    "arr1 <= arr2\n",
    "arr1 >= arr2\n",
    "arr1 == arr2\n",
    "arr1 != arr2\n",
    "\n",
    "# and also more complex expressions\n",
    "(arr1 + 12) >= 15\n",
    "(arr2 - arr1) == 27"
   ]
  },
  {
   "cell_type": "markdown",
   "metadata": {},
   "source": [
    "## numpy - boolean operators\n"
   ]
  },
  {
   "cell_type": "code",
   "execution_count": null,
   "metadata": {},
   "outputs": [],
   "source": [
    "np.logical_or(  (arr1 % 2) == 0, (arr2 % 20) == 0 )\n",
    "\n",
    "np.logical_and( (arr1 % 2) == 0, (arr2 % 20) == 0 )\n",
    "\n",
    "np.logical_not( (arr1 % 2) == 0 )\n"
   ]
  },
  {
   "cell_type": "markdown",
   "metadata": {},
   "source": [
    "## numpy - scientific functions\n",
    "\n",
    "numpy comes with a whole battery of mathematical functions\n",
    "\n",
    "logs and exponential functions<br>\n",
    "trigonometry<br>\n",
    "advanced statistics\n",
    "\n",
    "These work on individual values or on arrays of values"
   ]
  },
  {
   "cell_type": "code",
   "execution_count": null,
   "metadata": {},
   "outputs": [],
   "source": [
    "np.square(6)\n",
    "np.square(arr1)\n",
    "\n",
    "np.log10(100)\n",
    "np.log(arr2)\n",
    "\n",
    "np.exp(arr1)"
   ]
  },
  {
   "cell_type": "markdown",
   "metadata": {},
   "source": [
    "## array arithmetic with a DataFrame\n",
    "\n",
    "The same style of arithmetic can be used on the columns of a DataFrame\n",
    "\n",
    "df['ColA'] = df['ColB']\n",
    "\n",
    "df['ColA'] > 12"
   ]
  },
  {
   "cell_type": "code",
   "execution_count": null,
   "metadata": {},
   "outputs": [],
   "source": [
    "df['52 Week High'] - df['52 Week Low']\n",
    "\n",
    "df['Earnings/Share'] < 0"
   ]
  },
  {
   "cell_type": "markdown",
   "metadata": {},
   "source": [
    "## numpy - where\n",
    "\n",
    "The numpy **where** function is an extremely useful function, we will be using it in some financial analysis that we will be doing later on in this course.\n",
    "\n",
    "np.where is a function that accepts 3 parameters:<br>\n",
    "* an expression<br>\n",
    "* a value to return if the expression is True<br>\n",
    "* a value to return if the expression is False\n",
    "\n",
    "For example\n",
    "\n",
    "the operator % is also known as the modulo operator.\n",
    "\n",
    "The modulus of a number is its remainder after performing division on it.\n",
    "\n",
    "e.g. \n",
    "\n",
    "5 % 2 = 1\n",
    "<br>\n",
    "4 % 2 = 0\n",
    "<br>\n",
    "3 % 2 = 1\n",
    "\n",
    "A simple way to test if a number is even is to check if modulus 2 returns 0\n",
    "\n",
    "Try the following:\n",
    "<br>\n",
    "np.where(arr1 % 2 == 0, 'Even', 'Odd')\n",
    "\n",
    "This should return the correct word 'Even' or 'Odd' for each number in the array 'arr1'\n"
   ]
  },
  {
   "cell_type": "code",
   "execution_count": null,
   "metadata": {},
   "outputs": [],
   "source": [
    "arr1 = np.array ([1,2,3,4,5,6])\n",
    "arr2 = np.array ([2,2,4,4,6,6])\n",
    "\n",
    "np.where(arr1 % 2 == 0, 'Even', 'Odd')\n",
    "np.where(arr1 == arr2, 'Matched', 'Did not Match')"
   ]
  },
  {
   "cell_type": "markdown",
   "metadata": {},
   "source": [
    "## numpy where on a DataFrame\n",
    "\n",
    "np.where can be used on a DataFrame:\n",
    "\n",
    "e.g.\n",
    "\n",
    "np.where(df['Earnings/Share'] < 0, 'Negative', 'Positive')"
   ]
  },
  {
   "cell_type": "code",
   "execution_count": null,
   "metadata": {
    "scrolled": true
   },
   "outputs": [],
   "source": [
    "np.where(df['Earnings/Share'] < 0, 'Negative', 'Positive')\n",
    "\n",
    "np.where( (df['Sector'] == 'Industrials') & (df['Earnings/Share'] > 0), 'Good', 'Bad')"
   ]
  },
  {
   "cell_type": "markdown",
   "metadata": {},
   "source": [
    "# Graphs and Charts\n",
    "\n",
    "There are lots of sophisticated charting and graphing packages for python\n",
    "\n",
    "The one we will be using is called **matplotlib.pyplot**\n",
    "\n",
    "You can draw simple line charts of columns by using the **plot()** method on a column\n"
   ]
  },
  {
   "cell_type": "code",
   "execution_count": null,
   "metadata": {},
   "outputs": [],
   "source": [
    "import matplotlib.pyplot as plt\n",
    "\n",
    "%matplotlib inline"
   ]
  },
  {
   "cell_type": "markdown",
   "metadata": {},
   "source": [
    "## Plot some values\n",
    "\n",
    "e.g. a bar chart showing the 52 Week High and low for famous FANG stocks (Facebook, Amazon, Netflix and Google)"
   ]
  },
  {
   "cell_type": "code",
   "execution_count": null,
   "metadata": {},
   "outputs": [],
   "source": [
    "cols = ['52 Week High','52 Week Low']\n",
    "rows = ['FB', 'AMZN', 'NFLX', 'GOOGL']\n",
    "\n",
    "df.loc[rows][cols].plot(kind='barh')"
   ]
  },
  {
   "cell_type": "markdown",
   "metadata": {},
   "source": [
    "\n",
    "# Bollinger Bands\n",
    "\n",
    "Bollinger bands are a type of statistical chart characterizing the prices and volatility over time of a financial instrument or commodity, using a formulaic method propounded by John Bollinger in the 1980s. \n",
    "\n",
    "Financial traders employ these charts as a methodical tool to inform trading decisions, control automated trading systems, or as a component of technical analysis. \n",
    "\n",
    "Bollinger bands display a graphical band, usually an upper and a lower band.\n",
    "\n",
    "This is a very simple example of \n",
    "- creating a Bollinger band for 2 std deviations above and below the price of oil\n",
    "- displaying the Bollinger band graphically"
   ]
  },
  {
   "cell_type": "markdown",
   "metadata": {},
   "source": [
    "## Load in the libraries"
   ]
  },
  {
   "cell_type": "code",
   "execution_count": null,
   "metadata": {},
   "outputs": [],
   "source": [
    "import pandas as pd\n",
    "import numpy as np\n",
    "import matplotlib.pyplot as plt\n",
    "\n",
    "%matplotlib inline"
   ]
  },
  {
   "cell_type": "markdown",
   "metadata": {},
   "source": [
    "## Load in the data\n",
    "\n",
    "Use the file GOLD.csv into a DataFrame"
   ]
  },
  {
   "cell_type": "code",
   "execution_count": null,
   "metadata": {},
   "outputs": [],
   "source": [
    "df = pd.read_excel('../Data/market_data.xls', sheet_name='GOOGL', index_col='Date', parse_dates=True)"
   ]
  },
  {
   "cell_type": "markdown",
   "metadata": {},
   "source": [
    "## Create a new DataFrame \n",
    "\n",
    "We are going to create a new DataFrame with 3 columns.\n",
    "\n",
    "This DataFrame will be used to store data for the Bollinger band which will be derived from the original data\n",
    "\n",
    "- **'Price(m avg)'** A monthly rolling average of the 'USD (PM)' column\n",
    "- **'Upper'** which will be 2 std deviations of the price above **'Price(m avg)'**\n",
    "- **'Lower'** which will be 2 std deviations of the price below **'Price(m avg)'**\n",
    "\n",
    "** NOTE ** <br>\n",
    "- Don't panic if you don't understand the syntax, commands, rolling(30) etc.<BR>\n",
    "- We will cover this in subsequent lessons.<BR>\n",
    "- Understand that this is a very typical analysis that Financial Data Analysts perform on a daily basis.<BR>\n",
    "- Appreciate that python, pandas, etc. make this type of analysis extremely easy."
   ]
  },
  {
   "cell_type": "code",
   "execution_count": null,
   "metadata": {},
   "outputs": [],
   "source": [
    "df.head()"
   ]
  },
  {
   "cell_type": "code",
   "execution_count": null,
   "metadata": {
    "scrolled": true
   },
   "outputs": [],
   "source": [
    "# Create an empty DataFrame\n",
    "# This is a second way to create a DataFrame \n",
    "# - the first is to read the data directly from a csv file\n",
    "# - this method creates an empty DataFrame in memory\n",
    "\n",
    "df_BOLL = pd.DataFrame()\n",
    "\n",
    "# Copy the 'Close' column from the original DataFrame into this DataFrame\n",
    "df_BOLL['Close'] = df['Close']\n",
    "df_BOLL['SMA(Close)'] = df_BOLL['Close'].rolling(21).mean()\n",
    "df_BOLL['Upper'] = df_BOLL['SMA(Close)'] + 2 * df_BOLL['Close'].rolling(21).std()\n",
    "df_BOLL['Lower'] = df_BOLL['SMA(Close)'] - 2 * df_BOLL['Close'].rolling(21).std()"
   ]
  },
  {
   "cell_type": "markdown",
   "metadata": {},
   "source": [
    "## Plot the results"
   ]
  },
  {
   "cell_type": "code",
   "execution_count": null,
   "metadata": {},
   "outputs": [],
   "source": [
    "fig = plt.figure(figsize=(18,6))\n",
    "\n",
    "fig.suptitle('Google -- 2 stds above/below closing price')\n",
    "plt.xlabel('Date')\n",
    "plt.ylabel('Close')\n",
    "\n",
    "plt.plot(df_BOLL)"
   ]
  },
  {
   "cell_type": "markdown",
   "metadata": {},
   "source": [
    "## Plot the results for 2017"
   ]
  },
  {
   "cell_type": "code",
   "execution_count": null,
   "metadata": {},
   "outputs": [],
   "source": [
    "fig = plt.figure(figsize=(18,6))\n",
    "\n",
    "fig.suptitle('Google (2017) -- 2 stds above/below closing price')\n",
    "plt.xlabel('Date')\n",
    "plt.ylabel('Close')\n",
    "\n",
    "plt.plot(df_BOLL['2017'])"
   ]
  },
  {
   "cell_type": "markdown",
   "metadata": {},
   "source": [
    "# Time resampling\n",
    "\n",
    "Resampling is conversion between frequencies.\n",
    "\n",
    "Here we are going to resample from daily pricing information to weekly, monthly or even yearly."
   ]
  },
  {
   "cell_type": "markdown",
   "metadata": {},
   "source": [
    "## Resample Price, Open, High, Low - Annually\n",
    "\n",
    "Then take the maximum of each column."
   ]
  },
  {
   "cell_type": "code",
   "execution_count": null,
   "metadata": {},
   "outputs": [],
   "source": [
    "cols = ['Open', 'High', 'Low', 'Close']\n",
    "\n",
    "df[cols].resample(rule='Y').max()"
   ]
  },
  {
   "cell_type": "markdown",
   "metadata": {},
   "source": [
    "## Resample Price, Open, High, Low - by Business Quarter\n",
    "\n",
    "Note that a business quarter end is not the same as a calendar quarter end.\n",
    "\n",
    "Take the mean value for each business quarter.\n",
    "\n",
    "Display the first 20 rows."
   ]
  },
  {
   "cell_type": "code",
   "execution_count": null,
   "metadata": {},
   "outputs": [],
   "source": [
    "df_ohlc = df[cols].resample(rule='BQ').mean().head(20)\n",
    "\n",
    "w = pd.ExcelWriter('../Output/ohlc.xls')\n",
    "\n",
    "df_ohlc.to_excel(excel_writer=w, sheet_name='OHLC')\n",
    "\n",
    "w.save()"
   ]
  },
  {
   "cell_type": "markdown",
   "metadata": {},
   "source": [
    "## Resample Price, Open, High, Low - by Month for 2015\n",
    "\n",
    "Take the median value for each month.\n",
    "\n",
    "Display the first 20 rows."
   ]
  },
  {
   "cell_type": "code",
   "execution_count": null,
   "metadata": {},
   "outputs": [],
   "source": [
    "df['2015'][cols].resample(rule='M').mean().head(20)"
   ]
  },
  {
   "cell_type": "code",
   "execution_count": null,
   "metadata": {},
   "outputs": [],
   "source": []
  }
 ],
 "metadata": {
  "kernelspec": {
   "display_name": "Python 3",
   "language": "python",
   "name": "python3"
  },
  "language_info": {
   "codemirror_mode": {
    "name": "ipython",
    "version": 3
   },
   "file_extension": ".py",
   "mimetype": "text/x-python",
   "name": "python",
   "nbconvert_exporter": "python",
   "pygments_lexer": "ipython3",
   "version": "3.8.3"
  }
 },
 "nbformat": 4,
 "nbformat_minor": 2
}
