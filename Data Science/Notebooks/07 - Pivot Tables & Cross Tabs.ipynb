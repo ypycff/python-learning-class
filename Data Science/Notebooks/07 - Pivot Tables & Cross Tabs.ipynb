{
 "cells": [
  {
   "cell_type": "markdown",
   "metadata": {},
   "source": [
    "<img style=\"float: right;\" width=\"120\" src=\"../Images/supplier-logo.png\">\n",
    "<img style=\"float: left; margin-top: 0\" width=\"80\" src=\"../Images/client-logo.png\">\n",
    "<br><br><br>"
   ]
  },
  {
   "cell_type": "markdown",
   "metadata": {},
   "source": [
    "# Pivots"
   ]
  },
  {
   "cell_type": "markdown",
   "metadata": {},
   "source": [
    "## Introduction\n",
    "\n",
    "Most people likely have experience with pivot tables in Excel. Pandas provides a similar function called (appropriately enough) pivot_table . While it is exceedingly useful, I frequently find myself struggling to remember how to use the syntax to format the output for my needs. This notebook will focus on explaining the pandas `pivot_table` function and how to use it for your data analysis.\n",
    "\n"
   ]
  },
  {
   "cell_type": "markdown",
   "metadata": {},
   "source": [
    "## The Data\n",
    "\n",
    "One of the challenges with using the panda’s pivot_table is making sure you understand your data and what questions you are trying to answer with the pivot table. It is a seemingly simple function but can produce very powerful analysis very quickly.\n",
    "\n",
    "THis example is going to track a sales pipeline (also called funnel). The basic problem is that some sales cycles are very long (think “enterprise software”, capital equipment, etc.) and users might want to understand it in more detail throughout the year.\n",
    "\n",
    "Typical questions include:\n",
    "\n",
    "> \n",
    "> How much revenue is in the pipeline? <BR>\n",
    "> What products are in the pipeline?<BR>\n",
    "> Who has what products at what stage?<BR>\n",
    "> How likely are we to close deals by year end?<BR>\n",
    ">\n",
    "Many companies will have CRM tools or other software that sales uses to track the process. While they may have useful tools for analyzing the data, inevitably someone will export the data to Excel and use a PivotTable to summarize the data.\n",
    "\n",
    "Using a panda’s pivot table can be a good alternative because it is:\n",
    "\n",
    "- Quicker (once it is set up)\n",
    "- Self documenting (look at the code and you know what it does)\n",
    "- Easy to use to generate a report or email\n",
    "- More flexible because you can define custome aggregation functions\n",
    "\n"
   ]
  },
  {
   "cell_type": "markdown",
   "metadata": {},
   "source": [
    "## Read in the Data"
   ]
  },
  {
   "cell_type": "code",
   "execution_count": null,
   "metadata": {},
   "outputs": [],
   "source": [
    "import pandas as pd\n",
    "import numpy as np"
   ]
  },
  {
   "cell_type": "code",
   "execution_count": null,
   "metadata": {},
   "outputs": [],
   "source": [
    "df = pd.read_excel(io = \"../Data/sample_data.xls\", sheet_name=\"Sales\")\n",
    "display(df.head())\n",
    "df.dtypes"
   ]
  },
  {
   "cell_type": "markdown",
   "metadata": {},
   "source": [
    "## Define a Category\n",
    "\n",
    "For convenience only, define the `status` column as a category and set the order we want to view.\n",
    "\n",
    "Not strictly required but helps to keep the order we want as we work through analyzing the data.\n",
    "\n",
    "Note the change in type for the `Status` column. It was an object and is now a category."
   ]
  },
  {
   "cell_type": "code",
   "execution_count": null,
   "metadata": {},
   "outputs": [],
   "source": [
    "df[\"Status\"] = df[\"Status\"].astype(\"category\")\n",
    "df[\"Status\"].cat.set_categories([\"won\",\"pending\",\"presented\",\"declined\"],inplace=True)\n",
    "\n",
    "display(df.head())\n",
    "df.dtypes"
   ]
  },
  {
   "cell_type": "markdown",
   "metadata": {},
   "source": [
    "## Pivot the data - single Index\n",
    "\n",
    "Generally best to pivot one step at a time. Add items and check each step to verify you are getting the results expected. Don’t be afraid to play with the order and the variables to see what presentation makes the most sense for your needs.\n",
    "\n",
    "The simplest pivot table **must** have a dataframe and an index . In this case, use the `Name` column as the index.\n",
    "\n",
    "**Note** the only columns in the pivto table are the numeric ones"
   ]
  },
  {
   "cell_type": "code",
   "execution_count": null,
   "metadata": {},
   "outputs": [],
   "source": [
    "pd.pivot_table(df,index=[\"Name\"])"
   ]
  },
  {
   "cell_type": "markdown",
   "metadata": {},
   "source": [
    "## Pivot the data - Multiple Indices\n",
    "\n",
    "You can have multiple indexes as well. In fact, most of the pivot_table args can take multiple values via a list."
   ]
  },
  {
   "cell_type": "code",
   "execution_count": null,
   "metadata": {},
   "outputs": [],
   "source": [
    "pd.pivot_table(df,index=[\"Name\",\"Rep\",\"Manager\"])"
   ]
  },
  {
   "cell_type": "markdown",
   "metadata": {},
   "source": [
    "Look at this by Manager and Rep. It’s easy enough to do by changing the index ."
   ]
  },
  {
   "cell_type": "code",
   "execution_count": null,
   "metadata": {},
   "outputs": [],
   "source": [
    "pd.pivot_table(df,index=[\"Manager\",\"Rep\"])"
   ]
  },
  {
   "cell_type": "markdown",
   "metadata": {},
   "source": [
    "## Aggrating and Summarizing Data\n",
    "\n",
    "The pivot table is smart enough to start aggregating the data and summarizing it by grouping the reps with their managers. \n",
    "\n",
    "For this purpose, the `Account` and `Quantity` columns aren’t really useful. Let’s remove it by explicitly defining the columns we care about using the values field."
   ]
  },
  {
   "cell_type": "code",
   "execution_count": null,
   "metadata": {},
   "outputs": [],
   "source": [
    "pd.pivot_table(df,index=[\"Manager\",\"Rep\"],values=[\"Price\"])"
   ]
  },
  {
   "cell_type": "markdown",
   "metadata": {},
   "source": [
    "The price column automatically averages the data (calcultes the mean) but we can do a `count` or a `sum`. Adding them is simple using aggfunc and np.sum .\n"
   ]
  },
  {
   "cell_type": "code",
   "execution_count": null,
   "metadata": {},
   "outputs": [],
   "source": [
    "pd.pivot_table(df,index=[\"Manager\",\"Rep\"],values=[\"Price\"],aggfunc=np.sum)"
   ]
  },
  {
   "cell_type": "markdown",
   "metadata": {},
   "source": [
    "The `aggfunc` parameter can take a list of functions. E.g. using the numpy `mean` function and `len` to get a count."
   ]
  },
  {
   "cell_type": "code",
   "execution_count": null,
   "metadata": {},
   "outputs": [],
   "source": [
    "funcs = [np.mean,len]\n",
    "pd.pivot_table(df,index=[\"Manager\",\"Rep\"],values=[\"Price\"],aggfunc=funcs)"
   ]
  },
  {
   "cell_type": "markdown",
   "metadata": {},
   "source": [
    "The `aggfunc` parameter can take a list of names of functions. <BR>\n",
    "E.g. using the numpy `mean` function and `std` to get a count."
   ]
  },
  {
   "cell_type": "code",
   "execution_count": null,
   "metadata": {},
   "outputs": [],
   "source": [
    "funcs = ['mean', 'std']\n",
    "pd.pivot_table(df,index=[\"Manager\",\"Rep\"],values=[\"Price\"],aggfunc=funcs)"
   ]
  },
  {
   "cell_type": "markdown",
   "metadata": {},
   "source": [
    "If we want to see sales broken down by the products, the `columns` paramneter allows you to define one or more columns.\n",
    "\n",
    "## Columns vs. Values\n",
    "One of the confusing points with the pivot_table is the use of columns and values .  \n",
    "Remember, columns are optional - they provide an additional way to segment the actual values you care about.  \n",
    "The aggregation functions are applied to the **values** you list."
   ]
  },
  {
   "cell_type": "code",
   "execution_count": null,
   "metadata": {},
   "outputs": [],
   "source": [
    "pd.pivot_table(df,index=[\"Manager\",\"Rep\"],values=[\"Price\"],\n",
    "               columns=[\"Product\"],aggfunc=[np.sum])"
   ]
  },
  {
   "cell_type": "markdown",
   "metadata": {},
   "source": [
    "Remove the Nans bu using the `fill_value` to set them to 0."
   ]
  },
  {
   "cell_type": "code",
   "execution_count": null,
   "metadata": {},
   "outputs": [],
   "source": [
    "pd.pivot_table(df,index=[\"Manager\",\"Rep\"],values=[\"Price\"],\n",
    "               columns=[\"Product\"],aggfunc=[np.sum],fill_value=0)"
   ]
  },
  {
   "cell_type": "markdown",
   "metadata": {},
   "source": [
    "Add Quantity to the values list."
   ]
  },
  {
   "cell_type": "code",
   "execution_count": null,
   "metadata": {},
   "outputs": [],
   "source": [
    "pd.pivot_table(df,index=[\"Manager\",\"Rep\"],values=[\"Price\",\"Quantity\"],\n",
    "               columns=[\"Product\"],aggfunc=[np.sum],fill_value=0)"
   ]
  },
  {
   "cell_type": "markdown",
   "metadata": {},
   "source": [
    "## Move items to the index \n",
    "\n",
    "This gives a different visual representation. \n",
    "\n",
    "Remove Product from the columns and add to the index ."
   ]
  },
  {
   "cell_type": "code",
   "execution_count": null,
   "metadata": {},
   "outputs": [],
   "source": [
    "pd.pivot_table(df,index=[\"Manager\",\"Rep\",\"Product\"],\n",
    "               values=[\"Price\",\"Quantity\"],aggfunc=[np.sum],fill_value=0)"
   ]
  },
  {
   "cell_type": "markdown",
   "metadata": {},
   "source": [
    "## Add some totals\n",
    "\n",
    "Set the `margins` parameter to **True** .\n",
    "\n",
    "The totals are in the last column `All`"
   ]
  },
  {
   "cell_type": "code",
   "execution_count": null,
   "metadata": {},
   "outputs": [],
   "source": [
    "pd.pivot_table(df,index=[\"Manager\",\"Rep\",\"Product\"],\n",
    "               values=[\"Price\",\"Quantity\"],\n",
    "               aggfunc=[np.sum,np.mean],fill_value=0, margins=True)"
   ]
  },
  {
   "cell_type": "markdown",
   "metadata": {},
   "source": [
    "## Different Functions for Different Values\n",
    "\n",
    "If you wenat to have different aggregate functions to different values, use a dictionary\n",
    "\n",
    "For example\n",
    "> **len** for the `Quuantity` value <BR>\n",
    "> **np.sum** for the `Price` column <BR>"
   ]
  },
  {
   "cell_type": "code",
   "execution_count": null,
   "metadata": {},
   "outputs": [],
   "source": [
    "funcs = {\n",
    "    \"Quantity\":len,\n",
    "    \"Price\":np.sum\n",
    "}\n",
    "\n",
    "pd.pivot_table(df,index=[\"Manager\",\"Status\"],columns=[\"Product\"],values=[\"Quantity\",\"Price\"],\n",
    "               aggfunc=funcs,fill_value=0)\n"
   ]
  },
  {
   "cell_type": "markdown",
   "metadata": {},
   "source": [
    "It is also possible to provide a list of aggfunctions to apply to each value too:\n",
    "\n",
    "For example <BR>\n",
    "> **len** for `Quantity` values  <BR>\n",
    "> **np.sum** and **np.mean** for the `Price` value  <BR>\n",
    "\n"
   ]
  },
  {
   "cell_type": "code",
   "execution_count": null,
   "metadata": {},
   "outputs": [],
   "source": [
    "funcs = {\n",
    "    \"Quantity\":len,\n",
    "    \"Price\":[np.sum,np.mean]\n",
    "}\n",
    "\n",
    "table = pd.pivot_table(df,index=[\"Manager\",\"Status\"],columns=[\"Product\"],values=[\"Quantity\",\"Price\"],\n",
    "               aggfunc={\"Quantity\":len,\"Price\":[np.sum,np.mean]},fill_value=0)\n",
    "table"
   ]
  },
  {
   "cell_type": "markdown",
   "metadata": {},
   "source": [
    "## Advanced Pivot Table Filtering\n",
    "\n",
    "Once you have generated your data, it is in a DataFrame so you can filter on it using your standard DataFrame functions.\n",
    "\n",
    "This uses ther `query` method on a DataFrame\n",
    "\n",
    "For example - filter for the manager equal to Debra Hanley"
   ]
  },
  {
   "cell_type": "code",
   "execution_count": null,
   "metadata": {},
   "outputs": [],
   "source": [
    "is_mgr_Deb_Han = 'Manager == [\"Debra Henley\"]'\n",
    "\n",
    "table.query(is_mgr_Deb_Han)"
   ]
  },
  {
   "cell_type": "markdown",
   "metadata": {},
   "source": [
    "All of our pending and won deals."
   ]
  },
  {
   "cell_type": "code",
   "execution_count": null,
   "metadata": {},
   "outputs": [],
   "source": [
    "pending_or_won = 'Status == [\"pending\",\"won\"]'\n",
    "\n",
    "table.query(pending_or_won)"
   ]
  },
  {
   "cell_type": "markdown",
   "metadata": {},
   "source": [
    "## Add some colour"
   ]
  },
  {
   "cell_type": "markdown",
   "metadata": {},
   "source": [
    "### High Low colours"
   ]
  },
  {
   "cell_type": "code",
   "execution_count": null,
   "metadata": {},
   "outputs": [],
   "source": [
    "funcs = {\n",
    "    \"Quantity\":len,\n",
    "    \"Price\":[np.sum,np.mean]\n",
    "}\n",
    "\n",
    "table = pd.pivot_table(df,index=[\"Manager\",\"Status\"],columns=[\"Product\"],values=[\"Quantity\",\"Price\"],\n",
    "               aggfunc={\"Quantity\":len,\"Price\":[np.sum,np.mean]},fill_value=0)\n",
    "\n",
    "table.style.highlight_max(color='lightgreen').highlight_min(color='red')"
   ]
  },
  {
   "cell_type": "markdown",
   "metadata": {},
   "source": [
    "### Gradient Colours"
   ]
  },
  {
   "cell_type": "code",
   "execution_count": null,
   "metadata": {},
   "outputs": [],
   "source": [
    "table.style.background_gradient(cmap='Blues')"
   ]
  },
  {
   "cell_type": "markdown",
   "metadata": {},
   "source": [
    "# Cheat - Sheet\n",
    "\n",
    "<img style=\"float: center;\" width=\"720\" src=\"../Images/pivot-table.png\">"
   ]
  },
  {
   "cell_type": "markdown",
   "metadata": {},
   "source": [
    "# Crosstabs\n",
    "\n",
    "`pandas.crosstab()` is another function that builds summary data\n",
    "\n",
    "The pandas crosstab function builds a cross-tabulation table that can show the frequency with which certain groups of data appear. \n",
    "\n"
   ]
  },
  {
   "cell_type": "markdown",
   "metadata": {},
   "source": [
    "## Import the data\n",
    "\n",
    "For this demo, only interested in the following subset of car manufacturers\n",
    ">\n",
    "> \"toyota\",\"nissan\",\"mazda\", \"honda\", \"mitsubishi\", \"subaru\", \"volkswagen\", \"volvo\"\n",
    ">"
   ]
  },
  {
   "cell_type": "code",
   "execution_count": null,
   "metadata": {},
   "outputs": [],
   "source": [
    "import pandas as pd\n",
    "import seaborn as sns\n",
    "\n",
    "# Define the headers since the data does not have any\n",
    "headers = [\"symboling\", \"normalized_losses\", \"make\", \"fuel_type\", \"aspiration\",\n",
    "           \"num_doors\", \"body_style\", \"drive_wheels\", \"engine_location\",\n",
    "           \"wheel_base\", \"length\", \"width\", \"height\", \"curb_weight\",\n",
    "           \"engine_type\", \"num_cylinders\", \"engine_size\", \"fuel_system\",\n",
    "           \"bore\", \"stroke\", \"compression_ratio\", \"horsepower\", \"peak_rpm\",\n",
    "           \"city_mpg\", \"highway_mpg\", \"price\"]\n",
    "\n",
    "# Read in the CSV file and convert \"?\" to NaN\n",
    "df_raw = pd.read_csv(filepath_or_buffer='../Data/cars.csv',\n",
    "                     header=None, names=headers, na_values=\"?\" )\n",
    "\n",
    "# Define a list of models that we want to review\n",
    "models = [\"toyota\",\"nissan\",\"mazda\", \"honda\", \"mitsubishi\", \"subaru\", \"volkswagen\", \"volvo\"]\n",
    "\n",
    "# Create a copy of the data with only the top 8 manufacturers\n",
    "df = df_raw[df_raw.make.isin(models)].copy()"
   ]
  },
  {
   "cell_type": "markdown",
   "metadata": {},
   "source": [
    "## How many different body styles these car makers made\n",
    "\n",
    "The crosstab function can operate on numpy arrays, series or columns in a dataframe. \n",
    "\n",
    "Here, `df.make` is set to be the crosstab index and `df.body_style` is the crosstab’s columns. \n",
    "\n",
    "Pandas does that work behind the scenes to count how many occurrences there are of each combination. \n",
    "\n",
    "For example, in this data set Volvo makes 8 sedans and 3 wagons."
   ]
  },
  {
   "cell_type": "code",
   "execution_count": null,
   "metadata": {},
   "outputs": [],
   "source": [
    "pd.crosstab(df['make'], df['body_style'])"
   ]
  },
  {
   "cell_type": "markdown",
   "metadata": {},
   "source": [
    "### Use a groupby followed by an unstack to get the same results"
   ]
  },
  {
   "cell_type": "code",
   "execution_count": null,
   "metadata": {},
   "outputs": [],
   "source": [
    "df.groupby(['make', 'body_style'])['body_style'].count().unstack().fillna(0)"
   ]
  },
  {
   "cell_type": "markdown",
   "metadata": {},
   "source": [
    "### Use a pivot_table followed by an unstack to get the same results"
   ]
  },
  {
   "cell_type": "code",
   "execution_count": null,
   "metadata": {},
   "outputs": [],
   "source": [
    "df.pivot_table(index=df['make'], columns=df['body_style'], aggfunc={'body_style':len}, fill_value=0)"
   ]
  },
  {
   "cell_type": "markdown",
   "metadata": {},
   "source": [
    "## Add Subtotals\n",
    "\n",
    "use the `margins` keyword:"
   ]
  },
  {
   "cell_type": "code",
   "execution_count": null,
   "metadata": {},
   "outputs": [],
   "source": [
    "pd.crosstab(index=df['make'], columns=df['num_doors'], margins=True, margins_name=\"Total\")"
   ]
  },
  {
   "cell_type": "markdown",
   "metadata": {},
   "source": [
    "## Add aggregation\n",
    "\n",
    "use the `aggfunc` parameter\n",
    "\n",
    "specify the columns using the `values` parameter"
   ]
  },
  {
   "cell_type": "code",
   "execution_count": null,
   "metadata": {},
   "outputs": [],
   "source": [
    "pd.crosstab(index=df['make'], columns=df['body_style'], values=df.curb_weight, aggfunc='mean').round(0)"
   ]
  },
  {
   "cell_type": "markdown",
   "metadata": {},
   "source": [
    "## Normalize\n",
    "\n",
    "The precentage time each combination occurs"
   ]
  },
  {
   "cell_type": "code",
   "execution_count": null,
   "metadata": {},
   "outputs": [],
   "source": [
    "pd.crosstab(index=df['make'], columns=df['body_style'], normalize=True)"
   ]
  },
  {
   "cell_type": "markdown",
   "metadata": {},
   "source": [
    ">\n",
    ">The table above shows that 2.3% of the total population are Toyota hardtops and 6.25% are Volvo sedans.\n",
    ">"
   ]
  },
  {
   "cell_type": "markdown",
   "metadata": {},
   "source": [
    "### Normalize on colums only"
   ]
  },
  {
   "cell_type": "code",
   "execution_count": null,
   "metadata": {},
   "outputs": [],
   "source": [
    "pd.crosstab(index=df['make'], columns=df['body_style'], normalize='columns')"
   ]
  },
  {
   "cell_type": "markdown",
   "metadata": {},
   "source": [
    ">\n",
    "> This table shows that 50% of the convertibles are made by Toyota and the other 50% by Volkswagen.\n",
    ">"
   ]
  },
  {
   "cell_type": "markdown",
   "metadata": {},
   "source": [
    "### Normalize on rows only"
   ]
  },
  {
   "cell_type": "code",
   "execution_count": null,
   "metadata": {},
   "outputs": [],
   "source": [
    "pd.crosstab(index=df['make'], columns=df['body_style'], normalize='index')"
   ]
  },
  {
   "cell_type": "markdown",
   "metadata": {},
   "source": [
    ">\n",
    "> The above table shows that of the Mitsubishi cars in this dataset, 69.23% are hatchbacks and the remainder (30.77%) are sedans.\n",
    ">"
   ]
  },
  {
   "cell_type": "markdown",
   "metadata": {},
   "source": [
    "# Grouping\n",
    "\n",
    "An extremely useful feature is to pass in multiple dataframe columns and pandas does all the grouping for you. \n",
    "\n",
    "For instance, to see how the data is distributed by front wheel drive (fwd) and rear wheel drive (rwd), \n",
    " - include the `drive_wheels` column by including it in the list of valid columns in the second argument to the crosstab ."
   ]
  },
  {
   "cell_type": "code",
   "execution_count": null,
   "metadata": {},
   "outputs": [],
   "source": [
    "cols = [ df['body_style'], df['drive_wheels'] ]\n",
    "\n",
    "pd.crosstab(index=df['make'], columns=cols)"
   ]
  },
  {
   "cell_type": "markdown",
   "metadata": {},
   "source": [
    "# Group the index\n",
    "\n",
    "Included the specific rownames and colnames to include in the output. This is purely for display purposes but can be useful if the column names in the dataframe are not very specific.\n",
    "\n",
    "Use `dropna=False` at the end of the function call. This is =to make sure to include all the rows and columns even if they had all 0’s. \n",
    "\n",
    "If it was not include it, then the final Volvo, two door row would have been omitted from the table.\n"
   ]
  },
  {
   "cell_type": "code",
   "execution_count": null,
   "metadata": {},
   "outputs": [],
   "source": [
    "cols = [ df['body_style'], df['drive_wheels'] ]\n",
    "idx  = [ df['make'], df['num_doors'] ]\n",
    "\n",
    "pd.crosstab(index=idx, columns=cols,\n",
    "            rownames=['Auto Manufacturer', \"Doors\"],\n",
    "            colnames=['Body Style', \"Drive Type\"],\n",
    "            dropna=False)"
   ]
  },
  {
   "cell_type": "markdown",
   "metadata": {},
   "source": [
    "# Visualizing\n",
    "\n",
    "Create a heatmap using `seaborn.heatmap()` function."
   ]
  },
  {
   "cell_type": "code",
   "execution_count": null,
   "metadata": {},
   "outputs": [],
   "source": [
    "cols = [ df['body_style'], df['drive_wheels'] ]\n",
    "idx  = [ df['make'], df['num_doors'] ]\n",
    "crosstab = pd.crosstab([df.make, df.num_doors], [df.body_style, df.drive_wheels])\n",
    "\n",
    "sns.heatmap(data=crosstab, cmap=\"YlGnBu\", annot=True, cbar=True)"
   ]
  },
  {
   "cell_type": "markdown",
   "metadata": {},
   "source": [
    "# Cheat - Sheet\n",
    "\n",
    "<img style=\"float: center;\" width=\"1440\" src=\"../Images/crosstab.png\">"
   ]
  },
  {
   "cell_type": "code",
   "execution_count": null,
   "metadata": {},
   "outputs": [],
   "source": []
  }
 ],
 "metadata": {
  "kernelspec": {
   "display_name": "Python 3",
   "language": "python",
   "name": "python3"
  },
  "language_info": {
   "codemirror_mode": {
    "name": "ipython",
    "version": 3
   },
   "file_extension": ".py",
   "mimetype": "text/x-python",
   "name": "python",
   "nbconvert_exporter": "python",
   "pygments_lexer": "ipython3",
   "version": "3.8.3"
  }
 },
 "nbformat": 4,
 "nbformat_minor": 2
}
