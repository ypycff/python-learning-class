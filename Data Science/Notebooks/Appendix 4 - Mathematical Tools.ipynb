{
 "cells": [
  {
   "cell_type": "markdown",
   "metadata": {},
   "source": [
    "<img style=\"float: right;\" width=\"120\" src=\"../Images/supplier-logo.png\">\n",
    "<img style=\"float: left; margin-top: 0\" width=\"80\" src=\"../Images/client-logo.png\">\n",
    "<br><br><br>\n",
    "\n",
    "\n",
    "# Mathematical Tools\n",
    "\n",
    "**Approximation**\n",
    ">\n",
    "> Regression\n",
    ">\n",
    "> Interpolation\n",
    ">\n",
    "> Integration\n",
    ">\n",
    "\n",
    "\n",
    "**Symbolic Computation**\n",
    ">\n",
    "> Equations\n",
    ">\n",
    "> Integration\n",
    ">\n",
    "> Differentiation\n",
    ">"
   ]
  },
  {
   "cell_type": "markdown",
   "metadata": {},
   "source": [
    "## Approximation\n",
    "\n",
    "The most commonly used methods for approximation in finance are regression and interpolation.\n",
    "\n",
    "Use a simple function to interpolate and regress"
   ]
  },
  {
   "cell_type": "code",
   "execution_count": null,
   "metadata": {},
   "outputs": [],
   "source": [
    "import numpy as np\n",
    "from pylab import plt, mpl\n",
    "\n",
    "plt.style.use('seaborn')\n",
    "mpl.rcParams['font.family'] = 'serif'\n",
    "%matplotlib inline"
   ]
  },
  {
   "cell_type": "markdown",
   "metadata": {},
   "source": [
    "Use a simple function to interpolate and regress. This function has both a **trigonmetric** term and a **linear** term."
   ]
  },
  {
   "cell_type": "code",
   "execution_count": null,
   "metadata": {
    "uuid": "2326c3ad-f244-4f48-8b68-851bd2347d57"
   },
   "outputs": [],
   "source": [
    "def f(x):\n",
    "    return np.sin(x) + 0.5 * x"
   ]
  },
  {
   "cell_type": "markdown",
   "metadata": {},
   "source": [
    "Simple plot function to help visualization"
   ]
  },
  {
   "cell_type": "code",
   "execution_count": null,
   "metadata": {},
   "outputs": [],
   "source": [
    "def create_plot(x, y, styles, labels, axlabels):\n",
    "    plt.figure(figsize=(10, 6))\n",
    "    for i in range(len(x)):\n",
    "        plt.plot(x[i], y[i], styles[i], label=labels[i])\n",
    "        plt.xlabel(axlabels[0])\n",
    "        plt.ylabel(axlabels[1])\n",
    "    plt.legend(loc=0)"
   ]
  },
  {
   "cell_type": "code",
   "execution_count": null,
   "metadata": {
    "uuid": "c09f73d2-c2a5-4c6d-a2f1-08a191378417"
   },
   "outputs": [],
   "source": [
    "# The x values\n",
    "x = np.linspace(-2 * np.pi, 2 * np.pi, 50)  \n",
    "create_plot([x], [f(x)], ['b'], ['f(x)'], ['x', 'f(x)'])"
   ]
  },
  {
   "cell_type": "markdown",
   "metadata": {},
   "source": [
    "### Regression\n",
    "\n",
    "- Use `np.polyfit()` to fit  ( minimizes the square error $E = \\sum_{j=0}^k |p(x_j) - y_j|^2$)\n",
    "- Use `np.polyval()` to evaluate"
   ]
  },
  {
   "cell_type": "markdown",
   "metadata": {},
   "source": [
    "#### Monomials as Basis Functions"
   ]
  },
  {
   "cell_type": "code",
   "execution_count": null,
   "metadata": {},
   "outputs": [],
   "source": [
    "# Perform the regression\n",
    "res = np.polyfit(x, f(x), deg=1, full=True) \n",
    "print('Regression parameters:', res[0])\n",
    "print('Resifuals:', res[1])\n",
    "print('Effective Rank:', res[2])\n",
    "print('Singular Values:', res[3])\n",
    "print('Relative Condition Number:', res[4])\n"
   ]
  },
  {
   "cell_type": "code",
   "execution_count": null,
   "metadata": {},
   "outputs": [],
   "source": [
    "# Evaluate and plot\n",
    "ry = np.polyval(res[0], x)  \n",
    "create_plot([x, x], [f(x), ry], ['b', 'r.'], ['f(x)', 'regression'], ['x', 'f(x)'])"
   ]
  },
  {
   "cell_type": "markdown",
   "metadata": {},
   "source": [
    "A better fit can be obtained by increasing the degree of the fitting function"
   ]
  },
  {
   "cell_type": "code",
   "execution_count": null,
   "metadata": {
    "uuid": "096bb07a-55f7-45de-8734-2a76d8749d53"
   },
   "outputs": [],
   "source": [
    "reg = np.polyfit(x, f(x), deg=5)\n",
    "ry = np.polyval(reg, x)\n",
    "create_plot([x, x], [f(x), ry], ['b', 'r.'],['f(x)', 'regression'], ['x', 'f(x)'])"
   ]
  },
  {
   "cell_type": "markdown",
   "metadata": {},
   "source": [
    "Try again with a higher degree"
   ]
  },
  {
   "cell_type": "code",
   "execution_count": null,
   "metadata": {
    "uuid": "67b14a21-e8f2-4dd4-a43b-0d232f2b4055"
   },
   "outputs": [],
   "source": [
    "reg = np.polyfit(x, f(x), 7)\n",
    "ry = np.polyval(reg, x)\n",
    "create_plot([x, x], [f(x), ry], ['b', 'r.'],['f(x)', 'regression'], ['x', 'f(x)'])"
   ]
  },
  {
   "cell_type": "code",
   "execution_count": null,
   "metadata": {
    "uuid": "e600b6be-4cf2-4212-807a-7f397f081e98"
   },
   "outputs": [],
   "source": [
    "# Are the regression values and the function close ?\n",
    "np.allclose(f(x), ry)  "
   ]
  },
  {
   "cell_type": "code",
   "execution_count": null,
   "metadata": {
    "uuid": "bc6918fe-f520-483c-94eb-41dd89abfa70"
   },
   "outputs": [],
   "source": [
    "# Mean Squared Error (MSE)\n",
    "np.mean((f(x) - ry) ** 2)  "
   ]
  },
  {
   "cell_type": "markdown",
   "metadata": {},
   "source": [
    "#### Individual Basis Functions\n",
    "\n",
    "- This technique can produce better resutls by choosing better basis functions.\n",
    "- Use a matrix to store the individual basis functions\n",
    "- Use `np.linalg.lstsq()` to perform the regression.\n",
    "- Use a dot product of the regression parameters and the basis function matrix to get the regression estimates"
   ]
  },
  {
   "cell_type": "code",
   "execution_count": null,
   "metadata": {
    "uuid": "b4f05890-56e0-4f29-9d61-bd9948ad8af0"
   },
   "outputs": [],
   "source": [
    "matrix = np.zeros((3 + 1, len(x)))  \n",
    "\n",
    "# Basis function values from cubic to constant\n",
    "matrix[3, :] = x ** 3  \n",
    "matrix[2, :] = x ** 2  \n",
    "matrix[1, :] = x        \n",
    "matrix[0, :] = 1  "
   ]
  },
  {
   "cell_type": "code",
   "execution_count": null,
   "metadata": {
    "uuid": "c8963eee-4bc8-4ef2-a172-d4b64fd065a3"
   },
   "outputs": [],
   "source": [
    "# Calculate the regression parameters\n",
    "reg = np.linalg.lstsq(matrix.T, f(x), rcond=None)[0]  \n",
    "reg.round(4)  \n",
    "\n",
    "# Get the regression estimates\n",
    "ry = np.dot(reg, matrix)  \n",
    "\n",
    "create_plot([x, x], [f(x), ry], ['b', 'r.'], ['f(x)', 'regression'], ['x', 'f(x)'])"
   ]
  },
  {
   "cell_type": "markdown",
   "metadata": {},
   "source": [
    "Improve the regression by replacing the cubic monomial with a sin function. "
   ]
  },
  {
   "cell_type": "code",
   "execution_count": null,
   "metadata": {},
   "outputs": [],
   "source": [
    "matrix[3, :] = np.sin(x)  \n",
    "\n",
    "# Calculate the regression parameters\n",
    "reg = np.linalg.lstsq(matrix.T, f(x), rcond=None)[0]\n",
    "reg.round(4)  \n",
    "\n",
    "# Get the regression estimates\n",
    "ry = np.dot(reg, matrix)\n",
    "\n",
    "create_plot([x, x], [f(x), ry], ['b', 'r.'], ['f(x)', 'regression'], ['x', 'f(x)'])"
   ]
  },
  {
   "cell_type": "code",
   "execution_count": null,
   "metadata": {},
   "outputs": [],
   "source": [
    "print(\"Close:\", np.allclose(f(x), ry))\n",
    "print(\"MSE:\",np.mean((f(x) - ry) ** 2))\n"
   ]
  },
  {
   "cell_type": "markdown",
   "metadata": {},
   "source": [
    "#### Noisy Data\n",
    "\n",
    "Regression can work very well with noisy data.\n"
   ]
  },
  {
   "cell_type": "code",
   "execution_count": null,
   "metadata": {
    "uuid": "75d3a6a6-a940-4a49-b35d-29f21880ab95"
   },
   "outputs": [],
   "source": [
    "# Deterministic x values\n",
    "xn = np.linspace(-2 * np.pi, 2 * np.pi, 50)  \n",
    "\n",
    "# Add some noise to x\n",
    "xn = xn + 0.15 * np.random.standard_normal(len(xn))  \n",
    "\n",
    "# Add some noise to y\n",
    "yn = f(xn) + 0.25 * np.random.standard_normal(len(xn))  "
   ]
  },
  {
   "cell_type": "code",
   "execution_count": null,
   "metadata": {
    "uuid": "f6f9c05f-1f96-48ee-aaca-f4d80c3d3ac5"
   },
   "outputs": [],
   "source": [
    "reg = np.polyfit(xn, yn, 7)\n",
    "ry = np.polyval(reg, xn)\n",
    "create_plot([x, x], [f(x), ry], ['b', 'r.'], ['f(x)', 'regression'], ['x', 'f(x)'])"
   ]
  },
  {
   "cell_type": "markdown",
   "metadata": {},
   "source": [
    "#### Unsorted Data"
   ]
  },
  {
   "cell_type": "code",
   "execution_count": null,
   "metadata": {
    "uuid": "8ea85cdb-47f2-4967-b684-7894d9964e76"
   },
   "outputs": [],
   "source": [
    "xu = np.random.rand(50) * 4 * np.pi - 2 * np.pi  \n",
    "yu = f(xu)\n",
    "\n",
    "reg = np.polyfit(xu, yu, 5)\n",
    "ry = np.polyval(reg, xu)\n",
    "\n",
    "create_plot([xu, xu], [yu, ry], ['b.', 'ro'],\n",
    "            ['f(x)', 'regression'], ['x', 'f(x)'])"
   ]
  },
  {
   "cell_type": "markdown",
   "metadata": {},
   "source": [
    "#### Multiple Dimensions\n",
    "\n",
    "Using a modified version of f(x)"
   ]
  },
  {
   "cell_type": "code",
   "execution_count": null,
   "metadata": {
    "uuid": "82b95a7b-9e3e-4dc8-b313-1af775b06b8b"
   },
   "outputs": [],
   "source": [
    "def fm(p):\n",
    "    x, y = p\n",
    "    return np.sin(x) + 0.25 * x + np.sqrt(y) + 0.05 * y ** 2"
   ]
  },
  {
   "cell_type": "markdown",
   "metadata": {},
   "source": [
    "Use `np.meshgrid()` to create a rectangular grid out of an array of x values and an array of y values.<BR>\n",
    "\n",
    "Flatten 2D matrices into 1-D vectors"
   ]
  },
  {
   "cell_type": "code",
   "execution_count": null,
   "metadata": {},
   "outputs": [],
   "source": [
    "x = np.linspace(0, 10, 20)\n",
    "y = np.linspace(0, 10, 20)\n",
    "X, Y = np.meshgrid(x, y)  \n",
    "\n",
    "Z = fm((X, Y))\n",
    "x = X.flatten()  \n",
    "y = Y.flatten()  "
   ]
  },
  {
   "cell_type": "markdown",
   "metadata": {},
   "source": [
    "Plot\n",
    "- Use `matplotlib.plot_surface()`"
   ]
  },
  {
   "cell_type": "code",
   "execution_count": null,
   "metadata": {
    "uuid": "52a91ef7-33c4-4de1-b69b-ea4d740aa252"
   },
   "outputs": [],
   "source": [
    "from mpl_toolkits.mplot3d import Axes3D  \n",
    "\n",
    "fig = plt.figure(figsize=(18, 6))\n",
    "ax = fig.gca(projection='3d')\n",
    "surf = ax.plot_surface(X, Y, Z, rstride=2, cstride=2,\n",
    "                       cmap='coolwarm', linewidth=0.5,\n",
    "                       antialiased=True)\n",
    "ax.set_xlabel('x')\n",
    "ax.set_ylabel('y')\n",
    "ax.set_zlabel('f(x, y)')\n",
    "fig.colorbar(surf, shrink=0.5, aspect=5)\n"
   ]
  },
  {
   "cell_type": "markdown",
   "metadata": {},
   "source": [
    "To improve the regression, knowledge of the basis fucntions helps. <BR>\n",
    "`fm(p)` uses both `np.sin` and `np.sqrt` so use individual basis functions for better regressions\n",
    "    "
   ]
  },
  {
   "cell_type": "code",
   "execution_count": null,
   "metadata": {
    "uuid": "5918f2cf-3ead-4b80-980e-4a375ee159db"
   },
   "outputs": [],
   "source": [
    "matrix = np.zeros((len(x), 6 + 1))\n",
    "\n",
    "matrix[:, 6] = np.sqrt(y)  \n",
    "matrix[:, 5] = np.sin(x)  \n",
    "matrix[:, 4] = y ** 2\n",
    "matrix[:, 3] = x ** 2\n",
    "matrix[:, 2] = y\n",
    "matrix[:, 1] = x\n",
    "matrix[:, 0] = 1"
   ]
  },
  {
   "cell_type": "markdown",
   "metadata": {},
   "source": [
    "Regress and estimate"
   ]
  },
  {
   "cell_type": "code",
   "execution_count": null,
   "metadata": {
    "uuid": "b9eb74bd-9280-4d8b-ae7d-8853911389cb"
   },
   "outputs": [],
   "source": [
    "reg = np.linalg.lstsq(matrix, fm((x, y)), rcond=None)[0]\n",
    "\n",
    "RZ = np.dot(matrix, reg).reshape((20, 20))  "
   ]
  },
  {
   "cell_type": "markdown",
   "metadata": {},
   "source": [
    "Plot\n",
    "- Use `matplotlib.plot_wireframe()`\n"
   ]
  },
  {
   "cell_type": "code",
   "execution_count": null,
   "metadata": {
    "scrolled": true,
    "uuid": "096451ce-173a-43b5-b81f-9dac26df2702"
   },
   "outputs": [],
   "source": [
    "fig = plt.figure(figsize=(18, 6))\n",
    "ax = fig.gca(projection='3d')\n",
    "surf1 = ax.plot_surface(X, Y, Z, rstride=2, cstride=2,\n",
    "            cmap=mpl.cm.coolwarm, linewidth=0.5,\n",
    "            antialiased=True)  \n",
    "surf2 = ax.plot_wireframe(X, Y, RZ, rstride=2, cstride=2,\n",
    "                          label='regression')  \n",
    "ax.set_xlabel('x')\n",
    "ax.set_ylabel('y')\n",
    "ax.set_zlabel('f(x, y)')\n",
    "ax.legend()\n",
    "fig.colorbar(surf, shrink=0.5, aspect=5)\n"
   ]
  },
  {
   "cell_type": "markdown",
   "metadata": {},
   "source": [
    "### Interpolation\n",
    "\n",
    "- More complicated than regression <BR>\n",
    "- Limited to lower dimensional problems <BR>\n",
    "- Computationally expensive compared to regression<BR>\n",
    "   \n",
    "    \n",
    "    \n",
    "Import libraries and define a function to interpolate \n",
    "\n",
    "The library here is `scipy.interpolate`\n"
   ]
  },
  {
   "cell_type": "code",
   "execution_count": null,
   "metadata": {
    "uuid": "5e345542-f425-4630-9eae-0a446927ad73"
   },
   "outputs": [],
   "source": [
    "import scipy.interpolate as spi  \n",
    "\n",
    "def f(x):\n",
    "    return np.sin(x) + 0.5 * x"
   ]
  },
  {
   "cell_type": "markdown",
   "metadata": {},
   "source": [
    "Linear Interpolation\n",
    "\n",
    "- Use `spi.splev()` for fitting\n",
    "- Use `spi.splev()` to evaluate"
   ]
  },
  {
   "cell_type": "code",
   "execution_count": null,
   "metadata": {
    "uuid": "afdb9c45-1b12-4358-ba3e-a1bc3c4d32db"
   },
   "outputs": [],
   "source": [
    "x = np.linspace(-2 * np.pi, 2 * np.pi, 25)\n",
    "\n",
    "# Linear spline interpolation\n",
    "ipo = spi.splrep(x, f(x), k=1)  \n",
    "\n",
    "# Get interpolated values\n",
    "iy = spi.splev(x, ipo)  \n",
    "\n",
    "# Plot\n",
    "create_plot([x, x], [f(x), iy], ['b', 'ro'],['f(x)', 'interpolation'], ['x', 'f(x)'])"
   ]
  },
  {
   "cell_type": "code",
   "execution_count": null,
   "metadata": {},
   "outputs": [],
   "source": [
    "x = np.linspace(-2 * np.pi, 2 * np.pi, 25)\n",
    "\n",
    "# Cubic spline interpolation\n",
    "ipo = spi.splrep(x, f(x), k=3)  \n",
    "\n",
    "# Get interpolated values\n",
    "iy = spi.splev(x, ipo)  \n",
    "\n",
    "# Plot\n",
    "create_plot([x, x], [f(x), iy], ['b', 'ro'],['f(x)', 'interpolation'], ['x', 'f(x)'])"
   ]
  },
  {
   "cell_type": "markdown",
   "metadata": {},
   "source": [
    "## Integration\n",
    "\n",
    "Use the sub package `scipy.integrate` and use the same example function as before"
   ]
  },
  {
   "cell_type": "code",
   "execution_count": null,
   "metadata": {
    "uuid": "6a38567d-4a2d-464f-8de3-7687e1d2916d"
   },
   "outputs": [],
   "source": [
    "import scipy.integrate as sci\n",
    "\n",
    "def f(x):\n",
    "    return np.sin(x) + 0.5 * x"
   ]
  },
  {
   "cell_type": "markdown",
   "metadata": {},
   "source": [
    "For the example function \n",
    "\\begin{equation}\n",
    "\\int_{0.5}^{9.5} f(x) dx = \\int_{0.5}^{9.5} sin (x) + \\frac{x}{2}dx\\\n",
    "\\end{equation}\n",
    "\n"
   ]
  },
  {
   "cell_type": "code",
   "execution_count": null,
   "metadata": {
    "uuid": "afb6151f-5743-4950-980e-18047e066ebc"
   },
   "outputs": [],
   "source": [
    "x = np.linspace(0, 10)\n",
    "y = f(x)\n",
    "a = 0.5  \n",
    "b = 9.5  \n",
    "Ix = np.linspace(a, b)  \n",
    "Iy = f(Ix)  "
   ]
  },
  {
   "cell_type": "code",
   "execution_count": null,
   "metadata": {
    "uuid": "ad78923f-e4c1-4381-9a24-33b4f1ea3c56"
   },
   "outputs": [],
   "source": [
    "from matplotlib.patches import Polygon\n",
    "\n",
    "fig, ax = plt.subplots(figsize=(10, 6))\n",
    "plt.plot(x, y, 'b', linewidth=2)\n",
    "plt.ylim(bottom=0)\n",
    "Ix = np.linspace(a, b)\n",
    "Iy = f(Ix)\n",
    "verts = [(a, 0)] + list(zip(Ix, Iy)) + [(b, 0)]\n",
    "poly = Polygon(verts, facecolor='0.7', edgecolor='0.5')\n",
    "ax.add_patch(poly)\n",
    "plt.text(0.75 * (a + b), 1.5, r\"$\\int_a^b f(x)dx$\",horizontalalignment='center', fontsize=20)\n",
    "plt.figtext(0.9, 0.075, '$x$')\n",
    "plt.figtext(0.075, 0.9, '$f(x)$')\n",
    "ax.set_xticks((a, b))\n",
    "ax.set_xticklabels(('$a$', '$b$'))\n",
    "ax.set_yticks([f(a), f(b)]);"
   ]
  },
  {
   "cell_type": "markdown",
   "metadata": {},
   "source": [
    "### Numerical Integration\n",
    "\n",
    "The `scipy.integrate` has a number of functions to perform the above integration\n",
    "\n",
    "The following cessls show\n",
    "- Fixed Gaussian Quadrature <BR>\n",
    "- Adaptive Quadrature <BR>\n",
    "- Romberg    "
   ]
  },
  {
   "cell_type": "code",
   "execution_count": null,
   "metadata": {
    "uuid": "6d3aa9c8-58c0-46a3-a89f-ca471a1f83e4"
   },
   "outputs": [],
   "source": [
    "sci.fixed_quad(f, a, b)[0]"
   ]
  },
  {
   "cell_type": "code",
   "execution_count": null,
   "metadata": {
    "uuid": "0ddebba6-5357-4ce9-b829-d752132d12df"
   },
   "outputs": [],
   "source": [
    "sci.quad(f, a, b)[0]"
   ]
  },
  {
   "cell_type": "code",
   "execution_count": null,
   "metadata": {
    "uuid": "3b1779d6-c831-449d-964f-e2cc869847e7"
   },
   "outputs": [],
   "source": [
    "sci.romberg(f, a, b)"
   ]
  },
  {
   "cell_type": "markdown",
   "metadata": {},
   "source": [
    "### Integration by Simulation"
   ]
  },
  {
   "cell_type": "code",
   "execution_count": null,
   "metadata": {
    "uuid": "bb840eb2-0e13-40eb-aea7-0f106dcf9f41"
   },
   "outputs": [],
   "source": [
    "for i in range(1, 20):\n",
    "    np.random.seed(1000)\n",
    "    x = np.random.random(i * 10) * (b - a) + a  \n",
    "    print(np.mean(f(x)) * (b - a))"
   ]
  },
  {
   "cell_type": "markdown",
   "metadata": {},
   "source": [
    "## Symbolic Computation"
   ]
  },
  {
   "cell_type": "markdown",
   "metadata": {},
   "source": [
    "### Basics\n",
    "\n",
    "**SymPy** is a Python library that provides computer algebra system for symbolic mathematics.<BR>\n",
    "Use the `sympy` package.<BR>\n",
    "This introduces a new class, `Symbol` that abstracts mathematical expressions, constants and functions<BR>\n",
    "    "
   ]
  },
  {
   "cell_type": "code",
   "execution_count": null,
   "metadata": {
    "uuid": "f01d358d-8094-426c-8e69-657218d8c319"
   },
   "outputs": [],
   "source": [
    "import sympy as sy"
   ]
  },
  {
   "cell_type": "markdown",
   "metadata": {},
   "source": [
    "Define some Symbols"
   ]
  },
  {
   "cell_type": "code",
   "execution_count": null,
   "metadata": {
    "uuid": "2cb7d5d8-ae45-4001-863e-714df216a656"
   },
   "outputs": [],
   "source": [
    "x = sy.Symbol('x')  \n",
    "y = sy.Symbol('y')  \n",
    "\n",
    "type(x)"
   ]
  },
  {
   "cell_type": "markdown",
   "metadata": {},
   "source": [
    "Apply a function to a symbol"
   ]
  },
  {
   "cell_type": "code",
   "execution_count": null,
   "metadata": {
    "uuid": "a8f0388b-1df6-4389-877c-af5d9f141708"
   },
   "outputs": [],
   "source": [
    "sy.sqrt(x)  "
   ]
  },
  {
   "cell_type": "markdown",
   "metadata": {},
   "source": [
    "Define a numerical expression "
   ]
  },
  {
   "cell_type": "code",
   "execution_count": null,
   "metadata": {
    "uuid": "f308fe2e-a5bc-4c88-a7f6-a4f09a568f2f"
   },
   "outputs": [],
   "source": [
    "3 + sy.sqrt(x) - 4 ** 2  "
   ]
  },
  {
   "cell_type": "markdown",
   "metadata": {},
   "source": [
    "Define a function symbolically & simplify it <BR>"
   ]
  },
  {
   "cell_type": "code",
   "execution_count": null,
   "metadata": {
    "uuid": "025f5084-4efc-4416-a564-b8a96ec426fd"
   },
   "outputs": [],
   "source": [
    "f = x ** 2 + 3 + 0.5 * x ** 2 + 3 / 2  \n",
    "sy.simplify(f)  "
   ]
  },
  {
   "cell_type": "code",
   "execution_count": null,
   "metadata": {
    "uuid": "59837e7c-a82f-44e5-8b87-b0fba310ffc5"
   },
   "outputs": [],
   "source": [
    "sy.init_printing(pretty_print=False, use_unicode=False)"
   ]
  },
  {
   "cell_type": "code",
   "execution_count": null,
   "metadata": {
    "uuid": "ea1bbb85-a431-4e6c-a264-6ffb6df9f59e"
   },
   "outputs": [],
   "source": [
    "print(sy.pretty(f))"
   ]
  },
  {
   "cell_type": "markdown",
   "metadata": {},
   "source": [
    "### Equations\n",
    "\n",
    "Assumes uses is trying to solve an expression by equating it to zero\n",
    "\n",
    "e.g. <BR>\n",
    "> $x^2 - 1 = 0 $ <BR>\n",
    "> $x^2 - 1 -3 = 0 $ <BR>\n",
    "> $x^3 + \\frac{1}{2} x^2 - 1 = 0 $ <BR>\n",
    "> $x^2 + y^2 = 0 $ <BR>"
   ]
  },
  {
   "cell_type": "code",
   "execution_count": null,
   "metadata": {
    "uuid": "c310eeab-ac04-4015-a327-29628f9a9a11"
   },
   "outputs": [],
   "source": [
    "sy.solve(x ** 2 - 1)"
   ]
  },
  {
   "cell_type": "code",
   "execution_count": null,
   "metadata": {
    "uuid": "60076f9d-93f3-47e0-b5b6-87d1bca3d30a"
   },
   "outputs": [],
   "source": [
    "sy.solve(x ** 2 - 1 - 3)"
   ]
  },
  {
   "cell_type": "code",
   "execution_count": null,
   "metadata": {
    "uuid": "6c9e1060-61e6-4b18-9be4-cb71b83fc5a7"
   },
   "outputs": [],
   "source": [
    "sy.solve(x ** 3 + 0.5 * x ** 2 - 1)"
   ]
  },
  {
   "cell_type": "code",
   "execution_count": null,
   "metadata": {
    "uuid": "fcd70615-0db5-4c5c-8246-245ba3c8501c"
   },
   "outputs": [],
   "source": [
    "sy.solve(x ** 2 + y ** 2)"
   ]
  },
  {
   "cell_type": "markdown",
   "metadata": {},
   "source": [
    "### Integration and Differentiation\n",
    "\n",
    "For the example function used before\n",
    "\\begin{equation}\n",
    "\\int_{0.5}^{9.5} f(x) dx = \\int_{0.5}^{9.5} sin (x) + \\frac{x}{2}dx\\\n",
    "\\end{equation}"
   ]
  },
  {
   "cell_type": "code",
   "execution_count": null,
   "metadata": {
    "uuid": "503329d1-812a-461c-9019-e6bb2a44125e"
   },
   "outputs": [],
   "source": [
    "# Symbols for limits of integral\n",
    "a, b = sy.symbols('a b')  "
   ]
  },
  {
   "cell_type": "code",
   "execution_count": null,
   "metadata": {},
   "outputs": [],
   "source": [
    "# Define the Integral object\n",
    "I = sy.Integral(sy.sin(x) + 0.5 * x, (x, a, b))  \n",
    "I"
   ]
  },
  {
   "cell_type": "markdown",
   "metadata": {},
   "source": [
    "Derive the Anti Derivative and evaluate for the limits"
   ]
  },
  {
   "cell_type": "code",
   "execution_count": null,
   "metadata": {
    "uuid": "89d4c980-01d7-423a-a2ab-a9698787019a"
   },
   "outputs": [],
   "source": [
    "int_func = sy.integrate(sy.sin(x) + 0.5 * x, x)  \n",
    "\n",
    "Fb = int_func.subs(x, 9.5).evalf()  \n",
    "Fa = int_func.subs(x, 0.5).evalf()  "
   ]
  },
  {
   "cell_type": "markdown",
   "metadata": {},
   "source": [
    "Extract the numerical value"
   ]
  },
  {
   "cell_type": "code",
   "execution_count": null,
   "metadata": {
    "uuid": "0c46e097-c665-440e-9d05-03c0d6e6d8d8"
   },
   "outputs": [],
   "source": [
    "Fb - Fa  "
   ]
  },
  {
   "cell_type": "markdown",
   "metadata": {},
   "source": [
    "Solve the integral"
   ]
  },
  {
   "cell_type": "code",
   "execution_count": null,
   "metadata": {},
   "outputs": [],
   "source": [
    "# Solving Symbolically\n",
    "int_func_limits = sy.integrate(sy.sin(x) + 0.5 * x, (x, a, b))  \n",
    "\n",
    "# Solving numerically by using a dict contianing the limits\n",
    "int_func_limits.subs({a : 0.5, b : 9.5}).evalf()  \n",
    "\n",
    "# Solve in a single step\n",
    "sy.integrate(sy.sin(x) + 0.5 * x, (x, 0.5, 9.5))  "
   ]
  },
  {
   "cell_type": "markdown",
   "metadata": {},
   "source": [
    "### Differentiation\n",
    "\n",
    "Use the` sympy.diff()` function to yield the original"
   ]
  },
  {
   "cell_type": "code",
   "execution_count": null,
   "metadata": {
    "uuid": "6ea93bb3-eb7c-4837-8327-621f3752b657"
   },
   "outputs": [],
   "source": [
    "int_func.diff()"
   ]
  },
  {
   "cell_type": "code",
   "execution_count": null,
   "metadata": {
    "uuid": "164131fd-a197-40ce-85d6-94221e808073"
   },
   "outputs": [],
   "source": [
    "# Symbolic version of the function\n",
    "f = (sy.sin(x) + 0.05 * x ** 2 + sy.sin(y) + 0.05 * y ** 2)  "
   ]
  },
  {
   "cell_type": "code",
   "execution_count": null,
   "metadata": {
    "uuid": "5d1ce51b-2536-469b-b516-56db1e86519a"
   },
   "outputs": [],
   "source": [
    "# Derive 2 partial derivatives\n",
    "del_x = sy.diff(f, x)  \n",
    "del_y = sy.diff(f, y)  \n",
    "\n",
    "print(\"del_x:\", del_x)  \n",
    "print(\"del_y:\", del_y)  \n"
   ]
  },
  {
   "cell_type": "code",
   "execution_count": null,
   "metadata": {
    "uuid": "588daaba-266a-43da-a4b9-baeb56fc1ac8"
   },
   "outputs": [],
   "source": [
    "# Solving the partial derivatives\n",
    "xo = sy.nsolve(del_x, -1.5)  \n",
    "yo = sy.nsolve(del_y, -1.5)  \n",
    "\n",
    "print(\"xo:\", xo) \n",
    "print(\"yo:\", yo)"
   ]
  },
  {
   "cell_type": "code",
   "execution_count": null,
   "metadata": {},
   "outputs": [],
   "source": []
  },
  {
   "cell_type": "code",
   "execution_count": null,
   "metadata": {},
   "outputs": [],
   "source": []
  },
  {
   "cell_type": "code",
   "execution_count": null,
   "metadata": {},
   "outputs": [],
   "source": []
  }
 ],
 "metadata": {
  "kernelspec": {
   "display_name": "Python 3",
   "language": "python",
   "name": "python3"
  },
  "language_info": {
   "codemirror_mode": {
    "name": "ipython",
    "version": 3
   },
   "file_extension": ".py",
   "mimetype": "text/x-python",
   "name": "python",
   "nbconvert_exporter": "python",
   "pygments_lexer": "ipython3",
   "version": "3.8.3"
  }
 },
 "nbformat": 4,
 "nbformat_minor": 2
}
