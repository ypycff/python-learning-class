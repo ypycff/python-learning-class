{
 "cells": [
  {
   "cell_type": "markdown",
   "metadata": {},
   "source": [
    "<img style=\"float: right;\" width=\"120\" src=\"../Images/supplier-logo.png\">\n",
    "<img style=\"float: left; margin-top: 0\" width=\"80\" src=\"../Images/client-logo.png\">\n",
    "<br><br><br>\n"
   ]
  },
  {
   "cell_type": "markdown",
   "metadata": {},
   "source": [
    "# Synopsis\n",
    "\n",
    "This notebook will explain the following topics and concepts:\n",
    "\n",
    "\n",
    "1) What is a missing Value\n",
    "\n",
    "2) How missing Values are Created\n",
    "\n",
    "3) Calculations with missing values\n"
   ]
  },
  {
   "cell_type": "markdown",
   "metadata": {},
   "source": [
    "# What is NaN\n",
    "\n",
    "- Not A Number <BR>\n",
    "- Different from all other data types\n",
    "- Not equal to anything\n",
    "    \n",
    "    \n",
    "- Defined in `numpy`\n",
    "- 3 symbols - NAN, nan and NaN"
   ]
  },
  {
   "cell_type": "code",
   "execution_count": null,
   "metadata": {},
   "outputs": [],
   "source": [
    "# import missing values from numpy\n",
    "\n",
    "from numpy import NaN, NAN, nan"
   ]
  },
  {
   "cell_type": "markdown",
   "metadata": {},
   "source": [
    "## Comparing to other Values \n",
    "\n",
    "NaN is not equal to True, False, 0 or Empty Strings"
   ]
  },
  {
   "cell_type": "markdown",
   "metadata": {},
   "source": [
    "print(NaN == True)\n",
    "\n",
    "print(NaN == False)\n",
    "\n",
    "print(NaN == 0)\n",
    "\n",
    "print(NaN == '')\n"
   ]
  },
  {
   "cell_type": "markdown",
   "metadata": {},
   "source": [
    "## Comparing to other NaN \n",
    "\n",
    "NaN is not equal to other NaNs"
   ]
  },
  {
   "cell_type": "code",
   "execution_count": null,
   "metadata": {},
   "outputs": [],
   "source": [
    "print(NaN == NaN)\n",
    "\n",
    "print(NaN == nan)\n",
    "\n",
    "print(NaN == NAN)\n",
    "\n",
    "print(nan == NAN)"
   ]
  },
  {
   "cell_type": "markdown",
   "metadata": {},
   "source": [
    "## Testing for a missing value\n",
    "\n",
    "Use pandas inbuilt methods and functions\n",
    "\n",
    "- `isnull()` \n",
    "- `notnull()`"
   ]
  },
  {
   "cell_type": "code",
   "execution_count": null,
   "metadata": {},
   "outputs": [],
   "source": [
    "import pandas as pd\n",
    "\n",
    "print(pd.isnull(NaN))\n",
    "print(pd.isnull(nan))\n",
    "print(pd.isnull(NAN))\n",
    "\n",
    "print(pd.notnull(NaN))\n",
    "print(pd.notnull(42))\n",
    "print(pd.notnull('some text'))"
   ]
  },
  {
   "cell_type": "markdown",
   "metadata": {},
   "source": [
    "# Where does missing data come from \n",
    "\n",
    "Main sources are\n",
    "\n",
    "- from input data\n",
    "- from merging data\n",
    "- result of re-indexing\n",
    "\n",
    "\n",
    "Also less common are\n",
    "- user input\n",
    "- bugs incode"
   ]
  },
  {
   "cell_type": "markdown",
   "metadata": {},
   "source": [
    "## 1) From imput data"
   ]
  },
  {
   "cell_type": "code",
   "execution_count": null,
   "metadata": {},
   "outputs": [],
   "source": [
    "# Load in data - accept all defaults\n",
    "df = pd.read_csv(filepath_or_buffer='../Data/survey_visited.csv')\n",
    "\n",
    "display(df)"
   ]
  },
  {
   "cell_type": "code",
   "execution_count": null,
   "metadata": {},
   "outputs": [],
   "source": [
    "# Load in data - without defaul missing values\n",
    "\n",
    "df = pd.read_csv(filepath_or_buffer='../Data/survey_visited.csv', keep_default_na=False)\n",
    "\n",
    "display(df)"
   ]
  },
  {
   "cell_type": "code",
   "execution_count": null,
   "metadata": {},
   "outputs": [],
   "source": [
    "# Manually Specify missing values\n",
    "\n",
    "df = pd.read_csv(filepath_or_buffer='../Data/survey_visited.csv', na_values=[''], keep_default_na=False)\n",
    "\n",
    "display(df)"
   ]
  },
  {
   "cell_type": "markdown",
   "metadata": {},
   "source": [
    "## 2) From merging Data"
   ]
  },
  {
   "cell_type": "code",
   "execution_count": null,
   "metadata": {},
   "outputs": [],
   "source": [
    "visited = '../Data/survey_visited.csv'\n",
    "survey = '../Data/survey_survey.csv'\n",
    "\n",
    "df_visited = pd.read_csv(filepath_or_buffer=visited)\n",
    "df_survey = pd.read_csv(filepath_or_buffer=survey)\n",
    "\n",
    "df_merged = df_visited.merge(right = df_survey, left_on='ident', right_on='taken')\n",
    "\n",
    "display(df_merged)"
   ]
  },
  {
   "cell_type": "markdown",
   "metadata": {},
   "source": [
    "### 3) Reindexing"
   ]
  },
  {
   "cell_type": "code",
   "execution_count": null,
   "metadata": {},
   "outputs": [],
   "source": [
    "df_gap = pd.read_csv(filepath_or_buffer='../Data/gapminder.tsv', sep='\\t')\n",
    "\n",
    "# Group by year, take the lifeExp colum and calculate the mean\n",
    "life_exp = df_gap.groupby(by=['year'])['lifeExp'].mean()\n",
    "\n",
    "display(life_exp)\n",
    "\n",
    "# Re-Index from year 2000 to 2010 - causes a reindex\n",
    "display( life_exp.reindex(range(2000, 2010)) )"
   ]
  },
  {
   "cell_type": "markdown",
   "metadata": {},
   "source": [
    "# Working with missing Data"
   ]
  },
  {
   "cell_type": "markdown",
   "metadata": {},
   "source": [
    "## Find and Count missing data"
   ]
  },
  {
   "cell_type": "code",
   "execution_count": null,
   "metadata": {},
   "outputs": [],
   "source": [
    "df_countries = pd.read_csv(filepath_or_buffer='../Data/country_timeseries.csv')\n",
    "\n",
    "# Number of non-missing values\n",
    "print(df_countries.count())"
   ]
  },
  {
   "cell_type": "code",
   "execution_count": null,
   "metadata": {},
   "outputs": [],
   "source": [
    "# Subtract number of non missing rows from total number of rows\n",
    "num_rows = df_countries.shape[0]\n",
    "num_missing = num_rows - df_countries.count()\n",
    "print(num_missing)"
   ]
  },
  {
   "cell_type": "code",
   "execution_count": null,
   "metadata": {},
   "outputs": [],
   "source": [
    "# Use count_zero from numpy\n",
    "import numpy as np\n",
    "\n",
    "print(np.count_nonzero(df_countries.isnull()))\n",
    "\n",
    "print(np.count_nonzero(df_countries['Cases_Guinea'].isnull()))"
   ]
  },
  {
   "cell_type": "code",
   "execution_count": null,
   "metadata": {},
   "outputs": [],
   "source": [
    "# Use value counts for a frequency distribution\n",
    "display(df_countries['Cases_Guinea'].value_counts().head())\n",
    "\n",
    "\n",
    "# Drop NA to get number of missing values\n",
    "display(df_countries['Cases_Guinea'].value_counts(dropna=False).head())"
   ]
  },
  {
   "cell_type": "markdown",
   "metadata": {},
   "source": [
    "# Cleaning Missing Data"
   ]
  },
  {
   "cell_type": "markdown",
   "metadata": {},
   "source": [
    "## 1) Recode / Replace\n",
    "\n",
    "Use `fillna`"
   ]
  },
  {
   "cell_type": "code",
   "execution_count": null,
   "metadata": {},
   "outputs": [],
   "source": [
    "# recode missing values to be ZERO\n",
    "\n",
    "# Before\n",
    "print(df_countries.iloc[0:10, 0:5])\n",
    "\n",
    "# After\n",
    "print(df_countries.fillna(0).iloc[0:10, 0:5])"
   ]
  },
  {
   "cell_type": "markdown",
   "metadata": {},
   "source": [
    "## 2) Fill Forward"
   ]
  },
  {
   "cell_type": "code",
   "execution_count": null,
   "metadata": {},
   "outputs": [],
   "source": [
    "# Before\n",
    "print(df_countries.iloc[0:10, 0:5])\n",
    "\n",
    "# After\n",
    "print(df_countries.fillna(method='ffill').iloc[0:10, 0:5])"
   ]
  },
  {
   "cell_type": "markdown",
   "metadata": {},
   "source": [
    "## 3) Fill Backward"
   ]
  },
  {
   "cell_type": "code",
   "execution_count": null,
   "metadata": {},
   "outputs": [],
   "source": [
    "# Before\n",
    "print(df_countries.iloc[0:10, 0:5])\n",
    "\n",
    "# After\n",
    "print(df_countries.fillna(method='bfill').iloc[0:10, 0:5])"
   ]
  },
  {
   "cell_type": "markdown",
   "metadata": {},
   "source": [
    "## 4) Interpolate"
   ]
  },
  {
   "cell_type": "code",
   "execution_count": null,
   "metadata": {},
   "outputs": [],
   "source": [
    "# Before\n",
    "print(df_countries.iloc[0:10, 0:5])\n",
    "\n",
    "# After\n",
    "print(df_countries.interpolate().iloc[0:10, 0:5])"
   ]
  },
  {
   "cell_type": "markdown",
   "metadata": {},
   "source": [
    "## 5) Drop missing Values"
   ]
  },
  {
   "cell_type": "code",
   "execution_count": null,
   "metadata": {},
   "outputs": [],
   "source": [
    "# Before\n",
    "print(df_countries.shape)\n",
    "\n",
    "# After\n",
    "print(df_countries.dropna().shape)"
   ]
  },
  {
   "cell_type": "markdown",
   "metadata": {},
   "source": [
    "# Calculations with Missing Data"
   ]
  },
  {
   "cell_type": "code",
   "execution_count": null,
   "metadata": {},
   "outputs": [],
   "source": [
    "# Before\n",
    "df_countries['Multiple'] = df_countries['Cases_Guinea'] + \\\n",
    "                           df_countries['Cases_Liberia'] + \\\n",
    "                           df_countries['Cases_SierraLeone']\n",
    "\n",
    "cols = ['Cases_Guinea', 'Cases_Liberia', 'Cases_SierraLeone', 'Multiple']\n",
    "df_countries.loc[:, cols].head(10)\n",
    "\n",
    "# Note the MUltiple column is only calcualtes when ALL individual cells have data "
   ]
  },
  {
   "cell_type": "markdown",
   "metadata": {},
   "source": [
    "Many inuilt mehtods have a `skipna` parameter\n",
    "\n",
    "e.g. `sum()`, `mean()` etc etc"
   ]
  },
  {
   "cell_type": "code",
   "execution_count": null,
   "metadata": {},
   "outputs": [],
   "source": [
    "# Default\n",
    "print(df_countries[cols].sum())\n",
    "\n",
    "#skipna = True - also the default\n",
    "print(df_countries[cols].sum(skipna=True))\n",
    "\n",
    "# Adding NAN to a numebr results in NaN\n",
    "print(df_countries[cols].sum(skipna=False))"
   ]
  },
  {
   "cell_type": "code",
   "execution_count": null,
   "metadata": {},
   "outputs": [],
   "source": []
  }
 ],
 "metadata": {
  "kernelspec": {
   "display_name": "Python 3",
   "language": "python",
   "name": "python3"
  },
  "language_info": {
   "codemirror_mode": {
    "name": "ipython",
    "version": 3
   },
   "file_extension": ".py",
   "mimetype": "text/x-python",
   "name": "python",
   "nbconvert_exporter": "python",
   "pygments_lexer": "ipython3",
   "version": "3.7.4"
  }
 },
 "nbformat": 4,
 "nbformat_minor": 2
}
