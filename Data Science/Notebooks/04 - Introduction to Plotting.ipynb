{
 "cells": [
  {
   "cell_type": "markdown",
   "metadata": {},
   "source": [
    "<img style=\"float: right;\" width=\"120\" src=\"../Images/supplier-logo.png\">\n",
    "<img style=\"float: left; margin-top: 0\" width=\"80\" src=\"../Images/client-logo.png\">\n",
    "<br><br><br>"
   ]
  },
  {
   "cell_type": "markdown",
   "metadata": {},
   "source": [
    "# Synopsis\n",
    "\n",
    "This notebook will presetns an overivew of plotting data and more importantly the benefits of visualizing data and the pitfalls of not visualizing data.\n",
    "\n",
    "It uses the most common plotting packages used by python, `matplotlib`\n",
    "\n",
    "The data it uses is called **Anscombe's quarter**\n",
    "- developed by Frank Ascombe\n",
    "- designed to show the importance of statitical graphs\n",
    "- contains 4 sets of data\n",
    "- each set contains 2 continuous variables\n",
    "- each set has the same mean, variance, correlation and regression\n",
    "\n",
    "Only when the data is visualized deos it become apparent that each dataset does not follow the same pattern.\n",
    "\n"
   ]
  },
  {
   "cell_type": "code",
   "execution_count": null,
   "metadata": {},
   "outputs": [],
   "source": [
    "import pandas as pd\n",
    "\n",
    "# format for floats\n",
    "pd.options.display.float_format = '{:,.2f}'.format\n",
    "\n",
    "df = pd.read_excel(io=\"../Data/plotting_data.xls\", sheet_name='anscombe', index_col='ID')"
   ]
  },
  {
   "cell_type": "markdown",
   "metadata": {},
   "source": [
    "# Matplotlib\n",
    "\n",
    "%matplotlib inline is a **magic** command.<br>\n",
    "It means when plotting matplotlib charts, embed them directly into the notebook"
   ]
  },
  {
   "cell_type": "code",
   "execution_count": null,
   "metadata": {},
   "outputs": [],
   "source": [
    "import matplotlib.pyplot as plt\n",
    "%matplotlib inline"
   ]
  },
  {
   "cell_type": "code",
   "execution_count": null,
   "metadata": {},
   "outputs": [],
   "source": [
    "# plot only dataset 'I'\n",
    "fltr = df['dataset'] == 'I'\n",
    "df_I = df[fltr]\n",
    "\n",
    "# extract the x and y values\n",
    "xI = df_I['x']\n",
    "yI = df_I['y']\n",
    "\n",
    "# plot\n",
    "plt.plot(xI, yI)\n",
    "plt.plot(xI, yI, 'o')"
   ]
  },
  {
   "cell_type": "markdown",
   "metadata": {},
   "source": [
    "## Plot all 4 datasets on a single figure\n",
    "\n",
    "- Extract the 4 datasets from the dataframe\n",
    "- Create a figure & add 4 sub plots to the figure\n",
    "- Plot each dataset on its corresponding sub_plot\n",
    "- Add some titles  etc"
   ]
  },
  {
   "cell_type": "code",
   "execution_count": null,
   "metadata": {},
   "outputs": [],
   "source": [
    "# Extract the 4 datasets from the dataframe\n",
    "\n",
    "df_I = df[df['dataset'] == 'I']\n",
    "df_II = df[df['dataset'] == 'II']\n",
    "df_III = df[df['dataset'] == 'III']\n",
    "df_IV = df[df['dataset'] == 'IV']"
   ]
  },
  {
   "cell_type": "code",
   "execution_count": null,
   "metadata": {},
   "outputs": [],
   "source": [
    "# Create a Figure\n",
    "fig = plt.figure(figsize=(18,6))\n",
    "\n",
    "# Add 4 subplots\n",
    "# subplot takes (num rows, num columns, plot location)\n",
    "ax1 = fig.add_subplot(2,2,1)\n",
    "ax2 = fig.add_subplot(2,2,2)\n",
    "ax3 = fig.add_subplot(2,2,3)\n",
    "ax4 = fig.add_subplot(2,2,4)\n",
    "\n",
    "# plot each dataset on its corresponding sub_plot\n",
    "ax1.plot(df_I['x'], df_I['y'], 'o')\n",
    "ax2.plot(df_II['x'], df_II['y'], 'o')\n",
    "ax3.plot(df_III['x'], df_III['y'], 'o')\n",
    "ax4.plot(df_IV['x'], df_IV['y'], 'o')\n",
    "\n",
    "# Add some titles etc\n",
    "ax1.set_title('Dataset 1')\n",
    "ax2.set_title('Dataset 2')\n",
    "ax3.set_title('Dataset 3')\n",
    "ax4.set_title('Dataset 4')\n",
    "\n",
    "# Title of entire figure\n",
    "fig.suptitle(\"Anscombe Data\")\n",
    "\n",
    "# Use a tight layout\n",
    "fig.tight_layout()"
   ]
  },
  {
   "cell_type": "markdown",
   "metadata": {},
   "source": [
    "# Anatomy of a figure"
   ]
  },
  {
   "cell_type": "markdown",
   "metadata": {},
   "source": [
    "<img style=\"float: left; margin-top: 0\" width=\"300\" src=\"../Images/subplot.png\">\n",
    "<img style=\"float: centre; margin-top: 0\" width=\"300\" src=\"../Images/figure.webp\">\n",
    "<br>\n"
   ]
  },
  {
   "cell_type": "markdown",
   "metadata": {},
   "source": [
    "**NOTE** \n",
    "- difference between `axes` and `axis`\n",
    "- both pronounced the same\n",
    "- one is singlular, one is plural\n",
    "- both refer to different parts of a figure\n",
    "- axes contains mulitple axis\n",
    "- here axes contains and x-axis and a y-axis"
   ]
  },
  {
   "cell_type": "markdown",
   "metadata": {},
   "source": [
    "# Plotting statistics using matplotlib\n",
    "\n",
    "**Univariate** - a single variable<br>\n",
    "**Bivariate** - two row labels<br>\n",
    "**Multivariate** - multiple row labels\n"
   ]
  },
  {
   "cell_type": "code",
   "execution_count": null,
   "metadata": {},
   "outputs": [],
   "source": [
    "import matplotlib.pyplot as plt\n",
    "%matplotlib inline\n",
    "\n",
    "df.head()"
   ]
  },
  {
   "cell_type": "markdown",
   "metadata": {},
   "source": [
    "## Histograms"
   ]
  },
  {
   "cell_type": "code",
   "execution_count": null,
   "metadata": {},
   "outputs": [],
   "source": [
    "df = pd.read_excel(io=\"../Data/plotting_data.xls\", sheet_name='tips', index_col='ID')\n",
    "x_data = df['total_bill']\n",
    "\n",
    "hist_plot = plt.figure()\n",
    "\n",
    "ax1 = hist_plot.add_subplot(1,1,1)\n",
    "ax1.hist(x = x_data, bins=10)\n",
    "ax1.set_title('Histogram of Total Bill')\n",
    "ax1.set_xlabel('Frequency')\n",
    "ax1.set_ylabel('Total Bill')\n",
    "\n",
    "hist_plot.show()"
   ]
  },
  {
   "cell_type": "markdown",
   "metadata": {},
   "source": [
    "## Scatterplot"
   ]
  },
  {
   "cell_type": "code",
   "execution_count": null,
   "metadata": {},
   "outputs": [],
   "source": [
    "scatter_plot = plt.figure()\n",
    "\n",
    "x_data = df['total_bill']\n",
    "y_data = df['tip']\n",
    "\n",
    "ax1 = scatter_plot.add_subplot(1,1,1)\n",
    "\n",
    "ax1.scatter(x = x_data, y = y_data)\n",
    "ax1.set_title('Scatterplot of Total Bill vs Tips')\n",
    "ax1.set_xlabel('Total Bill')\n",
    "ax1.set_ylabel('Tips')\n",
    "\n",
    "hist_plot.show()"
   ]
  },
  {
   "cell_type": "markdown",
   "metadata": {},
   "source": [
    "## Boxplots\n",
    "\n",
    "Used when a discrete variable is plotted against a continuous variable"
   ]
  },
  {
   "cell_type": "code",
   "execution_count": null,
   "metadata": {},
   "outputs": [],
   "source": [
    "box_plot = plt.figure()\n",
    "\n",
    "female_tips = df[df['sex'] == 'Female']['tip']\n",
    "male_tips = df[df['sex'] == 'Male']['tip']\n",
    "\n",
    "ax1 = box_plot.add_subplot(1,1,1)\n",
    "ax1.boxplot(x = [female_tips, male_tips], labels=['Female', 'Male'])\n",
    "ax1.set_title('Boxplot of Tips by Gender')\n",
    "ax1.set_xlabel('Gender')\n",
    "ax1.set_ylabel('Tips')\n",
    "\n",
    "box_plot.show()"
   ]
  },
  {
   "cell_type": "markdown",
   "metadata": {},
   "source": [
    "## Multivariate Data\n",
    "\n",
    "- Plotting this is doable but tricky\n",
    "- No single way to visualize such data\n",
    "- How to distinguish values of different labels"
   ]
  },
  {
   "cell_type": "code",
   "execution_count": null,
   "metadata": {},
   "outputs": [],
   "source": [
    "# recode gender to a colour value\n",
    "def recode_gender(g):\n",
    "    if g == 'Female':\n",
    "        return 0\n",
    "    else:\n",
    "        return 1\n",
    "    \n",
    "df['Gender(Colour)'] = df['sex'].apply(recode_gender)\n",
    "\n",
    "scatter_plot = plt.figure()\n",
    "\n",
    "ax1 = scatter_plot.add_subplot(1,1,1)\n",
    "ax1.scatter(x=df['total_bill'], y=df['tip'], c=df['Gender(Colour)'], alpha = 0.5)\n",
    "\n",
    "\n",
    "ax1.set_title('Total Bill vs Tip - Coloured by Gender & Sized by Tip')\n",
    "ax1.set_xlabel('Total Bill')\n",
    "ax1.set_ylabel('Tip')\n",
    "\n",
    "scatter_plot.show()"
   ]
  },
  {
   "cell_type": "markdown",
   "metadata": {},
   "source": [
    "# Seaborn\n"
   ]
  },
  {
   "cell_type": "code",
   "execution_count": null,
   "metadata": {},
   "outputs": [],
   "source": [
    "import seaborn as sns\n",
    "\n",
    "df = pd.read_excel(io=\"../Data/plotting_data.xls\", sheet_name='tips', index_col='ID')"
   ]
  },
  {
   "cell_type": "markdown",
   "metadata": {},
   "source": [
    "## Histograms"
   ]
  },
  {
   "cell_type": "code",
   "execution_count": null,
   "metadata": {},
   "outputs": [],
   "source": [
    "# this subplots function returns 2 values as a tuple\n",
    "# a figure\n",
    "# a subplot added to the figure\n",
    "\n",
    "hist_plot, ax1 = plt.subplots()\n",
    "\n",
    "ax1 = sns.distplot(a = df['total_bill'])\n",
    "ax1.set_title('Total Bill Histogram with density plot')\n",
    "\n",
    "plt.show()\n"
   ]
  },
  {
   "cell_type": "code",
   "execution_count": null,
   "metadata": {},
   "outputs": [],
   "source": [
    "# Same thing but without the denisty\n",
    "# supply a kde argument and set it to False\n",
    "hist_plot, ax1 = plt.subplots()\n",
    "\n",
    "ax1 = sns.distplot(a = df['total_bill'], kde=False)\n",
    "ax1.set_title('Total Bill Histogram')\n",
    "ax1.set_xlabel('Total Bill')\n",
    "ax1.set_ylabel('Frequency')\n",
    "\n",
    "plt.show()\n"
   ]
  },
  {
   "cell_type": "markdown",
   "metadata": {},
   "source": [
    "## Density Pot\n",
    "\n",
    "**Kernel Density Estimation**"
   ]
  },
  {
   "cell_type": "code",
   "execution_count": null,
   "metadata": {},
   "outputs": [],
   "source": [
    "den_plot, ax1 = plt.subplots()\n",
    "\n",
    "ax1 = sns.distplot(a = df['total_bill'], hist=False)\n",
    "ax1.set_title('Total Bill Density')\n",
    "ax1.set_xlabel('Total Bill')\n",
    "ax1.set_ylabel('Unit Probability')\n",
    "\n",
    "plt.show()"
   ]
  },
  {
   "cell_type": "markdown",
   "metadata": {},
   "source": [
    "## Rug Plots\n",
    "\n",
    "- 1 dimensional representation of a variables distribution\n",
    "- usually used with other plots to enhance visualization"
   ]
  },
  {
   "cell_type": "code",
   "execution_count": null,
   "metadata": {},
   "outputs": [],
   "source": [
    "hist_den_rug_plot, ax1 = plt.subplots()\n",
    "\n",
    "ax1 = sns.distplot(a = df['total_bill'], rug=True)\n",
    "ax1.set_title('Total Bill Histogram with Density and Rug Plot')\n",
    "ax1.set_xlabel('Total Bill')\n",
    "\n",
    "plt.show()"
   ]
  },
  {
   "cell_type": "markdown",
   "metadata": {},
   "source": [
    "## Bar Plots"
   ]
  },
  {
   "cell_type": "code",
   "execution_count": null,
   "metadata": {},
   "outputs": [],
   "source": [
    "count_plot, ax1 = plt.subplots()\n",
    "\n",
    "ax1 = sns.countplot(x='day', data=df)\n",
    "ax1.set_title('Count of Days')\n",
    "ax1.set_xlabel('Day of Week')\n",
    "ax1.set_xlabel('Frequency')\n",
    "\n",
    "plt.show()"
   ]
  },
  {
   "cell_type": "markdown",
   "metadata": {},
   "source": [
    "## Scatterplot\n",
    "\n",
    "- No `scatter` function in `seaborn`, use `regplot` instead.\n",
    "- plots a scatterpoot **and** fits a regression line\n",
    "- use `fit_reg=False` to toggle regression line on/off"
   ]
  },
  {
   "cell_type": "code",
   "execution_count": null,
   "metadata": {},
   "outputs": [],
   "source": [
    "scatter_plot, ax1 = plt.subplots()\n",
    "\n",
    "ax = sns.regplot(x='total_bill', y='tip', data=df)\n",
    "\n",
    "ax1.set_title('Scatter Plot of Total Bill and Tip')\n",
    "ax1.set_xlabel('Total Bill')\n",
    "ax1.set_xlabel('Tip')\n",
    "\n",
    "plt.show()"
   ]
  },
  {
   "cell_type": "markdown",
   "metadata": {},
   "source": [
    "Alternative is to use `lmplot`<br>\n",
    "`lmplot` calls `regplot`<br>\n",
    "`lmplot` creates `figures`, `replot` creates axes<br>"
   ]
  },
  {
   "cell_type": "code",
   "execution_count": null,
   "metadata": {},
   "outputs": [],
   "source": [
    "fig = sns.lmplot(x='total_bill', y='tip', data=df)\n",
    "\n",
    "plt.show()"
   ]
  },
  {
   "cell_type": "markdown",
   "metadata": {},
   "source": [
    "Or use `jointplot`<br>\n",
    "`jointplot` creates a scatter that includes a univariate plot on each axis<br>\n",
    "`jointplot` does not return axes, so no need to create a figure<br>\n",
    "`jointplot` creates a `JointGrid` object"
   ]
  },
  {
   "cell_type": "code",
   "execution_count": null,
   "metadata": {},
   "outputs": [],
   "source": [
    "joint_grid = sns.jointplot(x='total_bill', y='tip', data=df)\n",
    "joint_grid.set_axis_labels(xlabel='Total Bill', ylabel='Tip')\n",
    "joint_grid.fig.suptitle(t='Joint Plot of Total Bill and Tip', fontsize=10, y=1.03)"
   ]
  },
  {
   "cell_type": "markdown",
   "metadata": {},
   "source": [
    "# Hexbins\n",
    "\n",
    "- Group points on a scatter plit into larger points.\n",
    "- In the same way that a `histogram` can bin a variable to create a `bar`\n",
    "- `hexbin` can bin variables to create hexagons"
   ]
  },
  {
   "cell_type": "code",
   "execution_count": null,
   "metadata": {},
   "outputs": [],
   "source": [
    "hexbin = sns.jointplot(x=\"total_bill\", y='tip', data=df, kind='hex')\n",
    "hexbin.set_axis_labels(xlabel='Total Bill', ylabel='Tip')\n",
    "hexbin.fig.suptitle(t='Hexbin Joint Plot of Total Bill and Tip', fontsize=10, y=1.03)"
   ]
  },
  {
   "cell_type": "markdown",
   "metadata": {},
   "source": [
    "# 2D Density Plots\n",
    "\n",
    "- similar to `sns.kdeplot`\n",
    "- Create a density plot across a bivariate (2 variables)\n",
    "- Can show just the bivariate\n",
    "- or show the invividual univariates"
   ]
  },
  {
   "cell_type": "code",
   "execution_count": null,
   "metadata": {},
   "outputs": [],
   "source": [
    "# Just the bivariate\n",
    "kde, ax1 = plt.subplots()\n",
    "\n",
    "ax1 = sns.kdeplot(data=df['total_bill'], data2=df['tip'], shade=True) # toggle shade True/False\n",
    "ax1.set_title('Kernek Density Plot of Total Bill & Tip')\n",
    "ax1.set_xlabel(\"Total Bill\")\n",
    "ax1.set_ylabel('Tip')\n",
    "\n",
    "plt.show()"
   ]
  },
  {
   "cell_type": "code",
   "execution_count": null,
   "metadata": {},
   "outputs": [],
   "source": [
    "# Include the univariates\n",
    "kde_joint = sns.jointplot(x='total_bill', y='tip', data=df, kind='kde')"
   ]
  },
  {
   "cell_type": "markdown",
   "metadata": {},
   "source": [
    "# Bar Plots\n",
    "Default is to calculate the `mean`<br>\n",
    "Use the `estimator` parameter to pass in any function<br>"
   ]
  },
  {
   "cell_type": "code",
   "execution_count": null,
   "metadata": {},
   "outputs": [],
   "source": [
    "bar, ax1 = plt.subplots()\n",
    "\n",
    "ax1 = sns.barplot(x='time', y='total_bill', data=df)\n",
    "ax1.set_title('Bar plot of average total bill for time of day')\n",
    "ax1.set_xlabel('Time of day')\n",
    "ax1.set_ylabel('Average total bill')\n",
    "\n",
    "plt.show()"
   ]
  },
  {
   "cell_type": "markdown",
   "metadata": {},
   "source": [
    "## Box Plots\n",
    "\n",
    "- Use to show multiple statistics<br>\n",
    "- e.g. quartiles, max, min, outliers etc"
   ]
  },
  {
   "cell_type": "code",
   "execution_count": null,
   "metadata": {},
   "outputs": [],
   "source": [
    "box, ax1 = plt.subplots()\n",
    "\n",
    "ax1 = sns.boxplot(x='time', y='total_bill', data=df)\n",
    "ax1.set_title('Box plot of total bill by time of day')\n",
    "ax1.set_xlabel('Time of day')\n",
    "ax1.set_ylabel('Total bill')\n",
    "\n",
    "plt.show()"
   ]
  },
  {
   "cell_type": "markdown",
   "metadata": {},
   "source": [
    "## Violin Plot\n",
    "\n",
    "Include the distribution of the data"
   ]
  },
  {
   "cell_type": "code",
   "execution_count": null,
   "metadata": {},
   "outputs": [],
   "source": [
    "violin, ax1 = plt.subplots()\n",
    "\n",
    "ax1 = sns.violinplot(x='time', y='total_bill', data=df)\n",
    "ax1.set_title('Violin plot of total bill by time of day')\n",
    "ax1.set_xlabel('Time of day')\n",
    "ax1.set_ylabel('Total bill')\n",
    "\n",
    "plt.show()"
   ]
  },
  {
   "cell_type": "markdown",
   "metadata": {},
   "source": [
    "## Pairwise Plots\n",
    "\n",
    "- `pairplot` visualizes **ALL** pairwise relationships \n",
    "- Creates lots of redundant information\n",
    "- Use `PairGrid` and manually assign plots for the top hald and bottom half"
   ]
  },
  {
   "cell_type": "code",
   "execution_count": null,
   "metadata": {},
   "outputs": [],
   "source": [
    "pair_grid = sns.PairGrid(data = df)\n",
    "\n",
    "pair_grid = pair_grid.map_upper(sns.regplot) # or use plt.scatter\n",
    "pair_grid = pair_grid.map_lower(sns.kdeplot)\n",
    "pair_grid = pair_grid.map_diag(sns.distplot, rug=True)\n",
    "\n",
    "plt.show()"
   ]
  },
  {
   "cell_type": "markdown",
   "metadata": {},
   "source": [
    "## Multivariate Data & Colours\n",
    "\n",
    "No standard way to show this.\n",
    "\n",
    "Use colours to distinguish bewteen gender in previous example\n",
    "\n",
    "Using violin plot with and without `split` parameter"
   ]
  },
  {
   "cell_type": "code",
   "execution_count": null,
   "metadata": {},
   "outputs": [],
   "source": [
    "violin, ax1 = plt.subplots()\n",
    "\n",
    "ax1 = sns.violinplot(x='time', y='total_bill', data=df, hue='sex')\n",
    "\n",
    "plt.show()"
   ]
  },
  {
   "cell_type": "code",
   "execution_count": null,
   "metadata": {},
   "outputs": [],
   "source": [
    "violin, ax1 = plt.subplots()\n",
    "\n",
    "ax1 = sns.violinplot(x='time', y='total_bill', data=df, hue='sex', split=True)\n",
    "\n",
    "plt.show()"
   ]
  },
  {
   "cell_type": "code",
   "execution_count": null,
   "metadata": {},
   "outputs": [],
   "source": [
    "scatter = sns.lmplot(x='total_bill', y='tip', data=df, hue='sex', fit_reg=True)"
   ]
  },
  {
   "cell_type": "code",
   "execution_count": null,
   "metadata": {},
   "outputs": [],
   "source": [
    "fig = sns.pairplot(df, hue='sex')"
   ]
  },
  {
   "cell_type": "markdown",
   "metadata": {},
   "source": [
    "# Pandas Plotting Functions\n",
    "\n",
    "Pandas comes with its own in-built plotting function<br>\n",
    "General format is usually\n",
    "- `DataFrame.plot.PLOT_TYPE` <br>\n",
    "- `Series.plot.PLOT_TYPE`"
   ]
  },
  {
   "cell_type": "markdown",
   "metadata": {},
   "source": [
    "## Histograms"
   ]
  },
  {
   "cell_type": "code",
   "execution_count": null,
   "metadata": {},
   "outputs": [],
   "source": [
    "# a series\n",
    "df['total_bill'].plot.hist()"
   ]
  },
  {
   "cell_type": "code",
   "execution_count": null,
   "metadata": {},
   "outputs": [],
   "source": [
    "# an entire DataFrame\n",
    "df.plot.hist()"
   ]
  },
  {
   "cell_type": "markdown",
   "metadata": {},
   "source": [
    "## Density Plots"
   ]
  },
  {
   "cell_type": "code",
   "execution_count": null,
   "metadata": {},
   "outputs": [],
   "source": [
    "# Series\n",
    "df['tip'].plot.kde()"
   ]
  },
  {
   "cell_type": "code",
   "execution_count": null,
   "metadata": {},
   "outputs": [],
   "source": [
    "# DataFrame\n",
    "cols=['total_bill', 'tip']\n",
    "df[cols].plot.kde()"
   ]
  },
  {
   "cell_type": "markdown",
   "metadata": {},
   "source": [
    "## Scatterplot"
   ]
  },
  {
   "cell_type": "code",
   "execution_count": null,
   "metadata": {},
   "outputs": [],
   "source": [
    "\n",
    "df.plot.scatter(x='total_bill', y='tip')"
   ]
  },
  {
   "cell_type": "markdown",
   "metadata": {},
   "source": [
    "## Hexbin\n",
    "\n",
    "Use `gridsize` argument where appropriate"
   ]
  },
  {
   "cell_type": "code",
   "execution_count": null,
   "metadata": {},
   "outputs": [],
   "source": [
    "df.plot.hexbin(x='total_bill', y='tip', gridsize=10)"
   ]
  },
  {
   "cell_type": "markdown",
   "metadata": {},
   "source": [
    "## Box plot\n"
   ]
  },
  {
   "cell_type": "code",
   "execution_count": null,
   "metadata": {},
   "outputs": [],
   "source": [
    "df.plot.box()"
   ]
  },
  {
   "cell_type": "markdown",
   "metadata": {},
   "source": [
    "# Seaborn Styles\n",
    "\n",
    "Seaborn comes with some inbuilt styles.\n",
    "\n",
    "To use these, call the `sns.set_style` once (usually at the top of your code)\n",
    "\n",
    "Common styles are darkgrid, whitegrid, dark, white, ticks"
   ]
  },
  {
   "cell_type": "code",
   "execution_count": null,
   "metadata": {},
   "outputs": [],
   "source": [
    "# Default Style\n",
    "fig, ax1 = plt.subplots()\n",
    "\n",
    "ax1 = sns.violinplot(x='time', y='total_bill', hue='sex', data=df, split=True)\n",
    "\n",
    "plt.show()"
   ]
  },
  {
   "cell_type": "code",
   "execution_count": null,
   "metadata": {},
   "outputs": [],
   "source": [
    "# Darkgrid\n",
    "sns.set_style('darkgrid')\n",
    "\n",
    "fig, ax1 = plt.subplots()\n",
    "\n",
    "ax1 = sns.violinplot(x='time', y='total_bill', hue='sex', data=df, split=True)\n",
    "\n",
    "plt.show()"
   ]
  },
  {
   "cell_type": "code",
   "execution_count": null,
   "metadata": {},
   "outputs": [],
   "source": [
    "# Show a few styles\n",
    "\n",
    "fig = plt.figure(figsize=(18,9))\n",
    "\n",
    "styles = ['darkgrid', 'whitegrid', 'dark', 'white', 'ticks']\n",
    "\n",
    "for idx, style in enumerate(styles):\n",
    "    plot_position = idx + 1\n",
    "    with sns.axes_style(style):\n",
    "        ax = fig.add_subplot(2,3,plot_position)\n",
    "        violin = sns.violinplot(x='time', y='total_bill', hue='sex', data=df, split=True)\n",
    "        violin.set_title(style)\n",
    "\n",
    "fig.tight_layout()\n",
    "plt.show()"
   ]
  },
  {
   "cell_type": "code",
   "execution_count": null,
   "metadata": {},
   "outputs": [],
   "source": []
  },
  {
   "cell_type": "code",
   "execution_count": null,
   "metadata": {},
   "outputs": [],
   "source": []
  },
  {
   "cell_type": "code",
   "execution_count": null,
   "metadata": {},
   "outputs": [],
   "source": []
  }
 ],
 "metadata": {
  "kernelspec": {
   "display_name": "Python 3",
   "language": "python",
   "name": "python3"
  },
  "language_info": {
   "codemirror_mode": {
    "name": "ipython",
    "version": 3
   },
   "file_extension": ".py",
   "mimetype": "text/x-python",
   "name": "python",
   "nbconvert_exporter": "python",
   "pygments_lexer": "ipython3",
   "version": "3.7.4"
  }
 },
 "nbformat": 4,
 "nbformat_minor": 2
}
