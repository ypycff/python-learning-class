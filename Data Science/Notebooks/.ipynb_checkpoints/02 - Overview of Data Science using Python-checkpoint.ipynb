{
 "cells": [
  {
   "cell_type": "markdown",
   "metadata": {},
   "source": [
    "<img style=\"float: right;\" width=\"120\" src=\"../Images/supplier-logo.png\">\n",
    "<img style=\"float: left; margin-top: 0\" width=\"80\" src=\"../Images/client-logo.png\">\n",
    "<br><br><br>\n"
   ]
  },
  {
   "cell_type": "markdown",
   "metadata": {},
   "source": [
    "# Synopsis\n",
    "\n",
    "This notebook is a quick tour of some of the tools you will be using to perform data analysis on Financial Markets Data using the python suite of technologies.\n",
    "\n",
    "At the end of this notebook you will have a solid grounding in the following areas:\n",
    "\n",
    "- **Jupyter Notebook** - How to use the Jupyter notebook to perform Data Analysis using Python.\n",
    "<br><br>\n",
    "- **Data Analysis** - A sense of the type of analysis you can reasonably expect to be able to perform using this technology.\n",
    "<br><br>\n",
    "- **Python Packages** - pandas, numpy and matplotlib.pyplot and what they are used for.\n",
    "<br><br>\n",
    "**Note That:**\n",
    "- This is a quick tour of data analysis using python.\n",
    "\n",
    "- There will be a lot of commands and character sequences that you do not understand.\n",
    "\n",
    "- Do not **panic** or **worry** about this, we will be explaining all of these in due course.\n",
    "\n",
    "- The important part of this introductory session is for you to get a sense of what you can do with this technology.\n",
    "\n",
    "- We will cover the \"nitty gritty\" in later labs and notebooks"
   ]
  },
  {
   "cell_type": "markdown",
   "metadata": {},
   "source": [
    "# Packages\n",
    "\n",
    "- In order to perform any analysis on data, you must load the correct python package into your notebook.\n",
    "<br><br>\n",
    "- A package (sometimes called a library) is essentially a set of python commands, functions and methods that you can type into your notebook to perform some work and get some results.\n",
    "<br><br>\n",
    "- You will use different python packages to perform different types of work.\n",
    "<br><br>\n",
    "- For example, producing graphs and charts requires a different package (set of commands) than performing heavy duty mathematical computation.\n",
    "<br><br>\n",
    "- The main package we will use in this course is the package that allows us to work with tables of data, very similar to using a spreadsheet such as Microsoft Excel, Google Charts or Apple Numbers.\n",
    "<br><br>\n",
    "- This python library is called **pandas**.\n",
    "<br><br>\n",
    "- Use the **import** statement to load this package into your notebook"
   ]
  },
  {
   "cell_type": "code",
   "execution_count": 1,
   "metadata": {},
   "outputs": [],
   "source": [
    "import pandas as pd"
   ]
  },
  {
   "cell_type": "markdown",
   "metadata": {},
   "source": [
    "# python\n",
    "\n",
    "** Congratulations!!!!! ** -- You have just executed your first line of python code. "
   ]
  },
  {
   "cell_type": "markdown",
   "metadata": {},
   "source": [
    "# DataFrames\n",
    "\n",
    "- A DataFrame is a rectangular table of data.\n",
    "- Contains rows and columns\n",
    "- Columns have headings\n",
    "- Rows have an index\n"
   ]
  },
  {
   "cell_type": "markdown",
   "metadata": {},
   "source": [
    "## DataFrames - Creating a DataFrame from a csv file\n",
    "\n",
    "There are quite a few ways to create a DataFrame.\n",
    "<br><br>\n",
    "Load in the data in the worksheet sp500 form the spreadsheet sample_data.xls"
   ]
  },
  {
   "cell_type": "code",
   "execution_count": 9,
   "metadata": {},
   "outputs": [
    {
     "data": {
      "text/html": [
       "<div>\n",
       "<style scoped>\n",
       "    .dataframe tbody tr th:only-of-type {\n",
       "        vertical-align: middle;\n",
       "    }\n",
       "\n",
       "    .dataframe tbody tr th {\n",
       "        vertical-align: top;\n",
       "    }\n",
       "\n",
       "    .dataframe thead th {\n",
       "        text-align: right;\n",
       "    }\n",
       "</style>\n",
       "<table border=\"1\" class=\"dataframe\">\n",
       "  <thead>\n",
       "    <tr style=\"text-align: right;\">\n",
       "      <th></th>\n",
       "      <th>Name</th>\n",
       "      <th>Sector</th>\n",
       "      <th>Price</th>\n",
       "      <th>Price/Earnings</th>\n",
       "      <th>Earnings/Share</th>\n",
       "      <th>52 Week High</th>\n",
       "      <th>52 Week Low</th>\n",
       "    </tr>\n",
       "    <tr>\n",
       "      <th>Symbol</th>\n",
       "      <th></th>\n",
       "      <th></th>\n",
       "      <th></th>\n",
       "      <th></th>\n",
       "      <th></th>\n",
       "      <th></th>\n",
       "      <th></th>\n",
       "    </tr>\n",
       "  </thead>\n",
       "  <tbody>\n",
       "    <tr>\n",
       "      <td>MMM</td>\n",
       "      <td>3M Company</td>\n",
       "      <td>Industrials</td>\n",
       "      <td>222.89</td>\n",
       "      <td>24.31</td>\n",
       "      <td>7.92</td>\n",
       "      <td>259.77</td>\n",
       "      <td>175.490</td>\n",
       "    </tr>\n",
       "    <tr>\n",
       "      <td>AOS</td>\n",
       "      <td>A.O. Smith Corp</td>\n",
       "      <td>Industrials</td>\n",
       "      <td>60.24</td>\n",
       "      <td>27.76</td>\n",
       "      <td>1.70</td>\n",
       "      <td>68.39</td>\n",
       "      <td>48.925</td>\n",
       "    </tr>\n",
       "    <tr>\n",
       "      <td>ABT</td>\n",
       "      <td>Abbott Laboratories</td>\n",
       "      <td>Health Care</td>\n",
       "      <td>56.27</td>\n",
       "      <td>22.51</td>\n",
       "      <td>0.26</td>\n",
       "      <td>64.60</td>\n",
       "      <td>42.280</td>\n",
       "    </tr>\n",
       "    <tr>\n",
       "      <td>ABBV</td>\n",
       "      <td>AbbVie Inc.</td>\n",
       "      <td>Health Care</td>\n",
       "      <td>108.48</td>\n",
       "      <td>19.41</td>\n",
       "      <td>3.29</td>\n",
       "      <td>125.86</td>\n",
       "      <td>60.050</td>\n",
       "    </tr>\n",
       "    <tr>\n",
       "      <td>ACN</td>\n",
       "      <td>Accenture plc</td>\n",
       "      <td>Information Technology</td>\n",
       "      <td>150.51</td>\n",
       "      <td>25.47</td>\n",
       "      <td>5.44</td>\n",
       "      <td>162.60</td>\n",
       "      <td>114.820</td>\n",
       "    </tr>\n",
       "    <tr>\n",
       "      <td>...</td>\n",
       "      <td>...</td>\n",
       "      <td>...</td>\n",
       "      <td>...</td>\n",
       "      <td>...</td>\n",
       "      <td>...</td>\n",
       "      <td>...</td>\n",
       "      <td>...</td>\n",
       "    </tr>\n",
       "    <tr>\n",
       "      <td>XYL</td>\n",
       "      <td>Xylem Inc.</td>\n",
       "      <td>Industrials</td>\n",
       "      <td>70.24</td>\n",
       "      <td>30.94</td>\n",
       "      <td>1.83</td>\n",
       "      <td>76.81</td>\n",
       "      <td>46.860</td>\n",
       "    </tr>\n",
       "    <tr>\n",
       "      <td>YUM</td>\n",
       "      <td>Yum! Brands Inc</td>\n",
       "      <td>Consumer Discretionary</td>\n",
       "      <td>76.30</td>\n",
       "      <td>27.25</td>\n",
       "      <td>4.07</td>\n",
       "      <td>86.93</td>\n",
       "      <td>62.850</td>\n",
       "    </tr>\n",
       "    <tr>\n",
       "      <td>ZBH</td>\n",
       "      <td>Zimmer Biomet Holdings</td>\n",
       "      <td>Health Care</td>\n",
       "      <td>115.53</td>\n",
       "      <td>14.32</td>\n",
       "      <td>9.01</td>\n",
       "      <td>133.49</td>\n",
       "      <td>108.170</td>\n",
       "    </tr>\n",
       "    <tr>\n",
       "      <td>ZION</td>\n",
       "      <td>Zions Bancorp</td>\n",
       "      <td>Financials</td>\n",
       "      <td>50.71</td>\n",
       "      <td>17.73</td>\n",
       "      <td>2.60</td>\n",
       "      <td>55.61</td>\n",
       "      <td>38.430</td>\n",
       "    </tr>\n",
       "    <tr>\n",
       "      <td>ZTS</td>\n",
       "      <td>Zoetis</td>\n",
       "      <td>Health Care</td>\n",
       "      <td>71.51</td>\n",
       "      <td>32.80</td>\n",
       "      <td>1.65</td>\n",
       "      <td>80.13</td>\n",
       "      <td>52.000</td>\n",
       "    </tr>\n",
       "  </tbody>\n",
       "</table>\n",
       "<p>505 rows × 7 columns</p>\n",
       "</div>"
      ],
      "text/plain": [
       "                          Name                  Sector   Price  \\\n",
       "Symbol                                                           \n",
       "MMM                 3M Company             Industrials  222.89   \n",
       "AOS            A.O. Smith Corp             Industrials   60.24   \n",
       "ABT        Abbott Laboratories             Health Care   56.27   \n",
       "ABBV               AbbVie Inc.             Health Care  108.48   \n",
       "ACN              Accenture plc  Information Technology  150.51   \n",
       "...                        ...                     ...     ...   \n",
       "XYL                 Xylem Inc.             Industrials   70.24   \n",
       "YUM            Yum! Brands Inc  Consumer Discretionary   76.30   \n",
       "ZBH     Zimmer Biomet Holdings             Health Care  115.53   \n",
       "ZION             Zions Bancorp              Financials   50.71   \n",
       "ZTS                     Zoetis             Health Care   71.51   \n",
       "\n",
       "        Price/Earnings  Earnings/Share  52 Week High  52 Week Low  \n",
       "Symbol                                                             \n",
       "MMM              24.31            7.92        259.77      175.490  \n",
       "AOS              27.76            1.70         68.39       48.925  \n",
       "ABT              22.51            0.26         64.60       42.280  \n",
       "ABBV             19.41            3.29        125.86       60.050  \n",
       "ACN              25.47            5.44        162.60      114.820  \n",
       "...                ...             ...           ...          ...  \n",
       "XYL              30.94            1.83         76.81       46.860  \n",
       "YUM              27.25            4.07         86.93       62.850  \n",
       "ZBH              14.32            9.01        133.49      108.170  \n",
       "ZION             17.73            2.60         55.61       38.430  \n",
       "ZTS              32.80            1.65         80.13       52.000  \n",
       "\n",
       "[505 rows x 7 columns]"
      ]
     },
     "execution_count": 9,
     "metadata": {},
     "output_type": "execute_result"
    }
   ],
   "source": [
    "df = pd.read_excel(io='../Data/sample_data.xls', sheet_name='SP500', index_col='Symbol')\n",
    "\n",
    "df"
   ]
  },
  {
   "cell_type": "markdown",
   "metadata": {},
   "source": [
    "## DataFrames - Executing Functions / Methods\n",
    "\n",
    "- There are literally hundreds of methods you can execute on a DataFrame\n",
    "- Try the following\n",
    "<br><br>\n",
    "df.head - the first 5 rows\n",
    "<br>\n",
    "df.head(n) - the first n rows\n",
    "<br>\n",
    "df.tail - the last 5 rows\n",
    "<br>\n",
    "df.tail(n) the last n rows\n",
    "<br>"
   ]
  },
  {
   "cell_type": "code",
   "execution_count": 10,
   "metadata": {
    "scrolled": true
   },
   "outputs": [
    {
     "data": {
      "text/html": [
       "<div>\n",
       "<style scoped>\n",
       "    .dataframe tbody tr th:only-of-type {\n",
       "        vertical-align: middle;\n",
       "    }\n",
       "\n",
       "    .dataframe tbody tr th {\n",
       "        vertical-align: top;\n",
       "    }\n",
       "\n",
       "    .dataframe thead th {\n",
       "        text-align: right;\n",
       "    }\n",
       "</style>\n",
       "<table border=\"1\" class=\"dataframe\">\n",
       "  <thead>\n",
       "    <tr style=\"text-align: right;\">\n",
       "      <th></th>\n",
       "      <th>Name</th>\n",
       "      <th>Sector</th>\n",
       "      <th>Price</th>\n",
       "      <th>Price/Earnings</th>\n",
       "      <th>Earnings/Share</th>\n",
       "      <th>52 Week High</th>\n",
       "      <th>52 Week Low</th>\n",
       "    </tr>\n",
       "    <tr>\n",
       "      <th>Symbol</th>\n",
       "      <th></th>\n",
       "      <th></th>\n",
       "      <th></th>\n",
       "      <th></th>\n",
       "      <th></th>\n",
       "      <th></th>\n",
       "      <th></th>\n",
       "    </tr>\n",
       "  </thead>\n",
       "  <tbody>\n",
       "    <tr>\n",
       "      <td>XRX</td>\n",
       "      <td>Xerox Corp.</td>\n",
       "      <td>Information Technology</td>\n",
       "      <td>29.80</td>\n",
       "      <td>8.87</td>\n",
       "      <td>0.59</td>\n",
       "      <td>37.42</td>\n",
       "      <td>26.64</td>\n",
       "    </tr>\n",
       "    <tr>\n",
       "      <td>XLNX</td>\n",
       "      <td>Xilinx Inc</td>\n",
       "      <td>Information Technology</td>\n",
       "      <td>62.82</td>\n",
       "      <td>27.19</td>\n",
       "      <td>2.32</td>\n",
       "      <td>77.26</td>\n",
       "      <td>54.99</td>\n",
       "    </tr>\n",
       "    <tr>\n",
       "      <td>XL</td>\n",
       "      <td>XL Capital</td>\n",
       "      <td>Financials</td>\n",
       "      <td>41.26</td>\n",
       "      <td>-19.93</td>\n",
       "      <td>-2.24</td>\n",
       "      <td>47.27</td>\n",
       "      <td>33.77</td>\n",
       "    </tr>\n",
       "    <tr>\n",
       "      <td>XYL</td>\n",
       "      <td>Xylem Inc.</td>\n",
       "      <td>Industrials</td>\n",
       "      <td>70.24</td>\n",
       "      <td>30.94</td>\n",
       "      <td>1.83</td>\n",
       "      <td>76.81</td>\n",
       "      <td>46.86</td>\n",
       "    </tr>\n",
       "    <tr>\n",
       "      <td>YUM</td>\n",
       "      <td>Yum! Brands Inc</td>\n",
       "      <td>Consumer Discretionary</td>\n",
       "      <td>76.30</td>\n",
       "      <td>27.25</td>\n",
       "      <td>4.07</td>\n",
       "      <td>86.93</td>\n",
       "      <td>62.85</td>\n",
       "    </tr>\n",
       "    <tr>\n",
       "      <td>ZBH</td>\n",
       "      <td>Zimmer Biomet Holdings</td>\n",
       "      <td>Health Care</td>\n",
       "      <td>115.53</td>\n",
       "      <td>14.32</td>\n",
       "      <td>9.01</td>\n",
       "      <td>133.49</td>\n",
       "      <td>108.17</td>\n",
       "    </tr>\n",
       "    <tr>\n",
       "      <td>ZION</td>\n",
       "      <td>Zions Bancorp</td>\n",
       "      <td>Financials</td>\n",
       "      <td>50.71</td>\n",
       "      <td>17.73</td>\n",
       "      <td>2.60</td>\n",
       "      <td>55.61</td>\n",
       "      <td>38.43</td>\n",
       "    </tr>\n",
       "    <tr>\n",
       "      <td>ZTS</td>\n",
       "      <td>Zoetis</td>\n",
       "      <td>Health Care</td>\n",
       "      <td>71.51</td>\n",
       "      <td>32.80</td>\n",
       "      <td>1.65</td>\n",
       "      <td>80.13</td>\n",
       "      <td>52.00</td>\n",
       "    </tr>\n",
       "  </tbody>\n",
       "</table>\n",
       "</div>"
      ],
      "text/plain": [
       "                          Name                  Sector   Price  \\\n",
       "Symbol                                                           \n",
       "XRX                Xerox Corp.  Information Technology   29.80   \n",
       "XLNX                Xilinx Inc  Information Technology   62.82   \n",
       "XL                  XL Capital              Financials   41.26   \n",
       "XYL                 Xylem Inc.             Industrials   70.24   \n",
       "YUM            Yum! Brands Inc  Consumer Discretionary   76.30   \n",
       "ZBH     Zimmer Biomet Holdings             Health Care  115.53   \n",
       "ZION             Zions Bancorp              Financials   50.71   \n",
       "ZTS                     Zoetis             Health Care   71.51   \n",
       "\n",
       "        Price/Earnings  Earnings/Share  52 Week High  52 Week Low  \n",
       "Symbol                                                             \n",
       "XRX               8.87            0.59         37.42        26.64  \n",
       "XLNX             27.19            2.32         77.26        54.99  \n",
       "XL              -19.93           -2.24         47.27        33.77  \n",
       "XYL              30.94            1.83         76.81        46.86  \n",
       "YUM              27.25            4.07         86.93        62.85  \n",
       "ZBH              14.32            9.01        133.49       108.17  \n",
       "ZION             17.73            2.60         55.61        38.43  \n",
       "ZTS              32.80            1.65         80.13        52.00  "
      ]
     },
     "execution_count": 10,
     "metadata": {},
     "output_type": "execute_result"
    }
   ],
   "source": [
    "df.head()\n",
    "df.head(8)\n",
    "df.tail()\n",
    "df.tail(8)\n"
   ]
  },
  {
   "cell_type": "markdown",
   "metadata": {},
   "source": [
    "## DataFrames - Rows and Columns \n",
    "\n",
    "Selecting data from a DataFrame for specific row(s) or columns(s)\n",
    "<br><br>\n",
    "- use df['ColA'] to select a single column \n",
    "- use df[['ColA', 'ColB']] to select multiple columns\n",
    "- use df.loc['RowA'] to select a row by the rows label\n",
    "- use df.loc[['RowA', ['RowB']] to select a row by the rows label"
   ]
  },
  {
   "cell_type": "code",
   "execution_count": 11,
   "metadata": {},
   "outputs": [
    {
     "data": {
      "text/html": [
       "<div>\n",
       "<style scoped>\n",
       "    .dataframe tbody tr th:only-of-type {\n",
       "        vertical-align: middle;\n",
       "    }\n",
       "\n",
       "    .dataframe tbody tr th {\n",
       "        vertical-align: top;\n",
       "    }\n",
       "\n",
       "    .dataframe thead th {\n",
       "        text-align: right;\n",
       "    }\n",
       "</style>\n",
       "<table border=\"1\" class=\"dataframe\">\n",
       "  <thead>\n",
       "    <tr style=\"text-align: right;\">\n",
       "      <th></th>\n",
       "      <th>Name</th>\n",
       "      <th>Sector</th>\n",
       "      <th>Price</th>\n",
       "      <th>Price/Earnings</th>\n",
       "      <th>Earnings/Share</th>\n",
       "      <th>52 Week High</th>\n",
       "      <th>52 Week Low</th>\n",
       "    </tr>\n",
       "    <tr>\n",
       "      <th>Symbol</th>\n",
       "      <th></th>\n",
       "      <th></th>\n",
       "      <th></th>\n",
       "      <th></th>\n",
       "      <th></th>\n",
       "      <th></th>\n",
       "      <th></th>\n",
       "    </tr>\n",
       "  </thead>\n",
       "  <tbody>\n",
       "    <tr>\n",
       "      <td>IBM</td>\n",
       "      <td>International Business Machines</td>\n",
       "      <td>Information Technology</td>\n",
       "      <td>147.59</td>\n",
       "      <td>10.67</td>\n",
       "      <td>6.11</td>\n",
       "      <td>182.79</td>\n",
       "      <td>139.13</td>\n",
       "    </tr>\n",
       "    <tr>\n",
       "      <td>MMM</td>\n",
       "      <td>3M Company</td>\n",
       "      <td>Industrials</td>\n",
       "      <td>222.89</td>\n",
       "      <td>24.31</td>\n",
       "      <td>7.92</td>\n",
       "      <td>259.77</td>\n",
       "      <td>175.49</td>\n",
       "    </tr>\n",
       "    <tr>\n",
       "      <td>C</td>\n",
       "      <td>Citigroup Inc.</td>\n",
       "      <td>Financials</td>\n",
       "      <td>71.87</td>\n",
       "      <td>13.48</td>\n",
       "      <td>-3.10</td>\n",
       "      <td>80.70</td>\n",
       "      <td>56.14</td>\n",
       "    </tr>\n",
       "  </tbody>\n",
       "</table>\n",
       "</div>"
      ],
      "text/plain": [
       "                                   Name                  Sector   Price  \\\n",
       "Symbol                                                                    \n",
       "IBM     International Business Machines  Information Technology  147.59   \n",
       "MMM                          3M Company             Industrials  222.89   \n",
       "C                        Citigroup Inc.              Financials   71.87   \n",
       "\n",
       "        Price/Earnings  Earnings/Share  52 Week High  52 Week Low  \n",
       "Symbol                                                             \n",
       "IBM              10.67            6.11        182.79       139.13  \n",
       "MMM              24.31            7.92        259.77       175.49  \n",
       "C                13.48           -3.10         80.70        56.14  "
      ]
     },
     "execution_count": 11,
     "metadata": {},
     "output_type": "execute_result"
    }
   ],
   "source": [
    "df['Name']\n",
    "df[['Name', 'Sector', 'Price']]\n",
    "\n",
    "df.loc['FB']\n",
    "#\n",
    "df.loc[['IBM', 'MMM', 'C']]"
   ]
  },
  {
   "cell_type": "markdown",
   "metadata": {},
   "source": [
    "## DataFrames - Tip\n",
    "\n",
    "The syntax for selecting multiple rows and multiple columns looks a bit awkward, especially if you are not familiar with computer programming.\n",
    "\n",
    "The confusion arises from the following:\n",
    "- Why use a single set of square brackets [ 'ColA' ] in some cases and a double set of square brackets in other cases [['ColA', 'ColB']]\n",
    "- This is to do with the python programming language and its choice of syntax for certain types of collections.\n",
    "<br><br>\n",
    "\n",
    "Quite often, analysts will simply create a list of the columns or rows they are interested in, give this list a name and use it instead."
   ]
  },
  {
   "cell_type": "code",
   "execution_count": 12,
   "metadata": {},
   "outputs": [
    {
     "data": {
      "text/html": [
       "<div>\n",
       "<style scoped>\n",
       "    .dataframe tbody tr th:only-of-type {\n",
       "        vertical-align: middle;\n",
       "    }\n",
       "\n",
       "    .dataframe tbody tr th {\n",
       "        vertical-align: top;\n",
       "    }\n",
       "\n",
       "    .dataframe thead th {\n",
       "        text-align: right;\n",
       "    }\n",
       "</style>\n",
       "<table border=\"1\" class=\"dataframe\">\n",
       "  <thead>\n",
       "    <tr style=\"text-align: right;\">\n",
       "      <th></th>\n",
       "      <th>Name</th>\n",
       "      <th>Sector</th>\n",
       "      <th>Price</th>\n",
       "      <th>Price/Earnings</th>\n",
       "      <th>Earnings/Share</th>\n",
       "      <th>52 Week High</th>\n",
       "      <th>52 Week Low</th>\n",
       "    </tr>\n",
       "    <tr>\n",
       "      <th>Symbol</th>\n",
       "      <th></th>\n",
       "      <th></th>\n",
       "      <th></th>\n",
       "      <th></th>\n",
       "      <th></th>\n",
       "      <th></th>\n",
       "      <th></th>\n",
       "    </tr>\n",
       "  </thead>\n",
       "  <tbody>\n",
       "    <tr>\n",
       "      <td>IBM</td>\n",
       "      <td>International Business Machines</td>\n",
       "      <td>Information Technology</td>\n",
       "      <td>147.59</td>\n",
       "      <td>10.67</td>\n",
       "      <td>6.11</td>\n",
       "      <td>182.79</td>\n",
       "      <td>139.13</td>\n",
       "    </tr>\n",
       "    <tr>\n",
       "      <td>MMM</td>\n",
       "      <td>3M Company</td>\n",
       "      <td>Industrials</td>\n",
       "      <td>222.89</td>\n",
       "      <td>24.31</td>\n",
       "      <td>7.92</td>\n",
       "      <td>259.77</td>\n",
       "      <td>175.49</td>\n",
       "    </tr>\n",
       "    <tr>\n",
       "      <td>C</td>\n",
       "      <td>Citigroup Inc.</td>\n",
       "      <td>Financials</td>\n",
       "      <td>71.87</td>\n",
       "      <td>13.48</td>\n",
       "      <td>-3.10</td>\n",
       "      <td>80.70</td>\n",
       "      <td>56.14</td>\n",
       "    </tr>\n",
       "  </tbody>\n",
       "</table>\n",
       "</div>"
      ],
      "text/plain": [
       "                                   Name                  Sector   Price  \\\n",
       "Symbol                                                                    \n",
       "IBM     International Business Machines  Information Technology  147.59   \n",
       "MMM                          3M Company             Industrials  222.89   \n",
       "C                        Citigroup Inc.              Financials   71.87   \n",
       "\n",
       "        Price/Earnings  Earnings/Share  52 Week High  52 Week Low  \n",
       "Symbol                                                             \n",
       "IBM              10.67            6.11        182.79       139.13  \n",
       "MMM              24.31            7.92        259.77       175.49  \n",
       "C                13.48           -3.10         80.70        56.14  "
      ]
     },
     "execution_count": 12,
     "metadata": {},
     "output_type": "execute_result"
    }
   ],
   "source": [
    "cols = ['Name', 'Sector', 'Price']\n",
    "df[cols]\n",
    "\n",
    "rows = ['IBM', 'MMM', 'C']\n",
    "df.loc[rows]"
   ]
  },
  {
   "cell_type": "markdown",
   "metadata": {},
   "source": [
    "## DataFrames - functions on columns of data\n",
    "\n",
    "It's easy to apply functions to specific columns of data.\n",
    "\n",
    "Select the column(s) of interest\n",
    "\n",
    "Use the .function() syntax\n",
    "\n",
    "- df['ColA'].mean() -- the mean \n",
    "- df['ColB].min() -- the minimum \n",
    "- df['COlA'].count() -- a count of how many values in ColA\n",
    "- df['ColB].max() -- the maximum price/earnings\n",
    "- df[mycols].median() -- median of all columns in the sequence mycols"
   ]
  },
  {
   "cell_type": "code",
   "execution_count": 13,
   "metadata": {},
   "outputs": [
    {
     "data": {
      "text/plain": [
       "'3M Company'"
      ]
     },
     "execution_count": 13,
     "metadata": {},
     "output_type": "execute_result"
    }
   ],
   "source": [
    "cols = ['Price/Earnings', 'Earnings/Share']\n",
    "\n",
    "df['Earnings/Share'].mean()\n",
    "df['Price/Earnings'].min()\n",
    "df['Name'].count()\n",
    "df[cols].max()\n",
    "df[cols].median()\n",
    "\n",
    "# max and min also have a meaning when working with string values\n",
    "df['Name'].max()\n",
    "df['Name'].min()"
   ]
  },
  {
   "cell_type": "markdown",
   "metadata": {},
   "source": [
    "# numpy\n",
    "\n",
    "**numpy** (numerical python) is a python package used quite a lot for performing numerical calculations.\n",
    "\n",
    "numpy has been designed specifically to perform advanced computations on large sets of numbers.\n",
    "\n",
    "It is extremely fast, it is extremely memory efficient and it is very often used in conjunction with pandas when performing complex numerical calculations in conjunction with data analysis on large sets of data.\n",
    "\n",
    "numpy is an advanced library designed to meet the needs of advanced users, but a rudimentary understanding of numpy is important to become efficient with pandas and DataFrames"
   ]
  },
  {
   "cell_type": "code",
   "execution_count": 14,
   "metadata": {},
   "outputs": [],
   "source": [
    "import numpy as np"
   ]
  },
  {
   "cell_type": "markdown",
   "metadata": {},
   "source": [
    "## numpy arrays\n",
    "\n",
    "A numpy array is a collection of values.\n",
    "\n",
    "Internally numpy stores the values in a numpy array in a highly efficient and optimized manner (details of this are way outside the remit of this course)\n",
    "\n",
    "More than likely, you will NEVER need to know the internal structure of a numpy array (or any numpy data structure)\n",
    "\n",
    "However, you should appreciate or simply accept that when performing calculations on sets of numbers, you will need to use the numpy package"
   ]
  },
  {
   "cell_type": "code",
   "execution_count": 15,
   "metadata": {},
   "outputs": [],
   "source": [
    "arr1 = np.array ([1,2,3,4,5])\n",
    "arr2 = np.array([10,20,30,40,50])"
   ]
  },
  {
   "cell_type": "markdown",
   "metadata": {},
   "source": [
    "## numpy array  -- arithmetic\n",
    "\n",
    "Use standard mathematical notation for adding, subtracting and comparing entire arrays.\n",
    "\n",
    "For those who understand computer programming, note: ** NO NEED TO LOOP OVER EACH VALUE **"
   ]
  },
  {
   "cell_type": "code",
   "execution_count": 16,
   "metadata": {},
   "outputs": [
    {
     "data": {
      "text/plain": [
       "array([ 9, 18, 27, 36, 45])"
      ]
     },
     "execution_count": 16,
     "metadata": {},
     "output_type": "execute_result"
    }
   ],
   "source": [
    "# E.g. Add all values in arr1 and arr2\n",
    "\n",
    "# Note there is no need for looping etc.\n",
    "arr1 + arr2\n",
    "\n",
    "# Same for other operations\n",
    "arr1 * arr2\n",
    "\n",
    "arr2 - arr1"
   ]
  },
  {
   "cell_type": "markdown",
   "metadata": {},
   "source": [
    "## numpy array -- comparisons"
   ]
  },
  {
   "cell_type": "code",
   "execution_count": 17,
   "metadata": {},
   "outputs": [
    {
     "data": {
      "text/plain": [
       "array([False, False,  True, False, False])"
      ]
     },
     "execution_count": 17,
     "metadata": {},
     "output_type": "execute_result"
    }
   ],
   "source": [
    "# same for comparisons\n",
    "arr1 > arr2\n",
    "arr1 < arr2\n",
    "arr1 <= arr2\n",
    "arr1 >= arr2\n",
    "arr1 == arr2\n",
    "arr1 != arr2\n",
    "\n",
    "# and also more complex expressions\n",
    "(arr1 + 12) >= 15\n",
    "(arr2 - arr1) == 27"
   ]
  },
  {
   "cell_type": "markdown",
   "metadata": {},
   "source": [
    "## numpy - boolean operators\n"
   ]
  },
  {
   "cell_type": "code",
   "execution_count": 18,
   "metadata": {},
   "outputs": [
    {
     "data": {
      "text/plain": [
       "array([ True, False,  True, False,  True])"
      ]
     },
     "execution_count": 18,
     "metadata": {},
     "output_type": "execute_result"
    }
   ],
   "source": [
    "np.logical_or(  (arr1 % 2) == 0, (arr2 % 20) == 0 )\n",
    "\n",
    "np.logical_and( (arr1 % 2) == 0, (arr2 % 20) == 0 )\n",
    "\n",
    "np.logical_not( (arr1 % 2) == 0 )\n"
   ]
  },
  {
   "cell_type": "markdown",
   "metadata": {},
   "source": [
    "## numpy - scientific functions\n",
    "\n",
    "numpy comes with a whole battery of mathematical functions\n",
    "\n",
    "logs and exponential functions<br>\n",
    "trigonometry<br>\n",
    "advanced statistics\n",
    "\n",
    "These work on individual values or on arrays of values"
   ]
  },
  {
   "cell_type": "code",
   "execution_count": 19,
   "metadata": {},
   "outputs": [
    {
     "data": {
      "text/plain": [
       "array([  2.71828183,   7.3890561 ,  20.08553692,  54.59815003,\n",
       "       148.4131591 ])"
      ]
     },
     "execution_count": 19,
     "metadata": {},
     "output_type": "execute_result"
    }
   ],
   "source": [
    "np.square(6)\n",
    "np.square(arr1)\n",
    "\n",
    "np.log10(100)\n",
    "np.log(arr2)\n",
    "\n",
    "np.exp(arr1)"
   ]
  },
  {
   "cell_type": "markdown",
   "metadata": {},
   "source": [
    "## array arithmetic with a DataFrame\n",
    "\n",
    "The same style of arithmetic can be used on the columns of a DataFrame\n",
    "\n",
    "df['ColA'] = df['ColB']\n",
    "\n",
    "df['ColA'] > 12"
   ]
  },
  {
   "cell_type": "code",
   "execution_count": 20,
   "metadata": {},
   "outputs": [
    {
     "data": {
      "text/plain": [
       "Symbol\n",
       "MMM     False\n",
       "AOS     False\n",
       "ABT     False\n",
       "ABBV    False\n",
       "ACN     False\n",
       "        ...  \n",
       "XYL     False\n",
       "YUM     False\n",
       "ZBH     False\n",
       "ZION    False\n",
       "ZTS     False\n",
       "Name: Earnings/Share, Length: 505, dtype: bool"
      ]
     },
     "execution_count": 20,
     "metadata": {},
     "output_type": "execute_result"
    }
   ],
   "source": [
    "df['52 Week High'] - df['52 Week Low']\n",
    "\n",
    "df['Earnings/Share'] < 0"
   ]
  },
  {
   "cell_type": "markdown",
   "metadata": {},
   "source": [
    "## numpy - where\n",
    "\n",
    "The numpy **where** function is an extremely useful function, we will be using it in some financial analysis that we will be doing later on in this course.\n",
    "\n",
    "np.where is a function that accepts 3 parameters:<br>\n",
    "* an expression<br>\n",
    "* a value to return if the expression is True<br>\n",
    "* a value to return if the expression is False\n",
    "\n",
    "For example\n",
    "\n",
    "the operator % is also known as the modulo operator.\n",
    "\n",
    "The modulus of a number is its remainder after performing division on it.\n",
    "\n",
    "e.g. \n",
    "\n",
    "5 % 2 = 1\n",
    "<br>\n",
    "4 % 2 = 0\n",
    "<br>\n",
    "3 % 2 = 1\n",
    "\n",
    "A simple way to test if a number is even is to check if modulus 2 returns 0\n",
    "\n",
    "Try the following:\n",
    "<br>\n",
    "np.where(arr1 % 2 == 0, 'Even', 'Odd')\n",
    "\n",
    "This should return the correct word 'Even' or 'Odd' for each number in the array 'arr1'\n"
   ]
  },
  {
   "cell_type": "code",
   "execution_count": 21,
   "metadata": {},
   "outputs": [
    {
     "data": {
      "text/plain": [
       "array(['Did not Match', 'Matched', 'Did not Match', 'Matched',\n",
       "       'Did not Match', 'Matched'], dtype='<U13')"
      ]
     },
     "execution_count": 21,
     "metadata": {},
     "output_type": "execute_result"
    }
   ],
   "source": [
    "arr1 = np.array ([1,2,3,4,5,6])\n",
    "arr2 = np.array ([2,2,4,4,6,6])\n",
    "\n",
    "np.where(arr1 % 2 == 0, 'Even', 'Odd')\n",
    "np.where(arr1 == arr2, 'Matched', 'Did not Match')"
   ]
  },
  {
   "cell_type": "markdown",
   "metadata": {},
   "source": [
    "## numpy where on a DataFrame\n",
    "\n",
    "np.where can be used on a DataFrame:\n",
    "\n",
    "e.g.\n",
    "\n",
    "np.where(df['Earnings/Share'] < 0, 'Negative', 'Positive')"
   ]
  },
  {
   "cell_type": "code",
   "execution_count": 22,
   "metadata": {
    "scrolled": true
   },
   "outputs": [
    {
     "data": {
      "text/plain": [
       "array(['Good', 'Good', 'Bad', 'Bad', 'Bad', 'Bad', 'Good', 'Bad', 'Bad',\n",
       "       'Bad', 'Bad', 'Bad', 'Bad', 'Bad', 'Bad', 'Bad', 'Bad', 'Good',\n",
       "       'Bad', 'Bad', 'Bad', 'Bad', 'Good', 'Bad', 'Bad', 'Bad', 'Bad',\n",
       "       'Bad', 'Bad', 'Bad', 'Bad', 'Bad', 'Good', 'Bad', 'Bad', 'Bad',\n",
       "       'Bad', 'Bad', 'Bad', 'Bad', 'Good', 'Bad', 'Bad', 'Bad', 'Bad',\n",
       "       'Bad', 'Bad', 'Bad', 'Bad', 'Bad', 'Bad', 'Bad', 'Bad', 'Bad',\n",
       "       'Bad', 'Bad', 'Bad', 'Bad', 'Bad', 'Bad', 'Bad', 'Bad', 'Bad',\n",
       "       'Bad', 'Bad', 'Bad', 'Bad', 'Bad', 'Bad', 'Bad', 'Bad', 'Bad',\n",
       "       'Bad', 'Bad', 'Bad', 'Good', 'Bad', 'Bad', 'Bad', 'Bad', 'Bad',\n",
       "       'Bad', 'Bad', 'Good', 'Bad', 'Bad', 'Bad', 'Bad', 'Bad', 'Bad',\n",
       "       'Bad', 'Bad', 'Good', 'Bad', 'Bad', 'Bad', 'Bad', 'Bad', 'Bad',\n",
       "       'Bad', 'Bad', 'Bad', 'Bad', 'Bad', 'Bad', 'Bad', 'Bad', 'Bad',\n",
       "       'Bad', 'Bad', 'Bad', 'Bad', 'Good', 'Bad', 'Bad', 'Bad', 'Bad',\n",
       "       'Bad', 'Bad', 'Bad', 'Bad', 'Bad', 'Bad', 'Bad', 'Bad', 'Bad',\n",
       "       'Bad', 'Bad', 'Bad', 'Bad', 'Bad', 'Bad', 'Bad', 'Bad', 'Good',\n",
       "       'Good', 'Bad', 'Bad', 'Bad', 'Bad', 'Bad', 'Good', 'Good', 'Bad',\n",
       "       'Bad', 'Bad', 'Bad', 'Bad', 'Bad', 'Bad', 'Bad', 'Bad', 'Bad',\n",
       "       'Good', 'Bad', 'Bad', 'Bad', 'Bad', 'Bad', 'Bad', 'Bad', 'Bad',\n",
       "       'Good', 'Bad', 'Bad', 'Bad', 'Bad', 'Bad', 'Good', 'Bad', 'Bad',\n",
       "       'Bad', 'Bad', 'Good', 'Bad', 'Bad', 'Bad', 'Bad', 'Bad', 'Bad',\n",
       "       'Bad', 'Bad', 'Good', 'Bad', 'Bad', 'Bad', 'Bad', 'Bad', 'Good',\n",
       "       'Bad', 'Good', 'Bad', 'Bad', 'Bad', 'Bad', 'Bad', 'Good', 'Good',\n",
       "       'Bad', 'Bad', 'Bad', 'Good', 'Good', 'Bad', 'Bad', 'Bad', 'Bad',\n",
       "       'Bad', 'Good', 'Bad', 'Bad', 'Bad', 'Bad', 'Bad', 'Bad', 'Bad',\n",
       "       'Bad', 'Bad', 'Good', 'Bad', 'Bad', 'Bad', 'Bad', 'Bad', 'Bad',\n",
       "       'Bad', 'Bad', 'Bad', 'Bad', 'Bad', 'Bad', 'Bad', 'Bad', 'Bad',\n",
       "       'Good', 'Bad', 'Bad', 'Bad', 'Bad', 'Bad', 'Good', 'Bad', 'Good',\n",
       "       'Good', 'Bad', 'Bad', 'Good', 'Bad', 'Bad', 'Bad', 'Bad', 'Bad',\n",
       "       'Bad', 'Bad', 'Bad', 'Bad', 'Bad', 'Bad', 'Good', 'Good', 'Bad',\n",
       "       'Bad', 'Good', 'Bad', 'Bad', 'Good', 'Bad', 'Bad', 'Bad', 'Bad',\n",
       "       'Bad', 'Bad', 'Bad', 'Bad', 'Bad', 'Bad', 'Good', 'Bad', 'Bad',\n",
       "       'Bad', 'Bad', 'Bad', 'Bad', 'Bad', 'Bad', 'Good', 'Bad', 'Bad',\n",
       "       'Bad', 'Bad', 'Bad', 'Bad', 'Bad', 'Bad', 'Bad', 'Bad', 'Bad',\n",
       "       'Good', 'Bad', 'Bad', 'Bad', 'Bad', 'Bad', 'Bad', 'Bad', 'Bad',\n",
       "       'Bad', 'Bad', 'Bad', 'Bad', 'Bad', 'Bad', 'Bad', 'Bad', 'Bad',\n",
       "       'Bad', 'Bad', 'Bad', 'Bad', 'Bad', 'Bad', 'Bad', 'Bad', 'Bad',\n",
       "       'Bad', 'Bad', 'Bad', 'Bad', 'Bad', 'Bad', 'Bad', 'Bad', 'Bad',\n",
       "       'Good', 'Bad', 'Bad', 'Bad', 'Bad', 'Good', 'Bad', 'Good', 'Bad',\n",
       "       'Bad', 'Bad', 'Bad', 'Bad', 'Bad', 'Bad', 'Bad', 'Bad', 'Good',\n",
       "       'Bad', 'Good', 'Bad', 'Bad', 'Bad', 'Good', 'Bad', 'Bad', 'Bad',\n",
       "       'Bad', 'Bad', 'Bad', 'Bad', 'Bad', 'Bad', 'Bad', 'Bad', 'Bad',\n",
       "       'Bad', 'Bad', 'Bad', 'Bad', 'Bad', 'Bad', 'Bad', 'Bad', 'Bad',\n",
       "       'Bad', 'Bad', 'Bad', 'Bad', 'Bad', 'Bad', 'Good', 'Bad', 'Bad',\n",
       "       'Bad', 'Good', 'Bad', 'Bad', 'Bad', 'Bad', 'Bad', 'Good', 'Bad',\n",
       "       'Good', 'Good', 'Good', 'Good', 'Bad', 'Bad', 'Bad', 'Bad', 'Bad',\n",
       "       'Bad', 'Bad', 'Bad', 'Bad', 'Bad', 'Bad', 'Bad', 'Bad', 'Bad',\n",
       "       'Bad', 'Bad', 'Bad', 'Bad', 'Good', 'Bad', 'Bad', 'Bad', 'Good',\n",
       "       'Bad', 'Bad', 'Bad', 'Bad', 'Bad', 'Bad', 'Bad', 'Bad', 'Bad',\n",
       "       'Bad', 'Bad', 'Bad', 'Good', 'Bad', 'Bad', 'Bad', 'Bad', 'Bad',\n",
       "       'Bad', 'Bad', 'Bad', 'Bad', 'Bad', 'Bad', 'Bad', 'Bad', 'Bad',\n",
       "       'Good', 'Bad', 'Bad', 'Bad', 'Bad', 'Bad', 'Bad', 'Bad', 'Bad',\n",
       "       'Bad', 'Good', 'Good', 'Bad', 'Good', 'Good', 'Good', 'Bad', 'Bad',\n",
       "       'Bad', 'Bad', 'Bad', 'Bad', 'Bad', 'Good', 'Bad', 'Bad', 'Bad',\n",
       "       'Bad', 'Bad', 'Bad', 'Bad', 'Bad', 'Good', 'Bad', 'Bad', 'Bad',\n",
       "       'Bad', 'Bad', 'Bad', 'Bad', 'Bad', 'Bad', 'Bad', 'Bad', 'Bad',\n",
       "       'Bad', 'Bad', 'Bad', 'Bad', 'Bad', 'Good', 'Bad', 'Bad', 'Bad',\n",
       "       'Bad'], dtype='<U4')"
      ]
     },
     "execution_count": 22,
     "metadata": {},
     "output_type": "execute_result"
    }
   ],
   "source": [
    "np.where(df['Earnings/Share'] < 0, 'Negative', 'Positive')\n",
    "\n",
    "np.where( (df['Sector'] == 'Industrials') & (df['Earnings/Share'] > 0), 'Good', 'Bad')"
   ]
  },
  {
   "cell_type": "markdown",
   "metadata": {},
   "source": [
    "# Graphs and Charts\n",
    "\n",
    "There are lots of sophisticated charting and graphing packages for python\n",
    "\n",
    "The one we will be using is called **matplotlib.pyplot**\n",
    "\n",
    "You can draw simple line charts of columns by using the **plot()** method on a column\n"
   ]
  },
  {
   "cell_type": "code",
   "execution_count": 24,
   "metadata": {},
   "outputs": [],
   "source": [
    "import matplotlib.pyplot as plt\n",
    "\n",
    "%matplotlib inline"
   ]
  },
  {
   "cell_type": "markdown",
   "metadata": {},
   "source": [
    "## Plot some values\n",
    "\n",
    "e.g. a bar chart showing the 52 Week High and low for famous FANG stocks (Facebook, Amazon, Netflix and Google)"
   ]
  },
  {
   "cell_type": "code",
   "execution_count": 25,
   "metadata": {},
   "outputs": [
    {
     "data": {
      "text/plain": [
       "<matplotlib.axes._subplots.AxesSubplot at 0x7f8818ab1a90>"
      ]
     },
     "execution_count": 25,
     "metadata": {},
     "output_type": "execute_result"
    },
    {
     "data": {
      "image/png": "[encoded data removed]",
      "text/plain": [
       "<Figure size 432x288 with 1 Axes>"
      ]
     },
     "metadata": {
      "needs_background": "light"
     },
     "output_type": "display_data"
    }
   ],
   "source": [
    "cols = ['52 Week High','52 Week Low']\n",
    "rows = ['FB', 'AMZN', 'NFLX', 'GOOGL']\n",
    "\n",
    "df.loc[rows][cols].plot(kind='barh')"
   ]
  },
  {
   "cell_type": "markdown",
   "metadata": {},
   "source": [
    "\n",
    "# Bollinger Bands\n",
    "\n",
    "Bollinger bands are a type of statistical chart characterizing the prices and volatility over time of a financial instrument or commodity, using a formulaic method propounded by John Bollinger in the 1980s. \n",
    "\n",
    "Financial traders employ these charts as a methodical tool to inform trading decisions, control automated trading systems, or as a component of technical analysis. \n",
    "\n",
    "Bollinger bands display a graphical band, usually an upper and a lower band.\n",
    "\n",
    "This is a very simple example of \n",
    "- creating a Bollinger band for 2 std deviations above and below the price of oil\n",
    "- displaying the Bollinger band graphically"
   ]
  },
  {
   "cell_type": "markdown",
   "metadata": {},
   "source": [
    "## Load in the libraries"
   ]
  },
  {
   "cell_type": "code",
   "execution_count": 26,
   "metadata": {},
   "outputs": [],
   "source": [
    "import pandas as pd\n",
    "import numpy as np\n",
    "import matplotlib.pyplot as plt\n",
    "\n",
    "%matplotlib inline"
   ]
  },
  {
   "cell_type": "markdown",
   "metadata": {},
   "source": [
    "## Load in the data\n",
    "\n",
    "Use the file GOLD.csv into a DataFrame"
   ]
  },
  {
   "cell_type": "code",
   "execution_count": 29,
   "metadata": {},
   "outputs": [],
   "source": [
    "df = pd.read_excel('../Data/market_data.xls', sheet_name='GOOGL', index_col='Date', parse_dates=True)"
   ]
  },
  {
   "cell_type": "markdown",
   "metadata": {},
   "source": [
    "## Create a new DataFrame \n",
    "\n",
    "We are going to create a new DataFrame with 3 columns.\n",
    "\n",
    "This DataFrame will be used to store data for the Bollinger band which will be derived from the original data\n",
    "\n",
    "- **'Price(m avg)'** A monthly rolling average of the 'USD (PM)' column\n",
    "- **'Upper'** which will be 2 std deviations of the price above **'Price(m avg)'**\n",
    "- **'Lower'** which will be 2 std deviations of the price below **'Price(m avg)'**\n",
    "\n",
    "** NOTE ** <br>\n",
    "- Don't panic if you don't understand the syntax, commands, rolling(30) etc.<BR>\n",
    "- We will cover this in subsequent lessons.<BR>\n",
    "- Understand that this is a very typical analysis that Financial Data Analysts perform on a daily basis.<BR>\n",
    "- Appreciate that python, pandas, etc. make this type of analysis extremely easy."
   ]
  },
  {
   "cell_type": "code",
   "execution_count": 36,
   "metadata": {},
   "outputs": [
    {
     "data": {
      "text/html": [
       "<div>\n",
       "<style scoped>\n",
       "    .dataframe tbody tr th:only-of-type {\n",
       "        vertical-align: middle;\n",
       "    }\n",
       "\n",
       "    .dataframe tbody tr th {\n",
       "        vertical-align: top;\n",
       "    }\n",
       "\n",
       "    .dataframe thead th {\n",
       "        text-align: right;\n",
       "    }\n",
       "</style>\n",
       "<table border=\"1\" class=\"dataframe\">\n",
       "  <thead>\n",
       "    <tr style=\"text-align: right;\">\n",
       "      <th></th>\n",
       "      <th>High</th>\n",
       "      <th>Low</th>\n",
       "      <th>Open</th>\n",
       "      <th>Close</th>\n",
       "      <th>Volume</th>\n",
       "      <th>Adj Close</th>\n",
       "    </tr>\n",
       "    <tr>\n",
       "      <th>Date</th>\n",
       "      <th></th>\n",
       "      <th></th>\n",
       "      <th></th>\n",
       "      <th></th>\n",
       "      <th></th>\n",
       "      <th></th>\n",
       "    </tr>\n",
       "  </thead>\n",
       "  <tbody>\n",
       "    <tr>\n",
       "      <td>2004-08-19</td>\n",
       "      <td>52.082081</td>\n",
       "      <td>48.028027</td>\n",
       "      <td>50.050049</td>\n",
       "      <td>50.220219</td>\n",
       "      <td>44659000</td>\n",
       "      <td>50.220219</td>\n",
       "    </tr>\n",
       "    <tr>\n",
       "      <td>2004-08-20</td>\n",
       "      <td>54.594593</td>\n",
       "      <td>50.300301</td>\n",
       "      <td>50.555557</td>\n",
       "      <td>54.209209</td>\n",
       "      <td>22834300</td>\n",
       "      <td>54.209209</td>\n",
       "    </tr>\n",
       "    <tr>\n",
       "      <td>2004-08-23</td>\n",
       "      <td>56.796795</td>\n",
       "      <td>54.579578</td>\n",
       "      <td>55.430431</td>\n",
       "      <td>54.754753</td>\n",
       "      <td>18256100</td>\n",
       "      <td>54.754753</td>\n",
       "    </tr>\n",
       "    <tr>\n",
       "      <td>2004-08-24</td>\n",
       "      <td>55.855854</td>\n",
       "      <td>51.836838</td>\n",
       "      <td>55.675674</td>\n",
       "      <td>52.487488</td>\n",
       "      <td>15247300</td>\n",
       "      <td>52.487488</td>\n",
       "    </tr>\n",
       "    <tr>\n",
       "      <td>2004-08-25</td>\n",
       "      <td>54.054054</td>\n",
       "      <td>51.991993</td>\n",
       "      <td>52.532532</td>\n",
       "      <td>53.053055</td>\n",
       "      <td>9188600</td>\n",
       "      <td>53.053055</td>\n",
       "    </tr>\n",
       "  </tbody>\n",
       "</table>\n",
       "</div>"
      ],
      "text/plain": [
       "                 High        Low       Open      Close    Volume  Adj Close\n",
       "Date                                                                       \n",
       "2004-08-19  52.082081  48.028027  50.050049  50.220219  44659000  50.220219\n",
       "2004-08-20  54.594593  50.300301  50.555557  54.209209  22834300  54.209209\n",
       "2004-08-23  56.796795  54.579578  55.430431  54.754753  18256100  54.754753\n",
       "2004-08-24  55.855854  51.836838  55.675674  52.487488  15247300  52.487488\n",
       "2004-08-25  54.054054  51.991993  52.532532  53.053055   9188600  53.053055"
      ]
     },
     "execution_count": 36,
     "metadata": {},
     "output_type": "execute_result"
    }
   ],
   "source": [
    "df.head()"
   ]
  },
  {
   "cell_type": "code",
   "execution_count": 33,
   "metadata": {
    "scrolled": true
   },
   "outputs": [],
   "source": [
    "# Create an empty DataFrame\n",
    "# This is a second way to create a DataFrame \n",
    "# - the first is to read the data directly from a csv file\n",
    "# - this method creates an empty DataFrame in memory\n",
    "\n",
    "df_BOLL = pd.DataFrame()\n",
    "\n",
    "# Copy the 'Close' column from the original DataFrame into this DataFrame\n",
    "df_BOLL['Close'] = df['Close']\n",
    "df_BOLL['SMA(Close)'] = df_BOLL['Close'].rolling(21).mean()\n",
    "df_BOLL['Upper'] = df_BOLL['SMA(Close)'] + 2 * df_BOLL['Close'].rolling(21).std()\n",
    "df_BOLL['Lower'] = df_BOLL['SMA(Close)'] - 2 * df_BOLL['Close'].rolling(21).std()"
   ]
  },
  {
   "cell_type": "markdown",
   "metadata": {},
   "source": [
    "## Plot the results"
   ]
  },
  {
   "cell_type": "code",
   "execution_count": 34,
   "metadata": {},
   "outputs": [
    {
     "data": {
      "text/plain": [
       "[<matplotlib.lines.Line2D at 0x7f88194625d0>,\n",
       " <matplotlib.lines.Line2D at 0x7f8819481890>,\n",
       " <matplotlib.lines.Line2D at 0x7f8819481b10>,\n",
       " <matplotlib.lines.Line2D at 0x7f8819481cd0>]"
      ]
     },
     "execution_count": 34,
     "metadata": {},
     "output_type": "execute_result"
    },
    {
     "data": {
      "image/png": "[encoded data removed]",
      "text/plain": [
       "<Figure size 1296x432 with 1 Axes>"
      ]
     },
     "metadata": {
      "needs_background": "light"
     },
     "output_type": "display_data"
    }
   ],
   "source": [
    "fig = plt.figure(figsize=(18,6))\n",
    "\n",
    "fig.suptitle('Google -- 2 stds above/below closing price')\n",
    "plt.xlabel('Date')\n",
    "plt.ylabel('Close')\n",
    "\n",
    "plt.plot(df_BOLL)"
   ]
  },
  {
   "cell_type": "markdown",
   "metadata": {},
   "source": [
    "## Plot the results for 2017"
   ]
  },
  {
   "cell_type": "code",
   "execution_count": 35,
   "metadata": {},
   "outputs": [
    {
     "data": {
      "text/plain": [
       "[<matplotlib.lines.Line2D at 0x7f87e83db610>,\n",
       " <matplotlib.lines.Line2D at 0x7f87e83f5890>,\n",
       " <matplotlib.lines.Line2D at 0x7f87e83f5b10>,\n",
       " <matplotlib.lines.Line2D at 0x7f87e83f5cd0>]"
      ]
     },
     "execution_count": 35,
     "metadata": {},
     "output_type": "execute_result"
    },
    {
     "data": {
      "image/png": "[encoded data removed]",
      "text/plain": [
       "<Figure size 1296x432 with 1 Axes>"
      ]
     },
     "metadata": {
      "needs_background": "light"
     },
     "output_type": "display_data"
    }
   ],
   "source": [
    "fig = plt.figure(figsize=(18,6))\n",
    "\n",
    "fig.suptitle('Google (2017) -- 2 stds above/below closing price')\n",
    "plt.xlabel('Date')\n",
    "plt.ylabel('Close')\n",
    "\n",
    "plt.plot(df_BOLL['2017'])"
   ]
  },
  {
   "cell_type": "markdown",
   "metadata": {},
   "source": [
    "# Time resampling\n",
    "\n",
    "Resampling is conversion between frequencies.\n",
    "\n",
    "Here we are going to resample from daily pricing information to weekly, monthly or even yearly."
   ]
  },
  {
   "cell_type": "markdown",
   "metadata": {},
   "source": [
    "## Resample Price, Open, High, Low - Annually\n",
    "\n",
    "Then take the maximum of each column."
   ]
  },
  {
   "cell_type": "code",
   "execution_count": 37,
   "metadata": {},
   "outputs": [
    {
     "data": {
      "text/html": [
       "<div>\n",
       "<style scoped>\n",
       "    .dataframe tbody tr th:only-of-type {\n",
       "        vertical-align: middle;\n",
       "    }\n",
       "\n",
       "    .dataframe tbody tr th {\n",
       "        vertical-align: top;\n",
       "    }\n",
       "\n",
       "    .dataframe thead th {\n",
       "        text-align: right;\n",
       "    }\n",
       "</style>\n",
       "<table border=\"1\" class=\"dataframe\">\n",
       "  <thead>\n",
       "    <tr style=\"text-align: right;\">\n",
       "      <th></th>\n",
       "      <th>Open</th>\n",
       "      <th>High</th>\n",
       "      <th>Low</th>\n",
       "      <th>Close</th>\n",
       "    </tr>\n",
       "    <tr>\n",
       "      <th>Date</th>\n",
       "      <th></th>\n",
       "      <th></th>\n",
       "      <th></th>\n",
       "      <th></th>\n",
       "    </tr>\n",
       "  </thead>\n",
       "  <tbody>\n",
       "    <tr>\n",
       "      <td>2004-12-31</td>\n",
       "      <td>99.714714</td>\n",
       "      <td>100.900902</td>\n",
       "      <td>96.766769</td>\n",
       "      <td>98.898895</td>\n",
       "    </tr>\n",
       "    <tr>\n",
       "      <td>2005-12-31</td>\n",
       "      <td>216.991989</td>\n",
       "      <td>223.328323</td>\n",
       "      <td>214.604599</td>\n",
       "      <td>216.236237</td>\n",
       "    </tr>\n",
       "    <tr>\n",
       "      <td>2006-12-31</td>\n",
       "      <td>255.740738</td>\n",
       "      <td>256.756744</td>\n",
       "      <td>253.143143</td>\n",
       "      <td>255.080078</td>\n",
       "    </tr>\n",
       "    <tr>\n",
       "      <td>2007-12-31</td>\n",
       "      <td>370.935944</td>\n",
       "      <td>373.993988</td>\n",
       "      <td>362.862854</td>\n",
       "      <td>371.266266</td>\n",
       "    </tr>\n",
       "    <tr>\n",
       "      <td>2008-12-31</td>\n",
       "      <td>346.781769</td>\n",
       "      <td>349.034027</td>\n",
       "      <td>339.204193</td>\n",
       "      <td>343.007996</td>\n",
       "    </tr>\n",
       "    <tr>\n",
       "      <td>2009-12-31</td>\n",
       "      <td>312.687683</td>\n",
       "      <td>313.308319</td>\n",
       "      <td>310.300293</td>\n",
       "      <td>311.746735</td>\n",
       "    </tr>\n",
       "    <tr>\n",
       "      <td>2010-12-31</td>\n",
       "      <td>315.315308</td>\n",
       "      <td>315.740753</td>\n",
       "      <td>312.432434</td>\n",
       "      <td>313.698700</td>\n",
       "    </tr>\n",
       "    <tr>\n",
       "      <td>2011-12-31</td>\n",
       "      <td>321.696686</td>\n",
       "      <td>323.703705</td>\n",
       "      <td>321.331329</td>\n",
       "      <td>323.273285</td>\n",
       "    </tr>\n",
       "    <tr>\n",
       "      <td>2012-12-31</td>\n",
       "      <td>385.740753</td>\n",
       "      <td>387.577576</td>\n",
       "      <td>382.887878</td>\n",
       "      <td>384.409424</td>\n",
       "    </tr>\n",
       "    <tr>\n",
       "      <td>2013-12-31</td>\n",
       "      <td>560.730713</td>\n",
       "      <td>561.061035</td>\n",
       "      <td>557.027039</td>\n",
       "      <td>560.915894</td>\n",
       "    </tr>\n",
       "    <tr>\n",
       "      <td>2014-12-31</td>\n",
       "      <td>614.014038</td>\n",
       "      <td>615.055054</td>\n",
       "      <td>609.909912</td>\n",
       "      <td>610.695679</td>\n",
       "    </tr>\n",
       "    <tr>\n",
       "      <td>2015-12-31</td>\n",
       "      <td>793.960022</td>\n",
       "      <td>798.690002</td>\n",
       "      <td>787.200012</td>\n",
       "      <td>793.960022</td>\n",
       "    </tr>\n",
       "    <tr>\n",
       "      <td>2016-12-31</td>\n",
       "      <td>838.500000</td>\n",
       "      <td>839.000000</td>\n",
       "      <td>829.039978</td>\n",
       "      <td>835.739990</td>\n",
       "    </tr>\n",
       "    <tr>\n",
       "      <td>2017-12-31</td>\n",
       "      <td>1083.020020</td>\n",
       "      <td>1086.489990</td>\n",
       "      <td>1072.270020</td>\n",
       "      <td>1085.089966</td>\n",
       "    </tr>\n",
       "    <tr>\n",
       "      <td>2018-12-31</td>\n",
       "      <td>1289.119995</td>\n",
       "      <td>1291.439941</td>\n",
       "      <td>1263.000000</td>\n",
       "      <td>1285.500000</td>\n",
       "    </tr>\n",
       "    <tr>\n",
       "      <td>2019-12-31</td>\n",
       "      <td>1363.099976</td>\n",
       "      <td>1364.329956</td>\n",
       "      <td>1350.770020</td>\n",
       "      <td>1362.469971</td>\n",
       "    </tr>\n",
       "  </tbody>\n",
       "</table>\n",
       "</div>"
      ],
      "text/plain": [
       "                   Open         High          Low        Close\n",
       "Date                                                          \n",
       "2004-12-31    99.714714   100.900902    96.766769    98.898895\n",
       "2005-12-31   216.991989   223.328323   214.604599   216.236237\n",
       "2006-12-31   255.740738   256.756744   253.143143   255.080078\n",
       "2007-12-31   370.935944   373.993988   362.862854   371.266266\n",
       "2008-12-31   346.781769   349.034027   339.204193   343.007996\n",
       "2009-12-31   312.687683   313.308319   310.300293   311.746735\n",
       "2010-12-31   315.315308   315.740753   312.432434   313.698700\n",
       "2011-12-31   321.696686   323.703705   321.331329   323.273285\n",
       "2012-12-31   385.740753   387.577576   382.887878   384.409424\n",
       "2013-12-31   560.730713   561.061035   557.027039   560.915894\n",
       "2014-12-31   614.014038   615.055054   609.909912   610.695679\n",
       "2015-12-31   793.960022   798.690002   787.200012   793.960022\n",
       "2016-12-31   838.500000   839.000000   829.039978   835.739990\n",
       "2017-12-31  1083.020020  1086.489990  1072.270020  1085.089966\n",
       "2018-12-31  1289.119995  1291.439941  1263.000000  1285.500000\n",
       "2019-12-31  1363.099976  1364.329956  1350.770020  1362.469971"
      ]
     },
     "execution_count": 37,
     "metadata": {},
     "output_type": "execute_result"
    }
   ],
   "source": [
    "cols = ['Open', 'High', 'Low', 'Close']\n",
    "\n",
    "df[cols].resample(rule='Y').max()"
   ]
  },
  {
   "cell_type": "markdown",
   "metadata": {},
   "source": [
    "## Resample Price, Open, High, Low - by Business Quarter\n",
    "\n",
    "Note that a business quarter end is not the same as a calendar quarter end.\n",
    "\n",
    "Take the mean value for each business quarter.\n",
    "\n",
    "Display the first 20 rows."
   ]
  },
  {
   "cell_type": "code",
   "execution_count": 40,
   "metadata": {},
   "outputs": [],
   "source": [
    "df_ohlc = df[cols].resample(rule='BQ').mean().head(20)\n",
    "\n",
    "w = pd.ExcelWriter('../Output/ohlc.xls')\n",
    "\n",
    "df_ohlc.to_excel(excel_writer=w, sheet_name='OHLC')\n",
    "\n",
    "w.save()"
   ]
  },
  {
   "cell_type": "markdown",
   "metadata": {},
   "source": [
    "## Resample Price, Open, High, Low - by Month for 2015\n",
    "\n",
    "Take the median value for each month.\n",
    "\n",
    "Display the first 20 rows."
   ]
  },
  {
   "cell_type": "code",
   "execution_count": 42,
   "metadata": {},
   "outputs": [
    {
     "data": {
      "text/html": [
       "<div>\n",
       "<style scoped>\n",
       "    .dataframe tbody tr th:only-of-type {\n",
       "        vertical-align: middle;\n",
       "    }\n",
       "\n",
       "    .dataframe tbody tr th {\n",
       "        vertical-align: top;\n",
       "    }\n",
       "\n",
       "    .dataframe thead th {\n",
       "        text-align: right;\n",
       "    }\n",
       "</style>\n",
       "<table border=\"1\" class=\"dataframe\">\n",
       "  <thead>\n",
       "    <tr style=\"text-align: right;\">\n",
       "      <th></th>\n",
       "      <th>Open</th>\n",
       "      <th>High</th>\n",
       "      <th>Low</th>\n",
       "      <th>Close</th>\n",
       "    </tr>\n",
       "    <tr>\n",
       "      <th>Date</th>\n",
       "      <th></th>\n",
       "      <th></th>\n",
       "      <th></th>\n",
       "      <th></th>\n",
       "    </tr>\n",
       "  </thead>\n",
       "  <tbody>\n",
       "    <tr>\n",
       "      <td>2015-01-31</td>\n",
       "      <td>516.480006</td>\n",
       "      <td>521.514999</td>\n",
       "      <td>510.174496</td>\n",
       "      <td>515.919498</td>\n",
       "    </tr>\n",
       "    <tr>\n",
       "      <td>2015-02-28</td>\n",
       "      <td>539.176841</td>\n",
       "      <td>544.848948</td>\n",
       "      <td>535.208422</td>\n",
       "      <td>540.985792</td>\n",
       "    </tr>\n",
       "    <tr>\n",
       "      <td>2015-03-31</td>\n",
       "      <td>566.354994</td>\n",
       "      <td>570.566367</td>\n",
       "      <td>561.694544</td>\n",
       "      <td>565.965906</td>\n",
       "    </tr>\n",
       "    <tr>\n",
       "      <td>2015-04-30</td>\n",
       "      <td>549.896667</td>\n",
       "      <td>554.367618</td>\n",
       "      <td>544.975714</td>\n",
       "      <td>549.482384</td>\n",
       "    </tr>\n",
       "    <tr>\n",
       "      <td>2015-05-31</td>\n",
       "      <td>548.042499</td>\n",
       "      <td>551.744501</td>\n",
       "      <td>543.734494</td>\n",
       "      <td>547.676501</td>\n",
       "    </tr>\n",
       "    <tr>\n",
       "      <td>2015-06-30</td>\n",
       "      <td>551.204085</td>\n",
       "      <td>554.416368</td>\n",
       "      <td>547.513636</td>\n",
       "      <td>550.796814</td>\n",
       "    </tr>\n",
       "    <tr>\n",
       "      <td>2015-07-31</td>\n",
       "      <td>615.796365</td>\n",
       "      <td>623.942272</td>\n",
       "      <td>610.504547</td>\n",
       "      <td>617.465002</td>\n",
       "    </tr>\n",
       "    <tr>\n",
       "      <td>2015-08-31</td>\n",
       "      <td>670.263806</td>\n",
       "      <td>677.063805</td>\n",
       "      <td>659.684759</td>\n",
       "      <td>667.657139</td>\n",
       "    </tr>\n",
       "    <tr>\n",
       "      <td>2015-09-30</td>\n",
       "      <td>648.889526</td>\n",
       "      <td>654.896191</td>\n",
       "      <td>641.409531</td>\n",
       "      <td>647.788565</td>\n",
       "    </tr>\n",
       "    <tr>\n",
       "      <td>2015-10-31</td>\n",
       "      <td>690.520458</td>\n",
       "      <td>697.696364</td>\n",
       "      <td>682.755457</td>\n",
       "      <td>691.555453</td>\n",
       "    </tr>\n",
       "    <tr>\n",
       "      <td>2015-11-30</td>\n",
       "      <td>758.557001</td>\n",
       "      <td>764.724503</td>\n",
       "      <td>753.013995</td>\n",
       "      <td>759.638998</td>\n",
       "    </tr>\n",
       "    <tr>\n",
       "      <td>2015-12-31</td>\n",
       "      <td>771.364546</td>\n",
       "      <td>778.382735</td>\n",
       "      <td>763.103643</td>\n",
       "      <td>771.040000</td>\n",
       "    </tr>\n",
       "  </tbody>\n",
       "</table>\n",
       "</div>"
      ],
      "text/plain": [
       "                  Open        High         Low       Close\n",
       "Date                                                      \n",
       "2015-01-31  516.480006  521.514999  510.174496  515.919498\n",
       "2015-02-28  539.176841  544.848948  535.208422  540.985792\n",
       "2015-03-31  566.354994  570.566367  561.694544  565.965906\n",
       "2015-04-30  549.896667  554.367618  544.975714  549.482384\n",
       "2015-05-31  548.042499  551.744501  543.734494  547.676501\n",
       "2015-06-30  551.204085  554.416368  547.513636  550.796814\n",
       "2015-07-31  615.796365  623.942272  610.504547  617.465002\n",
       "2015-08-31  670.263806  677.063805  659.684759  667.657139\n",
       "2015-09-30  648.889526  654.896191  641.409531  647.788565\n",
       "2015-10-31  690.520458  697.696364  682.755457  691.555453\n",
       "2015-11-30  758.557001  764.724503  753.013995  759.638998\n",
       "2015-12-31  771.364546  778.382735  763.103643  771.040000"
      ]
     },
     "execution_count": 42,
     "metadata": {},
     "output_type": "execute_result"
    }
   ],
   "source": [
    "df['2015'][cols].resample(rule='M').mean().head(20)"
   ]
  },
  {
   "cell_type": "code",
   "execution_count": null,
   "metadata": {},
   "outputs": [],
   "source": []
  }
 ],
 "metadata": {
  "kernelspec": {
   "display_name": "Python 3",
   "language": "python",
   "name": "python3"
  },
  "language_info": {
   "codemirror_mode": {
    "name": "ipython",
    "version": 3
   },
   "file_extension": ".py",
   "mimetype": "text/x-python",
   "name": "python",
   "nbconvert_exporter": "python",
   "pygments_lexer": "ipython3",
   "version": "3.7.4"
  }
 },
 "nbformat": 4,
 "nbformat_minor": 2
}
