{
 "cells": [
  {
   "cell_type": "markdown",
   "metadata": {},
   "source": [
    "<img style=\"float: right;\" width=\"120\" src=\"../Images/supplier-logo.png\">\n",
    "<img style=\"float: left; margin-top: 0\" width=\"80\" src=\"../Images/client-logo.png\">\n",
    "<br><br><br>"
   ]
  },
  {
   "cell_type": "markdown",
   "metadata": {},
   "source": [
    "# Synopsis\n",
    "\n",
    "Some of the following content is quite advanced\n",
    "\n",
    "Do not panic about this, just be aware that there are some very fast and efficient libraries available for number crunching using python.\n",
    "\n",
    "This notebook will explain the following topics and concepts:\n",
    "\n",
    "- **Built in Statistical Functions** \n",
    "\n",
    "- **Correlation & Covariance**\n",
    "\n",
    "- **Function application**\n",
    "  - Applying a function to rows of a DataFrame\n",
    "\n",
    "- **Common Front Office Calculations**\n",
    "  - Normalized prices\n",
    "  - the log of returns\n",
    "  - Daily Percentage Change\n",
    "  - Cumulative returns\n",
    "  - macd - Moving Average Convergence/Divergence\n",
    "\n",
    "- **Measuring Performance**\n",
    "  - the %timeit magic\n",
    "  - numpy and numexpr"
   ]
  }
 ],
 "metadata": {
  "kernelspec": {
   "display_name": "Python 3",
   "language": "python",
   "name": "python3"
  },
  "language_info": {
   "codemirror_mode": {
    "name": "ipython",
    "version": 3
   },
   "file_extension": ".py",
   "mimetype": "text/x-python",
   "name": "python",
   "nbconvert_exporter": "python",
   "pygments_lexer": "ipython3",
   "version": "3.7.4"
  }
 },
 "nbformat": 4,
 "nbformat_minor": 2
}
