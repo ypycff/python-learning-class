{
 "cells": [
  {
   "cell_type": "markdown",
   "metadata": {},
   "source": [
    "<img style=\"float: right;\" width=\"120\" src=\"../Images/supplier-logo.png\">\n",
    "<img style=\"float: left; margin-top: 0\" width=\"80\" src=\"../Images/client-logo.png\">\n",
    "<br><br><br>\n"
   ]
  },
  {
   "cell_type": "markdown",
   "metadata": {},
   "source": [
    "# Python Basics\n",
    "In this introductory section we will look at the basics of the python programming language.\n",
    "\n",
    "This will also give you an opportunity to get a feel for using the Jupyter environment to write and run code.\n",
    "\n",
    "The basic code we cover here will form the building blocks of the code we will use later to perform financial analysis using pandas, numpy and visualization using Matplotlib.\n",
    "\n",
    "\n",
    "## Synopsis\n",
    "\n",
    "This notebook will explain the following topics and concepts:\n",
    "\n",
    "- Maths expressions\n",
    "\n",
    "- Variables\n",
    "\n",
    "- Strings\n",
    "\n",
    "- Lists\n",
    "\n",
    "- Dictionaries\n",
    "\n",
    "- Conditionals\n",
    "\n",
    "- Flow Control (if, if/else)\n",
    "\n",
    "- Functional Programming\n",
    "\n",
    "- Functions"
   ]
  },
  {
   "cell_type": "markdown",
   "metadata": {},
   "source": [
    "## Getting Started with Jupyter\n",
    "\n",
    "The \"Jupyter Notebook\" is a web application that allows you to create and share documents that contain code, narrative text, visualisations and equations.\n",
    "\n",
    "In Jupyter we use the name \"notebook\" for a file that we type code and text (markdown) into.\n",
    "\n",
    "The file that you are reading now is a \"notebook\".\n",
    "\n",
    "We use the name \"cell\" for each box that we type code or text into.\n",
    "\n",
    "A \"notebook\" can have any number of \"cells\"\n",
    "\n",
    "See https://jupyter.org/ for more info.\n",
    "\n",
    "The most basic operations in Jupyter are:\n",
    "- Select a cell by clicking on it.\n",
    "- Once the cursor is flashing in a code cell you can write code.\n",
    "- Run a cell by pressing Ctrl-Enter (stays on the current cell) OR Shift-Enter (highlights the next cell).\n",
    "- If you double click a text cell it will change to edit mode on that cell. Ctrl-Enter will exit edit mode.\n",
    "\n",
    "We'll explore the Jupyter interface further as we progress through the course."
   ]
  },
  {
   "cell_type": "markdown",
   "metadata": {},
   "source": [
    "## Future proof the print function\n",
    "Allows us to use the python 3 version of print in python 2 code\n",
    "\n",
    "Better for future proofing code\n",
    "\n",
    "`print(x,y,z)`\n",
    "\n",
    "rather than the version 2\n",
    "\n",
    "`print x,y,z`"
   ]
  },
  {
   "cell_type": "code",
   "execution_count": 1,
   "metadata": {},
   "outputs": [],
   "source": [
    "from __future__ import print_function"
   ]
  },
  {
   "cell_type": "markdown",
   "metadata": {},
   "source": [
    "## Basic Mathematics\n",
    "We'll run each of the code cells below to see some basic mathematical operations."
   ]
  },
  {
   "cell_type": "markdown",
   "metadata": {},
   "source": [
    "1 plus 9 plus 29"
   ]
  },
  {
   "cell_type": "code",
   "execution_count": 2,
   "metadata": {},
   "outputs": [
    {
     "data": {
      "text/plain": [
       "39"
      ]
     },
     "execution_count": 2,
     "metadata": {},
     "output_type": "execute_result"
    }
   ],
   "source": [
    "1 + 9 + 29"
   ]
  },
  {
   "cell_type": "markdown",
   "metadata": {},
   "source": [
    "2 times 9 times 10"
   ]
  },
  {
   "cell_type": "code",
   "execution_count": 3,
   "metadata": {},
   "outputs": [
    {
     "data": {
      "text/plain": [
       "180"
      ]
     },
     "execution_count": 3,
     "metadata": {},
     "output_type": "execute_result"
    }
   ],
   "source": [
    "2 * 9 * 10"
   ]
  },
  {
   "cell_type": "markdown",
   "metadata": {},
   "source": [
    "2 times 3 + 12"
   ]
  },
  {
   "cell_type": "code",
   "execution_count": 4,
   "metadata": {},
   "outputs": [
    {
     "data": {
      "text/plain": [
       "18"
      ]
     },
     "execution_count": 4,
     "metadata": {},
     "output_type": "execute_result"
    }
   ],
   "source": [
    "2*3+12"
   ]
  },
  {
   "cell_type": "markdown",
   "metadata": {},
   "source": [
    "Python will follow \"PEMDAS\", but it's good practice to use parentheses for clarity"
   ]
  },
  {
   "cell_type": "code",
   "execution_count": 5,
   "metadata": {},
   "outputs": [
    {
     "data": {
      "text/plain": [
       "18"
      ]
     },
     "execution_count": 5,
     "metadata": {},
     "output_type": "execute_result"
    }
   ],
   "source": [
    "(2*3)+12"
   ]
  },
  {
   "cell_type": "markdown",
   "metadata": {},
   "source": [
    "spaces help also - see how the brackets change the result"
   ]
  },
  {
   "cell_type": "code",
   "execution_count": 6,
   "metadata": {},
   "outputs": [
    {
     "data": {
      "text/plain": [
       "30"
      ]
     },
     "execution_count": 6,
     "metadata": {},
     "output_type": "execute_result"
    }
   ],
   "source": [
    "2 * (3 + 12)"
   ]
  },
  {
   "cell_type": "markdown",
   "metadata": {},
   "source": [
    "(3+4)squared – (4 - 2)squared"
   ]
  },
  {
   "cell_type": "code",
   "execution_count": 7,
   "metadata": {},
   "outputs": [
    {
     "data": {
      "text/plain": [
       "45"
      ]
     },
     "execution_count": 7,
     "metadata": {},
     "output_type": "execute_result"
    }
   ],
   "source": [
    "(3 + 4)**2 - (4 - 2)**2"
   ]
  },
  {
   "cell_type": "markdown",
   "metadata": {},
   "source": [
    "remainder of 7 divided by 4"
   ]
  },
  {
   "cell_type": "code",
   "execution_count": 8,
   "metadata": {},
   "outputs": [
    {
     "data": {
      "text/plain": [
       "3"
      ]
     },
     "execution_count": 8,
     "metadata": {},
     "output_type": "execute_result"
    }
   ],
   "source": [
    "7 % 4"
   ]
  },
  {
   "cell_type": "markdown",
   "metadata": {},
   "source": [
    "### Common Operators\n",
    "\n",
    "<br>a+b\t,\taddition\n",
    "\n",
    "<br>a-b\t,\tsubtraction\n",
    "\n",
    "<br>a*b\t,\tmultiplication\n",
    "\n",
    "<br>a/b\t,\tdivision \n",
    "\n",
    "<br>a//b\tfloor division (e.g. 5//2=2)\n",
    "\n",
    "<br>a%b\t,\tmodulo\n",
    "\n",
    "<br>-a\t,\tnegation\n",
    "\n",
    "<br>abs(a)\t,\tabsolute value\n",
    "\n",
    "<br>a**b\t,\texponent\n",
    "\n",
    "<br>math.sqrt(a)\t,\tsquare root"
   ]
  },
  {
   "cell_type": "code",
   "execution_count": 9,
   "metadata": {},
   "outputs": [
    {
     "data": {
      "text/plain": [
       "7.0"
      ]
     },
     "execution_count": 9,
     "metadata": {},
     "output_type": "execute_result"
    }
   ],
   "source": [
    "import math\n",
    "math.sqrt(49)"
   ]
  },
  {
   "cell_type": "markdown",
   "metadata": {},
   "source": [
    "## Variables\n",
    "\n",
    "A \"variable\" is a name used to store values\n",
    "\n",
    "You can save the results of a computation into a variable for later use."
   ]
  },
  {
   "cell_type": "code",
   "execution_count": 10,
   "metadata": {},
   "outputs": [],
   "source": [
    "x = 1 + 1"
   ]
  },
  {
   "cell_type": "markdown",
   "metadata": {},
   "source": [
    "Here the contents of x are displayed because it is the last line of code in the cell"
   ]
  },
  {
   "cell_type": "code",
   "execution_count": 11,
   "metadata": {},
   "outputs": [
    {
     "data": {
      "text/plain": [
       "2"
      ]
     },
     "execution_count": 11,
     "metadata": {},
     "output_type": "execute_result"
    }
   ],
   "source": [
    "x"
   ]
  },
  {
   "cell_type": "markdown",
   "metadata": {},
   "source": [
    "We can \"print\" the variable x\n",
    "\n",
    "Here the contents of x will be displayed even if it is not the last line of code in the cell\n",
    "\n",
    "The contents of the last line are still displayed"
   ]
  },
  {
   "cell_type": "code",
   "execution_count": 12,
   "metadata": {},
   "outputs": [
    {
     "name": "stdout",
     "output_type": "stream",
     "text": [
      "2\n"
     ]
    },
    {
     "data": {
      "text/plain": [
       "973"
      ]
     },
     "execution_count": 12,
     "metadata": {},
     "output_type": "execute_result"
    }
   ],
   "source": [
    "print(x)\n",
    "another_variable = 973\n",
    "another_variable"
   ]
  },
  {
   "cell_type": "markdown",
   "metadata": {},
   "source": [
    "Re-use the variable x by assigning a new value to it"
   ]
  },
  {
   "cell_type": "code",
   "execution_count": 13,
   "metadata": {},
   "outputs": [
    {
     "name": "stdout",
     "output_type": "stream",
     "text": [
      "4\n"
     ]
    }
   ],
   "source": [
    "x = 2 * 2\n",
    "\n",
    "print(x)"
   ]
  },
  {
   "cell_type": "markdown",
   "metadata": {},
   "source": [
    "## Strings"
   ]
  },
  {
   "cell_type": "markdown",
   "metadata": {},
   "source": [
    "In Python we can use single quotes to denote a string"
   ]
  },
  {
   "cell_type": "code",
   "execution_count": 16,
   "metadata": {},
   "outputs": [
    {
     "name": "stdout",
     "output_type": "stream",
     "text": [
      "Hello\n"
     ]
    }
   ],
   "source": [
    "A = 'Hello'\n",
    "print(A)"
   ]
  },
  {
   "cell_type": "markdown",
   "metadata": {},
   "source": [
    "We can also use double quotes to denote a string"
   ]
  },
  {
   "cell_type": "code",
   "execution_count": 14,
   "metadata": {},
   "outputs": [
    {
     "name": "stdout",
     "output_type": "stream",
     "text": [
      "World\n"
     ]
    }
   ],
   "source": [
    "B = \"World\"\n",
    "print(B)"
   ]
  },
  {
   "cell_type": "markdown",
   "metadata": {},
   "source": [
    "Strings can be concatenated using the + operator"
   ]
  },
  {
   "cell_type": "code",
   "execution_count": 17,
   "metadata": {},
   "outputs": [
    {
     "name": "stdout",
     "output_type": "stream",
     "text": [
      "Hello World\n"
     ]
    }
   ],
   "source": [
    "C = A + \" \" + B\n",
    "print(C)"
   ]
  },
  {
   "cell_type": "markdown",
   "metadata": {},
   "source": [
    "We can find the length of a string"
   ]
  },
  {
   "cell_type": "code",
   "execution_count": 18,
   "metadata": {},
   "outputs": [
    {
     "name": "stdout",
     "output_type": "stream",
     "text": [
      "5\n"
     ]
    }
   ],
   "source": [
    "C = len(A)\n",
    "print(C)"
   ]
  },
  {
   "cell_type": "markdown",
   "metadata": {},
   "source": [
    "Print can take an expression as an argument and print the expression's result\n",
    "\n",
    "e.g. the length of A, \" \" and B\n"
   ]
  },
  {
   "cell_type": "code",
   "execution_count": 19,
   "metadata": {},
   "outputs": [
    {
     "name": "stdout",
     "output_type": "stream",
     "text": [
      "11\n"
     ]
    }
   ],
   "source": [
    "print(len(A + \" \" + B))"
   ]
  },
  {
   "cell_type": "markdown",
   "metadata": {},
   "source": [
    "Locate the position of the 1st occurrence of a particular character in a string\n",
    "\n",
    "e.g. 'o'"
   ]
  },
  {
   "cell_type": "code",
   "execution_count": 20,
   "metadata": {},
   "outputs": [
    {
     "name": "stdout",
     "output_type": "stream",
     "text": [
      "Hello\n",
      "4\n"
     ]
    }
   ],
   "source": [
    "print(A)\n",
    "print(A.index('o'))"
   ]
  },
  {
   "cell_type": "markdown",
   "metadata": {},
   "source": [
    "We can count the occurrences of a letter within a string\n",
    "\n",
    "how many H's, l's and B's\n"
   ]
  },
  {
   "cell_type": "code",
   "execution_count": 21,
   "metadata": {},
   "outputs": [
    {
     "name": "stdout",
     "output_type": "stream",
     "text": [
      "1\n",
      "2\n",
      "0\n"
     ]
    }
   ],
   "source": [
    "print(A.count(\"H\"))\n",
    "print(A.count(\"l\"))\n",
    "print(A.count(\"B\"))"
   ]
  },
  {
   "cell_type": "markdown",
   "metadata": {},
   "source": [
    "### More String Functions\n",
    "\n",
    "upper()\n",
    "\n",
    "lower()\n",
    "\n",
    "startswith()\n",
    "\n",
    "endswith()"
   ]
  },
  {
   "cell_type": "code",
   "execution_count": 22,
   "metadata": {},
   "outputs": [
    {
     "name": "stdout",
     "output_type": "stream",
     "text": [
      "HELLO WORLD\n"
     ]
    }
   ],
   "source": [
    "# Create a \"Hello World\" string\n",
    "hello_world = A + \" \" + B\n",
    "print(hello_world.upper())"
   ]
  },
  {
   "cell_type": "code",
   "execution_count": 23,
   "metadata": {},
   "outputs": [
    {
     "name": "stdout",
     "output_type": "stream",
     "text": [
      "False\n"
     ]
    }
   ],
   "source": [
    "print(hello_world.lower().endswith('RLD'))"
   ]
  },
  {
   "cell_type": "code",
   "execution_count": 24,
   "metadata": {},
   "outputs": [
    {
     "name": "stdout",
     "output_type": "stream",
     "text": [
      "True\n"
     ]
    }
   ],
   "source": [
    "print(hello_world.upper().endswith('RLD'))"
   ]
  },
  {
   "cell_type": "code",
   "execution_count": 25,
   "metadata": {},
   "outputs": [
    {
     "name": "stdout",
     "output_type": "stream",
     "text": [
      "True\n"
     ]
    }
   ],
   "source": [
    "print(hello_world.upper().startswith('HELL'))"
   ]
  },
  {
   "cell_type": "markdown",
   "metadata": {},
   "source": [
    "Documentation on common string operations can be found here - https://docs.python.org/3/library/string.html"
   ]
  },
  {
   "cell_type": "markdown",
   "metadata": {},
   "source": [
    "### Slicing Strings\n",
    "\n",
    "Slicing is a way to select a subsection of a string.\n",
    "\n",
    "The same slicing notation is used in Python to get a subsection of many other types of data e.g. lists of data, tables of data etc.\n",
    "\n",
    "Because of this, slicing is an important topic and a rudimentary understanding is needed before we move on to manipulating tables.\n",
    "\n",
    "In Python, collections of data almost always call the first position 0 (ZERO) i.e. NOT 1\n",
    "\n",
    "The general syntax for slicing is:\n",
    ">string_to_slice [start : stop : step]\n",
    "\n",
    "- **start** is the position to start the slice from\n",
    "- **stop** is the position AFTER the end of the slice\n",
    "- **step** (also knows as stride) is how many steps between each item (steps of 2, 3, 4, etc.)\n",
    "  - If step is left out then a value of 1 is assumed\n"
   ]
  },
  {
   "cell_type": "code",
   "execution_count": 34,
   "metadata": {
    "scrolled": true
   },
   "outputs": [
    {
     "name": "stdout",
     "output_type": "stream",
     "text": [
      "Hello World\n"
     ]
    }
   ],
   "source": [
    "# check that we still have our \"Hello World\" string\n",
    "print(hello_world)"
   ]
  },
  {
   "cell_type": "markdown",
   "metadata": {},
   "source": [
    "Now slice the string to display: \n",
    "\n",
    ">lo Worl"
   ]
  },
  {
   "cell_type": "code",
   "execution_count": 35,
   "metadata": {},
   "outputs": [
    {
     "name": "stdout",
     "output_type": "stream",
     "text": [
      "lo Worl\n"
     ]
    }
   ],
   "source": [
    "print(hello_world[3 : 10])"
   ]
  },
  {
   "cell_type": "markdown",
   "metadata": {},
   "source": [
    "Now slice the string to display l ol"
   ]
  },
  {
   "cell_type": "code",
   "execution_count": 36,
   "metadata": {},
   "outputs": [
    {
     "name": "stdout",
     "output_type": "stream",
     "text": [
      "l ol\n"
     ]
    }
   ],
   "source": [
    "print(hello_world[3 : 10 : 2])"
   ]
  },
  {
   "cell_type": "markdown",
   "metadata": {},
   "source": [
    "If we leave out \"start\" then the beginning of the string is assumed"
   ]
  },
  {
   "cell_type": "code",
   "execution_count": 37,
   "metadata": {},
   "outputs": [
    {
     "name": "stdout",
     "output_type": "stream",
     "text": [
      "Hello W\n"
     ]
    }
   ],
   "source": [
    "print(hello_world[: 7])"
   ]
  },
  {
   "cell_type": "markdown",
   "metadata": {},
   "source": [
    "If we leave out \"start\" then the beginning of the string is assumed"
   ]
  },
  {
   "cell_type": "code",
   "execution_count": 30,
   "metadata": {},
   "outputs": [
    {
     "name": "stdout",
     "output_type": "stream",
     "text": [
      "lo World\n"
     ]
    }
   ],
   "source": [
    "print(hello_world[3:])"
   ]
  },
  {
   "cell_type": "markdown",
   "metadata": {},
   "source": [
    "2 common slices are \n",
    "- everying except the last element\n",
    "- exactly the last element\n",
    "\n",
    "in python the last element in a collection is position -1, the second last is -2 etc "
   ]
  },
  {
   "cell_type": "code",
   "execution_count": 41,
   "metadata": {},
   "outputs": [
    {
     "name": "stdout",
     "output_type": "stream",
     "text": [
      "Hello Worl\n",
      "Hello Wo\n",
      "d\n",
      "rld\n"
     ]
    }
   ],
   "source": [
    "# everything but the last character - up to position -1\n",
    "print(hello_world[:-1])\n",
    "\n",
    "# everything but the last 3 character3 - up to position -3\n",
    "print(hello_world[:-3])\n",
    "\n",
    "# the last character - from 1 before the end to the end\n",
    "print(hello_world[-1:])\n",
    "\n",
    "# the last 3 characters - from 3 before the end to the end\n",
    "print(hello_world[-3:])"
   ]
  },
  {
   "cell_type": "markdown",
   "metadata": {},
   "source": [
    "### Splitting Strings\n",
    "\n",
    "The default sperator is a space"
   ]
  },
  {
   "cell_type": "code",
   "execution_count": 45,
   "metadata": {},
   "outputs": [
    {
     "name": "stdout",
     "output_type": "stream",
     "text": [
      "['Once', 'upon', 'a', 'time.']\n"
     ]
    }
   ],
   "source": [
    "C = \"Once upon a time.\"\n",
    "words = C.split?\n",
    "print(words)"
   ]
  },
  {
   "cell_type": "markdown",
   "metadata": {},
   "source": [
    "Using a seperator other than the default"
   ]
  },
  {
   "cell_type": "code",
   "execution_count": 48,
   "metadata": {},
   "outputs": [
    {
     "name": "stdout",
     "output_type": "stream",
     "text": [
      "['EUR', ' USD', ' JYP', ' GBP']\n"
     ]
    }
   ],
   "source": [
    "currencies = \"EUR, USD, JYP, GBP\"\n",
    "ccy_list = currencies.split(sep=',')\n",
    "print(ccy_list)"
   ]
  },
  {
   "cell_type": "markdown",
   "metadata": {},
   "source": [
    "## Collections of Data\n",
    "\n",
    "So far we have looked at variables representing an individual value e.g. a number, a string\n",
    "\n",
    "Python has a number of ways to store \"collections\" of values.\n",
    "\n",
    "The two most commonly used structures are:\n",
    "- **List:** A simple ordered collection of values. Values do NOT need to be the same type.\n",
    "- **Dictionary:** A collection of \"key\"/\"value\" pairs, often used as a type of \"lookup\" table "
   ]
  },
  {
   "cell_type": "markdown",
   "metadata": {},
   "source": [
    "## Lists\n",
    "\n",
    "An ordered collection of values\n",
    "\n",
    ">i.e. the order is maintained\n",
    "\n",
    "are heterogenous\n",
    "\n",
    ">i.e. vaues can be different types\n",
    "\n",
    "are mutable\n",
    "\n",
    ">i.e. CAN be changed\n",
    "\n",
    "We create a list using **\"square brackets\":** [ ]"
   ]
  },
  {
   "cell_type": "markdown",
   "metadata": {},
   "source": [
    "### Empty List"
   ]
  },
  {
   "cell_type": "code",
   "execution_count": 49,
   "metadata": {},
   "outputs": [
    {
     "name": "stdout",
     "output_type": "stream",
     "text": [
      "[]\n"
     ]
    }
   ],
   "source": [
    "my_list = []\n",
    "print(my_list)"
   ]
  },
  {
   "cell_type": "markdown",
   "metadata": {},
   "source": [
    "### List of Integers"
   ]
  },
  {
   "cell_type": "code",
   "execution_count": 50,
   "metadata": {},
   "outputs": [
    {
     "name": "stdout",
     "output_type": "stream",
     "text": [
      "[1, 2, 3]\n"
     ]
    }
   ],
   "source": [
    "my_list = [1, 2, 3]\n",
    "print(my_list)"
   ]
  },
  {
   "cell_type": "markdown",
   "metadata": {},
   "source": [
    "### List with mixed data types"
   ]
  },
  {
   "cell_type": "code",
   "execution_count": 51,
   "metadata": {},
   "outputs": [
    {
     "name": "stdout",
     "output_type": "stream",
     "text": [
      "[1, 'Hello', 3.4]\n",
      "Hello\n"
     ]
    }
   ],
   "source": [
    "my_list = [1, \"Hello\", 3.4]\n",
    "print(my_list)\n",
    "print(my_list[1])"
   ]
  },
  {
   "cell_type": "markdown",
   "metadata": {},
   "source": [
    "### Nested Lists\n",
    "i.e. lists can contain other lists"
   ]
  },
  {
   "cell_type": "code",
   "execution_count": 52,
   "metadata": {},
   "outputs": [
    {
     "name": "stdout",
     "output_type": "stream",
     "text": [
      "['mouse', [8, 4, 6], ['a']]\n"
     ]
    }
   ],
   "source": [
    "my_list = [\"mouse\", [8, 4, 6], ['a']]\n",
    "print(my_list)"
   ]
  },
  {
   "cell_type": "markdown",
   "metadata": {},
   "source": [
    "### List indexing\n",
    "Similar to strings, we use square brackets to find an element in a list"
   ]
  },
  {
   "cell_type": "code",
   "execution_count": 53,
   "metadata": {},
   "outputs": [
    {
     "name": "stdout",
     "output_type": "stream",
     "text": [
      "p\n"
     ]
    }
   ],
   "source": [
    "my_list = ['p','r','o','b','e']\n",
    "# Outputs: p\n",
    "print(my_list[0])"
   ]
  },
  {
   "cell_type": "code",
   "execution_count": 54,
   "metadata": {},
   "outputs": [
    {
     "name": "stdout",
     "output_type": "stream",
     "text": [
      "o\n"
     ]
    }
   ],
   "source": [
    "# Output: o\n",
    "print(my_list[2])"
   ]
  },
  {
   "cell_type": "code",
   "execution_count": 55,
   "metadata": {},
   "outputs": [
    {
     "name": "stdout",
     "output_type": "stream",
     "text": [
      "e\n"
     ]
    }
   ],
   "source": [
    "# Output: e\n",
    "print(my_list[4])"
   ]
  },
  {
   "cell_type": "code",
   "execution_count": 56,
   "metadata": {},
   "outputs": [],
   "source": [
    "# This cell will throw an Error!\n",
    "\n",
    "# Try to make sense of the error message \n",
    "# - usually the last line contains the most useful information.\n",
    "\n",
    "# Only integers can be used for indexing\n",
    "\n",
    "#my_list[4.0]\n",
    "# Cannot get list[4.5], list[4.22], etc."
   ]
  },
  {
   "cell_type": "markdown",
   "metadata": {},
   "source": [
    "Lists can contain more lists, we use **more** square brackets to get a value from the \"sub list\""
   ]
  },
  {
   "cell_type": "code",
   "execution_count": 57,
   "metadata": {},
   "outputs": [
    {
     "name": "stdout",
     "output_type": "stream",
     "text": [
      "['Happy', [2, 0, 1, 5]]\n"
     ]
    }
   ],
   "source": [
    "# Nested List\n",
    "n_list = [\"Happy\", [2,0,1,5]]\n",
    "print(n_list)"
   ]
  },
  {
   "cell_type": "code",
   "execution_count": 58,
   "metadata": {},
   "outputs": [
    {
     "name": "stdout",
     "output_type": "stream",
     "text": [
      "a\n"
     ]
    }
   ],
   "source": [
    "# Nested indexing\n",
    "\n",
    "# Output: a\n",
    "print(n_list[0][1])"
   ]
  },
  {
   "cell_type": "markdown",
   "metadata": {},
   "source": [
    "List slicing is the same a string slicing"
   ]
  },
  {
   "cell_type": "code",
   "execution_count": 59,
   "metadata": {},
   "outputs": [
    {
     "name": "stdout",
     "output_type": "stream",
     "text": [
      "['t', 'a', 'f']\n"
     ]
    }
   ],
   "source": [
    "my_list = ['d','a','t','a','f','l','a','m','e']\n",
    "# Elements 3rd to 5th\n",
    "print(my_list[2:5])"
   ]
  },
  {
   "cell_type": "markdown",
   "metadata": {},
   "source": [
    "In all Python slicing we can use negative numbers to start counting from the end\n"
   ]
  },
  {
   "cell_type": "code",
   "execution_count": 63,
   "metadata": {},
   "outputs": [
    {
     "name": "stdout",
     "output_type": "stream",
     "text": [
      "['d', 'a', 't', 'a']\n"
     ]
    }
   ],
   "source": [
    "# Elements beginning to 4th\n",
    "print(my_list[ : -5])"
   ]
  },
  {
   "cell_type": "code",
   "execution_count": 64,
   "metadata": {},
   "outputs": [
    {
     "name": "stdout",
     "output_type": "stream",
     "text": [
      "['l', 'a', 'm', 'e']\n"
     ]
    }
   ],
   "source": [
    "# Elements 6th to end\n",
    "print(my_list[5 : ])"
   ]
  },
  {
   "cell_type": "code",
   "execution_count": 65,
   "metadata": {},
   "outputs": [
    {
     "name": "stdout",
     "output_type": "stream",
     "text": [
      "['d', 'a', 't', 'a', 'f', 'l', 'a', 'm', 'e']\n"
     ]
    }
   ],
   "source": [
    "# Elements beginning to end\n",
    "print(my_list[:])"
   ]
  },
  {
   "cell_type": "code",
   "execution_count": 66,
   "metadata": {},
   "outputs": [
    {
     "data": {
      "text/plain": [
       "9"
      ]
     },
     "execution_count": 66,
     "metadata": {},
     "output_type": "execute_result"
    }
   ],
   "source": [
    "# Length of my_list\n",
    "len(my_list)"
   ]
  },
  {
   "cell_type": "code",
   "execution_count": 67,
   "metadata": {},
   "outputs": [
    {
     "name": "stdout",
     "output_type": "stream",
     "text": [
      "9\n"
     ]
    }
   ],
   "source": [
    "print(len(my_list))"
   ]
  },
  {
   "cell_type": "markdown",
   "metadata": {},
   "source": [
    "Some more complicated slicing examples"
   ]
  },
  {
   "cell_type": "code",
   "execution_count": 68,
   "metadata": {},
   "outputs": [
    {
     "name": "stdout",
     "output_type": "stream",
     "text": [
      "['d', 'a', 't', 'a', 'f', 'l', 'a', 'm']\n"
     ]
    }
   ],
   "source": [
    "# All but the last\n",
    "print(my_list[:len(my_list)-1])"
   ]
  },
  {
   "cell_type": "code",
   "execution_count": 69,
   "metadata": {},
   "outputs": [
    {
     "name": "stdout",
     "output_type": "stream",
     "text": [
      "e\n"
     ]
    }
   ],
   "source": [
    "# The last element\n",
    "print(my_list[len(my_list)-1])"
   ]
  },
  {
   "cell_type": "markdown",
   "metadata": {},
   "source": [
    "### Main List Functions\n",
    "\n",
    "<table align='left'>\n",
    "<tr>\n",
    "<th>Method</th>\n",
    "<th>Description</th>\n",
    "</tr>\n",
    "<tr><td> append() </td><td>Adds an element at \n",
    "  the end of the list</td></tr>\n",
    "<tr><td> clear() </td><td>Removes all the \n",
    "  elements from the list</td></tr>\n",
    "<tr><td> copy() </td><td>Returns a copy of the \n",
    "  list</td></tr>\n",
    "<tr><td> count() </td><td>Returns the number of \n",
    "  elements with the specified value</td></tr>\n",
    "<tr><td> extend() </td><td>Add the elements of a \n",
    "  list (or any iterable), to the end of the current list</td></tr>\n",
    "<tr><td> index() </td><td>Returns the index of \n",
    "  the first element with the specified value</td></tr>\n",
    "<tr><td> insert() </td><td>Adds an element at \n",
    "  the specified position</td></tr>\n",
    "<tr><td> pop() </td><td>Removes the element at the \n",
    "  specified position</td></tr>\n",
    "<tr><td> remove() </td><td>Removes the  \n",
    "  item with the specified value</td></tr>\n",
    "<tr><td> reverse() </td><td>Reverses the order \n",
    "  of the list</td></tr>\n",
    "<tr><td> sort() </td><td>Sorts the list</td></tr>\n",
    "</table>"
   ]
  },
  {
   "cell_type": "markdown",
   "metadata": {},
   "source": [
    "## Tuples\n",
    "\n",
    "\n",
    "An ordered collection of values\n",
    "\n",
    ">i.e. the order is maintained\n",
    "\n",
    "are heterogenous\n",
    "\n",
    ">i.e. vaues can be different types\n",
    "\n",
    "are immutable\n",
    "\n",
    ">i.e. CANNOT be changed <BR>\n",
    ">Python guaratees tuples are WRITE protected.\n",
    "\n",
    "We create a list using **\"parentheses\":** ()\n"
   ]
  },
  {
   "cell_type": "markdown",
   "metadata": {},
   "source": [
    "### Empty tuple"
   ]
  },
  {
   "cell_type": "code",
   "execution_count": 70,
   "metadata": {},
   "outputs": [
    {
     "name": "stdout",
     "output_type": "stream",
     "text": [
      "()\n"
     ]
    }
   ],
   "source": [
    "my_tuple = ()\n",
    "print(my_tuple)"
   ]
  },
  {
   "cell_type": "markdown",
   "metadata": {},
   "source": [
    "### tuple of integers"
   ]
  },
  {
   "cell_type": "code",
   "execution_count": 71,
   "metadata": {},
   "outputs": [
    {
     "name": "stdout",
     "output_type": "stream",
     "text": [
      "(3, 4, 5)\n"
     ]
    }
   ],
   "source": [
    "my_tuple = (3,4,5)\n",
    "print(my_tuple)"
   ]
  },
  {
   "cell_type": "markdown",
   "metadata": {},
   "source": [
    "### tuple of mixed data types"
   ]
  },
  {
   "cell_type": "code",
   "execution_count": 72,
   "metadata": {},
   "outputs": [
    {
     "name": "stdout",
     "output_type": "stream",
     "text": [
      "(1, 'Hello', 3.4)\n"
     ]
    }
   ],
   "source": [
    "my_tuple = (1, \"Hello\", 3.4)\n",
    "print(my_tuple)"
   ]
  },
  {
   "cell_type": "markdown",
   "metadata": {},
   "source": [
    "### Nested tuple"
   ]
  },
  {
   "cell_type": "code",
   "execution_count": 73,
   "metadata": {
    "scrolled": true
   },
   "outputs": [
    {
     "name": "stdout",
     "output_type": "stream",
     "text": [
      "('mouse', [8, 4, 6], (1, 2, 3))\n"
     ]
    }
   ],
   "source": [
    "my_tuple = (\"mouse\", [8, 4, 6], (1, 2, 3))\n",
    "print(my_tuple)"
   ]
  },
  {
   "cell_type": "code",
   "execution_count": 74,
   "metadata": {},
   "outputs": [
    {
     "name": "stdout",
     "output_type": "stream",
     "text": [
      "(1, 2, 3, 4)\n",
      "(4, 'five,', 'six')\n"
     ]
    }
   ],
   "source": [
    "my_tuple = (1,2,3,4)\n",
    "\n",
    "print (my_tuple)\n",
    "\n",
    "my_tuple = (4,\"five,\", \"six\")\n",
    "print(my_tuple)"
   ]
  },
  {
   "cell_type": "markdown",
   "metadata": {},
   "source": [
    "### Accessing elements inside a tuple - the same as list - use []"
   ]
  },
  {
   "cell_type": "code",
   "execution_count": 75,
   "metadata": {},
   "outputs": [
    {
     "name": "stdout",
     "output_type": "stream",
     "text": [
      "4\n"
     ]
    }
   ],
   "source": [
    "print(my_tuple[0])"
   ]
  },
  {
   "cell_type": "markdown",
   "metadata": {},
   "source": [
    "### Create tuples without ()"
   ]
  },
  {
   "cell_type": "code",
   "execution_count": 76,
   "metadata": {},
   "outputs": [
    {
     "name": "stdout",
     "output_type": "stream",
     "text": [
      "(3, 4.6, 'dog')\n"
     ]
    }
   ],
   "source": [
    "my_tuple = 3, 4.6, \"dog\"\n",
    "print(my_tuple)"
   ]
  },
  {
   "cell_type": "markdown",
   "metadata": {},
   "source": [
    "### Unpacking a tuple\n",
    "- Used when tuples are used as the return values from a function\n",
    "\n",
    "- Widely used in the Machine Learning libraries "
   ]
  },
  {
   "cell_type": "code",
   "execution_count": 77,
   "metadata": {},
   "outputs": [
    {
     "name": "stdout",
     "output_type": "stream",
     "text": [
      "3\n",
      "4\n",
      "5\n"
     ]
    }
   ],
   "source": [
    "def foo():\n",
    "    return (3,4,5)\n",
    "\n",
    "a, b, c = foo()\n",
    "print(a)\n",
    "print(b)\n",
    "print(c)"
   ]
  },
  {
   "cell_type": "markdown",
   "metadata": {},
   "source": [
    "### Main Tuple Functions\n",
    "\n",
    "<table align='left'>\n",
    "<tr>\n",
    "<th style=\"width:20%\">Method</th>\n",
    "<th>Description</th>\n",
    "</tr>\n",
    "<tr><td> count() </td><td>Returns the number of times a specified value occurs in a tuple</td></tr>\n",
    "<tr><td> index() </td><td>Searches the tuple for a specified value and returns the position of where it was found</td></tr>\n",
    "</table>\n"
   ]
  },
  {
   "cell_type": "markdown",
   "metadata": {},
   "source": [
    "## Sets\n",
    "\n",
    "\n",
    "A heterogeneous collection of values\n",
    "\n",
    "Create using {}"
   ]
  },
  {
   "cell_type": "markdown",
   "metadata": {},
   "source": [
    "### Empty Set"
   ]
  },
  {
   "cell_type": "code",
   "execution_count": 78,
   "metadata": {},
   "outputs": [
    {
     "name": "stdout",
     "output_type": "stream",
     "text": [
      "{}\n"
     ]
    }
   ],
   "source": [
    "my_set = {}\n",
    "print(my_set)"
   ]
  },
  {
   "cell_type": "markdown",
   "metadata": {},
   "source": [
    "### Set with initial Values"
   ]
  },
  {
   "cell_type": "code",
   "execution_count": 79,
   "metadata": {},
   "outputs": [
    {
     "name": "stdout",
     "output_type": "stream",
     "text": [
      "{1, 2, 'EUR', 'USD'}\n"
     ]
    }
   ],
   "source": [
    "my_set = {1, \"USD\", 2, 'EUR'}\n",
    "print(my_set)"
   ]
  },
  {
   "cell_type": "markdown",
   "metadata": {},
   "source": [
    "### Create using set()"
   ]
  },
  {
   "cell_type": "code",
   "execution_count": 80,
   "metadata": {},
   "outputs": [
    {
     "name": "stdout",
     "output_type": "stream",
     "text": [
      "{1, 2, 'EUR', 'USD'}\n"
     ]
    }
   ],
   "source": [
    "my_set = set({1, \"USD\", 2, 'EUR'})\n",
    "print(my_set)"
   ]
  },
  {
   "cell_type": "markdown",
   "metadata": {},
   "source": [
    "### Set of tuples"
   ]
  },
  {
   "cell_type": "code",
   "execution_count": 81,
   "metadata": {},
   "outputs": [],
   "source": [
    "my_tuples = [(1,'FB'), (2,'AMZN')]\n",
    "my_set = set(my_tuples)"
   ]
  },
  {
   "cell_type": "markdown",
   "metadata": {},
   "source": [
    "### Main Set Methods\n",
    "\n",
    "<table align='left'>\n",
    "<tr>\n",
    "<th>Method</th>\n",
    "<th>Description</th>\n",
    "</tr>\n",
    "<tr><td> add() </td><td>Adds an element to the set</td></tr>\n",
    "<tr><td> clear() </td><td>Removes all the elements from the set</td></tr>\n",
    "<tr><td> copy() </td><td>Returns a copy of the set</td></tr>\n",
    "<tr><td> difference() </td><td>Returns a set containing the difference between two or more sets</td></tr>\n",
    "<tr><td> difference_update()</td><td>Removes the items in this set that are also included in another, specified set</td></tr>\n",
    "<tr><td> discard() </td><td>Remove the specified item</td></tr>\n",
    "<tr><td> intersection() </td><td>Returns a set, that is the intersection of two other sets</td></tr>\n",
    "<tr><td> intersection_update() </td><td> Removes the items in this set that are not present in other, specified set(s)</td></tr>\n",
    "<tr><td> isdisjoint() </td><td>Returns whether two sets have a intersection or not</td></tr>\n",
    "<tr> <td> issubset() </td><td>Returns whether another set contains this set or not</td></tr>\n",
    "<tr><td> issuperset() </td><td>Returns whether this set contains another set or not</td></tr>\n",
    "<tr><td> pop() </td><td>Removes an element from the set</td></tr>\n",
    "<tr><td> remove() </td><td>Removes the specified element</td></tr>\n",
    "<tr><td> symmetric_difference() </td><td>Returns a set with the symmetric differences of two sets</td></tr>\n",
    "<tr><td> symmetric_difference_update()</a></td><td> inserts the symmetric differences from this set and another</td></tr>\n",
    "<tr><td> union() </td><td>Return a set containing the union of sets</td></tr>\n",
    "<tr><td> update() </td><td>Update the set with the union of this set and others</td></tr>\n",
    "</table>\n"
   ]
  },
  {
   "cell_type": "markdown",
   "metadata": {},
   "source": [
    "## Dictionary\n",
    "\n",
    "A Python dictionary is a heterogeneous collection of key/values pairs\n",
    "\n",
    "Quite often the key is a simple value e.g. an integer or string\n",
    "\n",
    "The values are often complex types e.g. lists or more dictionaries\n",
    "\n",
    "Keys do not need to be of the same type\n",
    "\n",
    ">- Create a dictionary using **curly brackets:** { }\n",
    ">- Put a **colon** between keys and values\n",
    ">- Separate key/value pairs with a **comma**"
   ]
  },
  {
   "cell_type": "markdown",
   "metadata": {},
   "source": [
    "### Empty Dictionary"
   ]
  },
  {
   "cell_type": "code",
   "execution_count": 82,
   "metadata": {},
   "outputs": [
    {
     "name": "stdout",
     "output_type": "stream",
     "text": [
      "{}\n"
     ]
    }
   ],
   "source": [
    "my_dict = {}\n",
    "print(my_dict)"
   ]
  },
  {
   "cell_type": "markdown",
   "metadata": {},
   "source": [
    "### A dictionary with integer keys and string values"
   ]
  },
  {
   "cell_type": "code",
   "execution_count": 83,
   "metadata": {},
   "outputs": [
    {
     "name": "stdout",
     "output_type": "stream",
     "text": [
      "{1: 'USD', 2: 'EUR'}\n"
     ]
    }
   ],
   "source": [
    "my_dict = {1: \"USD\", 2: 'EUR'}\n",
    "print(my_dict)"
   ]
  },
  {
   "cell_type": "markdown",
   "metadata": {},
   "source": [
    "### A dictionary with mixed keys (string and integer) and mixed values (string and list)"
   ]
  },
  {
   "cell_type": "code",
   "execution_count": 84,
   "metadata": {},
   "outputs": [
    {
     "name": "stdout",
     "output_type": "stream",
     "text": [
      "{'FB': 'a_string_value', 1: [2, 4, 3]}\n"
     ]
    }
   ],
   "source": [
    "my_dict = {'FB': 'a_string_value', 1: [2, 4, 3]}\n",
    "print(my_dict)"
   ]
  },
  {
   "cell_type": "markdown",
   "metadata": {},
   "source": [
    "### Accessing dictionary elements\n",
    "\n",
    "We access the elements of a dictionary by putting the required key inside square brackets"
   ]
  },
  {
   "cell_type": "code",
   "execution_count": 85,
   "metadata": {},
   "outputs": [
    {
     "name": "stdout",
     "output_type": "stream",
     "text": [
      "{'FB': 'a_string_value', 1: [2, 4, 3]}\n",
      "a_string_value\n",
      "[2, 4, 3]\n"
     ]
    }
   ],
   "source": [
    "print(my_dict)\n",
    "\n",
    "# get the VALUE that corresponds to the KEY 'FB'\n",
    "print(my_dict['FB'])\n",
    "\n",
    "# get the VALUE that corresponds to the KEY 1\n",
    "print(my_dict[1])"
   ]
  },
  {
   "cell_type": "markdown",
   "metadata": {},
   "source": [
    "### Using name value pairs to describe attributes of a Stock"
   ]
  },
  {
   "cell_type": "code",
   "execution_count": 86,
   "metadata": {},
   "outputs": [
    {
     "name": "stdout",
     "output_type": "stream",
     "text": [
      "Facebook\n",
      "123.45\n",
      "{'FB': 'Facebook', 'Adj Close': 234.56}\n",
      "{'FB': 'Facebook', 'Adj Close': 234.56, 'Vol': 525000}\n",
      "{'FB': 'Facebook', 'Vol': 525000}\n"
     ]
    }
   ],
   "source": [
    "my_dict = {'FB': 'Facebook', 'Adj Close': 123.45}\n",
    "print(my_dict['FB'])\n",
    "\n",
    "# Output: Adj Close\n",
    "print(my_dict['Adj Close'])\n",
    "\n",
    "# Update Adj Close to be 234.56\n",
    "my_dict['Adj Close'] = 234.56\n",
    "print(my_dict)\n",
    "\n",
    "# Add item 'Vol' = equal to 525000\n",
    "my_dict['Vol'] = 525000 \n",
    "print(my_dict)\n",
    "\n",
    "# Remove 'Adj Close'\n",
    "my_dict.pop('Adj Close')\n",
    "print(my_dict)\n"
   ]
  },
  {
   "cell_type": "markdown",
   "metadata": {},
   "source": [
    "### Dictionaries as lookup tables"
   ]
  },
  {
   "cell_type": "code",
   "execution_count": 87,
   "metadata": {},
   "outputs": [
    {
     "name": "stdout",
     "output_type": "stream",
     "text": [
      "1.09\n",
      "1.28\n"
     ]
    }
   ],
   "source": [
    "rates = {'EUR': 1.09, 'USD': 1.28 }\n",
    "\n",
    "# Print the rate for EUR\n",
    "print(rates['EUR'])\n",
    "print(rates['USD'])\n"
   ]
  },
  {
   "cell_type": "markdown",
   "metadata": {},
   "source": [
    "## Iteration"
   ]
  },
  {
   "cell_type": "code",
   "execution_count": 88,
   "metadata": {},
   "outputs": [
    {
     "name": "stdout",
     "output_type": "stream",
     "text": [
      "There\n",
      "was\n",
      "an\n",
      "old\n",
      "woman\n",
      "who\n",
      "lived\n",
      "in\n",
      "a\n",
      "shoe.\n"
     ]
    }
   ],
   "source": [
    "# Over a list\n",
    "wordlist = [\"There\", \"was\", \"an\", \"old\", \"woman\", \"who\", \"lived\", \"in\", \"a\", \"shoe.\"]\n",
    "\n",
    "for word in wordlist:\n",
    "    print(word)"
   ]
  },
  {
   "cell_type": "code",
   "execution_count": 89,
   "metadata": {},
   "outputs": [
    {
     "name": "stdout",
     "output_type": "stream",
     "text": [
      "She\n",
      "had\n",
      "so\n",
      "many\n",
      "children\n",
      "she\n",
      "didn't\n",
      "know\n",
      "what\n",
      "to\n",
      "do.\n"
     ]
    }
   ],
   "source": [
    "# Over a tuple\n",
    "wordtuple = (\"She\", \"had\", \"so\", \"many\", \"children\", \"she\", \"didn't\", \"know\", \"what\", \"to\", \"do.\")\n",
    "\n",
    "for word in wordtuple:\n",
    "    print(word)"
   ]
  },
  {
   "cell_type": "code",
   "execution_count": 90,
   "metadata": {},
   "outputs": [
    {
     "name": "stdout",
     "output_type": "stream",
     "text": [
      "broth\n",
      "bread.\n",
      "them\n",
      "She\n",
      "big\n",
      "some\n",
      "gave\n",
      "of\n",
      "and\n",
      "a\n",
      "slice\n"
     ]
    }
   ],
   "source": [
    "# Over a set    \n",
    "wordset = {\"She\", \"gave\", \"them\", \"some\", \"broth\", \"and\", \"a\", \"big\", \"slice\", \"of\", \"bread.\"}\n",
    "for word in wordset:\n",
    "    print(word)"
   ]
  },
  {
   "cell_type": "code",
   "execution_count": 91,
   "metadata": {},
   "outputs": [
    {
     "name": "stdout",
     "output_type": "stream",
     "text": [
      "('1', 'Then')\n",
      "('Two', 'kissed')\n",
      "(3, 'them')\n",
      "('Four', 'all')\n",
      "(5, 'soundly')\n",
      "('VI', 'and')\n",
      "('seven', 'sent')\n",
      "(8, 'them')\n",
      "('9', 'to')\n",
      "('X', 'bed.')\n",
      "1  :  Then\n",
      "Two  :  kissed\n",
      "3  :  them\n",
      "Four  :  all\n",
      "5  :  soundly\n",
      "VI  :  and\n",
      "seven  :  sent\n",
      "8  :  them\n",
      "9  :  to\n",
      "X  :  bed.\n"
     ]
    }
   ],
   "source": [
    "# Over a dictionary   \n",
    "worddict = { '1':\"Then\", \"Two\":\"kissed\",  3:\"them\",  'Four':\"all\",  5:\"soundly\",  \n",
    "             'VI':\"and\", \"seven\":'sent', 8:'them', \"9\":'to', 'X':'bed.'}\n",
    "\n",
    "for item in worddict.items():\n",
    "    print(item)\n",
    "    \n",
    "for k,v in worddict.items():\n",
    "    print(k, \" : \", v)"
   ]
  },
  {
   "cell_type": "markdown",
   "metadata": {},
   "source": [
    "## List comprehensions\n",
    "\n",
    "List comprehensions provide a concise way to create lists. \n",
    "\n",
    "It consists of brackets containing an expression followed by a for clause, then\n",
    "zero or more for or if clauses. The expressions can be anything, meaning you can\n",
    "put in all kinds of objects in lists.\n",
    "\n",
    "The result will be a new list resulting from evaluating the expression in the\n",
    "context of the for and if clauses which follow it. \n",
    "\n",
    "The list comprehension always returns a result list. "
   ]
  },
  {
   "cell_type": "markdown",
   "metadata": {},
   "source": [
    "### If you used to do it like this:"
   ]
  },
  {
   "cell_type": "code",
   "execution_count": 92,
   "metadata": {},
   "outputs": [
    {
     "name": "stdout",
     "output_type": "stream",
     "text": [
      "['children,', \"didn't\", 'bread.', 'kissed', 'soundly']\n"
     ]
    }
   ],
   "source": [
    "def len_gt_five(word):\n",
    "    return len(word) > 5\n",
    "\n",
    "verse = '''There was an old woman who lived in a shoe.\n",
    "She had so many children, she didn't know what to do.\n",
    "She gave them some broth and a big slice of bread.\n",
    "Then kissed them all soundly and sent them to bed.'''\n",
    "\n",
    "wordslist = verse.split()\n",
    "\n",
    "long_words = []\n",
    "for word in wordslist:\n",
    "    if len_gt_five(word):\n",
    "        long_words.append(word)\n",
    "\n",
    "print(long_words)"
   ]
  },
  {
   "cell_type": "markdown",
   "metadata": {},
   "source": [
    "### You can obtain the same thing using list comprehension:"
   ]
  },
  {
   "cell_type": "code",
   "execution_count": 93,
   "metadata": {},
   "outputs": [
    {
     "name": "stdout",
     "output_type": "stream",
     "text": [
      "['children,', \"didn't\", 'bread.', 'kissed', 'soundly']\n"
     ]
    }
   ],
   "source": [
    "long_words = [word for word in wordslist if len_gt_five(word)]\n",
    "\n",
    "print(long_words)"
   ]
  },
  {
   "cell_type": "markdown",
   "metadata": {},
   "source": [
    "## enumerate\n",
    "\n",
    "Enumerate is a built-in function of Python. \n",
    "\n",
    "It allows us to loop over something **and** have an automatic counter.\n",
    "\n"
   ]
  },
  {
   "cell_type": "code",
   "execution_count": 94,
   "metadata": {},
   "outputs": [
    {
     "name": "stdout",
     "output_type": "stream",
     "text": [
      "1 children,\n",
      "2 didn't\n",
      "3 bread.\n",
      "4 kissed\n",
      "5 soundly\n"
     ]
    }
   ],
   "source": [
    "long_words = [word for word in wordslist if len_gt_five(word)]\n",
    "\n",
    "for c, value in enumerate(long_words, 1):\n",
    "    print(c, value)\n"
   ]
  },
  {
   "cell_type": "markdown",
   "metadata": {},
   "source": [
    "## Slicing\n",
    "\n",
    "Any collection - not jsut strings and lists\n",
    "\n",
    "2 variants\n",
    "\n",
    "    - collection[start:stop]\n",
    "    - collection[start:stop:step]\n",
    "\n",
    "step can be negative\n",
    "\n",
    "defaults are<br>\n",
    "- start : beginning<br>\n",
    "- stop : end\n"
   ]
  },
  {
   "cell_type": "code",
   "execution_count": 95,
   "metadata": {},
   "outputs": [
    {
     "data": {
      "text/plain": [
       "[6, 8, 10]"
      ]
     },
     "execution_count": 95,
     "metadata": {},
     "output_type": "execute_result"
    }
   ],
   "source": [
    "lst = [0,1,2,3,4,5,6,7,8,9,10]\n",
    "lst\n",
    "lst[0:6]\n",
    "lst[0:6:2]\n",
    "lst[:6]\n",
    "lst[6:]\n",
    "lst[:6:2]\n",
    "lst[6::2]"
   ]
  },
  {
   "cell_type": "code",
   "execution_count": 96,
   "metadata": {},
   "outputs": [
    {
     "data": {
      "text/plain": [
       "[6, 8, 10]"
      ]
     },
     "execution_count": 96,
     "metadata": {},
     "output_type": "execute_result"
    }
   ],
   "source": [
    "lst[6::2]"
   ]
  },
  {
   "cell_type": "markdown",
   "metadata": {},
   "source": [
    "## Conditionals\n",
    "\n",
    "We often want to test if a condition is True or False.\n",
    "\n",
    "There are a number of conditional operators in Python:\n",
    "- **==** : Check if two elements are equal\n",
    "- **!=** : NOT Equal\n",
    "- **>**  : Greater than\n",
    "- **>=** : Greater than OR equal to\n",
    "- **<**  : Less than\n",
    "- **<=** : Less than OR equal to\n",
    "\n",
    "    >Notice the difference between \"a single equals\" and \"double equals\"\n",
    "    >- A single equals makes a variable equal to something (assignment)\n",
    "    >- Double equals is \"asking\" if two statements are the same (querying)\n"
   ]
  },
  {
   "cell_type": "markdown",
   "metadata": {},
   "source": [
    "### Some conditional checks"
   ]
  },
  {
   "cell_type": "code",
   "execution_count": 97,
   "metadata": {},
   "outputs": [
    {
     "name": "stdout",
     "output_type": "stream",
     "text": [
      "x == y is False\n",
      "x != y is True\n",
      "x > y  is False\n",
      "x < y  is True\n",
      "x >= y is False\n",
      "x <= y is True\n"
     ]
    }
   ],
   "source": [
    "x = 10\n",
    "y = 12\n",
    "\n",
    "# Output: x == y is False\n",
    "print('x == y is', x == y)\n",
    "\n",
    "# Output: x != y is True\n",
    "print('x != y is', x != y)\n",
    "\n",
    "# Output: x > y is False\n",
    "print('x > y  is', x > y)\n",
    "\n",
    "# Output: x < y is True\n",
    "print('x < y  is', x < y)\n",
    "\n",
    "# Output: x >= y is False\n",
    "print('x >= y is', x >= y)\n",
    "\n",
    "# Output: x <= y is True\n",
    "print('x <= y is', x <= y)"
   ]
  },
  {
   "cell_type": "markdown",
   "metadata": {},
   "source": [
    "### Branching with \"if\"\n",
    "\n",
    "We can use \"if\" or \"if/else\" to execute lines of code based on whether a condition is True or False.\n",
    "\n",
    ">Notice that Python uses indentation to show that code is \"inside\" an \"if\" statement.<br>\n",
    ">Many other languages use brackets for this."
   ]
  },
  {
   "cell_type": "code",
   "execution_count": 98,
   "metadata": {},
   "outputs": [
    {
     "name": "stdout",
     "output_type": "stream",
     "text": [
      "This is also always printed.\n"
     ]
    }
   ],
   "source": [
    "num = -5\n",
    "\n",
    "# Test is num greater than 0\n",
    "if num > 0:\n",
    "    # Num is less than 0 so this part should NOT run\n",
    "    print(num, \"is a positive number.\")\n",
    "    print(\"This is only printed if num > 0.\")\n",
    "\n",
    "print(\"This is also always printed.\")"
   ]
  },
  {
   "cell_type": "code",
   "execution_count": 99,
   "metadata": {},
   "outputs": [
    {
     "name": "stdout",
     "output_type": "stream",
     "text": [
      "3 is a positive number.\n",
      "This is only printed if num > 0.\n",
      "This is also always printed.\n"
     ]
    }
   ],
   "source": [
    "num = 3\n",
    "\n",
    "if num > 0:\n",
    "    # Now num is greater than 0 so this part should run\n",
    "    print(num, \"is a positive number.\")\n",
    "    print(\"This is only printed if num > 0.\")\n",
    "    \n",
    "print(\"This is also always printed.\")"
   ]
  },
  {
   "cell_type": "markdown",
   "metadata": {},
   "source": [
    "## Branching with \"if/else\"\n",
    "\n",
    "We can also add an \"else\""
   ]
  },
  {
   "cell_type": "code",
   "execution_count": 100,
   "metadata": {},
   "outputs": [
    {
     "name": "stdout",
     "output_type": "stream",
     "text": [
      "Positive or Zero\n"
     ]
    }
   ],
   "source": [
    "# Test for either positive or Zero\n",
    "# or Negative\n",
    "num = 3\n",
    "\n",
    "if num >= 0:\n",
    "    print(\"Positive or Zero\")\n",
    "else:\n",
    "    print(\"Negative number\")"
   ]
  },
  {
   "cell_type": "markdown",
   "metadata": {},
   "source": [
    "#### Testing if a value is \"in\" a collection\n",
    "\n",
    "Python also has easy to read comparisons to check if a value is in a collection\n",
    "- in\n",
    "- not in\n",
    "\n",
    "e.g.\n",
    "- Check if the letter 'a' is in a list:\n",
    "    - **'a' in my_list**\n",
    "- Check if the key 'b' is in a dictionary:\n",
    "    - **'b' in my_dict**"
   ]
  },
  {
   "cell_type": "code",
   "execution_count": 101,
   "metadata": {},
   "outputs": [
    {
     "name": "stdout",
     "output_type": "stream",
     "text": [
      "JPY rate is: 99.25\n"
     ]
    }
   ],
   "source": [
    "rates = {'EUR': 1.09, 'USD': 1.28, 'JPY': 99.25}\n",
    "\n",
    "# check if the key 'JPY' is in the dictionary 'rates'\n",
    "if 'JPY' in rates:\n",
    "    print('JPY rate is:', rates['JPY'])\n",
    "else:\n",
    "    print('not found in dictionary')"
   ]
  },
  {
   "cell_type": "markdown",
   "metadata": {},
   "source": [
    "# Functional Programming"
   ]
  },
  {
   "cell_type": "markdown",
   "metadata": {},
   "source": [
    "## Map  Filter Reduce"
   ]
  },
  {
   "cell_type": "markdown",
   "metadata": {},
   "source": [
    "### Map\n",
    "\n",
    "applies a function to all the items in an input_list. \n",
    "\n",
    "\n",
    "**Blueprint**\n",
    "\n",
    "`map(function_to_apply, list_of_inputs)`\n",
    "\n",
    "\n",
    "**If you programmed like this**"
   ]
  },
  {
   "cell_type": "code",
   "execution_count": null,
   "metadata": {},
   "outputs": [],
   "source": [
    "def sq(x):\n",
    "    return x*x\n",
    "\n",
    "items = [1, 2, 3, 4, 5]\n",
    "squared = []\n",
    "\n",
    "for i in items:\n",
    "    squared.append(sq(i))\n",
    "    \n",
    "print(squared)"
   ]
  },
  {
   "cell_type": "markdown",
   "metadata": {},
   "source": [
    "**map shortens yor code to this**"
   ]
  },
  {
   "cell_type": "code",
   "execution_count": null,
   "metadata": {
    "scrolled": true
   },
   "outputs": [],
   "source": [
    "items = [1, 2, 3, 4, 5]\n",
    "\n",
    "squared = list(map(sq, items))\n",
    "\n",
    "print(squared)"
   ]
  },
  {
   "cell_type": "markdown",
   "metadata": {},
   "source": [
    "**Iterate over a list of functions**"
   ]
  },
  {
   "cell_type": "code",
   "execution_count": null,
   "metadata": {},
   "outputs": [],
   "source": [
    "def by1(x):\n",
    "    return x*1\n",
    "\n",
    "def sq(x):\n",
    "    return x*x\n",
    "\n",
    "def cube(x):\n",
    "    return x*x*x\n",
    "\n",
    "items = [1, 2, 3, 4, 5, 6, 7, 8, 9, 10]\n",
    "funcs = [by1, sq, cube]\n",
    "for f in funcs:\n",
    "    value = list(map(f, items))\n",
    "    print(value)"
   ]
  },
  {
   "cell_type": "markdown",
   "metadata": {},
   "source": [
    "**Use a lamba**"
   ]
  },
  {
   "cell_type": "code",
   "execution_count": null,
   "metadata": {},
   "outputs": [],
   "source": [
    "items = [1, 2, 3, 4, 5]\n",
    "\n",
    "squared = list(map(lambda x: x * x, items))\n",
    "\n",
    "print(squared)"
   ]
  },
  {
   "cell_type": "markdown",
   "metadata": {},
   "source": [
    "**Supply a list of functions to a single element**"
   ]
  },
  {
   "cell_type": "code",
   "execution_count": null,
   "metadata": {},
   "outputs": [],
   "source": [
    "def by1(x):\n",
    "    return x*1\n",
    "\n",
    "def sq(x):\n",
    "    return x*x\n",
    "\n",
    "def cube(x):\n",
    "    return x*x*x\n",
    "\n",
    "funcs = [by1, sq, cube]\n",
    "\n",
    "items = [1, 2, 3, 4, 5, 6, 7, 8, 9, 10]\n",
    "\n",
    "for i in items:\n",
    "    value = list(map(lambda x: x(i), funcs))\n",
    "    print(value)"
   ]
  },
  {
   "cell_type": "markdown",
   "metadata": {},
   "source": [
    "### Filter\n",
    "\n",
    "creates a list of elements for which a function returns true\n",
    "\n",
    "**Using a function**"
   ]
  },
  {
   "cell_type": "code",
   "execution_count": null,
   "metadata": {},
   "outputs": [],
   "source": [
    "def lt_zero(x):\n",
    "    return x < 0\n",
    "\n",
    "number_list = range(-5, 5)\n",
    "\n",
    "lt_zero = list(filter(lt_zero, number_list))\n",
    "\n",
    "print(lt_zero)\n"
   ]
  },
  {
   "cell_type": "markdown",
   "metadata": {},
   "source": [
    "**Using a lambda**"
   ]
  },
  {
   "cell_type": "code",
   "execution_count": null,
   "metadata": {},
   "outputs": [],
   "source": [
    "number_list = range(-5, 5)\n",
    "\n",
    "lt_zero = list(filter(lambda x: x < 0, number_list))\n",
    "\n",
    "print(lt_zero)\n"
   ]
  },
  {
   "cell_type": "markdown",
   "metadata": {},
   "source": [
    "### Reduce\n",
    "\n",
    "Apply a rolling computation to sequential pairs of values in a list. \n",
    "\n",
    "For example, if you wanted to compute the product of a list of integers.\n",
    "\n",
    "So the normal way you might go about doing this task in python is using a basic for loop:"
   ]
  },
  {
   "cell_type": "code",
   "execution_count": null,
   "metadata": {},
   "outputs": [],
   "source": [
    "product = 1\n",
    "\n",
    "for num in [1, 2, 3, 4]:\n",
    "    product = product * num\n",
    "\n",
    "print(product)"
   ]
  },
  {
   "cell_type": "markdown",
   "metadata": {},
   "source": [
    "**Using reduce**"
   ]
  },
  {
   "cell_type": "code",
   "execution_count": null,
   "metadata": {},
   "outputs": [],
   "source": [
    "from functools import reduce\n",
    "\n",
    "product = reduce((lambda x, y: x * y), [1, 2, 3, 4])\n",
    "\n",
    "print(product)"
   ]
  },
  {
   "cell_type": "markdown",
   "metadata": {},
   "source": [
    "## Zip \n",
    "\n",
    "- take iterables (can be zero or more)<br>\n",
    "- makes iterator that aggregates elements based on the iterables passed<br>\n",
    "- returns an iterator of tuples<br>"
   ]
  },
  {
   "cell_type": "code",
   "execution_count": null,
   "metadata": {},
   "outputs": [],
   "source": [
    "numberList = [1, 2, 3]\n",
    "strList = ['one', 'two', 'three']\n",
    "\n",
    "result = zip(numberList, strList)\n",
    "\n",
    "# Converting itertor to set\n",
    "resultSet = set(result)\n",
    "print(resultSet)\n"
   ]
  },
  {
   "cell_type": "markdown",
   "metadata": {},
   "source": [
    "# Functions\n"
   ]
  },
  {
   "cell_type": "markdown",
   "metadata": {},
   "source": [
    "## User Defined functions\n",
    "\n",
    "**What Are User-Defined Functions in Python?**\n",
    "Functions that we define ourselves to do a certain task are referred to as user-defined functions. The way in which we define and call functions in Python has already been discussed.\n",
    "\n",
    "Functions that readily come with Python are called built-in functions. If we use functions written by others via a library they are called library functions.\n",
    "\n",
    "All the other functions that we write on our own fall under user-defined functions. So, our user-defined function could be a library function to someone else.\n",
    "\n",
    "**Advantages of User-Defined Functions**\n",
    "User-defined functions help to decompose a large program into small segments, which makes the program easy to understand, maintain, and debug.\n",
    "If repeated code occurs in a program, the function can be used to include those codes and execute when needed by calling that function.\n",
    "Programmers working on a large project can divide the workload by making different functions.\n",
    "\n",
    "**Syntax**<br>\n",
    ">`def function_name(argument1, argument2, ...) :`<br>\n",
    ">`      statement_1`<br>\n",
    ">`      statement_2`<br>\n",
    ">`      ....`<br>\n"
   ]
  },
  {
   "cell_type": "code",
   "execution_count": null,
   "metadata": {},
   "outputs": [],
   "source": [
    "def add_numbers(x,y):\n",
    "   sum = x + y\n",
    "   return sum\n",
    "\n",
    "num1 = 5\n",
    "num2 = 6\n",
    "\n",
    "print(\"The sum is\", add_numbers(num1, num2))\n"
   ]
  },
  {
   "cell_type": "markdown",
   "metadata": {},
   "source": [
    "### A Simple Calculator"
   ]
  },
  {
   "cell_type": "code",
   "execution_count": null,
   "metadata": {},
   "outputs": [],
   "source": [
    "# This function adds two numbers \n",
    "def add(x, y):\n",
    "   return x + y\n",
    "\n",
    "# This function subtracts two numbers \n",
    "def subtract(x, y):\n",
    "   return x - y\n",
    "\n",
    "# This function multiplies two numbers\n",
    "def multiply(x, y):\n",
    "   return x * y\n",
    "\n",
    "# This function divides two numbers\n",
    "def divide(x, y):\n",
    "   return x / y\n",
    "\n",
    "\n",
    "num1 = 12\n",
    "num2 = 3\n",
    "\n",
    "print(\"The sum is\", add(num1, num2))\n",
    "print(\"The difference is\", subtract(num1, num2))\n",
    "print(\"The product is\", multiply(num1, num2))\n",
    "print(\"The division is\", divide(num1, num2))"
   ]
  },
  {
   "cell_type": "markdown",
   "metadata": {},
   "source": [
    "## Python Recursive Functions\n",
    "\n",
    "**What Is Recursion in Python?**<br>\n",
    "Recursion is the process of defining something in terms of itself.\n",
    "\n",
    "A real world example would be to place two parallel mirrors facing each other. Any object in between them would be reflected recursively.\n",
    "\n",
    "**Python Recursive Function** <br>\n",
    "We know that in Python a function can call other functions. It is even possible for the function to call itself. These type of construct are called recursive functions.\n",
    "\n",
    "The following is an example of a recursive function to find the factorial of an integer.\n",
    "\n",
    "The factorial of a number is the product of all the integers from 1 to that number. <br>\n",
    "For example, the factorial of 5 (denoted as 5!) is 1*2*3*4*5 = 120.\n",
    "\n"
   ]
  },
  {
   "cell_type": "code",
   "execution_count": null,
   "metadata": {},
   "outputs": [],
   "source": [
    "def calc_factorial(x):\n",
    "    if x == 1:\n",
    "        return 1\n",
    "    else:\n",
    "        return (x * calc_factorial(x-1))\n",
    "    \n",
    "num = 4\n",
    "print(\"The factorial of\", num, \"is\", calc_factorial(num))\n",
    "\n"
   ]
  },
  {
   "cell_type": "markdown",
   "metadata": {},
   "source": [
    "**Advantages of Recursion**<br>\n",
    "\n",
    "- Recursive functions make the code look clean and elegant.<br>\n",
    "- A complex task can be broken down into simpler sub-problems using recursion.<br>\n",
    "- Sequence generation is easier with recursion than using some nested iteration.<br>\n",
    "\n",
    "**Disadvantages of Recursion**<br>\n",
    "\n",
    "- Sometimes the logic behind recursion is hard to follow.<br>\n",
    "- Recursive calls are expensive (inefficient) as they take up a lot of memory and time.<br>\n",
    "- Recursive functions are hard to debug.<br>"
   ]
  },
  {
   "cell_type": "markdown",
   "metadata": {},
   "source": [
    "## Python Lambda Functions\n",
    "\n",
    "**What Are Lambda Functions?**<br>\n",
    "In Python, an anonymous function is a function that is defined without a name.\n",
    "\n",
    "While normal functions are defined using the defkeyword, in Python anonymous functions are defined using the lambda keyword.\n",
    "\n",
    "Hence, anonymous functions are also called `lambda` functions.\n",
    "\n",
    "**How To Use Lambda Functions In Python?**<br>\n",
    "A Lambda function in Python has the following syntax:\n",
    "\n",
    ">`lambda arguments: expression`\n",
    "\n",
    "Lambda functions can have any number of arguments but only one expression. <br>\n",
    "expression is evaluated and returned. <br>\n",
    "Lambda functions can be used wherever function objects are required.\n"
   ]
  },
  {
   "cell_type": "code",
   "execution_count": null,
   "metadata": {},
   "outputs": [],
   "source": [
    "double = lambda x: x * 2\n",
    "\n",
    "# Output: 10\n",
    "print(double(5))\n"
   ]
  }
 ],
 "metadata": {
  "kernelspec": {
   "display_name": "Python 3",
   "language": "python",
   "name": "python3"
  },
  "language_info": {
   "codemirror_mode": {
    "name": "ipython",
    "version": 3
   },
   "file_extension": ".py",
   "mimetype": "text/x-python",
   "name": "python",
   "nbconvert_exporter": "python",
   "pygments_lexer": "ipython3",
   "version": "3.7.4"
  }
 },
 "nbformat": 4,
 "nbformat_minor": 2
}
