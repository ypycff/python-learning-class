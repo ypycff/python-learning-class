{
 "cells": [
  {
   "cell_type": "markdown",
   "metadata": {},
   "source": [
    "<img style=\"float: right;\" width=\"120\" src=\"../Images/supplier-logo.png\">\n",
    "<img style=\"float: left; margin-top: 0\" width=\"80\" src=\"../Images/client-logo.png\">\n",
    "<br><br><br>"
   ]
  },
  {
   "cell_type": "markdown",
   "metadata": {},
   "source": [
    "# Synopsis\n",
    "\n",
    "\n",
    "This notebook will explain the following topics and concepts:\n",
    "\n",
    "**Missing Data** \n",
    "- detecting\n",
    "- removing\n",
    "- filling in\n",
    "\n",
    "**Data Transformation**\n",
    "- counting values\n",
    "- Imputing\n",
    "- Removing Duplicates\n",
    "- Replacing Values\n",
    "- Common String Methods\n",
    "\n",
    "**Importing formatted numerics**\n",
    "\n",
    "**Pandas Options and Customisation**\n",
    "- String Formatting\n",
    "- Display Options\n",
    "- Style\n"
   ]
  },
  {
   "cell_type": "markdown",
   "metadata": {},
   "source": [
    "# Import packages"
   ]
  },
  {
   "cell_type": "code",
   "execution_count": null,
   "metadata": {},
   "outputs": [],
   "source": [
    "import pandas as pd\n",
    "import numpy as np"
   ]
  },
  {
   "cell_type": "markdown",
   "metadata": {},
   "source": [
    "# Missing Data\n",
    "\n",
    "three main problems that missing data causes: \n",
    ">\n",
    "> introduction of a substantial amount of bias <BR>\n",
    "> make the handling and analysis of the data more arduous <BR>\n",
    "> and create reductions in efficiency <BR>\n",
    ">\n",
    " "
   ]
  },
  {
   "cell_type": "markdown",
   "metadata": {},
   "source": [
    "## Filtering out missing data\n",
    "\n",
    "- **dropna()**  - Will detect and remove rows or columns (it's usually used for rows) where data is missing.\n",
    "\n",
    "- Returns a copy, not the original.\n",
    "\n",
    "- Catch result in a new variable OR set **inplace=True** to alter the original DataFrame."
   ]
  },
  {
   "cell_type": "code",
   "execution_count": null,
   "metadata": {},
   "outputs": [],
   "source": [
    "# Simple Series for demonstration\n",
    "arr = ['AAA', 'BBB', np.nan, 'DDD']\n",
    "demo_series = pd.Series(data = arr)\n",
    "demo_series\n",
    "\n",
    "demo_series.dropna()"
   ]
  },
  {
   "cell_type": "markdown",
   "metadata": {},
   "source": [
    "## Import Test Data"
   ]
  },
  {
   "cell_type": "code",
   "execution_count": null,
   "metadata": {},
   "outputs": [],
   "source": [
    "df_missing = pd.read_excel(io='../Data/sample_data.xls', sheet_name='MissingData')"
   ]
  },
  {
   "cell_type": "markdown",
   "metadata": {},
   "source": [
    "## Detecting Missing Data\n",
    "\n",
    "Pandas includes a number of functions to detect missing or invalid data.\n",
    "\n",
    "- isnull  - Returns a Series containing True/False indicating if each value is missing.\n",
    "- notnull - Opposite (negation) of isnull: True if value is not null, False otherwise.\n",
    "- sum - how many null or not nulls exist\n"
   ]
  },
  {
   "cell_type": "code",
   "execution_count": null,
   "metadata": {},
   "outputs": [],
   "source": [
    "df_missing"
   ]
  },
  {
   "cell_type": "code",
   "execution_count": null,
   "metadata": {},
   "outputs": [],
   "source": [
    "df_missing.isnull()\n",
    "\n",
    "df_missing.notnull()\n",
    "\n",
    "# How many in each column\n",
    "df_missing.isnull().sum()\n",
    "\n",
    "# How amny are empty in the entire dataset\n",
    "df_missing.isnull().sum().sum()"
   ]
  },
  {
   "cell_type": "markdown",
   "metadata": {},
   "source": [
    "## Filling in missing values\n",
    "- **fillna()**  - Will detect and empty values and fill them in.\n",
    "\n",
    "- You can give it a value to fill with\n",
    "- Alternatively, it can fill with values from cells before or after the missing value (backfill or forwardfill).\n",
    "- Again, catch result in a new variable OR set **inplace=True** to alter the original DataFrame."
   ]
  },
  {
   "cell_type": "code",
   "execution_count": null,
   "metadata": {},
   "outputs": [],
   "source": [
    "# use fillna - returns a new object, can use inplace=True if desired\n",
    "df_missing.fillna(0.42, inplace=True)\n",
    "df_missing"
   ]
  },
  {
   "cell_type": "markdown",
   "metadata": {},
   "source": [
    "# Data Transformation\n"
   ]
  },
  {
   "cell_type": "markdown",
   "metadata": {},
   "source": [
    "## Import Test Data"
   ]
  },
  {
   "cell_type": "code",
   "execution_count": null,
   "metadata": {},
   "outputs": [],
   "source": [
    "df_houses = pd.read_excel(io='../Data/sample_data.xls', sheet_name='HouseData')"
   ]
  },
  {
   "cell_type": "markdown",
   "metadata": {},
   "source": [
    "## Value Counts\n",
    "\n",
    "- only works on a Series (a single column or row)\n",
    "\n",
    "- used to get a `Series` containing counts of unique values.\n",
    "\n",
    "- the resulting object will be in descending order so that the first element is the most frequently-occurring element. \n",
    "\n",
    "- excludes NA values by default.\n",
    "\n",
    "- dropna - display the nan values\n",
    "\n",
    "- the bins parameter to convert a continuous variable to a categorical variable; "
   ]
  },
  {
   "cell_type": "code",
   "execution_count": null,
   "metadata": {},
   "outputs": [],
   "source": [
    "df_houses"
   ]
  },
  {
   "cell_type": "code",
   "execution_count": null,
   "metadata": {},
   "outputs": [],
   "source": [
    "# list the unique values\n",
    "df_houses['Country'].unique()\n",
    "\n",
    "# how many of each unique values\n",
    "df_houses['Country'].value_counts()\n",
    "df_houses['Purchased'].value_counts()\n",
    "df_houses['Salary'].value_counts()\n",
    "\n",
    "# Include the Nans\n",
    "df_houses['Salary'].value_counts(dropna=False)\n",
    "\n",
    "# And with 4 bins\n",
    "df_houses['Salary'].value_counts(bins=4)"
   ]
  },
  {
   "cell_type": "markdown",
   "metadata": {},
   "source": [
    "## scikit lean imputers \n",
    "\n",
    "`SimpleImputer` is form the scikit learn machine learning libraries\n",
    "\n",
    "the following cells show how to employ various strategies to impute data - `mean`, `most_frequent` and `constant`"
   ]
  },
  {
   "cell_type": "markdown",
   "metadata": {},
   "source": [
    "### strategy = 'mean'"
   ]
  },
  {
   "cell_type": "code",
   "execution_count": null,
   "metadata": {},
   "outputs": [],
   "source": [
    "from sklearn.impute import SimpleImputer\n",
    "\n",
    "imputer = SimpleImputer(missing_values = np.nan, \n",
    "                        strategy = 'mean', verbose=0)\n",
    "\n",
    "cols = ['Age', 'Salary']\n",
    "\n",
    "imputer = imputer.fit(df_houses[cols])\n",
    "\n",
    "df_houses[cols] = imputer.transform(df_houses[cols])\n",
    "\n",
    "df_houses"
   ]
  },
  {
   "cell_type": "markdown",
   "metadata": {},
   "source": [
    "### strategy = 'most_frequent'"
   ]
  },
  {
   "cell_type": "code",
   "execution_count": null,
   "metadata": {},
   "outputs": [],
   "source": [
    "# How many of each value are in purchased column\n",
    "display (df_houses['Purchased'].value_counts())\n",
    "\n",
    "cols = ['Purchased']\n",
    "imputer = SimpleImputer(missing_values = np.nan, \n",
    "                        strategy = 'most_frequent', verbose=0)\n",
    "\n",
    "imputer = imputer.fit(df_houses[cols])\n",
    "\n",
    "df_houses[cols] = imputer.transform(df_houses[cols])"
   ]
  },
  {
   "cell_type": "markdown",
   "metadata": {},
   "source": [
    "### strategy = 'constant'\n",
    "\n",
    "- need a fill value for this approach"
   ]
  },
  {
   "cell_type": "code",
   "execution_count": null,
   "metadata": {},
   "outputs": [],
   "source": [
    "cols = ['Country']\n",
    "imputer = SimpleImputer(missing_values = np.nan, \n",
    "                        strategy = 'constant', fill_value='France', verbose=0)\n",
    "\n",
    "imputer = imputer.fit(df_houses[cols])\n",
    "\n",
    "df_houses[\"Country\"] = imputer.transform(df_houses[cols])"
   ]
  },
  {
   "cell_type": "code",
   "execution_count": null,
   "metadata": {},
   "outputs": [],
   "source": [
    "df_houses"
   ]
  },
  {
   "cell_type": "markdown",
   "metadata": {},
   "source": [
    "## Removing duplicates\n",
    "\n",
    "- **duplicated()** : indicates whether each row is a duplicate.\n",
    "- **drop_duplicates()** : returns a copy of the DataFrame with the duplicates removed (or inplace=True)."
   ]
  },
  {
   "cell_type": "code",
   "execution_count": null,
   "metadata": {},
   "outputs": [],
   "source": [
    "display(df_missing)\n",
    "df_missing.duplicated()"
   ]
  },
  {
   "cell_type": "code",
   "execution_count": null,
   "metadata": {},
   "outputs": [],
   "source": [
    "df_missing.drop_duplicates()"
   ]
  },
  {
   "cell_type": "markdown",
   "metadata": {},
   "source": [
    "## Replacing Values\n",
    "- **df.replace(to_replace, value)** : find and replace specific values.\n",
    "- The parameters **to_replace** and **value** can both be either single values or lists of values.\n",
    "- Returns a copy so again either use **inplace=True** OR catch the returned DataFrame in a new variable."
   ]
  },
  {
   "cell_type": "code",
   "execution_count": null,
   "metadata": {},
   "outputs": [],
   "source": [
    "df_missing.replace(2,22, inplace=True)\n",
    "df_missing"
   ]
  },
  {
   "cell_type": "code",
   "execution_count": null,
   "metadata": {},
   "outputs": [],
   "source": [
    "df_missing = df_missing.replace(['I', 'III'],[11, 33])\n",
    "df_missing"
   ]
  },
  {
   "cell_type": "code",
   "execution_count": null,
   "metadata": {},
   "outputs": [],
   "source": [
    "# or use variables\n",
    "orig_vals = ['I', 'III']\n",
    "new_vals = [11, 33]\n",
    "\n",
    "df_missing.replace(orig_vals,new_vals, inplace=True)\n",
    "df_missing"
   ]
  },
  {
   "cell_type": "markdown",
   "metadata": {},
   "source": [
    "# Importing Formatted Numerics\n",
    "\n",
    "Some files may have had their numeric data formatted.<br>\n",
    "Pandas will interpret such values as string.\n",
    "\n",
    "for example\n",
    "\n",
    "- 23.45% ( as a string)\n",
    "- 12,342 ( also a string)\n",
    "\n",
    "Use the string **replace()** function in conjunction with **pandas.to_numeric()** to correctly import formatted numeric values."
   ]
  },
  {
   "cell_type": "code",
   "execution_count": null,
   "metadata": {},
   "outputs": [],
   "source": [
    "# Read data into a DataFrame\n",
    "df_SPX = pd.read_csv(filepath_or_buffer='../Data/SPX.csv',index_col='Date', parse_dates=True)\n",
    "\n",
    "# Use the dtypes attribute to check what types are in each column\n",
    "# the word 'object' is used to denote a string\n",
    "print(df_SPX.dtypes)\n",
    "\n",
    "df_SPX.head()"
   ]
  },
  {
   "cell_type": "code",
   "execution_count": null,
   "metadata": {},
   "outputs": [],
   "source": [
    "# Convert the value in the 'Price' column from a String to a numeric (notice we also strip out the \",\")\n",
    "df_SPX['Price'] = pd.to_numeric(df_SPX['Price'].str.replace(',', ''))\n",
    "\n",
    "# Now check the dtypes and compare to the previous cell - price is now a \"float64\" i.e. a decimal number\n",
    "print(df_SPX.dtypes)\n",
    "\n",
    "\n",
    "df_SPX.head()"
   ]
  },
  {
   "cell_type": "markdown",
   "metadata": {},
   "source": [
    "# Exercise\n",
    "- Update the \"Change %\" column\n",
    "- Remove the '%' character and convert to numeric values\n",
    "- Print the dtypes for the updated DataFrame to verify your change\n",
    "- Display the first 5 rows of the updated DataFrame"
   ]
  },
  {
   "cell_type": "code",
   "execution_count": null,
   "metadata": {},
   "outputs": [],
   "source": [
    "# Do the exercise here"
   ]
  },
  {
   "cell_type": "markdown",
   "metadata": {},
   "source": [
    "# Pandas Options, Customisation & Style\n",
    "\n",
    "4 ways to format strings\n",
    "- C Style formatting\n",
    "- “New Style” String Formatting\n",
    "- Formatted String Literals\n",
    "- Template Strings\n"
   ]
  },
  {
   "cell_type": "markdown",
   "metadata": {},
   "source": [
    "### C-Style String Formatting\n",
    "\n",
    "Based on C language `printf` function -  the %-operator\n",
    "\n",
    "- Single Substitution\n",
    "\n",
    "- Multiple Substitution: wrap the right-hand side in a tuple,\n"
   ]
  },
  {
   "cell_type": "code",
   "execution_count": null,
   "metadata": {},
   "outputs": [],
   "source": [
    "# Single Substitution\n",
    "fav_song = \"Hey Jude\"\n",
    "s = 'Favourite song is %s' % fav_song\n",
    "print(s)\n",
    "\n",
    "# Multiple Substitution:\n",
    "fname = \"Bob\"\n",
    "lname = \"Dylan\"\n",
    "s = 'Favourite singer is %s %s' % (fname, lname)\n",
    "print(s)\n"
   ]
  },
  {
   "cell_type": "markdown",
   "metadata": {},
   "source": [
    "### “New Style” String Formatting\n",
    "\n",
    "Introduced in Python 3, back ported to python 2.7 <BR>\n",
    "Replaces `%operator` with a `.format()` function and variable substitution\n"
   ]
  },
  {
   "cell_type": "code",
   "execution_count": null,
   "metadata": {},
   "outputs": [],
   "source": [
    "fav_song = \"Hey Jude\"\n",
    "s = 'Favourite song is {}'.format(fav_song)\n",
    "print(s)\n",
    "\n",
    "fname = \"Bob\"\n",
    "lname = \"Dylan\"\n",
    "s = 'Favourite singer is {} {}'.format(fname, lname)\n",
    "print(s)\n",
    "\n",
    "# Same as previous but using named parameters\n",
    "s = 'Favourite singer is {s1} {s2}'.format(s1=fname, s2=lname)\n",
    "print(s)\n"
   ]
  },
  {
   "cell_type": "markdown",
   "metadata": {},
   "source": [
    "### Formatted String Literals\n",
    "\n",
    "Added in python 3.6\n"
   ]
  },
  {
   "cell_type": "code",
   "execution_count": null,
   "metadata": {},
   "outputs": [],
   "source": [
    "# Use embedded Python expressions inside string constants\n",
    "fav_song = \"Hey Jude\"\n",
    "s = f'Favourite song is, {fav_song}!'\n",
    "print(s)\n",
    "\n",
    "# embed arbitrary Python expressions\n",
    "a = 5\n",
    "b = 10\n",
    "s = f'Five plus ten is {a + b} and not {2 * (a + b)}.'\n",
    "print(s)\n"
   ]
  },
  {
   "cell_type": "markdown",
   "metadata": {},
   "source": [
    "### Template Strings\n",
    "Simpler and less powerful mechanism"
   ]
  },
  {
   "cell_type": "code",
   "execution_count": null,
   "metadata": {},
   "outputs": [],
   "source": [
    "from string import Template\n",
    "\n",
    "t = Template('Favourite singer is $s1 $s2')\n",
    "\n",
    "s = t.substitute(s1=fname, s2=lname)\n",
    "print(s)\n"
   ]
  },
  {
   "cell_type": "markdown",
   "metadata": {},
   "source": [
    "## Display Options\n",
    "\n",
    "Pandas have some default factors which restrict the analysis of data. \n",
    "\n",
    "Therefore to have a stronghold over the library and to make the most out of its uses, it is important to know the various methods to change the default pandas values.\n",
    "\n",
    "Common default values-\n",
    "\n",
    "- `display.max_rows` and `display.max_columns` which shows the default number of rows and columns.\n",
    "- `display.max_colwidth` which gives us the maximum width of the column\n",
    "- `display.expand_frame_repr` which gives us DataFrames that is spread across numerous pages.\n",
    "- `display.precision` gives us the precision of the decimal numbers\n",
    "\n",
    "\n",
    "Full list of options https://pandas.pydata.org/pandas-docs/stable/user_guide/options.html#available-options"
   ]
  },
  {
   "cell_type": "markdown",
   "metadata": {},
   "source": [
    "### Pandas.get_option()\n",
    "- return particular detail about the default values in pandas.\n",
    "\n",
    "Using `display.max_rows` and `display.max_columns”`\n",
    "as parameters we get a maximum number of rows and columns that can display by default."
   ]
  },
  {
   "cell_type": "code",
   "execution_count": null,
   "metadata": {},
   "outputs": [],
   "source": [
    "opts = pd.get_option(\"display.max_rows\")\n",
    "print(opts)\n",
    "\n",
    "opts = pd.get_option(\"display.max_columns\")\n",
    "print(opts)"
   ]
  },
  {
   "cell_type": "markdown",
   "metadata": {},
   "source": [
    "### Pandas.set_option()\n",
    "- change a default value to something of our choice. \n",
    "\n",
    "e.g. change the “display.max_rows” from 60 to 90.\n",
    "\n"
   ]
  },
  {
   "cell_type": "code",
   "execution_count": null,
   "metadata": {},
   "outputs": [],
   "source": [
    "pd.set_option(\"display.max_rows\",90)\n",
    "opts = pd.get_option(\"display.max_rows\")\n",
    "print(opts)\n",
    "\n",
    "pd.set_option(\"display.max_columns\",10)\n",
    "opts= pd.get_option(\"display.max_columns\")\n",
    "print(opts)"
   ]
  },
  {
   "cell_type": "markdown",
   "metadata": {},
   "source": [
    "### Pandas.reset_option\n",
    "- get back the default values which may change previously."
   ]
  },
  {
   "cell_type": "code",
   "execution_count": null,
   "metadata": {},
   "outputs": [],
   "source": [
    "pd.reset_option(\"display.max_rows\")\n",
    "opts = pd.get_option(\"display.max_rows\")\n",
    "print(opts)\n",
    "\n",
    "pd.reset_option(\"display.max_columns\")\n",
    "opts = pd.get_option(\"display.max_columns\")\n",
    "print(opts)"
   ]
  },
  {
   "cell_type": "markdown",
   "metadata": {},
   "source": [
    "### Pandas.describe_option\n",
    "- describes the parameter. \n"
   ]
  },
  {
   "cell_type": "code",
   "execution_count": null,
   "metadata": {},
   "outputs": [],
   "source": [
    "pd.describe_option(\"display.max_rows\")"
   ]
  },
  {
   "cell_type": "markdown",
   "metadata": {},
   "source": [
    "### Pandas.option_context\n",
    "invoke a pandas option function which will be only active within the scope of the function.\n",
    "\n",
    "In the below example, display.max_rows is set to 30 only inside the .option-context scope. Outside the function scope, it returns back to being 60."
   ]
  },
  {
   "cell_type": "code",
   "execution_count": null,
   "metadata": {},
   "outputs": [],
   "source": [
    "with pd.option_context(\"display.max_rows\",30):\n",
    "      print(pd.get_option(\"display.max_rows\"))\n",
    "        \n",
    "print(pd.get_option(\"display.max_rows\"))"
   ]
  },
  {
   "cell_type": "markdown",
   "metadata": {},
   "source": [
    "# Style\n",
    "\n",
    "\n",
    "- Leverage visual aids like color and format, in order to communicate insight more efficiently.\n"
   ]
  },
  {
   "cell_type": "code",
   "execution_count": null,
   "metadata": {},
   "outputs": [],
   "source": [
    "df_sals = pd.read_excel(io=\"../Data/sample_data.xls\", sheet_name='Salaries')\n",
    "\n",
    "df_sals"
   ]
  },
  {
   "cell_type": "markdown",
   "metadata": {},
   "source": [
    "### Set Some Options\n",
    "\n",
    "There’re too many columns/rows in the dataframe and some columns/rows in the middle are omitted on display.\n",
    "\n",
    "\n",
    "For example, show at most 7 rows and at most 7 columns:"
   ]
  },
  {
   "cell_type": "code",
   "execution_count": null,
   "metadata": {},
   "outputs": [],
   "source": [
    "pd.set_option('max_rows', 7)\n",
    "pd.set_option('max_columns', 7)\n",
    "\n",
    "df_sals"
   ]
  },
  {
   "cell_type": "markdown",
   "metadata": {},
   "source": [
    "Truncate columns"
   ]
  },
  {
   "cell_type": "code",
   "execution_count": null,
   "metadata": {},
   "outputs": [],
   "source": [
    "pd.set_option('max_colwidth', 40)\n",
    "\n",
    "df_sals\n"
   ]
  },
  {
   "cell_type": "markdown",
   "metadata": {},
   "source": [
    "### Pandas Style\n",
    "\n",
    "- Customize some aspects of its the rendered dataframe, using CSS. \n",
    "\n",
    "- You write a `style functions` that take scalars, DataFrame or Series, and return like-indexed DataFrames or Series with CSS \"attribute: value\" pairs for the values.\n",
    "\n",
    "- The most straightforward styling example is using currency symbols when working with currency values. \n",
    "\n",
    "- For instance, in our data some of the columns (BasePay, OtherPay, TotalPay, and TotalPayBenefit) are currency values, so we would like to add dollar signs and commas. This can be done using the `style.formatfunction`:\n",
    "Pandas code to render dataframe with formating of currency columns"
   ]
  },
  {
   "cell_type": "code",
   "execution_count": null,
   "metadata": {},
   "outputs": [],
   "source": [
    "salary_styles = {\n",
    "    \"BasePay\": \"${:20,.0f}\", \n",
    "    \"OtherPay\": \"${:20,.0f}\", \n",
    "    \"TotalPay\": \"${:20,.0f}\",\n",
    "    'OvertimePay': \"${:20,.0f}\",\n",
    "    \"TotalPayBenefits\":\"${:20,.0f}\"\n",
    "}\n",
    "\n",
    "df_sals.head(10).style.format(formatter=salary_styles)"
   ]
  },
  {
   "cell_type": "markdown",
   "metadata": {},
   "source": [
    "### Incremental Styling\n",
    "\n",
    "- These styling functions can be incrementally passed to the Styler which collects the styles before rendering, \n",
    "\n",
    "- Allows us to add a function that format the EmployeeName and companyTitle as well, this can be done using another style.formatfunction:\n",
    "\n",
    "\n",
    "e.g. render dataframe that also formats some columns to lower case"
   ]
  },
  {
   "cell_type": "code",
   "execution_count": null,
   "metadata": {},
   "outputs": [],
   "source": [
    "name_styles = {\n",
    "    \"JobTitle\": lambda x:x.lower(),\n",
    "    \"EmployeeName\": lambda x:x.lower()\n",
    "}\n",
    "\n",
    "df_sals.head(10).style.format(formatter=salary_styles).format(formatter=name_styles)\n"
   ]
  },
  {
   "cell_type": "markdown",
   "metadata": {},
   "source": [
    "### Hide an index"
   ]
  },
  {
   "cell_type": "code",
   "execution_count": null,
   "metadata": {},
   "outputs": [],
   "source": [
    "df_sals.head(10).style.format(formatter=salary_styles).format(formatter=name_styles).hide_index()"
   ]
  },
  {
   "cell_type": "markdown",
   "metadata": {},
   "source": [
    "### Conditional Formatting\n",
    "\n",
    "Builtin functions in the style API, for example, one can highlight the highest number in green and the lowest number in red:"
   ]
  },
  {
   "cell_type": "code",
   "execution_count": null,
   "metadata": {},
   "outputs": [],
   "source": [
    "df_sals.head(10).style.format(formatter=salary_styles).format(formatter=name_styles).hide_index().\\\n",
    "highlight_max(color='lightgreen').highlight_min(color='red')"
   ]
  },
  {
   "cell_type": "markdown",
   "metadata": {},
   "source": [
    "### Background Gradients\n",
    "\n",
    "can highlight the range of values in a column. \n",
    "\n",
    "In addition, the cmap argument allows us to choose a color palette for the gradient"
   ]
  },
  {
   "cell_type": "code",
   "execution_count": null,
   "metadata": {
    "scrolled": true
   },
   "outputs": [],
   "source": [
    "df_sals.head(10).style.format(formatter=salary_styles).format(formatter=name_styles).hide_index().\\\n",
    "background_gradient(cmap='Blues')"
   ]
  },
  {
   "cell_type": "code",
   "execution_count": null,
   "metadata": {},
   "outputs": [],
   "source": []
  }
 ],
 "metadata": {
  "kernelspec": {
   "display_name": "Python 3",
   "language": "python",
   "name": "python3"
  },
  "language_info": {
   "codemirror_mode": {
    "name": "ipython",
    "version": 3
   },
   "file_extension": ".py",
   "mimetype": "text/x-python",
   "name": "python",
   "nbconvert_exporter": "python",
   "pygments_lexer": "ipython3",
   "version": "3.8.3"
  }
 },
 "nbformat": 4,
 "nbformat_minor": 2
}
