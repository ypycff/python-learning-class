{
 "cells": [
  {
   "cell_type": "markdown",
   "metadata": {},
   "source": [
    "# Overview\n",
    "In this lab you’ll load time series data from a CSV file, manipulate the data using various Pandas functions, and plot the data using various MatPlotLib plotting functions.\n",
    "\n",
    "# Roadmap\n",
    "There are 7 exercises in this lab, of which the last exercise is \"if time permits\". Here is a brief summary of the tasks you will perform in each exercise; more detailed instructions follow later:\n",
    "1.\tLoading raw time series data\n",
    "2.\tLoading time series data and indexing by date\n",
    "3.\tFilling in holes in time series data\n",
    "4.\tResampling time series data\n",
    "5.\tIndexing into time series data\n",
    "6.\tPlotting time series data\n",
    "7.\t(If time permits) Additional plotting techniques\n",
    " \n",
    "# Familiarization\n",
    "In the Data folder, open CO2.csv in a text editor. This file contains real measurements of atmospheric CO2 concentrations taken at Mauna Loa Observatory in Hawaii \n",
    "between 1958 and 2001. \n",
    "\n",
    "This is how the data in the CSV file was collated:\n",
    "-\tPhysicists recorded CO2 concentrations four times per hour. Steady data periods of at least 6 hours per day were required; if there was no such 6-hour period on any given day, then no data was recorded for that day. \n",
    "-\tWeekly averages were calculated for most weeks during the period from 1958 to 2001. There were some weeks where no averages would be calculated because no data had been collected.\n",
    "\n",
    "Now take a closer look at the data in the CSV file. Each line in the file has two columns:\n",
    "-\tThe date column contains weekly dates.\n",
    "-\tThe co2 column contains the average CO2 value for that week. Some weeks don’t have a value. We’ll need to think about how to handle these weeks when we start working with the data shortly… \n",
    " \n"
   ]
  },
  {
   "cell_type": "markdown",
   "metadata": {},
   "source": [
    "# Global Settings"
   ]
  },
  {
   "cell_type": "code",
   "execution_count": null,
   "metadata": {},
   "outputs": [],
   "source": [
    "import pandas as pd\n",
    "\n",
    "input_file = './Data/CO2.csv'"
   ]
  },
  {
   "cell_type": "markdown",
   "metadata": {},
   "source": [
    "# Exercise 1:  Loading raw time series data\n",
    "\n",
    "Add code to load the data from CO2.csv into a Pandas DataFrame, and print the following info about the DataFrame:\n",
    "-\tThe first 26 weeks of data (i.e. 6 months) – use the head() function here.\n",
    "-\tThe data types of the columns in the DataFrame – use the dtypes property here. \n",
    "-\tThe index values in the DataFrame – use the index property here. \n",
    "\n"
   ]
  },
  {
   "cell_type": "code",
   "execution_count": null,
   "metadata": {},
   "outputs": [],
   "source": [
    "# PLACE YOUR SOLUTION HERE\n"
   ]
  },
  {
   "cell_type": "markdown",
   "metadata": {},
   "source": [
    "# Exercise 2:  Loading time series data and indexing by date\n",
    "\n",
    "In the previous exercise you loaded the CSV data into a simple Pandas DataFrame. The DataFrame was indexed by number (e.g. 0, 1, 2, etc.). \n",
    "\n",
    "When working with time series data in Python, it’s important that the DataFrame is indexed by date/time rather than by number. Therefore, tweak your call to the read_csv() function so that it specifies the date column as the index column for the DataFrame. \n",
    "\n",
    "Also extract the co2 column of the DataFrame object into a Pandas Series object (it’s easier to manipulate time series data in a Series than to grab a column from a DataFrame).\n",
    "\n",
    "Print the following information about the Series object:\n",
    "-\tThe first 26 weeks of data.\n",
    "-\tThe data types of the columns in the Series. \n",
    "-\tThe index values the Series.\n",
    "\n",
    "This should confirm that the Series is now indexed by date/time rather than by number:\n",
    "\n"
   ]
  },
  {
   "cell_type": "code",
   "execution_count": null,
   "metadata": {},
   "outputs": [],
   "source": [
    "# PLACE YOUR SOLUTION HERE\n"
   ]
  },
  {
   "cell_type": "markdown",
   "metadata": {},
   "source": [
    "# Exercise 3:  Filling in holes in time series data\n",
    "\n",
    "\n",
    "As you’ve seen, some of the weekly recordings of CO2 data are empty – these show up as NaN when you print the data.\n",
    "\n",
    "Dealing with missing data can be an important consideration when processing time series data, and Pandas provides a handy function named fillna() that fills in holes in a DataFrame or Series object. See here for full documentation:\n",
    "https://pandas.pydata.org/pandas-docs/stable/reference/api/pandas.Series.fillna.html\n",
    "\n",
    "Let’s see how the fillna() function works. Open a new Python shell (i.e. type python at the command line) and type the following statements to import the Pandas and Numpy modules and to create a Pandas Series object that contains some holes:\n",
    "\n",
    "`import pandas as pd`\n",
    "\n",
    "`import numpy as np`\n",
    "\n",
    "`data = pd.Series([100, np.nan, 200, np.nan, np.nan, 300])`\n",
    "\n",
    "Now call the fillna() function with various parameters as follows, to fill-in the holes in various ways (note that by default, fillna() doesn’t modify the data in-place; rather, it leaves the original data unchanged and returns new data with the holes filled in):\n",
    "\n",
    "`data.fillna(-1)              # Fill with a value, e.g. -1.`\n",
    "\n",
    "`data.fillna(method='bfill')  # Fill backwards from next value.`\n",
    "\n",
    "`data.fillna(method='ffill')  # Fill forwards from previous value.`\n",
    "\n",
    "\n",
    "\n",
    "Now that you know how fillna() works, tweak your code in processCO2data.py so that it fills in the holes in the CO2 time series data. We suggest you use either the 'bfill' or 'ffill' method (in the solution code, we’ve plumped for the 'bfill' method). \n",
    "\n",
    "Remember to reassigned the updated data back to your original variable. For example, if your data variable is named ts, then you need code such as the follows:\n",
    "\n",
    "`ts = ts.fillna(method='bfill')`\n",
    "\n",
    "Print the time series data after you’ve filled in the holes, to verify that all the entries in the time series data now contain actual values (i.e. no NaN values anywhere).\n",
    " \n"
   ]
  },
  {
   "cell_type": "code",
   "execution_count": null,
   "metadata": {},
   "outputs": [],
   "source": [
    "# PLACE YOUR SOLUTION HERE\n"
   ]
  },
  {
   "cell_type": "markdown",
   "metadata": {},
   "source": [
    "# Exercise 4:  Resampling time series data\n",
    "\n",
    "When you’re working with real-world time series data, one of the challenges you might encounter is that you have too much data. For example, imagine an avionics sensor that captures data every millisecond – one day’s worth of data will include 86,400,000 data points! \n",
    "\n",
    "It’s highly likely you don’t need that much data for your statistical calculations. Indeed, having to deal with such vast datasets can be untenable unless you throw \n",
    "some serious hardware at the problem, or use a product such as Apache Spark and Hadoop for Big Data computing.\n",
    "\n",
    "In many cases, the best approach is to “resample” the data to reduce the number of data points. This is such a common technique that Pandas provides a function named resample() that resamples data in a DataFrame or Series object. \n",
    "\n",
    "See here for full documentation:\n",
    "    https://pandas.pydata.org/pandas-docs/stable/reference/api/pandas.Series.resample.html\n",
    "\n",
    "resample() performs a “group by” operation. You can pass a string parameter that indicates how to group values (e.g. 'MS' means group by the start of a calendar month). \n",
    "\n",
    "For a list of all the possibilities, see here:\n",
    "    https://pandas.pydata.org/pandas-docs/stable/user_guide/timeseries.html#dateoffset-objects\n",
    "\n",
    "resample() returns a “resampler” object that represents the resampled data, e.g. the data grouped by the start of calendar months. You can then call various functions to calculate things like the maximum/minimum value in each group, the mean value in each group, the variance or standard deviation in each group, and so on. \n",
    "\n",
    "For a full list of functions available, see here:\n",
    "    https://pandas.pydata.org/pandas-docs/stable/reference/resampling.html\n",
    "\n",
    "Putting all this together, add the following statement in processCO2data.py. The statement resamples the data into calendar-months groups and calculates the mean value for each month. \n",
    "\n",
    "`ts = ts.resample('MS').mean()`\n",
    "\n",
    "Print ts after this operation, to confirm that you now have monthly data (rather than weekly data as before).\n"
   ]
  },
  {
   "cell_type": "code",
   "execution_count": null,
   "metadata": {},
   "outputs": [],
   "source": [
    "# PLACE YOUR SOLUTION HERE\n",
    "\n"
   ]
  },
  {
   "cell_type": "markdown",
   "metadata": {},
   "source": [
    "# Exercise 5:  Indexing into time series data\n",
    "\n",
    "As we discussed during the chapter, when you work with time series data in Python/Pandas, the DataFrame or Series object must be indexed by date/time. This means you can index into the data to obtain the value for a particular date/time, or get a range of values for a specified date/time range.\n",
    "With this in mind, add code in processCO2data.py to obtain the CO2 readings for the following dates or date ranges:\n",
    "-\tCO2 reading for July 1958\n",
    "-\tCO2 readings for July-December 1958\n",
    "-\tCO2 readings for all months up to December 1958\n",
    "-\tCO2 readings for all months from July 1997 onwards\n",
    "-\tCO2 readings for all months in 1997\n",
    "\n",
    "You can also get statistical summary information for values in a date/time range, via the describe() function. For example, get statistical information for all CO2 readings in 1997. \n"
   ]
  },
  {
   "cell_type": "code",
   "execution_count": null,
   "metadata": {},
   "outputs": [],
   "source": [
    "# PLACE YOUR SOLUTION HERE\n"
   ]
  },
  {
   "cell_type": "markdown",
   "metadata": {},
   "source": [
    "# Exercise 6:  Plotting time series data\n",
    "\n",
    "Visualization is a valuable tool when you’re trying to understand time series data. You can use MatPlotLib to plot various types of graphs that show how the data varies over time. To get started, add the following code to plot all the time series data:\n",
    "\n",
    "`import matplotlib.pyplot as plt`\n",
    "\n",
    "`%matplotlib inline`\n",
    "\n",
    "`plt.plot(ts)`\n",
    "\n",
    "`plt.show()`\n"
   ]
  },
  {
   "cell_type": "code",
   "execution_count": null,
   "metadata": {},
   "outputs": [],
   "source": [
    "# PLACE YOUR SOLUTION HERE\n",
    "\n",
    "\n"
   ]
  },
  {
   "cell_type": "markdown",
   "metadata": {},
   "source": [
    "# Exercise 7 (If time permits):  Additional plotting techniques\n",
    "Another common requirement is to compare data for different seasons, side-by-side, to help you understand common patterns. \n",
    "\n",
    "e.g.\n",
    "The first step is to get a slice of the time series data, for the period 1990 – 2000:\n",
    "\n",
    "`tsSlice = ts['1990' : '2000']`\n",
    "\n",
    "Next, group the values into annual chunks (the idea is to create a DataFrame with a separate column for each year’s worth of data). Here’s the code you need, followed by an explanation:\n",
    "\n",
    "`groups = tsSlice.groupby(pd.Grouper(level='date', freq='Y'))`\n",
    "\n",
    "`annualizedData = pd.DataFrame()`\n",
    "\n",
    "`for dateIndex, group in groups:`\n",
    "\n",
    "    `annualizedData[dateIndex.year] = group.values`\n",
    "    \n",
    "`print('\\nAnnualized data\\n', annualizedData)`\n",
    "\n",
    "The first statement uses the groupby() function to group data into annual groups. The groupby() function takes a Pandas Grouper object as a parameter, which specifies that we want to group entries by the date index column, with 12 entries in each group (i.e. 12 months in each group). \n",
    "\n",
    "The groupby() function returns a “groupby” object that contains a collection of groups. We iterate through the collection of groups and copy each group of values into a separate column in the DataFrame. The columns are named by year.\n",
    "\n",
    "The final step is to plot the DataFrame as a bunch of subplots: \n",
    "annualizedData.plot(subplots=True, legend=True)\n",
    "\n",
    "`plt.show()`\n",
    "\n",
    "\n",
    "There are other types of plots available. For example, the following code will print the DataFrame as a boxplot:\n",
    "\n",
    "`annualizedData.boxplot() `\n",
    "\n",
    "`plt.show()`\n"
   ]
  },
  {
   "cell_type": "code",
   "execution_count": null,
   "metadata": {},
   "outputs": [],
   "source": [
    "# PLACE YOUR SOLUTION HERE\n"
   ]
  },
  {
   "cell_type": "code",
   "execution_count": null,
   "metadata": {},
   "outputs": [],
   "source": []
  }
 ],
 "metadata": {
  "kernelspec": {
   "display_name": "Python 3",
   "language": "python",
   "name": "python3"
  },
  "language_info": {
   "codemirror_mode": {
    "name": "ipython",
    "version": 3
   },
   "file_extension": ".py",
   "mimetype": "text/x-python",
   "name": "python",
   "nbconvert_exporter": "python",
   "pygments_lexer": "ipython3",
   "version": "3.8.5"
  }
 },
 "nbformat": 4,
 "nbformat_minor": 4
}
