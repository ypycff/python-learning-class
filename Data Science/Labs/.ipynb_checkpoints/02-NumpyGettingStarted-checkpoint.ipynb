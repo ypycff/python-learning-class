{
 "cells": [
  {
   "cell_type": "markdown",
   "metadata": {},
   "source": [
    "# Overview\n",
    "In this lab you’ll load data into a NumPy array from a CSV file (and optionally an Excel spreadsheet). The dataset contains temperature and precipitation measurements for every day in 2019 for Bergen. You’ll use various NumPy array capabilities to slice and dice this data in your Python code.\n",
    "\n",
    "There are 7 exercises in this lab, of which the last three exercises are \"if time permits\". Here is a brief summary of the tasks you will perform in each exercise; more detailed instructions follow later:\n",
    "1.\tLoading data into a NumPy array\n",
    "2.\tSpecifying the data type for elements in a NumPy array\n",
    "3.\tIndexing and slicing an array\n",
    "4.\tReshaping an array\n",
    "5.\t(If time permits) Splitting an array\n",
    "6.\t(If time permits) Combining arrays\n",
    "7.\t(If time permits) Plotting arrays\n",
    " \n"
   ]
  },
  {
   "cell_type": "markdown",
   "metadata": {},
   "source": [
    "# Roadmap\n",
    "There are 7 exercises in this lab, of which the last three exercises are \"if time permits\". Here is a brief summary of the tasks you will perform in each exercise; more detailed instructions follow later:\n",
    "1.\tLoading data into a NumPy array\n",
    "2.\tSpecifying the data type for elements in a NumPy array\n",
    "3.\tIndexing and slicing an array\n",
    "4.\tReshaping an array\n",
    "5.\t(If time permits) Splitting an array\n",
    "6.\t(If time permits) Combining arrays\n",
    "7.\t(If time permits) Plotting arrays\n",
    "\n",
    "# Familiarization\n",
    "In the Data folder, open BergenWeather2019.csv in a text editor. This file contains real temperature and precipitation measurements for every day in Bergen in 2019. **All weather measurements are from Yr, delivered by the Norwegian Meteorological Institute and NRK**. \n",
    "The CSV file has 366 rows – the first row is the column headings, and the other 365 rows contain the data for every day from 1 January to 31 December. Each row has 4 values:\n",
    "- The DayOfMonth column indicates the day number in a month (notice how this value wraps from 31 back to 1 as we move from January to February, for example).\n",
    "- The MinTemp column contains the minimum temperature for a day, in degrees Celsius.\n",
    "- The MaxTemp column contains the maximum temperature for a day, in degrees Celsius.\n",
    "- The Precipitation column contains the precipitation for a day, in mm.\n",
    "The Data folder also has an Excel spreadsheet named BergenWeather2019.xlsx, which contains exactly the same data but in Excel format. \n"
   ]
  },
  {
   "cell_type": "markdown",
   "metadata": {},
   "source": [
    "# Global Settings"
   ]
  },
  {
   "cell_type": "code",
   "execution_count": null,
   "metadata": {},
   "outputs": [],
   "source": [
    "import numpy as np\n",
    "import pandas as pd\n",
    "\n",
    "csv_file = './Data/BergenWeather2019.csv'\n",
    "xl_file = './Data/BergenWeather2019.xlsx'"
   ]
  },
  {
   "cell_type": "markdown",
   "metadata": {},
   "source": [
    "# Exercise 1:  Loading data into a NumPy array\n",
    "\n",
    "In this exercise you’ll write a Python script to load data from the CSV file (and optionally the Excel spreadsheet) into NumPy. Note that NumPy doesn’t have any functionality to load data from CSV/Excel files – instead, you need to use Pandas functions such as read_csv() and read_excel()… \n",
    "\n",
    "Add code to load the data from the CSV file into a Pandas DataFrame. Print the shape of the DataFrame – this should be (365,4), i.e. it contains 365 real rows of data, and there are  columns per row.\n",
    "The DataFrame contains all the rows and columns from the CSV file. We’ll just focus on the precipitation column for now, so extract this column in a NumPy array.\n",
    "Print the following information about the NumPy array of precipitation data:\n",
    "- The shape of the array – this should be (365,)\n",
    "- The data type of elements in the array – this should be float64\n",
    "- The data itself – this should display as a big array of 365 values\n"
   ]
  },
  {
   "cell_type": "markdown",
   "metadata": {},
   "source": [
    "## From a csv file"
   ]
  },
  {
   "cell_type": "code",
   "execution_count": null,
   "metadata": {},
   "outputs": [],
   "source": [
    "# PLACE YOUR SOLUTION HERE\n"
   ]
  },
  {
   "cell_type": "markdown",
   "metadata": {},
   "source": [
    "## From an excel spreadsheet\n",
    "\n",
    "If you have Excel loaded on your machine, you can easily tweak your code to read data from the Excel spreadsheet rather than from the CSV file:\n",
    "- Call read_excel() rather than read_csv()\n",
    "- Specify the Excel filename, rather than the CSV filename (obviously!)   "
   ]
  },
  {
   "cell_type": "code",
   "execution_count": null,
   "metadata": {},
   "outputs": [],
   "source": [
    "# PLACE YOUR SOLUTION HERE\n",
    "\n"
   ]
  },
  {
   "cell_type": "code",
   "execution_count": null,
   "metadata": {},
   "outputs": [],
   "source": [
    "# PLACE YOUR SOLUTION HERE\n",
    "\n"
   ]
  },
  {
   "cell_type": "markdown",
   "metadata": {},
   "source": [
    "# Exercise 2:  Specifying the data type for elements in a NumPy array\n",
    "\n",
    "All the elements in a NumPy array must be the same data type. By default, NumPy automatically determines the appropriate data type when it loads the data. In the case of the Bergen precipitation array, NumPy decides float64 is the best data type because the values are fractional.\n",
    "\n",
    "Sometimes you want to force NumPy to use a particular data type. For example, in some cases it might be perfectly fine to work with integral data rather than floating point data (integers are smaller and faster than floats).\n",
    "\n",
    "Experiment with specifying various data types when you load the Bergen precipitation array, by specifying a dtype parameter in the call to read_csv() or read_excel(). Note there are two ways to specify a NumPy data type:\n",
    "-\tAs a string literal, e.g. 'float64'\n",
    "-\tAs a NumPy type, e.g. np.float64\n"
   ]
  },
  {
   "cell_type": "code",
   "execution_count": null,
   "metadata": {},
   "outputs": [],
   "source": [
    "# PLACE YOUR SOLUTION HERE\n"
   ]
  },
  {
   "cell_type": "markdown",
   "metadata": {},
   "source": [
    "# Exercise 3:  Indexing and slicing an array \n",
    "\n",
    "Add code to print the following information about Bergen precipitation:\n",
    "-\tPrecipitation on 1 January\n",
    "-\tPrecipitation on 2 January\n",
    "-\tPrecipitation on 31 December\n",
    "-\tPrecipitation on 30 December\n",
    "-\tPrecipitation on every day in January\n",
    "-\tPrecipitation on every day in December\n",
    "-\tPrecipitation on every day in November\n",
    "-\tPrecipitation on every 10th day\n"
   ]
  },
  {
   "cell_type": "code",
   "execution_count": null,
   "metadata": {},
   "outputs": [],
   "source": [
    "# PLACE YOUR SOLUTION HERE\n",
    "\n"
   ]
  },
  {
   "cell_type": "markdown",
   "metadata": {},
   "source": [
    "# Exercise 4:  Reshaping an array\n",
    "\n",
    "A common requirement when working with datasets is that you want to reshape a linear 1D array into multiple dimensions. \n",
    "\n",
    "For example, the Bergen precipitation data is a 1D array of 365 values, but you might want to process it as 52 weeks x 7 days. This would make it easier to perform tasks such as comparing rainfall values for every Saturday, calculating the ratio of rainfall during weekdays compared to weekends, etc.\n",
    "\n",
    "When you reshape an array, you have to make sure the number of elements in the original array is compatible with the shape you’re aiming at. For example, you can’t reshape a (365,) array into a (52,7) array because 52 x 7 = 364, not 365…\n",
    "\n",
    "Thus, the first step is to create a NumPy array that contains just the first 364 values of data. Once you have this, reshape it into a 2D array containing 52 rows and 7 columns per row. Print out the 2D array and its shape.\n",
    "\n",
    "Then print the following info:\n",
    "-\tPrecipitation for the first week. \n",
    "-\tPrecipitation for the last week. \n",
    "-\tPrecipitation for the first weekend. (For simplicity, pretend 1 Jan 2019 was a Monday, which means the Saturday and Sunday in any week would be days 5 and 6. In actual fact, 1 Jan 2019 was a Tuesday not a Monday, but let’s pretend this is fake news!)\n",
    "-\tPrecipitation for the weekdays in the final week (again, pretend Monday is day 0 in a week, Tuesday is day 1 in a week, etc.)\n"
   ]
  },
  {
   "cell_type": "code",
   "execution_count": null,
   "metadata": {},
   "outputs": [],
   "source": [
    "# PLACE YOUR SOLUTION HERE\n"
   ]
  },
  {
   "cell_type": "markdown",
   "metadata": {},
   "source": [
    "# Exercise 5 (If time permits):  Splitting an array\n",
    "\n",
    "Another common requirement when working with datasets is to split it into smaller chunks, for simpler algorithms and faster execution.\n",
    "\n",
    "With this in mind, split the weekly precipitation array vertically into 3 subarrays as follows. Print the shape of each of these subarrays, plus the data:\n",
    "-\tQuarter One (i.e. weeks 0 to 12 inclusive). The shape should be (13,7).\n",
    "-\tQuarter Two (i.e. weeks 13 to 25 inclusive). The shape should also be (13,7).\n",
    "-\tQuarters Three and Four combined. The shape should be (26,7). \n",
    "\n",
    "Now have a go at splitting the weekly precipitation horizontally into 2 subarrays as follows. Print the shape of each of these subarrays, plus the data:\n",
    "-\tWeekdays (i.e. columns 0 to 4 inclusive, using our (fake!) assumption that day 0 in every week is a Monday). The shape should be (52,5).\n",
    "-\tWeekends. The shape should be (52,2).\n"
   ]
  },
  {
   "cell_type": "code",
   "execution_count": null,
   "metadata": {},
   "outputs": [],
   "source": [
    "# PLACE YOUR SOLUTION HERE\n"
   ]
  },
  {
   "cell_type": "markdown",
   "metadata": {},
   "source": [
    "# Exercise 6 (If time permits):  Combining arrays\n",
    "\n",
    "The opposite of splitting an array is to combine arrays together. NumPy has three functions for combining arrays:\n",
    "-\tconcatenate() – if the arrays have the same shape\n",
    "-\tvstack()      – vertically stack, if the arrays have the same number of columns\n",
    "-\thstack()      – horizontally stack, if the arrays have the same number of rows\n",
    "\n",
    "Using these functions as appropriate, combine the following subarrays together to create a (52,7) array again. Print the resulting array, plus its shape, to verify it’s all correct:\n",
    "-\tQuarter One \n",
    "-\tQuarter Two\n",
    "-\tQuarters Three and Four combined \n",
    "\n",
    "Also combine the following subarrays together to create a (52,7) array, and print its shape and data:\n",
    "-\tWeekdays \n",
    "-\tWeekends\n"
   ]
  },
  {
   "cell_type": "code",
   "execution_count": null,
   "metadata": {},
   "outputs": [],
   "source": [
    "# PLACE YOUR SOLUTION HERE\n",
    "\n"
   ]
  },
  {
   "cell_type": "markdown",
   "metadata": {},
   "source": [
    "# Exercise 7 (If time permits):  Plotting arrays\n",
    "\n",
    "Using MatPlotLib, plot the precipitation in 3 different ways:\n",
    "-\tAs a graph (use the plot() function in MatPlotLib)\n",
    "-\tAs a bar-chart (use the bar() function in MatPlotLib)\n",
    "-\tAs a histogram (use the hist() function in MatPlotLib)\n",
    "\n",
    "For more information about how to use these functions, see online documentation here:\n",
    "https://matplotlib.org/api/_as_gen/matplotlib.pyplot.html\n"
   ]
  },
  {
   "cell_type": "code",
   "execution_count": null,
   "metadata": {},
   "outputs": [],
   "source": [
    "# PLACE YOUR SOLUTION HERE\n"
   ]
  },
  {
   "cell_type": "code",
   "execution_count": null,
   "metadata": {},
   "outputs": [],
   "source": []
  },
  {
   "cell_type": "code",
   "execution_count": null,
   "metadata": {},
   "outputs": [],
   "source": []
  },
  {
   "cell_type": "code",
   "execution_count": null,
   "metadata": {},
   "outputs": [],
   "source": []
  }
 ],
 "metadata": {
  "kernelspec": {
   "display_name": "Python 3",
   "language": "python",
   "name": "python3"
  },
  "language_info": {
   "codemirror_mode": {
    "name": "ipython",
    "version": 3
   },
   "file_extension": ".py",
   "mimetype": "text/x-python",
   "name": "python",
   "nbconvert_exporter": "python",
   "pygments_lexer": "ipython3",
   "version": "3.8.5"
  }
 },
 "nbformat": 4,
 "nbformat_minor": 4
}
