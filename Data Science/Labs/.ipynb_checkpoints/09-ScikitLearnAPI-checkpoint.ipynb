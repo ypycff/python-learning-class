{
 "cells": [
  {
   "cell_type": "markdown",
   "metadata": {},
   "source": [
    "# Overview\n",
    "\n",
    "In this lab you’ll use the Scikit-Learn API to perform supervised learning on sample data about Boston house prices. This dataset has been widely used in the machine learning community for many years!\n",
    "\n",
    "You’ll load the Boston sample data from Scikit-Learn, familiarize yourself with the shape of the data, and then use linear regression to find a line of best fit for Boston house prices.\n",
    "\n",
    "# Roadmap\n",
    "There are 6 exercises in this lab, of which the last 2 exercises are \"if time permits\". Here is a brief summary of the tasks you will perform in each exercise; more detailed instructions follow later:\n",
    "1.\tLoading the Boston dataset from Scikit-Learn\n",
    "2.\tConverting the feature matrix into a Pandas DataFrame\n",
    "3.\tSplitting the dataset into “training” data and “testing” data\n",
    "4.\tCreating a linear regression model and predicting labels for new data\n",
    "5.\t(If time permits) Plotting predicted vs. actual house prices \n",
    "6.\t(If time permits) Determining the root mean squared error \n"
   ]
  },
  {
   "cell_type": "markdown",
   "metadata": {},
   "source": [
    "# Exercise 1:  Loading the Boston dataset from Scikit-Learn\n",
    "\n",
    "In this notebook, add code to do the following:\n",
    "-\tFrom the sklearn.datasets module, import the load_boston function.\n",
    "-\tCall the load_boston() function, to load the Boston house price dataset. Store the dataset in a variable named boston. This dataset is specially designed for use in linear regression, to predict house prices based on features such as the age of a house, the proportion of land in the town allocated for housing use or industrial use, etc.\n",
    "\n",
    "Python objects have a keys() function, which tells you the names of the properties defined in the object. Add the following code, to print the keys for the boston dataset object:\n",
    "\n",
    "     print(boston.keys())  \n",
    "\n",
    "You should find that the boston dataset object has the following properties:\n",
    "-\tdata          – Features matrix, i.e. all the data about each house\n",
    "-\ttarget        – Target array, i.e. the price of each house\n",
    "-\tfeature_names – Array of feature names\n",
    "-\tDESCR         – General descriptive blurb about the dataset \n",
    "-\tfilename      – Name of CSV file from which the data was loaded\n",
    "\n",
    "Add code as follows, to investigate the shape of the feature matrix and the target array: \n",
    "\n",
    "    print(\"\\nDetails about the feature matrix\")\n",
    "    print(boston.data.shape)\n",
    "    print(boston.feature_names)\n",
    "    print(boston.data)\n",
    "    print(\"\\nDetails about the target array\")\n",
    "    print(boston.target.shape)\n",
    "    print(boston.target)\n",
    "\n",
    "You should find that the boston dataset had 506 rows. This is a very small sample set, but it’s handy to get started with machine learning concepts. In a real-world scenario, a dataset might contain thousands or millions of samples.\n",
    "\n"
   ]
  },
  {
   "cell_type": "code",
   "execution_count": null,
   "metadata": {},
   "outputs": [],
   "source": [
    "# PLACE YOUR SOLUTION HERE\n"
   ]
  },
  {
   "cell_type": "markdown",
   "metadata": {},
   "source": [
    "# Exercise 2:  Converting the feature matrix into a Pandas DataFrame\n",
    "\n",
    "As you saw in the previous exercise, the data in the Boston dataset (i.e. boston.data) is a 2D array. There are 506 rows (representing 506 houses) and 13 columns (representing the 13 features for each house). Generally it’s beneficial to convert the data into a Pandas DataFrame, which is easier to work with than a 2D array. You can do this as follows:\n",
    "\n",
    "    import pandas as pd\n",
    "    X = pd.DataFrame(boston.data)\n",
    "   \n",
    "Add the following statement, to print the first 5 rows in the DataFrame:\n",
    "\n",
    "    print(X.head())\n",
    "\n",
    "Note the data columns are just called 0, 1, 2, 3, …. 12. \n",
    "\n",
    "If you want more meaningful column names (and who wouldn’t 😊), you can assign the feature names as column names as follows. The print() statement confirms the column names are now meaningful: \n",
    "\n",
    "    X.columns = boston.feature_names\n",
    "    print(X.head())\n",
    "    \n",
    "One last step in this exercise… assign the Boston target array (i.e. the house prices) to a variable named y for readability and according to convention:\n",
    "\n",
    "    y = boston.target\n"
   ]
  },
  {
   "cell_type": "code",
   "execution_count": null,
   "metadata": {},
   "outputs": [],
   "source": [
    "# PLACE YOUR SOLUTION HERE\n"
   ]
  },
  {
   "cell_type": "markdown",
   "metadata": {},
   "source": [
    "# Exercise 3:  Splitting the dataset into “training” data and “testing” data\n",
    "\n",
    "A common approach in machine learning is to split the samples in a dataset into two portions:\n",
    "-\tA relatively large portion of samples (e.g. 80%) that can be used to train the model.\n",
    "-\tThe remainder of the samples (e.g. 20%) that can be used to test the quality of the values predicted by the model.\n",
    "\n",
    "This is such a common task in machine learning that Scikit-Learn has an off-the-shelf function called train_test_split() to do it. Add the following code to your script:\n",
    "\n",
    "    from sklearn.model_selection import train_test_split\n",
    "\n",
    "    X_train, X_test, y_train, y_test = train_test_split(\n",
    "        X, \n",
    "        y, \n",
    "        train_size = 0.80)\n",
    "\n",
    "Here’s a quick explanation of the train_test_split() function:\n",
    "-\tThe function takes any number of arrays of the same size.\n",
    "-\tThe train_size parameter indicates the portion of the data you want to treat as “training” data. Here, 80% will be treated as “training” data, and 20% as “testing” data.\n",
    "-\tThe function returns a bunch of arrays, according to the specified split. In our example, X_train and X_test will hold the “training” and “testing” portions of X, and y_train and y_test will hold the “training” and “test” portions of y.\n",
    "\n",
    "Add the following code, to show the shape of the resultant arrays:\n",
    "\n",
    "    print(X_train.shape)\n",
    "    print(X_test.shape)\n",
    "    print(y_train.shape)\n",
    "    print(y_test.shape)\n",
    "   "
   ]
  },
  {
   "cell_type": "code",
   "execution_count": null,
   "metadata": {},
   "outputs": [],
   "source": [
    "# PLACE YOUR SOLUTION HERE\n"
   ]
  },
  {
   "cell_type": "markdown",
   "metadata": {},
   "source": [
    "# Exercise 4:  Creating a linear regression model and predicting labels for new data\n",
    "\n",
    "In this exercise you’ll use Scikit-Learn to create a linear regression model, fit it to the training data about Boston house process, and then use the model to predict the prices of other houses in Boston.\n",
    "\n",
    "Follow these steps (refer to the chapter notes for more info, if necessary):\n",
    "-\tImport the LinearRegression model class.\n",
    "-\tCreate a LinearRegression model object, and fit it to the \"training\" dataset.\n",
    "-\tUse the model to predict labels (i.e. house prices) for the \"testing\" dataset. To do this, pass the X_test data as a parameter to the predict() function. The function returns predicted house prices for this test data. \n",
    "-\tPrint the predicted house prices for the test data, alongside the actual house prices for the test data. This will give you an inkling over the quality of the model – the better the model, the closer the predicted and actual prices will be. What do you find, and why…?\n",
    "\n"
   ]
  },
  {
   "cell_type": "code",
   "execution_count": null,
   "metadata": {},
   "outputs": [],
   "source": [
    "# PLACE YOUR SOLUTION HERE\n"
   ]
  },
  {
   "cell_type": "markdown",
   "metadata": {},
   "source": [
    "# Exercise 5:  Plotting predicted vs. actual house prices\n",
    "\n",
    "Using MatPlotLib, draw a scatterplot graph that shows predicted vs. actual house prices. Here’s the graph we obtained when we ran the code in the solution script. In a perfect model, the dots would form a completely straight line because the predicted and actual values would always match exactly…\n"
   ]
  },
  {
   "cell_type": "code",
   "execution_count": null,
   "metadata": {},
   "outputs": [],
   "source": [
    "# PLACE YOUR SOLUTION HERE\n",
    "\n"
   ]
  },
  {
   "cell_type": "markdown",
   "metadata": {},
   "source": [
    "# Exercise 6:  Determining the root mean squared error\n",
    "\n",
    "In statistics, the root mean squared error is a measurement of the quality of predicted vs. actual results: \n",
    "-\tYou pump in a series of predicted and actual results, and it calculates the square of the difference (i.e. error) between predicted and actual values. It uses squares to always get positive deltas. \n",
    "-\tIt then calculates the mean (average) of the squared errors. \n",
    "-\tYou can then take the square root, to obtain the average error in the same units as the data itself (e.g. $ for Boston house prices).\n",
    "\n",
    "This is such a common technique in machine learning that Scikit-Learn has a standard function called to mean_squared_error() to calculate the mean squared error. The following code shows how to use it:\n",
    "\n",
    "    from sklearn.metrics import mean_squared_error\n",
    "    import math\n",
    "    mse = mean_squared_error(y_test, Y_pred)\n",
    "    rmse = math.sqrt(mse)\n",
    "    print(\"Root mean squared error %f\" % rmse)\n"
   ]
  },
  {
   "cell_type": "code",
   "execution_count": null,
   "metadata": {},
   "outputs": [],
   "source": [
    "# PLACE YOUR SOLUTION HERE\n",
    "\n"
   ]
  },
  {
   "cell_type": "code",
   "execution_count": null,
   "metadata": {},
   "outputs": [],
   "source": []
  }
 ],
 "metadata": {
  "kernelspec": {
   "display_name": "Python 3",
   "language": "python",
   "name": "python3"
  },
  "language_info": {
   "codemirror_mode": {
    "name": "ipython",
    "version": 3
   },
   "file_extension": ".py",
   "mimetype": "text/x-python",
   "name": "python",
   "nbconvert_exporter": "python",
   "pygments_lexer": "ipython3",
   "version": "3.8.5"
  }
 },
 "nbformat": 4,
 "nbformat_minor": 4
}
