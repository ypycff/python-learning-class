{
 "cells": [
  {
   "cell_type": "markdown",
   "metadata": {},
   "source": [
    "# Overview\n",
    "In this lab you’ll create a simple Pandas DataFrame containing information about FIFA World Cup winners since the tournament started in 1930. You’ll use various techniques to manipulate the rows and columns in the DataFrame.\n",
    "\n",
    "\n",
    "# Roadmap\n",
    "There are 7 exercises in this lab, of which the last two exercises are \"if time permits\". Here is a brief summary of the tasks you will perform in each exercise; more detailed instructions follow later:\n",
    "1.\tCreating a Pandas DataFrame\n",
    "2.\tSaving and loading a DataFrame (with index and column headers)\n",
    "3.\tSaving and loading a DataFrame (without index and column headers)\n",
    "4.\tObtaining info about a DataFrame \n",
    "5.\tAdding a column to a DataFrame\n",
    "6.\t(If time permits) Adding a row to a DataFrame\n",
    "7.\t(If time permits) Additional suggestions\n",
    " \n"
   ]
  },
  {
   "cell_type": "markdown",
   "metadata": {},
   "source": [
    "# Global Settings "
   ]
  },
  {
   "cell_type": "code",
   "execution_count": null,
   "metadata": {},
   "outputs": [],
   "source": [
    "# Import the Pandas module.\n",
    "import pandas as pd "
   ]
  },
  {
   "cell_type": "markdown",
   "metadata": {},
   "source": [
    "# Exercise 1:  Creating a Pandas DataFrame\n",
    "\n",
    "Add code to create a new DataFrame from scratch, containing two columns of data:\n",
    "-\tTeam - The name of a country that has won the FIFA World Cup\n",
    "-\tWins - The number of times that country has won the FIFA World Cup\n",
    "\n",
    "You can get the information you need from here: https://en.wikipedia.org/wiki/List_of_FIFA_World_Cup_winners\n",
    "\n",
    "Print the DataFrame on the console. \n"
   ]
  },
  {
   "cell_type": "code",
   "execution_count": null,
   "metadata": {},
   "outputs": [],
   "source": [
    "# PLACE YOUR SOLUTION HERE\n"
   ]
  },
  {
   "cell_type": "markdown",
   "metadata": {},
   "source": [
    "Notice two interesting points here:\n",
    "-\tThe DataFrame has an “integral range” index – this is the default type of index if you don’t specify an index explicitly. It’s important to understand that every Pandas DataFrame (or Series) has an index, whether you create the index yourself or whether Pandas creates it for you.\n",
    "-\tThe index doesn’t have a name. That’s OK, but generally you’ll find it handy to give the index a name so you can refer to it when manipulating the DataFrame later. You can assign a name to the index as follows: `df.index.name = 'Index'`\n",
    "\n",
    "Print the DataFrame after specifying the index name, and you should see the index now has a name 😊.\n"
   ]
  },
  {
   "cell_type": "markdown",
   "metadata": {},
   "source": [
    "# Exercise 2:  Saving and loading a DataFrame (with index and column headers)\n",
    "\n",
    "In this exercise you’ll save the DataFrame to a CSV file and/or Excel spreadsheet, and then load it back in again. You’ll use the following functions to save the data (here, we assume df is the name of your DataFrame object):\n",
    "\n",
    "`df.to_csv(filename,   index=True/False, header=True/False)`\n",
    "\n",
    "`df.to_excel(filename, index=True/False, header=True/False)`\n",
    "\n",
    "The index parameter indicates whether you want to write the index column to the file. Set this flag to True, so that the CSV file and/or Excel spreadsheet will have a column containing the index value for all the rows.\n",
    "\n",
    "The header parameter indicates whether you want to write the names of the columns to the file. Set this flag to True as well, so that the first line in the CSV file or Excel spreadsheet will indicate the names of the columns. This makes the data more meaningful for anyone using it.\n",
    "Run your code and verify the CSV file and/or Excel spreadsheet have been created, with index values and column names as expected.\n",
    "\n",
    "Now add code to read data back in from the CSV file and/or Excel spreadsheet. Use the following functions:\n",
    "\n",
    "`new_df = pd.read_csv(filename, \n",
    "                     index_col='Index', \n",
    "                     header=0)`\n",
    "                     \n",
    "`new_df = pd.read_excel(filename, \n",
    "                       index_col='Index', \n",
    "                       header=0)`\n",
    "\n",
    "The index_col parameter tells Pandas that the column named 'Index' in the CSV file or Excel spreadsheet isn’t any old column, it’s the index column, which is special. \n",
    "\n",
    "The header parameter tells Pandas that row 0 in the file contains column names, rather than real data. Therefore, Pandas will read row 0 and use the information therein to deduce the names of the columns for the DataFrame.\n",
    "\n",
    "After you’ve read the DataFrame back in from the CSV file and/or Excel spreadsheet, print it on the console and verify it’s all still intact.\n"
   ]
  },
  {
   "cell_type": "code",
   "execution_count": null,
   "metadata": {},
   "outputs": [],
   "source": [
    "# PLACE YOUR SOLUTION HERE\n"
   ]
  },
  {
   "cell_type": "markdown",
   "metadata": {},
   "source": [
    "# Exercise 3:  Saving and loading a DataFrame (without index and column headers)\n",
    "\n",
    "This exercise is a variation of the previous one. Tweak your calls to write the CSV file and/or Excel spreadsheet as follows:\n",
    "\n",
    "`df.to_csv(filename,   index=False, header=False)`\n",
    "`df.to_excel(filename, index=False, header=False)`\n",
    "\n",
    "Note the index parameter is False now, so the index values won’t be written to the CSV file or Excel spreadsheet. You could argue this is the “correct” approach in this scenario, because the index values are pretty meaningless in our data.\n",
    "Also note the header parameter is False too, so the column names won’t be written to the CSV file or Excel spreadsheet. This is also quite common in data science – the idea being that you’re meant to know the meaning of each field anyway, without the need for explicit column names.\n",
    "Run your code and verify the CSV file and/or Excel spreadsheet have been created, without index values or column names.\n",
    "\n",
    "Now add code to read data back in from the CSV file and/or Excel spreadsheet. Use the following functions:\n",
    "\n",
    "`new_df = pd.read_csv(filename, names=['Team', 'Wins'])`\n",
    "\n",
    "`new_df.index.name = 'Index'`\n",
    "\n",
    "`new_df = pd.read_excel(filename, names=['Team', 'Wins'])`\n",
    "\n",
    "`new_df.index.name = 'Index'`\n",
    "\n",
    "Note the names parameter. This tells Pandas what names to use for the (anonymous) columns that it reads in from the file.\n",
    "\n",
    "Also note the statement that explicitly reinstates the name of the index column. Pandas will generate new index values as it reads in every row from the file. We tell Pandas the name to use for the index column.\n",
    "\n",
    "After you’ve read the DataFrame back in from the CSV file and/or Excel spreadsheet, print it on the console and verify it’s all fine.\n"
   ]
  },
  {
   "cell_type": "code",
   "execution_count": null,
   "metadata": {},
   "outputs": [],
   "source": [
    "# PLACE YOUR SOLUTION HERE\n",
    "\n"
   ]
  },
  {
   "cell_type": "markdown",
   "metadata": {},
   "source": [
    "# Exercise 4:  Obtaining info about a DataFrame\n",
    "\n",
    "Print the following information for your DataFrame:\n",
    "-\tInfo about the index for the DataFrame. You can get this via the index property. You should find that the index is a RangeIndex with a start value of 1, a stop value of 9, and a step of 1. This is the default index generated by Pandas, because your dataset doesn’t really contain any meaningful index values.\n",
    "-\tThe Team column. This should be a Series object, where the index is the same as above, and the data type is object (it’s a string actually, but Pandas just treats it as a vanilla object).\n",
    "-\tThe Wins column. This should be another Series object, where the index is the same as above, and the data type is int64.\n",
    "\n",
    "You can also get summary information about the whole DataFrame via the describe() function. This function returns a string of useful info, so print it on the console. \n",
    "\n",
    "describe() returns the following statistical information for each numeric column in the DataFrame, which can be very helpful in giving you some initial insights into the spread of values:\n",
    "-\tRow count\n",
    "-\tAverage (mean) value\n",
    "-\tStandard deviation\n",
    "-\tMinimum value\n",
    "-\t25th percentile\n",
    "-\t50the percentile\n",
    "-\t75th percentile\n",
    "-\tMaximum value\n"
   ]
  },
  {
   "cell_type": "code",
   "execution_count": null,
   "metadata": {},
   "outputs": [],
   "source": [
    "# PLACE YOUR SOLUTION HERE\n",
    "\n"
   ]
  },
  {
   "cell_type": "markdown",
   "metadata": {},
   "source": [
    "# Exercise 5:  Adding a column to a DataFrame\n",
    "\n",
    "When you create a DataFrame object, it’s a mutable data structure. You can modify any data cells, add new rows or columns, delete rows or columns, etc.\n",
    "Currently your DataFrame object has two columns (plus an index). Each column is a Series object, which contains all the values for that column:\n",
    "-\tTeam column – Series object containing the team names\n",
    "-\tWins column – Series object containing the number of times teams have won the cup\n",
    "\n",
    "In this exercise you’ll add a third column named YearFirstWin, which will contain the year a country first won the World Cup. For example, Brazil first won the World Cup in 1958; they beat Wales in the quarter-finals, Pele got the winner midway through the 2nd half, not that I’m bitter…. \n",
    "\n",
    "Anyway, back to the Python. To add a column named YearFirstWin to your DataFrame, follow these steps:\n",
    "-\tCreate a Series object, and populate it with the correct year for when that country first won the World Cup (you can see the correct values below).\n",
    "-\tInsert the Series object into your DataFrame object. This is just like inserting an item into a Python dictionary, i.e. aDict[key] = value.\n",
    "\n",
    "After you’ve done this, print the DataFrame again. Each row should now have 3 columns:\n"
   ]
  },
  {
   "cell_type": "code",
   "execution_count": null,
   "metadata": {},
   "outputs": [],
   "source": [
    "# PLACE YOUR SOLUTION HERE\n"
   ]
  },
  {
   "cell_type": "markdown",
   "metadata": {},
   "source": [
    "# Exercise 6 (If time permits):  Adding a row to a DataFrame\n",
    "\n",
    "Add a row to your DataFrame, to hold the likely winners of the 2022 World Cup in Qatar. I think it’s gonna be Wales, the desert climate will be perfect for our players.\n",
    "\n",
    "To add a row to a DataFrame, call append() and pass the following parameters:\n",
    "-\tFor the first parameter, pass a dictionary-like object that contains the key-value pairs for all the columns in the new row (i.e. the team name, the number of World Cup wins, and the year of the first win).\n",
    "-\tAlso pass a parameter ignore_index=True. This indicates the dictionary-like object you’re inserting doesn’t have a meaningful index. Pandas will invent a suitable index value when it does the insertion.\n",
    "\n",
    "Note that the append() function doesn’t modify the original DataFrame object. Instead, it creates and returns a new DataFrame with the new row. You must reassign this to your DataFrame variable.\n",
    "\n",
    "Print the DataFrame when you’re done, and verify Wales will actually do this business.\n"
   ]
  },
  {
   "cell_type": "code",
   "execution_count": null,
   "metadata": {},
   "outputs": [],
   "source": [
    "# PLACE YOUR SOLUTION HERE\n",
    "\n"
   ]
  },
  {
   "cell_type": "markdown",
   "metadata": {},
   "source": [
    "# Exercise 7 (If time permits):  Additional suggestions\n",
    "\n",
    "Print the following selective rows from the DataFrame:\n",
    "-\tOne-time winners of the World Cup\n",
    "-\tMultiple winners of the World Cup\n",
    "-\tTeams that first won the World Cup during this millennium\n",
    "-\tTeams that have won the World Cup 2 or 3 times\n",
    "-\tJust the names of teams that have won the World Cup 2 or 3 times\n"
   ]
  },
  {
   "cell_type": "code",
   "execution_count": null,
   "metadata": {},
   "outputs": [],
   "source": [
    "# PLACE YOUR SOLUTION HERE\n"
   ]
  },
  {
   "cell_type": "code",
   "execution_count": null,
   "metadata": {},
   "outputs": [],
   "source": []
  },
  {
   "cell_type": "code",
   "execution_count": null,
   "metadata": {},
   "outputs": [],
   "source": []
  },
  {
   "cell_type": "code",
   "execution_count": null,
   "metadata": {},
   "outputs": [],
   "source": []
  },
  {
   "cell_type": "code",
   "execution_count": null,
   "metadata": {},
   "outputs": [],
   "source": []
  },
  {
   "cell_type": "code",
   "execution_count": null,
   "metadata": {},
   "outputs": [],
   "source": []
  },
  {
   "cell_type": "code",
   "execution_count": null,
   "metadata": {},
   "outputs": [],
   "source": []
  },
  {
   "cell_type": "code",
   "execution_count": null,
   "metadata": {},
   "outputs": [],
   "source": []
  },
  {
   "cell_type": "code",
   "execution_count": null,
   "metadata": {},
   "outputs": [],
   "source": []
  },
  {
   "cell_type": "code",
   "execution_count": null,
   "metadata": {},
   "outputs": [],
   "source": []
  }
 ],
 "metadata": {
  "kernelspec": {
   "display_name": "Python 3",
   "language": "python",
   "name": "python3"
  },
  "language_info": {
   "codemirror_mode": {
    "name": "ipython",
    "version": 3
   },
   "file_extension": ".py",
   "mimetype": "text/x-python",
   "name": "python",
   "nbconvert_exporter": "python",
   "pygments_lexer": "ipython3",
   "version": "3.8.5"
  }
 },
 "nbformat": 4,
 "nbformat_minor": 4
}
