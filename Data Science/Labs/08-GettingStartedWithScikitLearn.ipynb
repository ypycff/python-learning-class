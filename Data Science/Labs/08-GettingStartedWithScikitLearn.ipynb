{
 "cells": [
  {
   "cell_type": "markdown",
   "metadata": {},
   "source": [
    "# Overview\n",
    "\n",
    "In this lab, you’ll load a simple dataset into a DataFrame and use some of the capabilities of the Seaborn library to visualise the data in various ways.\n",
    "\n",
    "# Roadmap\n",
    "There are 4 exercises in this lab, of which the last exercise is \"if time permits\". Here is a brief summary of the tasks you will perform in each exercise; more detailed instructions follow later:\n",
    "1.\tWorking with a Pandas DataFrame\n",
    "2.\tPlotting datapoints as scatterplot\n",
    "3.\tPlotting all combinations of pairs of data in a scatterplot\n",
    "4.\t(If time permits) Using other Seaborn visualizations \n"
   ]
  },
  {
   "cell_type": "markdown",
   "metadata": {},
   "source": [
    "# Exercise 1:  Working with a Pandas DataFrame\n",
    "\n",
    "In this notebook\n",
    "-\tImport the Seaborn module.\n",
    "-\tCall the Seaborn function load_dataset() to load the ‘iris’ dataset. This function loads the data into a Pandas DataFrame object – store it in a variable named iris.\n",
    "-\tCall iris.head() and print the results. This displays the first 5 rows in the dataset, by default. Note you can pass a parameter into the head() function to display a different number of rows; e.g. iris.head(20) would get the first 20 rows.\n",
    "-\tCall iris.info() and print the results. This displays useful information about the dataset, such as the name and type of each column, and the number of rows that have a value for each column.\n",
    "You can also get all the values for a particular column. For example, the following command prints the value for the ‘species’ column for all the rows:\n",
    "\n",
    "    print(iris['species'])  \n",
    "\n",
    "In the above statement, iris['species'] returns a Pandas Series object, which is like a one-dimensional vector. The Series object has various methods that describe the data in the series. For example, the following command prints the repeat-count for all the different species:\n",
    "\n",
    "    print(iris['species'].value_counts())\n",
    "    "
   ]
  },
  {
   "cell_type": "code",
   "execution_count": null,
   "metadata": {},
   "outputs": [],
   "source": [
    "# PLACE YOUR SOLUTION HERE\n"
   ]
  },
  {
   "cell_type": "markdown",
   "metadata": {},
   "source": [
    "# Exercise 2:  Plotting datapoints as scatterplot\n",
    "\n",
    "In this exercise you’ll plot some of the iris data in a Seaborn scatterplot. The first step is to add the following statement at the top of your script file, to import the MatPlotLib module:\n",
    "\n",
    "    import matplotlib.pyplot as plt\n",
    "\n",
    "Then at the bottom of your script file, add the following code:\n",
    "\n",
    "    sns.scatterplot(x='petal_length',y='petal_width',data=iris)\n",
    "    \n",
    "Note the following points in this code:\n",
    "- We’ve assumed sns is the alias for the Seaborn module.\n",
    "- The scatterplot() function tells Seaborn you’re interested in drawing a scatterplot graph. The x and y parameters specify what data values to display on each axis, and the data property is the Pandas DataFrame that contains the data.\n",
    "\n",
    "The scatterplot() function doesn’t actually show the graph. To show the graph, add the following statement at the end of your script file:\n",
    "\n",
    "    plt.show()\n",
    "\n"
   ]
  },
  {
   "cell_type": "code",
   "execution_count": null,
   "metadata": {},
   "outputs": [],
   "source": [
    "# PLACE YOUR SOLUTION HERE\n"
   ]
  },
  {
   "cell_type": "markdown",
   "metadata": {},
   "source": [
    "# Exercise 3:  Plotting all combinations of pairs of data in a scatterplot\n",
    "\n",
    "In the previous exercise, you created a scatterplot graph with the petal_length feature on the x axis and the petal_width feature on the y axis.\n",
    "\n",
    "Seaborn also has a pairplot() function that plots multiple graphs - it plots  a separate graph for each combination of pairs of features. The following statement shows how to use the pairplot() function to plot all combinations of pairs of features in the iris dataset, in scatterplot graphs:\n",
    "\n",
    "    sns.pairplot(data=iris, hue='species', kind='scatter')\n",
    "\n",
    "Modify this notebook file to call pairplot() as shown above.\n"
   ]
  },
  {
   "cell_type": "code",
   "execution_count": null,
   "metadata": {},
   "outputs": [],
   "source": [
    "# PLACE YOUR SOLUTION HERE\n"
   ]
  },
  {
   "cell_type": "markdown",
   "metadata": {},
   "source": [
    "# Exercise 4a: Using other Seaborn visualizations\n",
    "\n",
    "Seaborn has a rich set of visualizations available, so that you can plot datasets in various types of graph. For example, try out the following statements (we have solutions for each of these suggestions, see the solution files named Ex4a.py, Ex4b.py, Ex4c.py):\n",
    "\n",
    "a)\tsns.jointplot(x='petal_length', y='petal_width', data=iris)\n",
    "\n",
    "b)\tsns.boxplot(x='species', y='petal_length', data=iris) \n",
    "\n",
    "c)\tsns.violinplot(x='species', y='petal_length', data=iris)\n"
   ]
  },
  {
   "cell_type": "markdown",
   "metadata": {},
   "source": [
    "# Exercise 4a: Using Seaborn joinplot\n"
   ]
  },
  {
   "cell_type": "code",
   "execution_count": null,
   "metadata": {},
   "outputs": [],
   "source": [
    "# PLACE YOUR SOLUTION HERE\n"
   ]
  },
  {
   "cell_type": "markdown",
   "metadata": {},
   "source": [
    "# Exercise 4a: Using Seaborn boxplot\n"
   ]
  },
  {
   "cell_type": "code",
   "execution_count": null,
   "metadata": {},
   "outputs": [],
   "source": [
    "# PLACE YOUR SOLUTION HERE\n"
   ]
  },
  {
   "cell_type": "markdown",
   "metadata": {},
   "source": [
    "# Exercise 4a: Using Seaborn violinplot"
   ]
  },
  {
   "cell_type": "code",
   "execution_count": null,
   "metadata": {},
   "outputs": [],
   "source": [
    "# PLACE YOUR SOLUTION HERE\n"
   ]
  },
  {
   "cell_type": "code",
   "execution_count": null,
   "metadata": {},
   "outputs": [],
   "source": []
  }
 ],
 "metadata": {
  "kernelspec": {
   "display_name": "Python 3",
   "language": "python",
   "name": "python3"
  },
  "language_info": {
   "codemirror_mode": {
    "name": "ipython",
    "version": 3
   },
   "file_extension": ".py",
   "mimetype": "text/x-python",
   "name": "python",
   "nbconvert_exporter": "python",
   "pygments_lexer": "ipython3",
   "version": "3.8.5"
  }
 },
 "nbformat": 4,
 "nbformat_minor": 4
}
